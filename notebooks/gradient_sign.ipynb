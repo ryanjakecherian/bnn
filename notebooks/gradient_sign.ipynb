{
 "cells": [
  {
   "cell_type": "code",
   "execution_count": 64,
   "metadata": {},
   "outputs": [],
   "source": [
    "%reload_ext autoreload\n",
    "%autoreload 2\n",
    "%matplotlib widget"
   ]
  },
  {
   "cell_type": "code",
   "execution_count": 65,
   "metadata": {},
   "outputs": [],
   "source": [
    "import torch"
   ]
  },
  {
   "cell_type": "code",
   "execution_count": 66,
   "metadata": {},
   "outputs": [],
   "source": [
    "import bnn.data\n",
    "import bnn.functions\n",
    "import bnn.layer\n",
    "import bnn.loss\n",
    "import bnn.network\n",
    "import bnn.optimizer"
   ]
  },
  {
   "cell_type": "code",
   "execution_count": 67,
   "metadata": {},
   "outputs": [
    {
     "data": {
      "text/plain": [
       "device(type='cuda', index=0)"
      ]
     },
     "execution_count": 67,
     "metadata": {},
     "output_type": "execute_result"
    }
   ],
   "source": [
    "device = torch.device(\"cuda:0\" if torch.cuda.is_available() else \"cpu\")\n",
    "device"
   ]
  },
  {
   "cell_type": "markdown",
   "metadata": {},
   "source": [
    "### Setup"
   ]
  },
  {
   "cell_type": "code",
   "execution_count": 68,
   "metadata": {},
   "outputs": [],
   "source": [
    "forward_func = bnn.functions.forward.SignBinarise()\n",
    "#forward_func=bnn.functions.forward.LayerMeanBinarise()\n",
    "#forward_func=bnn.functions.forward.LayerMedianBinarise()"
   ]
  },
  {
   "cell_type": "code",
   "execution_count": 69,
   "metadata": {},
   "outputs": [],
   "source": [
    "backward_func = bnn.functions.backward.SignTernarise()\n",
    "#backward_func = bnn.functions.backward.StochasticTernarise()\n",
    "#backward_func = bnn.functions.backward.LayerMeanStdTernarise(half_range_stds=0.5)\n",
    "#backward_func = bnn.functions.backward.LayerQuantileTernarise(lo=0.25, hi=0.75)\n",
    "#backward_func = bnn.functions.backward.LayerQuantileSymmetricTernarise(prop_zero=0.33)"
   ]
  },
  {
   "cell_type": "code",
   "execution_count": 70,
   "metadata": {},
   "outputs": [],
   "source": [
    "INPUT_DIM = 128\n",
    "OUTPUT_DIM = 1"
   ]
  },
  {
   "cell_type": "code",
   "execution_count": 71,
   "metadata": {},
   "outputs": [],
   "source": [
    "HIDDEN_DIM = INPUT_DIM\n",
    "NUM_LAYERS = 10"
   ]
  },
  {
   "cell_type": "code",
   "execution_count": 72,
   "metadata": {},
   "outputs": [],
   "source": [
    "dims = [INPUT_DIM] + [HIDDEN_DIM] * (NUM_LAYERS - 1) + [OUTPUT_DIM]"
   ]
  },
  {
   "cell_type": "code",
   "execution_count": 73,
   "metadata": {},
   "outputs": [],
   "source": [
    "proj_TBNN = bnn.network.TernBinNetwork(\n",
    "    dims,\n",
    "    forward_func=forward_func,\n",
    "    backward_func=backward_func,\n",
    ")"
   ]
  },
  {
   "cell_type": "code",
   "execution_count": 74,
   "metadata": {},
   "outputs": [],
   "source": [
    "noproj_TBNN = bnn.network.TernBinNetwork(\n",
    "    dims,\n",
    "    forward_func=forward_func,\n",
    "    backward_func=bnn.functions.backward.ActualGradient(),\n",
    ")"
   ]
  },
  {
   "cell_type": "markdown",
   "metadata": {},
   "source": [
    "### Helper Funcs"
   ]
  },
  {
   "cell_type": "code",
   "execution_count": 75,
   "metadata": {},
   "outputs": [],
   "source": [
    "def copy_weights(source: bnn.network.TernBinNetwork, target: bnn.network.TernBinNetwork):\n",
    "    for name, layer in source.layers.items():\n",
    "        target.layers[name].W.data = layer.W.data"
   ]
  },
  {
   "cell_type": "code",
   "execution_count": 76,
   "metadata": {},
   "outputs": [],
   "source": [
    "def assert_same_weights(source: bnn.network.TernBinNetwork, target: bnn.network.TernBinNetwork):\n",
    "    for name, layer in source.layers.items():\n",
    "        assert torch.equal(target.layers[name].W.data, layer.W.data)"
   ]
  },
  {
   "cell_type": "code",
   "execution_count": 77,
   "metadata": {},
   "outputs": [],
   "source": [
    "def grad_sign_confmats(\n",
    "    input: torch.Tensor, \n",
    "    grad: torch.Tensor, \n",
    "    net1: bnn.network.TernBinNetwork, \n",
    "    net2: bnn.network.TernBinNetwork,\n",
    ") -> dict[str, torch.Tensor]:\n",
    "    # forward\n",
    "    net1.forward(input)\n",
    "    net2.forward(input)\n",
    "\n",
    "    # backward\n",
    "    net1.backward(grad)\n",
    "    net2.backward(grad)\n",
    "\n",
    "    confmats = {}\n",
    "    for name in net1.layers:\n",
    "        confmat = _grad_sign_confmat(net1.grad[name], net2.grad[name])\n",
    "        confmats[name] = confmat\n",
    "    \n",
    "    return confmats\n",
    "\n",
    "\n",
    "def _grad_sign_confmat(out1, out2):\n",
    "    sign_out1 = torch.sign(out1)\n",
    "    sign_out2 = torch.sign(out2)\n",
    "\n",
    "    out = torch.empty(size=[3, 3])\n",
    "\n",
    "    SYMBOLS = (-1, 0, 1)\n",
    "    for i in SYMBOLS:\n",
    "        for j in SYMBOLS:\n",
    "            out[i, j] = torch.sum(sign_out2[sign_out1 == i] == j)\n",
    "\n",
    "    out /= out.sum()\n",
    "    return out\n"
   ]
  },
  {
   "cell_type": "code",
   "execution_count": 78,
   "metadata": {},
   "outputs": [],
   "source": [
    "def print_confmat(confmat: torch.Tensor):\n",
    "    print(\n",
    "        \"\\t Actual grad sign\\n\"\n",
    "        \"\\t 0 \\t 1 \\t -1 \\t sum\\n\"\n",
    "        \"----------------------------------\\n\"\n",
    "        f\" 0  |\\t {confmat[0, 0]:.3f} \\t {confmat[1, 0]:.3f} \\t {confmat[-1, 0]:.3f} \\t| {confmat[:, 0].sum():.3f}\\n\"\n",
    "        f\" 1  |\\t {confmat[0, 1]:.3f} \\t {confmat[1, 1]:.3f} \\t {confmat[-1, 1]:.3f} \\t| {confmat[:, 1].sum():.3f}\\n\"\n",
    "        f\"-1  |\\t {confmat[0, -1]:.3f} \\t {confmat[1, -1]:.3f} \\t {confmat[-1, -1]:.3f} \\t| {confmat[:, -1].sum():.3f}\\n\"\n",
    "        \"----------------------------------\\n\"\n",
    "        f\"sum |\\t {confmat[0, :].sum():.3f} \\t {confmat[1, :].sum():.3f} \\t {confmat[-1, :].sum():.3f} \\t| {confmat.sum():.3f}\\n\"\n",
    "    )"
   ]
  },
  {
   "cell_type": "code",
   "execution_count": 79,
   "metadata": {},
   "outputs": [],
   "source": [
    "def confmat_nonzero_sign_error(confmat) -> float:\n",
    "    nonzero = confmat[1].sum() + confmat[-1].sum()\n",
    "    wrong_sign = confmat[1, -1] + confmat[-1, 1]\n",
    "\n",
    "    prop = wrong_sign / nonzero\n",
    "\n",
    "    return prop.item()\n",
    "\n",
    "def confmat_nonzero_sign_error_inc0(confmat) -> float:\n",
    "    nonzero = confmat[1].sum() + confmat[-1].sum()\n",
    "    wrong_sign = confmat[1, -1] + confmat[-1, 1]\n",
    "    zero = confmat[1, 0] + confmat[-1, 0]\n",
    "\n",
    "    prop = (wrong_sign + zero) / nonzero\n",
    "\n",
    "    return prop.item()"
   ]
  },
  {
   "cell_type": "markdown",
   "metadata": {},
   "source": [
    "### Initialise"
   ]
  },
  {
   "cell_type": "code",
   "execution_count": 80,
   "metadata": {},
   "outputs": [],
   "source": [
    "stable_zero_prob = 0.99 * (1 - 1/HIDDEN_DIM)\n",
    "proj_TBNN._initialise(W_mean=0, W_zero_prob=stable_zero_prob)\n",
    "list(proj_TBNN.layers.values())[-1]._initialise_W(mean=0, zero_prob=0.33)"
   ]
  },
  {
   "cell_type": "code",
   "execution_count": 81,
   "metadata": {},
   "outputs": [],
   "source": [
    "copy_weights(source=proj_TBNN, target=noproj_TBNN)\n",
    "assert_same_weights(source=proj_TBNN, target=noproj_TBNN)"
   ]
  },
  {
   "cell_type": "markdown",
   "metadata": {},
   "source": [
    "### Check gradients"
   ]
  },
  {
   "cell_type": "code",
   "execution_count": 82,
   "metadata": {},
   "outputs": [
    {
     "data": {
      "text/plain": [
       "torch.int64"
      ]
     },
     "execution_count": 82,
     "metadata": {},
     "output_type": "execute_result"
    }
   ],
   "source": [
    "list(noproj_TBNN.layers.values())[0].W.dtype"
   ]
  },
  {
   "cell_type": "code",
   "execution_count": 83,
   "metadata": {},
   "outputs": [
    {
     "name": "stdout",
     "output_type": "stream",
     "text": [
      "layer:  TernBinLayer0\n",
      "\t Actual grad sign\n",
      "\t 0 \t 1 \t -1 \t sum\n",
      "----------------------------------\n",
      " 0  |\t 0.590 \t 0.051 \t 0.047 \t| 0.688\n",
      " 1  |\t 0.000 \t 0.158 \t 0.039 \t| 0.197\n",
      "-1  |\t 0.000 \t 0.032 \t 0.083 \t| 0.114\n",
      "----------------------------------\n",
      "sum |\t 0.590 \t 0.241 \t 0.170 \t| 1.000\n",
      "\n",
      "layer:  TernBinLayer1\n",
      "\t Actual grad sign\n",
      "\t 0 \t 1 \t -1 \t sum\n",
      "----------------------------------\n",
      " 0  |\t 0.578 \t 0.055 \t 0.035 \t| 0.669\n",
      " 1  |\t 0.012 \t 0.134 \t 0.039 \t| 0.185\n",
      "-1  |\t 0.008 \t 0.024 \t 0.114 \t| 0.146\n",
      "----------------------------------\n",
      "sum |\t 0.598 \t 0.213 \t 0.189 \t| 1.000\n",
      "\n",
      "layer:  TernBinLayer2\n",
      "\t Actual grad sign\n",
      "\t 0 \t 1 \t -1 \t sum\n",
      "----------------------------------\n",
      " 0  |\t 0.606 \t 0.055 \t 0.083 \t| 0.744\n",
      " 1  |\t 0.000 \t 0.091 \t 0.032 \t| 0.122\n",
      "-1  |\t 0.004 \t 0.020 \t 0.110 \t| 0.134\n",
      "----------------------------------\n",
      "sum |\t 0.610 \t 0.166 \t 0.225 \t| 1.000\n",
      "\n",
      "layer:  TernBinLayer3\n",
      "\t Actual grad sign\n",
      "\t 0 \t 1 \t -1 \t sum\n",
      "----------------------------------\n",
      " 0  |\t 0.645 \t 0.067 \t 0.039 \t| 0.752\n",
      " 1  |\t 0.008 \t 0.099 \t 0.016 \t| 0.122\n",
      "-1  |\t 0.000 \t 0.016 \t 0.110 \t| 0.126\n",
      "----------------------------------\n",
      "sum |\t 0.653 \t 0.181 \t 0.166 \t| 1.000\n",
      "\n",
      "layer:  TernBinLayer4\n",
      "\t Actual grad sign\n",
      "\t 0 \t 1 \t -1 \t sum\n",
      "----------------------------------\n",
      " 0  |\t 0.621 \t 0.075 \t 0.071 \t| 0.767\n",
      " 1  |\t 0.000 \t 0.110 \t 0.004 \t| 0.114\n",
      "-1  |\t 0.004 \t 0.016 \t 0.099 \t| 0.118\n",
      "----------------------------------\n",
      "sum |\t 0.625 \t 0.201 \t 0.174 \t| 1.000\n",
      "\n",
      "layer:  TernBinLayer5\n",
      "\t Actual grad sign\n",
      "\t 0 \t 1 \t -1 \t sum\n",
      "----------------------------------\n",
      " 0  |\t 0.610 \t 0.039 \t 0.032 \t| 0.681\n",
      " 1  |\t 0.000 \t 0.150 \t 0.012 \t| 0.162\n",
      "-1  |\t 0.004 \t 0.000 \t 0.154 \t| 0.158\n",
      "----------------------------------\n",
      "sum |\t 0.613 \t 0.189 \t 0.197 \t| 1.000\n",
      "\n",
      "layer:  TernBinLayer6\n",
      "\t Actual grad sign\n",
      "\t 0 \t 1 \t -1 \t sum\n",
      "----------------------------------\n",
      " 0  |\t 0.641 \t 0.039 \t 0.032 \t| 0.712\n",
      " 1  |\t 0.004 \t 0.154 \t 0.000 \t| 0.158\n",
      "-1  |\t 0.000 \t 0.000 \t 0.130 \t| 0.130\n",
      "----------------------------------\n",
      "sum |\t 0.645 \t 0.193 \t 0.162 \t| 1.000\n",
      "\n",
      "layer:  TernBinLayer7\n",
      "\t Actual grad sign\n",
      "\t 0 \t 1 \t -1 \t sum\n",
      "----------------------------------\n",
      " 0  |\t 0.661 \t 0.016 \t 0.020 \t| 0.696\n",
      " 1  |\t 0.000 \t 0.126 \t 0.000 \t| 0.126\n",
      "-1  |\t 0.004 \t 0.000 \t 0.174 \t| 0.177\n",
      "----------------------------------\n",
      "sum |\t 0.665 \t 0.142 \t 0.193 \t| 1.000\n",
      "\n",
      "layer:  TernBinLayer8\n",
      "\t Actual grad sign\n",
      "\t 0 \t 1 \t -1 \t sum\n",
      "----------------------------------\n",
      " 0  |\t 0.700 \t 0.000 \t 0.000 \t| 0.700\n",
      " 1  |\t 0.000 \t 0.150 \t 0.000 \t| 0.150\n",
      "-1  |\t 0.000 \t 0.000 \t 0.150 \t| 0.150\n",
      "----------------------------------\n",
      "sum |\t 0.700 \t 0.150 \t 0.150 \t| 1.000\n",
      "\n",
      "layer:  TernBinLayer9\n",
      "\t Actual grad sign\n",
      "\t 0 \t 1 \t -1 \t sum\n",
      "----------------------------------\n",
      " 0  |\t 0.684 \t 0.000 \t 0.000 \t| 0.684\n",
      " 1  |\t 0.000 \t 0.130 \t 0.000 \t| 0.130\n",
      "-1  |\t 0.000 \t 0.000 \t 0.185 \t| 0.185\n",
      "----------------------------------\n",
      "sum |\t 0.684 \t 0.130 \t 0.185 \t| 1.000\n",
      "\n"
     ]
    }
   ],
   "source": [
    "NUM_SAMPLES = 1024\n",
    "input = bnn.random.generate_random_binary_tensor(shape=[NUM_SAMPLES, INPUT_DIM], mean=0)\n",
    "grad = bnn.random.generate_random_binary_tensor(shape=[NUM_SAMPLES, OUTPUT_DIM], mean=0)\n",
    "\n",
    "confmats = grad_sign_confmats(input=input, grad=grad, net1=noproj_TBNN, net2=proj_TBNN)\n",
    "\n",
    "for name, confmat in confmats.items():\n",
    "    print(\"layer: \", name)\n",
    "    print_confmat(confmat)"
   ]
  },
  {
   "cell_type": "code",
   "execution_count": 84,
   "metadata": {},
   "outputs": [
    {
     "name": "stdout",
     "output_type": "stream",
     "text": [
      "layer:  TernBinLayer0\n",
      "nonzero wrong sign prop: 0.173\n",
      "nonzero wrong sign (inc0) prop: 0.413\n",
      "layer:  TernBinLayer1\n",
      "nonzero wrong sign prop: 0.157\n",
      "nonzero wrong sign (inc0) prop: 0.382\n",
      "layer:  TernBinLayer2\n",
      "nonzero wrong sign prop: 0.131\n",
      "nonzero wrong sign (inc0) prop: 0.485\n",
      "layer:  TernBinLayer3\n",
      "nonzero wrong sign prop: 0.091\n",
      "nonzero wrong sign (inc0) prop: 0.398\n",
      "layer:  TernBinLayer4\n",
      "nonzero wrong sign prop: 0.053\n",
      "nonzero wrong sign (inc0) prop: 0.442\n",
      "layer:  TernBinLayer5\n",
      "nonzero wrong sign prop: 0.031\n",
      "nonzero wrong sign (inc0) prop: 0.214\n",
      "layer:  TernBinLayer6\n",
      "nonzero wrong sign prop: 0.000\n",
      "nonzero wrong sign (inc0) prop: 0.200\n",
      "layer:  TernBinLayer7\n",
      "nonzero wrong sign prop: 0.000\n",
      "nonzero wrong sign (inc0) prop: 0.106\n",
      "layer:  TernBinLayer8\n",
      "nonzero wrong sign prop: 0.000\n",
      "nonzero wrong sign (inc0) prop: 0.000\n",
      "layer:  TernBinLayer9\n",
      "nonzero wrong sign prop: 0.000\n",
      "nonzero wrong sign (inc0) prop: 0.000\n"
     ]
    }
   ],
   "source": [
    "for name, confmat in confmats.items():\n",
    "    print(\"layer: \", name)\n",
    "    print(f\"nonzero wrong sign prop: {confmat_nonzero_sign_error(confmat):.3f}\")\n",
    "    print(f\"nonzero wrong sign (inc0) prop: {confmat_nonzero_sign_error_inc0(confmat):.3f}\")"
   ]
  },
  {
   "cell_type": "code",
   "execution_count": null,
   "metadata": {},
   "outputs": [],
   "source": []
  },
  {
   "cell_type": "code",
   "execution_count": null,
   "metadata": {},
   "outputs": [],
   "source": []
  }
 ],
 "metadata": {
  "kernelspec": {
   "display_name": "Python 3 (ipykernel)",
   "language": "python",
   "name": "python3"
  },
  "language_info": {
   "codemirror_mode": {
    "name": "ipython",
    "version": 3
   },
   "file_extension": ".py",
   "mimetype": "text/x-python",
   "name": "python",
   "nbconvert_exporter": "python",
   "pygments_lexer": "ipython3",
   "version": "3.11.9"
  }
 },
 "nbformat": 4,
 "nbformat_minor": 4
}
