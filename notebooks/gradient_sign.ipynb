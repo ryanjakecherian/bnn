{
 "cells": [
  {
   "cell_type": "code",
   "execution_count": 443,
   "metadata": {},
   "outputs": [],
   "source": [
    "%reload_ext autoreload\n",
    "%autoreload 2\n",
    "%matplotlib widget"
   ]
  },
  {
   "cell_type": "code",
   "execution_count": 444,
   "metadata": {},
   "outputs": [],
   "source": [
    "import torch"
   ]
  },
  {
   "cell_type": "code",
   "execution_count": 445,
   "metadata": {},
   "outputs": [],
   "source": [
    "import bnn.data\n",
    "import bnn.functions\n",
    "import bnn.layer\n",
    "import bnn.loss\n",
    "import bnn.network\n",
    "import bnn.optimizer"
   ]
  },
  {
   "cell_type": "code",
   "execution_count": 446,
   "metadata": {},
   "outputs": [
    {
     "data": {
      "text/plain": [
       "device(type='cuda', index=0)"
      ]
     },
     "execution_count": 446,
     "metadata": {},
     "output_type": "execute_result"
    }
   ],
   "source": [
    "device = torch.device(\"cuda:0\" if torch.cuda.is_available() else \"cpu\")\n",
    "device"
   ]
  },
  {
   "cell_type": "markdown",
   "metadata": {},
   "source": [
    "### Setup"
   ]
  },
  {
   "cell_type": "code",
   "execution_count": 447,
   "metadata": {},
   "outputs": [],
   "source": [
    "forward_func = bnn.functions.forward.SignBinarise()\n",
    "#forward_func=bnn.functions.forward.LayerMeanBinarise()\n",
    "#forward_func=bnn.functions.forward.LayerMedianBinarise()"
   ]
  },
  {
   "cell_type": "code",
   "execution_count": 448,
   "metadata": {},
   "outputs": [],
   "source": [
    "backward_func = bnn.functions.backward.SignTernarise()\n",
    "#backward_func = bnn.functions.backward.StochasticTernarise()\n",
    "#backward_func = bnn.functions.backward.LayerMeanStdTernarise(half_range_stds=0.5)\n",
    "#backward_func = bnn.functions.backward.LayerQuantileTernarise(lo=0.25, hi=0.75)\n",
    "backward_func = bnn.functions.backward.LayerQuantileSymmetricTernarise(prop_zero=0.33)"
   ]
  },
  {
   "cell_type": "code",
   "execution_count": 449,
   "metadata": {},
   "outputs": [],
   "source": [
    "INPUT_DIM = 128\n",
    "OUTPUT_DIM = 1"
   ]
  },
  {
   "cell_type": "code",
   "execution_count": 450,
   "metadata": {},
   "outputs": [],
   "source": [
    "HIDDEN_DIM = INPUT_DIM\n",
    "NUM_LAYERS = 10"
   ]
  },
  {
   "cell_type": "code",
   "execution_count": 451,
   "metadata": {},
   "outputs": [],
   "source": [
    "dims = [INPUT_DIM] + [HIDDEN_DIM] * (NUM_LAYERS - 1) + [OUTPUT_DIM]"
   ]
  },
  {
   "cell_type": "code",
   "execution_count": 452,
   "metadata": {},
   "outputs": [],
   "source": [
    "proj_TBNN = bnn.network.TernBinNetwork(\n",
    "    dims,\n",
    "    forward_func=forward_func,\n",
    "    backward_func=backward_func,\n",
    ")"
   ]
  },
  {
   "cell_type": "code",
   "execution_count": 453,
   "metadata": {},
   "outputs": [],
   "source": [
    "noproj_TBNN = bnn.network.TernBinNetwork(\n",
    "    dims,\n",
    "    forward_func=forward_func,\n",
    "    backward_func=bnn.functions.backward.ActualGradient(),\n",
    ")"
   ]
  },
  {
   "cell_type": "markdown",
   "metadata": {},
   "source": [
    "### Helper Funcs"
   ]
  },
  {
   "cell_type": "code",
   "execution_count": 454,
   "metadata": {},
   "outputs": [],
   "source": [
    "def copy_weights(source: bnn.network.TernBinNetwork, target: bnn.network.TernBinNetwork):\n",
    "    for name, layer in source.layers.items():\n",
    "        target.layers[name].W.data = layer.W.data"
   ]
  },
  {
   "cell_type": "code",
   "execution_count": 455,
   "metadata": {},
   "outputs": [],
   "source": [
    "def assert_same_weights(source: bnn.network.TernBinNetwork, target: bnn.network.TernBinNetwork):\n",
    "    for name, layer in source.layers.items():\n",
    "        assert torch.equal(target.layers[name].W.data, layer.W.data)"
   ]
  },
  {
   "cell_type": "code",
   "execution_count": 456,
   "metadata": {},
   "outputs": [],
   "source": [
    "def grad_sign_confmats(\n",
    "    input: torch.Tensor, \n",
    "    grad: torch.Tensor, \n",
    "    net1: bnn.network.TernBinNetwork, \n",
    "    net2: bnn.network.TernBinNetwork,\n",
    ") -> dict[str, torch.Tensor]:\n",
    "    # forward\n",
    "    net1.forward(input)\n",
    "    net2.forward(input)\n",
    "\n",
    "    # backward\n",
    "    net1.backward(grad)\n",
    "    net2.backward(grad)\n",
    "\n",
    "    confmats = {}\n",
    "    for name in net1.layers:\n",
    "        confmat = _grad_sign_confmat(net1.grad[name], net2.grad[name])\n",
    "        confmats[name] = confmat\n",
    "    \n",
    "    return confmats\n",
    "\n",
    "\n",
    "def _grad_sign_confmat(out1, out2):\n",
    "    sign_out1 = torch.sign(out1)\n",
    "    sign_out2 = torch.sign(out2)\n",
    "\n",
    "    out = torch.empty(size=[3, 3])\n",
    "\n",
    "    SYMBOLS = (-1, 0, 1)\n",
    "    for i in SYMBOLS:\n",
    "        for j in SYMBOLS:\n",
    "            out[i, j] = torch.sum(sign_out2[sign_out1 == i] == j)\n",
    "\n",
    "    out /= out.sum()\n",
    "    return out\n"
   ]
  },
  {
   "cell_type": "code",
   "execution_count": 457,
   "metadata": {},
   "outputs": [],
   "source": [
    "def print_confmat(confmat: torch.Tensor):\n",
    "    print(\n",
    "        \"\\t Actual grad sign\\n\"\n",
    "        \"\\t 0 \\t 1 \\t -1 \\t sum\\n\"\n",
    "        \"----------------------------------\\n\"\n",
    "        f\" 0  |\\t {confmat[0, 0]:.3f} \\t {confmat[1, 0]:.3f} \\t {confmat[-1, 0]:.3f} \\t| {confmat[:, 0].sum():.3f}\\n\"\n",
    "        f\" 1  |\\t {confmat[0, 1]:.3f} \\t {confmat[1, 1]:.3f} \\t {confmat[-1, 1]:.3f} \\t| {confmat[:, 1].sum():.3f}\\n\"\n",
    "        f\"-1  |\\t {confmat[0, -1]:.3f} \\t {confmat[1, -1]:.3f} \\t {confmat[-1, -1]:.3f} \\t| {confmat[:, -1].sum():.3f}\\n\"\n",
    "        \"----------------------------------\\n\"\n",
    "        f\"sum |\\t {confmat[0, :].sum():.3f} \\t {confmat[1, :].sum():.3f} \\t {confmat[-1, :].sum():.3f} \\t| {confmat.sum():.3f}\\n\"\n",
    "    )"
   ]
  },
  {
   "cell_type": "code",
   "execution_count": 458,
   "metadata": {},
   "outputs": [],
   "source": [
    "def confmat_nonzero_sign_error(confmat) -> float:\n",
    "    nonzero = confmat[1].sum() + confmat[-1].sum()\n",
    "    wrong_sign = confmat[1, -1] + confmat[-1, 1]\n",
    "\n",
    "    prop = wrong_sign / nonzero\n",
    "\n",
    "    return prop.item()\n",
    "\n",
    "def confmat_nonzero_sign_error_inc0(confmat) -> float:\n",
    "    nonzero = confmat[1].sum() + confmat[-1].sum()\n",
    "    wrong_sign = confmat[1, -1] + confmat[-1, 1]\n",
    "    zero = confmat[1, 0] + confmat[-1, 0]\n",
    "\n",
    "    prop = (wrong_sign + zero) / nonzero\n",
    "\n",
    "    return prop.item()"
   ]
  },
  {
   "cell_type": "markdown",
   "metadata": {},
   "source": [
    "### Initialise"
   ]
  },
  {
   "cell_type": "code",
   "execution_count": 459,
   "metadata": {},
   "outputs": [],
   "source": [
    "stable_zero_prob = 0.99 * (1 - 1/HIDDEN_DIM)\n",
    "proj_TBNN._initialise(W_mean=0, W_zero_prob=stable_zero_prob)\n",
    "list(proj_TBNN.layers.values())[-1]._initialise_W(mean=0, zero_prob=0.33)"
   ]
  },
  {
   "cell_type": "code",
   "execution_count": 460,
   "metadata": {},
   "outputs": [],
   "source": [
    "copy_weights(source=proj_TBNN, target=noproj_TBNN)\n",
    "assert_same_weights(source=proj_TBNN, target=noproj_TBNN)"
   ]
  },
  {
   "cell_type": "markdown",
   "metadata": {},
   "source": [
    "### Check gradients"
   ]
  },
  {
   "cell_type": "code",
   "execution_count": 461,
   "metadata": {},
   "outputs": [
    {
     "name": "stdout",
     "output_type": "stream",
     "text": [
      "layer:  TernBinLayer0\n",
      "\t Actual grad sign\n",
      "\t 0 \t 1 \t -1 \t sum\n",
      "----------------------------------\n",
      " 0  |\t 0.558 \t 0.067 \t 0.070 \t| 0.695\n",
      " 1  |\t 0.004 \t 0.125 \t 0.043 \t| 0.172\n",
      "-1  |\t 0.000 \t 0.035 \t 0.098 \t| 0.133\n",
      "----------------------------------\n",
      "sum |\t 0.562 \t 0.227 \t 0.211 \t| 1.000\n",
      "\n",
      "layer:  TernBinLayer1\n",
      "\t Actual grad sign\n",
      "\t 0 \t 1 \t -1 \t sum\n",
      "----------------------------------\n",
      " 0  |\t 0.569 \t 0.055 \t 0.063 \t| 0.687\n",
      " 1  |\t 0.004 \t 0.106 \t 0.031 \t| 0.141\n",
      "-1  |\t 0.012 \t 0.020 \t 0.141 \t| 0.172\n",
      "----------------------------------\n",
      "sum |\t 0.585 \t 0.180 \t 0.235 \t| 1.000\n",
      "\n",
      "layer:  TernBinLayer2\n",
      "\t Actual grad sign\n",
      "\t 0 \t 1 \t -1 \t sum\n",
      "----------------------------------\n",
      " 0  |\t 0.569 \t 0.043 \t 0.047 \t| 0.659\n",
      " 1  |\t 0.012 \t 0.157 \t 0.023 \t| 0.192\n",
      "-1  |\t 0.004 \t 0.027 \t 0.117 \t| 0.149\n",
      "----------------------------------\n",
      "sum |\t 0.585 \t 0.227 \t 0.188 \t| 1.000\n",
      "\n",
      "layer:  TernBinLayer3\n",
      "\t Actual grad sign\n",
      "\t 0 \t 1 \t -1 \t sum\n",
      "----------------------------------\n",
      " 0  |\t 0.577 \t 0.051 \t 0.082 \t| 0.710\n",
      " 1  |\t 0.008 \t 0.125 \t 0.020 \t| 0.153\n",
      "-1  |\t 0.000 \t 0.012 \t 0.125 \t| 0.137\n",
      "----------------------------------\n",
      "sum |\t 0.585 \t 0.188 \t 0.227 \t| 1.000\n",
      "\n",
      "layer:  TernBinLayer4\n",
      "\t Actual grad sign\n",
      "\t 0 \t 1 \t -1 \t sum\n",
      "----------------------------------\n",
      " 0  |\t 0.620 \t 0.047 \t 0.039 \t| 0.706\n",
      " 1  |\t 0.008 \t 0.117 \t 0.004 \t| 0.129\n",
      "-1  |\t 0.004 \t 0.016 \t 0.145 \t| 0.164\n",
      "----------------------------------\n",
      "sum |\t 0.632 \t 0.180 \t 0.188 \t| 1.000\n",
      "\n",
      "layer:  TernBinLayer5\n",
      "\t Actual grad sign\n",
      "\t 0 \t 1 \t -1 \t sum\n",
      "----------------------------------\n",
      " 0  |\t 0.636 \t 0.078 \t 0.023 \t| 0.738\n",
      " 1  |\t 0.004 \t 0.106 \t 0.004 \t| 0.114\n",
      "-1  |\t 0.008 \t 0.004 \t 0.137 \t| 0.149\n",
      "----------------------------------\n",
      "sum |\t 0.648 \t 0.188 \t 0.164 \t| 1.000\n",
      "\n",
      "layer:  TernBinLayer6\n",
      "\t Actual grad sign\n",
      "\t 0 \t 1 \t -1 \t sum\n",
      "----------------------------------\n",
      " 0  |\t 0.648 \t 0.047 \t 0.023 \t| 0.718\n",
      " 1  |\t 0.000 \t 0.129 \t 0.004 \t| 0.133\n",
      "-1  |\t 0.004 \t 0.000 \t 0.145 \t| 0.149\n",
      "----------------------------------\n",
      "sum |\t 0.652 \t 0.176 \t 0.172 \t| 1.000\n",
      "\n",
      "layer:  TernBinLayer7\n",
      "\t Actual grad sign\n",
      "\t 0 \t 1 \t -1 \t sum\n",
      "----------------------------------\n",
      " 0  |\t 0.667 \t 0.016 \t 0.008 \t| 0.691\n",
      " 1  |\t 0.004 \t 0.141 \t 0.000 \t| 0.145\n",
      "-1  |\t 0.004 \t 0.000 \t 0.160 \t| 0.164\n",
      "----------------------------------\n",
      "sum |\t 0.675 \t 0.157 \t 0.168 \t| 1.000\n",
      "\n",
      "layer:  TernBinLayer8\n",
      "\t Actual grad sign\n",
      "\t 0 \t 1 \t -1 \t sum\n",
      "----------------------------------\n",
      " 0  |\t 0.714 \t 0.000 \t 0.000 \t| 0.714\n",
      " 1  |\t 0.000 \t 0.160 \t 0.000 \t| 0.160\n",
      "-1  |\t 0.000 \t 0.000 \t 0.125 \t| 0.125\n",
      "----------------------------------\n",
      "sum |\t 0.714 \t 0.160 \t 0.125 \t| 1.000\n",
      "\n",
      "layer:  TernBinLayer9\n",
      "\t Actual grad sign\n",
      "\t 0 \t 1 \t -1 \t sum\n",
      "----------------------------------\n",
      " 0  |\t 0.648 \t 0.000 \t 0.000 \t| 0.648\n",
      " 1  |\t 0.000 \t 0.180 \t 0.000 \t| 0.180\n",
      "-1  |\t 0.000 \t 0.000 \t 0.172 \t| 0.172\n",
      "----------------------------------\n",
      "sum |\t 0.648 \t 0.180 \t 0.172 \t| 1.000\n",
      "\n"
     ]
    }
   ],
   "source": [
    "NUM_SAMPLES = 1024\n",
    "input = bnn.random.generate_random_binary_tensor(shape=[NUM_SAMPLES, INPUT_DIM], mean=0)\n",
    "grad = bnn.random.generate_random_binary_tensor(shape=[NUM_SAMPLES, OUTPUT_DIM], mean=0)\n",
    "\n",
    "confmats = grad_sign_confmats(input=input, grad=grad, net1=noproj_TBNN, net2=proj_TBNN)\n",
    "\n",
    "for name, confmat in confmats.items():\n",
    "    print(\"layer: \", name)\n",
    "    print_confmat(confmat)"
   ]
  },
  {
   "cell_type": "code",
   "execution_count": 462,
   "metadata": {},
   "outputs": [
    {
     "name": "stdout",
     "output_type": "stream",
     "text": [
      "layer:  TernBinLayer0\n",
      "nonzero wrong sign prop: 0.179\n",
      "nonzero wrong sign (inc0) prop: 0.491\n",
      "layer:  TernBinLayer1\n",
      "nonzero wrong sign prop: 0.123\n",
      "nonzero wrong sign (inc0) prop: 0.406\n",
      "layer:  TernBinLayer2\n",
      "nonzero wrong sign prop: 0.123\n",
      "nonzero wrong sign (inc0) prop: 0.340\n",
      "layer:  TernBinLayer3\n",
      "nonzero wrong sign prop: 0.075\n",
      "nonzero wrong sign (inc0) prop: 0.396\n",
      "layer:  TernBinLayer4\n",
      "nonzero wrong sign prop: 0.053\n",
      "nonzero wrong sign (inc0) prop: 0.287\n",
      "layer:  TernBinLayer5\n",
      "nonzero wrong sign prop: 0.022\n",
      "nonzero wrong sign (inc0) prop: 0.311\n",
      "layer:  TernBinLayer6\n",
      "nonzero wrong sign prop: 0.011\n",
      "nonzero wrong sign (inc0) prop: 0.213\n",
      "layer:  TernBinLayer7\n",
      "nonzero wrong sign prop: 0.000\n",
      "nonzero wrong sign (inc0) prop: 0.072\n",
      "layer:  TernBinLayer8\n",
      "nonzero wrong sign prop: 0.000\n",
      "nonzero wrong sign (inc0) prop: 0.000\n",
      "layer:  TernBinLayer9\n",
      "nonzero wrong sign prop: 0.000\n",
      "nonzero wrong sign (inc0) prop: 0.000\n"
     ]
    }
   ],
   "source": [
    "for name, confmat in confmats.items():\n",
    "    print(\"layer: \", name)\n",
    "    print(f\"nonzero wrong sign prop: {confmat_nonzero_sign_error(confmat):.3f}\")\n",
    "    print(f\"nonzero wrong sign (inc0) prop: {confmat_nonzero_sign_error_inc0(confmat):.3f}\")"
   ]
  },
  {
   "cell_type": "code",
   "execution_count": null,
   "metadata": {},
   "outputs": [],
   "source": []
  },
  {
   "cell_type": "code",
   "execution_count": null,
   "metadata": {},
   "outputs": [],
   "source": []
  }
 ],
 "metadata": {
  "kernelspec": {
   "display_name": "Python 3 (ipykernel)",
   "language": "python",
   "name": "python3"
  },
  "language_info": {
   "codemirror_mode": {
    "name": "ipython",
    "version": 3
   },
   "file_extension": ".py",
   "mimetype": "text/x-python",
   "name": "python",
   "nbconvert_exporter": "python",
   "pygments_lexer": "ipython3",
   "version": "3.11.9"
  }
 },
 "nbformat": 4,
 "nbformat_minor": 4
}
