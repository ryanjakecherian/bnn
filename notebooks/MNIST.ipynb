{
 "cells": [
  {
   "cell_type": "code",
   "execution_count": 335,
   "metadata": {},
   "outputs": [],
   "source": [
    "%reload_ext autoreload\n",
    "%autoreload 2\n",
    "%matplotlib widget"
   ]
  },
  {
   "cell_type": "code",
   "execution_count": 336,
   "metadata": {},
   "outputs": [],
   "source": [
    "import matplotlib.pyplot as plt\n",
    "import numpy as np\n",
    "import torch\n",
    "import tqdm"
   ]
  },
  {
   "cell_type": "code",
   "execution_count": 337,
   "metadata": {},
   "outputs": [],
   "source": [
    "import bnn.data\n",
    "import bnn.functions\n",
    "import bnn.layer\n",
    "import bnn.loss\n",
    "import bnn.network\n",
    "import bnn.optimizer"
   ]
  },
  {
   "cell_type": "code",
   "execution_count": 338,
   "metadata": {},
   "outputs": [],
   "source": [
    "root='./data'\n",
    "download=True\n",
    "batch_size=int(2**11)\n",
    "shuffle=False\n",
    "include_last_if_uneven=True\n",
    "binarise_thesh=0.5\n",
    "device = torch.device(\"cuda:0\" if torch.cuda.is_available() else \"cpu\")\n",
    "\n",
    "train_MNIST_loader = bnn.data.MNISTDataLoader(\n",
    "    root=root,\n",
    "    download=download,\n",
    "    train=True,\n",
    "    batch_size=batch_size,\n",
    "    shuffle=shuffle,\n",
    "    include_last_if_uneven=include_last_if_uneven,\n",
    "    binarise_thesh=binarise_thesh,\n",
    ")\n",
    "test_MNIST_loader = bnn.data.MNISTDataLoader(\n",
    "    root=root,\n",
    "    download=download,\n",
    "    train=False,\n",
    "    batch_size=batch_size,\n",
    "    shuffle=shuffle,\n",
    "    include_last_if_uneven=include_last_if_uneven,\n",
    "    binarise_thesh=binarise_thesh,\n",
    ")"
   ]
  },
  {
   "cell_type": "code",
   "execution_count": 339,
   "metadata": {},
   "outputs": [
    {
     "name": "stderr",
     "output_type": "stream",
     "text": [
      " 40%|████      | 2/5 [00:00<00:00, 15.94it/s]"
     ]
    },
    {
     "name": "stdout",
     "output_type": "stream",
     "text": [
      "0\n",
      "tensor(1, dtype=torch.int32)\n",
      "tensor(-1, dtype=torch.int32)\n",
      "tensor([[-1, -1, -1,  ...,  1, -1, -1],\n",
      "        [-1, -1,  1,  ..., -1, -1, -1],\n",
      "        [-1,  1, -1,  ..., -1, -1, -1],\n",
      "        ...,\n",
      "        [-1, -1, -1,  ..., -1, -1, -1],\n",
      "        [-1, -1, -1,  ..., -1, -1, -1],\n",
      "        [-1, -1, -1,  ..., -1, -1, -1]], dtype=torch.int32)\n"
     ]
    },
    {
     "name": "stderr",
     "output_type": "stream",
     "text": [
      "100%|██████████| 5/5 [00:00<00:00, 12.60it/s]\n"
     ]
    }
   ],
   "source": [
    "for batch_id, datum in enumerate(tqdm.tqdm(test_MNIST_loader)):\n",
    "    if batch_id == 0:\n",
    "        print(batch_id)\n",
    "        print(torch.max(datum.input))\n",
    "        print(torch.min(datum.input))\n",
    "        print(datum.target)"
   ]
  },
  {
   "cell_type": "code",
   "execution_count": 340,
   "metadata": {},
   "outputs": [
    {
     "data": {
      "text/plain": [
       "(5, 30)"
      ]
     },
     "execution_count": 340,
     "metadata": {},
     "output_type": "execute_result"
    }
   ],
   "source": [
    "len(test_MNIST_loader), len(train_MNIST_loader)"
   ]
  },
  {
   "cell_type": "code",
   "execution_count": 341,
   "metadata": {},
   "outputs": [],
   "source": [
    "forward_func = bnn.functions.forward.SignBinarise()\n",
    "#forward_func=bnn.functions.forward.LayerMeanBinarise()\n",
    "#forward_func=bnn.functions.forward.LayerMedianBinarise()"
   ]
  },
  {
   "cell_type": "code",
   "execution_count": 342,
   "metadata": {},
   "outputs": [],
   "source": [
    "#backward_func = bnn.functions.backward.SignTernarise()\n",
    "#backward_func = bnn.functions.backward.LayerMeanStdTernarise(half_range_stds=0.5)\n",
    "backward_func = bnn.functions.backward.LayerQuantileTernarise(lo=0.25, hi=0.75)"
   ]
  },
  {
   "cell_type": "code",
   "execution_count": 343,
   "metadata": {},
   "outputs": [],
   "source": [
    "INPUT_DIM = bnn.data.MNISTDataLoader.input_size\n",
    "OUTPUT_DIM = bnn.data.MNISTDataLoader.output_size"
   ]
  },
  {
   "cell_type": "code",
   "execution_count": 344,
   "metadata": {},
   "outputs": [],
   "source": [
    "dims = [INPUT_DIM, 1024, 512, 256, 128, OUTPUT_DIM]\n",
    "TBNN = bnn.network.TernBinNetwork(\n",
    "    dims,\n",
    "    forward_func=forward_func,\n",
    "    backward_func=backward_func,\n",
    ")\n",
    "TBNN._initialise(W_mean=0, W_zero_prob=0.5)"
   ]
  },
  {
   "cell_type": "code",
   "execution_count": 345,
   "metadata": {},
   "outputs": [],
   "source": [
    "TBNN.to(device)\n",
    "train_MNIST_loader.to(device)\n",
    "test_MNIST_loader.to(device)"
   ]
  },
  {
   "cell_type": "code",
   "execution_count": 346,
   "metadata": {},
   "outputs": [],
   "source": [
    "loss_func: bnn.loss.LossFunction = bnn.loss.l1"
   ]
  },
  {
   "cell_type": "code",
   "execution_count": 347,
   "metadata": {},
   "outputs": [],
   "source": [
    "BernOpt = bnn.optimizer.ExpectationSGD(TBNN.parameters(), lr=0.000001)"
   ]
  },
  {
   "cell_type": "code",
   "execution_count": 348,
   "metadata": {},
   "outputs": [],
   "source": [
    "losses = []"
   ]
  },
  {
   "cell_type": "code",
   "execution_count": 349,
   "metadata": {},
   "outputs": [],
   "source": [
    "train_epochs = 5000\n",
    "num_logs = 200\n",
    "epoch_log_rate = train_epochs // num_logs"
   ]
  },
  {
   "cell_type": "code",
   "execution_count": 350,
   "metadata": {},
   "outputs": [
    {
     "name": "stderr",
     "output_type": "stream",
     "text": [
      "100%|██████████| 5/5 [00:00<00:00, 17.21it/s]"
     ]
    },
    {
     "name": "stdout",
     "output_type": "stream",
     "text": [
      "accuracy: 0.09629999846220016\n"
     ]
    },
    {
     "name": "stderr",
     "output_type": "stream",
     "text": [
      "\n"
     ]
    }
   ],
   "source": [
    "num_correct = 0\n",
    "total = test_MNIST_loader._datapoints\n",
    "for batch_id, batch in enumerate(tqdm.tqdm(test_MNIST_loader)):\n",
    "    # forward pass and loss\n",
    "    output_unproj = TBNN.forward_no_proj(batch.input)\n",
    "    output_argmax = torch.argmax(output_unproj, dim=-1)\n",
    "    target_argmax = torch.argmax(batch.target, dim=-1)\n",
    "\n",
    "    num_correct += torch.sum(target_argmax == output_argmax)\n",
    "\n",
    "print(f\"accuracy: {num_correct / total}\")"
   ]
  },
  {
   "cell_type": "code",
   "execution_count": 351,
   "metadata": {},
   "outputs": [
    {
     "name": "stderr",
     "output_type": "stream",
     "text": [
      "  0%|          | 1/5000 [00:00<35:58,  2.32it/s]"
     ]
    },
    {
     "name": "stdout",
     "output_type": "stream",
     "text": [
      "epoch: 0\tloss: 10.5205078125\tmean_prop_flipped: 8.041688124649227e-05\n"
     ]
    },
    {
     "name": "stderr",
     "output_type": "stream",
     "text": [
      "  1%|          | 26/5000 [00:11<37:41,  2.20it/s]"
     ]
    },
    {
     "name": "stdout",
     "output_type": "stream",
     "text": [
      "epoch: 25\tloss: 4.6884765625\tmean_prop_flipped: 1.3402813237917144e-05\n"
     ]
    },
    {
     "name": "stderr",
     "output_type": "stream",
     "text": [
      "  1%|          | 51/5000 [00:23<35:58,  2.29it/s]"
     ]
    },
    {
     "name": "stdout",
     "output_type": "stream",
     "text": [
      "epoch: 50\tloss: 3.912109375\tmean_prop_flipped: 1.27326720757992e-05\n"
     ]
    },
    {
     "name": "stderr",
     "output_type": "stream",
     "text": [
      "  2%|▏         | 76/5000 [00:34<37:02,  2.22it/s]"
     ]
    },
    {
     "name": "stdout",
     "output_type": "stream",
     "text": [
      "epoch: 75\tloss: 3.677734375\tmean_prop_flipped: 1.4072953490540385e-05\n"
     ]
    },
    {
     "name": "stderr",
     "output_type": "stream",
     "text": [
      "  2%|▏         | 101/5000 [00:47<38:23,  2.13it/s]"
     ]
    },
    {
     "name": "stdout",
     "output_type": "stream",
     "text": [
      "epoch: 100\tloss: 3.5927734375\tmean_prop_flipped: 1.4743094652658328e-05\n"
     ]
    },
    {
     "name": "stderr",
     "output_type": "stream",
     "text": [
      "  3%|▎         | 126/5000 [00:58<36:32,  2.22it/s]"
     ]
    },
    {
     "name": "stdout",
     "output_type": "stream",
     "text": [
      "epoch: 125\tloss: 3.37109375\tmean_prop_flipped: 1.3402813237917144e-05\n"
     ]
    },
    {
     "name": "stderr",
     "output_type": "stream",
     "text": [
      "  3%|▎         | 151/5000 [01:09<36:16,  2.23it/s]"
     ]
    },
    {
     "name": "stdout",
     "output_type": "stream",
     "text": [
      "epoch: 150\tloss: 3.5380859375\tmean_prop_flipped: 1.0722250408434775e-05\n"
     ]
    },
    {
     "name": "stderr",
     "output_type": "stream",
     "text": [
      "  4%|▎         | 176/5000 [01:21<36:19,  2.21it/s]"
     ]
    },
    {
     "name": "stdout",
     "output_type": "stream",
     "text": [
      "epoch: 175\tloss: 3.4501953125\tmean_prop_flipped: 1.541323581477627e-05\n"
     ]
    },
    {
     "name": "stderr",
     "output_type": "stream",
     "text": [
      "  4%|▍         | 201/5000 [01:32<36:06,  2.22it/s]"
     ]
    },
    {
     "name": "stdout",
     "output_type": "stream",
     "text": [
      "epoch: 200\tloss: 3.3525390625\tmean_prop_flipped: 1.0052110155811533e-05\n"
     ]
    },
    {
     "name": "stderr",
     "output_type": "stream",
     "text": [
      "  5%|▍         | 226/5000 [01:43<37:17,  2.13it/s]"
     ]
    },
    {
     "name": "stdout",
     "output_type": "stream",
     "text": [
      "epoch: 225\tloss: 3.3681640625\tmean_prop_flipped: 1.0722250408434775e-05\n"
     ]
    },
    {
     "name": "stderr",
     "output_type": "stream",
     "text": [
      "  5%|▌         | 251/5000 [01:55<36:08,  2.19it/s]"
     ]
    },
    {
     "name": "stdout",
     "output_type": "stream",
     "text": [
      "epoch: 250\tloss: 3.271484375\tmean_prop_flipped: 1.3402813237917144e-05\n"
     ]
    },
    {
     "name": "stderr",
     "output_type": "stream",
     "text": [
      "  6%|▌         | 276/5000 [02:06<34:45,  2.26it/s]"
     ]
    },
    {
     "name": "stdout",
     "output_type": "stream",
     "text": [
      "epoch: 275\tloss: 3.3173828125\tmean_prop_flipped: 1.7423657482140698e-05\n"
     ]
    },
    {
     "name": "stderr",
     "output_type": "stream",
     "text": [
      "  6%|▌         | 301/5000 [02:17<35:25,  2.21it/s]"
     ]
    },
    {
     "name": "stdout",
     "output_type": "stream",
     "text": [
      "epoch: 300\tloss: 3.35546875\tmean_prop_flipped: 1.4072953490540385e-05\n"
     ]
    },
    {
     "name": "stderr",
     "output_type": "stream",
     "text": [
      "  7%|▋         | 326/5000 [02:29<36:30,  2.13it/s]"
     ]
    },
    {
     "name": "stdout",
     "output_type": "stream",
     "text": [
      "epoch: 325\tloss: 3.318359375\tmean_prop_flipped: 1.7423657482140698e-05\n"
     ]
    },
    {
     "name": "stderr",
     "output_type": "stream",
     "text": [
      "  7%|▋         | 351/5000 [02:40<37:25,  2.07it/s]"
     ]
    },
    {
     "name": "stdout",
     "output_type": "stream",
     "text": [
      "epoch: 350\tloss: 3.2734375\tmean_prop_flipped: 1.4743094652658328e-05\n"
     ]
    },
    {
     "name": "stderr",
     "output_type": "stream",
     "text": [
      "  8%|▊         | 376/5000 [02:52<33:47,  2.28it/s]"
     ]
    },
    {
     "name": "stdout",
     "output_type": "stream",
     "text": [
      "epoch: 375\tloss: 3.365234375\tmean_prop_flipped: 1.0722250408434775e-05\n"
     ]
    },
    {
     "name": "stderr",
     "output_type": "stream",
     "text": [
      "  8%|▊         | 401/5000 [03:03<33:54,  2.26it/s]"
     ]
    },
    {
     "name": "stdout",
     "output_type": "stream",
     "text": [
      "epoch: 400\tloss: 3.412109375\tmean_prop_flipped: 1.0722250408434775e-05\n"
     ]
    },
    {
     "name": "stderr",
     "output_type": "stream",
     "text": [
      "  9%|▊         | 426/5000 [03:14<34:21,  2.22it/s]"
     ]
    },
    {
     "name": "stdout",
     "output_type": "stream",
     "text": [
      "epoch: 425\tloss: 3.32421875\tmean_prop_flipped: 1.608337515790481e-05\n"
     ]
    },
    {
     "name": "stderr",
     "output_type": "stream",
     "text": [
      "  9%|▉         | 451/5000 [03:26<34:33,  2.19it/s]"
     ]
    },
    {
     "name": "stdout",
     "output_type": "stream",
     "text": [
      "epoch: 450\tloss: 3.3251953125\tmean_prop_flipped: 1.9434079149505123e-05\n"
     ]
    },
    {
     "name": "stderr",
     "output_type": "stream",
     "text": [
      " 10%|▉         | 476/5000 [03:37<33:23,  2.26it/s]"
     ]
    },
    {
     "name": "stdout",
     "output_type": "stream",
     "text": [
      "epoch: 475\tloss: 3.267578125\tmean_prop_flipped: 1.541323581477627e-05\n"
     ]
    },
    {
     "name": "stderr",
     "output_type": "stream",
     "text": [
      " 10%|█         | 501/5000 [03:48<33:18,  2.25it/s]"
     ]
    },
    {
     "name": "stdout",
     "output_type": "stream",
     "text": [
      "epoch: 500\tloss: 3.40234375\tmean_prop_flipped: 8.711828741070349e-06\n"
     ]
    },
    {
     "name": "stderr",
     "output_type": "stream",
     "text": [
      " 11%|█         | 526/5000 [04:00<34:03,  2.19it/s]"
     ]
    },
    {
     "name": "stdout",
     "output_type": "stream",
     "text": [
      "epoch: 525\tloss: 3.4892578125\tmean_prop_flipped: 7.371547326329164e-06\n"
     ]
    },
    {
     "name": "stderr",
     "output_type": "stream",
     "text": [
      " 11%|█         | 551/5000 [04:11<33:42,  2.20it/s]"
     ]
    },
    {
     "name": "stdout",
     "output_type": "stream",
     "text": [
      "epoch: 550\tloss: 3.380859375\tmean_prop_flipped: 1.206253182317596e-05\n"
     ]
    },
    {
     "name": "stderr",
     "output_type": "stream",
     "text": [
      " 12%|█▏        | 576/5000 [04:23<35:25,  2.08it/s]"
     ]
    },
    {
     "name": "stdout",
     "output_type": "stream",
     "text": [
      "epoch: 575\tloss: 3.240234375\tmean_prop_flipped: 1.6753516320022754e-05\n"
     ]
    },
    {
     "name": "stderr",
     "output_type": "stream",
     "text": [
      " 12%|█▏        | 601/5000 [04:34<33:11,  2.21it/s]"
     ]
    },
    {
     "name": "stdout",
     "output_type": "stream",
     "text": [
      "epoch: 600\tloss: 3.28515625\tmean_prop_flipped: 1.4743094652658328e-05\n"
     ]
    },
    {
     "name": "stderr",
     "output_type": "stream",
     "text": [
      " 13%|█▎        | 626/5000 [04:45<31:57,  2.28it/s]"
     ]
    },
    {
     "name": "stdout",
     "output_type": "stream",
     "text": [
      "epoch: 625\tloss: 3.3505859375\tmean_prop_flipped: 1.7423657482140698e-05\n"
     ]
    },
    {
     "name": "stderr",
     "output_type": "stream",
     "text": [
      " 13%|█▎        | 651/5000 [04:57<33:09,  2.19it/s]"
     ]
    },
    {
     "name": "stdout",
     "output_type": "stream",
     "text": [
      "epoch: 650\tloss: 3.306640625\tmean_prop_flipped: 1.608337515790481e-05\n"
     ]
    },
    {
     "name": "stderr",
     "output_type": "stream",
     "text": [
      " 14%|█▎        | 676/5000 [05:08<32:55,  2.19it/s]"
     ]
    },
    {
     "name": "stdout",
     "output_type": "stream",
     "text": [
      "epoch: 675\tloss: 3.2451171875\tmean_prop_flipped: 1.1392390661058016e-05\n"
     ]
    },
    {
     "name": "stderr",
     "output_type": "stream",
     "text": [
      " 14%|█▍        | 701/5000 [05:20<34:21,  2.08it/s]"
     ]
    },
    {
     "name": "stdout",
     "output_type": "stream",
     "text": [
      "epoch: 700\tloss: 3.326171875\tmean_prop_flipped: 1.0722250408434775e-05\n"
     ]
    },
    {
     "name": "stderr",
     "output_type": "stream",
     "text": [
      " 15%|█▍        | 726/5000 [05:31<32:06,  2.22it/s]"
     ]
    },
    {
     "name": "stdout",
     "output_type": "stream",
     "text": [
      "epoch: 725\tloss: 3.1455078125\tmean_prop_flipped: 2.3454922484233975e-05\n"
     ]
    },
    {
     "name": "stderr",
     "output_type": "stream",
     "text": [
      " 15%|█▌        | 751/5000 [05:43<32:28,  2.18it/s]"
     ]
    },
    {
     "name": "stdout",
     "output_type": "stream",
     "text": [
      "epoch: 750\tloss: 3.203125\tmean_prop_flipped: 2.3454922484233975e-05\n"
     ]
    },
    {
     "name": "stderr",
     "output_type": "stream",
     "text": [
      " 16%|█▌        | 776/5000 [05:54<31:26,  2.24it/s]"
     ]
    },
    {
     "name": "stdout",
     "output_type": "stream",
     "text": [
      "epoch: 775\tloss: 3.189453125\tmean_prop_flipped: 1.206253182317596e-05\n"
     ]
    },
    {
     "name": "stderr",
     "output_type": "stream",
     "text": [
      " 16%|█▌        | 801/5000 [06:05<32:19,  2.16it/s]"
     ]
    },
    {
     "name": "stdout",
     "output_type": "stream",
     "text": [
      "epoch: 800\tloss: 3.302734375\tmean_prop_flipped: 1.541323581477627e-05\n"
     ]
    },
    {
     "name": "stderr",
     "output_type": "stream",
     "text": [
      " 17%|█▋        | 826/5000 [06:17<31:16,  2.22it/s]"
     ]
    },
    {
     "name": "stdout",
     "output_type": "stream",
     "text": [
      "epoch: 825\tloss: 3.3408203125\tmean_prop_flipped: 2.0774359654751606e-05\n"
     ]
    },
    {
     "name": "stderr",
     "output_type": "stream",
     "text": [
      " 17%|█▋        | 851/5000 [06:28<31:00,  2.23it/s]"
     ]
    },
    {
     "name": "stdout",
     "output_type": "stream",
     "text": [
      "epoch: 850\tloss: 3.220703125\tmean_prop_flipped: 7.371547326329164e-06\n"
     ]
    },
    {
     "name": "stderr",
     "output_type": "stream",
     "text": [
      " 18%|█▊        | 876/5000 [06:40<31:02,  2.21it/s]"
     ]
    },
    {
     "name": "stdout",
     "output_type": "stream",
     "text": [
      "epoch: 875\tloss: 3.36328125\tmean_prop_flipped: 1.4743094652658328e-05\n"
     ]
    },
    {
     "name": "stderr",
     "output_type": "stream",
     "text": [
      " 18%|█▊        | 901/5000 [06:51<30:45,  2.22it/s]"
     ]
    },
    {
     "name": "stdout",
     "output_type": "stream",
     "text": [
      "epoch: 900\tloss: 3.3681640625\tmean_prop_flipped: 1.4743094652658328e-05\n"
     ]
    },
    {
     "name": "stderr",
     "output_type": "stream",
     "text": [
      " 19%|█▊        | 926/5000 [07:02<31:27,  2.16it/s]"
     ]
    },
    {
     "name": "stdout",
     "output_type": "stream",
     "text": [
      "epoch: 925\tloss: 3.3642578125\tmean_prop_flipped: 1.3402813237917144e-05\n"
     ]
    },
    {
     "name": "stderr",
     "output_type": "stream",
     "text": [
      " 19%|█▉        | 951/5000 [07:14<30:22,  2.22it/s]"
     ]
    },
    {
     "name": "stdout",
     "output_type": "stream",
     "text": [
      "epoch: 950\tloss: 3.3564453125\tmean_prop_flipped: 1.608337515790481e-05\n"
     ]
    },
    {
     "name": "stderr",
     "output_type": "stream",
     "text": [
      " 20%|█▉        | 976/5000 [07:25<29:49,  2.25it/s]"
     ]
    },
    {
     "name": "stdout",
     "output_type": "stream",
     "text": [
      "epoch: 975\tloss: 3.326171875\tmean_prop_flipped: 1.541323581477627e-05\n"
     ]
    },
    {
     "name": "stderr",
     "output_type": "stream",
     "text": [
      " 20%|██        | 1001/5000 [07:37<30:21,  2.19it/s]"
     ]
    },
    {
     "name": "stdout",
     "output_type": "stream",
     "text": [
      "epoch: 1000\tloss: 3.345703125\tmean_prop_flipped: 1.608337515790481e-05\n"
     ]
    },
    {
     "name": "stderr",
     "output_type": "stream",
     "text": [
      " 21%|██        | 1026/5000 [07:48<30:01,  2.21it/s]"
     ]
    },
    {
     "name": "stdout",
     "output_type": "stream",
     "text": [
      "epoch: 1025\tloss: 3.3212890625\tmean_prop_flipped: 2.144450081686955e-05\n"
     ]
    },
    {
     "name": "stderr",
     "output_type": "stream",
     "text": [
      " 21%|██        | 1051/5000 [07:59<33:05,  1.99it/s]"
     ]
    },
    {
     "name": "stdout",
     "output_type": "stream",
     "text": [
      "epoch: 1050\tloss: 3.2587890625\tmean_prop_flipped: 2.2114641978987493e-05\n"
     ]
    },
    {
     "name": "stderr",
     "output_type": "stream",
     "text": [
      " 22%|██▏       | 1076/5000 [08:11<29:14,  2.24it/s]"
     ]
    },
    {
     "name": "stdout",
     "output_type": "stream",
     "text": [
      "epoch: 1075\tloss: 3.3115234375\tmean_prop_flipped: 1.4072953490540385e-05\n"
     ]
    },
    {
     "name": "stderr",
     "output_type": "stream",
     "text": [
      " 22%|██▏       | 1101/5000 [08:22<28:58,  2.24it/s]"
     ]
    },
    {
     "name": "stdout",
     "output_type": "stream",
     "text": [
      "epoch: 1100\tloss: 3.4248046875\tmean_prop_flipped: 1.876393798738718e-05\n"
     ]
    },
    {
     "name": "stderr",
     "output_type": "stream",
     "text": [
      " 23%|██▎       | 1126/5000 [08:34<29:43,  2.17it/s]"
     ]
    },
    {
     "name": "stdout",
     "output_type": "stream",
     "text": [
      "epoch: 1125\tloss: 3.4580078125\tmean_prop_flipped: 2.0104220311623067e-05\n"
     ]
    },
    {
     "name": "stderr",
     "output_type": "stream",
     "text": [
      " 23%|██▎       | 1151/5000 [08:45<29:20,  2.19it/s]"
     ]
    },
    {
     "name": "stdout",
     "output_type": "stream",
     "text": [
      "epoch: 1150\tloss: 3.35546875\tmean_prop_flipped: 2.6135485313716345e-05\n"
     ]
    },
    {
     "name": "stderr",
     "output_type": "stream",
     "text": [
      " 24%|██▎       | 1176/5000 [08:56<28:20,  2.25it/s]"
     ]
    },
    {
     "name": "stdout",
     "output_type": "stream",
     "text": [
      "epoch: 1175\tloss: 3.2880859375\tmean_prop_flipped: 1.6753516320022754e-05\n"
     ]
    },
    {
     "name": "stderr",
     "output_type": "stream",
     "text": [
      " 24%|██▍       | 1201/5000 [09:08<27:38,  2.29it/s]"
     ]
    },
    {
     "name": "stdout",
     "output_type": "stream",
     "text": [
      "epoch: 1200\tloss: 3.3671875\tmean_prop_flipped: 2.3454922484233975e-05\n"
     ]
    },
    {
     "name": "stderr",
     "output_type": "stream",
     "text": [
      " 25%|██▍       | 1226/5000 [09:19<28:06,  2.24it/s]"
     ]
    },
    {
     "name": "stdout",
     "output_type": "stream",
     "text": [
      "epoch: 1225\tloss: 3.3798828125\tmean_prop_flipped: 1.6753516320022754e-05\n"
     ]
    },
    {
     "name": "stderr",
     "output_type": "stream",
     "text": [
      " 25%|██▌       | 1251/5000 [09:30<28:33,  2.19it/s]"
     ]
    },
    {
     "name": "stdout",
     "output_type": "stream",
     "text": [
      "epoch: 1250\tloss: 3.361328125\tmean_prop_flipped: 2.6135485313716345e-05\n"
     ]
    },
    {
     "name": "stderr",
     "output_type": "stream",
     "text": [
      " 26%|██▌       | 1276/5000 [09:42<29:22,  2.11it/s]"
     ]
    },
    {
     "name": "stdout",
     "output_type": "stream",
     "text": [
      "epoch: 1275\tloss: 3.5849609375\tmean_prop_flipped: 1.608337515790481e-05\n"
     ]
    },
    {
     "name": "stderr",
     "output_type": "stream",
     "text": [
      " 26%|██▌       | 1301/5000 [09:54<30:50,  2.00it/s]"
     ]
    },
    {
     "name": "stdout",
     "output_type": "stream",
     "text": [
      "epoch: 1300\tloss: 3.5361328125\tmean_prop_flipped: 1.8093796825269237e-05\n"
     ]
    },
    {
     "name": "stderr",
     "output_type": "stream",
     "text": [
      " 27%|██▋       | 1326/5000 [10:06<27:29,  2.23it/s]"
     ]
    },
    {
     "name": "stdout",
     "output_type": "stream",
     "text": [
      "epoch: 1325\tloss: 3.607421875\tmean_prop_flipped: 2.0104220311623067e-05\n"
     ]
    },
    {
     "name": "stderr",
     "output_type": "stream",
     "text": [
      " 27%|██▋       | 1351/5000 [10:17<27:24,  2.22it/s]"
     ]
    },
    {
     "name": "stdout",
     "output_type": "stream",
     "text": [
      "epoch: 1350\tloss: 3.29296875\tmean_prop_flipped: 2.6135485313716345e-05\n"
     ]
    },
    {
     "name": "stderr",
     "output_type": "stream",
     "text": [
      " 28%|██▊       | 1376/5000 [10:29<27:36,  2.19it/s]"
     ]
    },
    {
     "name": "stdout",
     "output_type": "stream",
     "text": [
      "epoch: 1375\tloss: 3.5224609375\tmean_prop_flipped: 1.7423657482140698e-05\n"
     ]
    },
    {
     "name": "stderr",
     "output_type": "stream",
     "text": [
      " 28%|██▊       | 1401/5000 [10:40<29:30,  2.03it/s]"
     ]
    },
    {
     "name": "stdout",
     "output_type": "stream",
     "text": [
      "epoch: 1400\tloss: 3.45703125\tmean_prop_flipped: 1.6753516320022754e-05\n"
     ]
    },
    {
     "name": "stderr",
     "output_type": "stream",
     "text": [
      " 29%|██▊       | 1426/5000 [10:51<26:21,  2.26it/s]"
     ]
    },
    {
     "name": "stdout",
     "output_type": "stream",
     "text": [
      "epoch: 1425\tloss: 3.4912109375\tmean_prop_flipped: 1.7423657482140698e-05\n"
     ]
    },
    {
     "name": "stderr",
     "output_type": "stream",
     "text": [
      " 29%|██▉       | 1451/5000 [11:03<26:14,  2.25it/s]"
     ]
    },
    {
     "name": "stdout",
     "output_type": "stream",
     "text": [
      "epoch: 1450\tloss: 3.5244140625\tmean_prop_flipped: 2.3454922484233975e-05\n"
     ]
    },
    {
     "name": "stderr",
     "output_type": "stream",
     "text": [
      " 30%|██▉       | 1476/5000 [11:14<26:35,  2.21it/s]"
     ]
    },
    {
     "name": "stdout",
     "output_type": "stream",
     "text": [
      "epoch: 1475\tloss: 3.5244140625\tmean_prop_flipped: 3.216675031580962e-05\n"
     ]
    },
    {
     "name": "stderr",
     "output_type": "stream",
     "text": [
      " 30%|███       | 1501/5000 [11:26<27:40,  2.11it/s]"
     ]
    },
    {
     "name": "stdout",
     "output_type": "stream",
     "text": [
      "epoch: 1500\tloss: 3.74609375\tmean_prop_flipped: 3.216675031580962e-05\n"
     ]
    },
    {
     "name": "stderr",
     "output_type": "stream",
     "text": [
      " 31%|███       | 1526/5000 [11:37<25:52,  2.24it/s]"
     ]
    },
    {
     "name": "stdout",
     "output_type": "stream",
     "text": [
      "epoch: 1525\tloss: 3.564453125\tmean_prop_flipped: 2.412506364635192e-05\n"
     ]
    },
    {
     "name": "stderr",
     "output_type": "stream",
     "text": [
      " 31%|███       | 1551/5000 [11:48<25:14,  2.28it/s]"
     ]
    },
    {
     "name": "stdout",
     "output_type": "stream",
     "text": [
      "epoch: 1550\tloss: 3.345703125\tmean_prop_flipped: 2.3454922484233975e-05\n"
     ]
    },
    {
     "name": "stderr",
     "output_type": "stream",
     "text": [
      " 32%|███▏      | 1576/5000 [12:00<25:59,  2.20it/s]"
     ]
    },
    {
     "name": "stdout",
     "output_type": "stream",
     "text": [
      "epoch: 1575\tloss: 3.41015625\tmean_prop_flipped: 1.27326720757992e-05\n"
     ]
    },
    {
     "name": "stderr",
     "output_type": "stream",
     "text": [
      " 32%|███▏      | 1601/5000 [12:11<25:30,  2.22it/s]"
     ]
    },
    {
     "name": "stdout",
     "output_type": "stream",
     "text": [
      "epoch: 1600\tloss: 3.6240234375\tmean_prop_flipped: 2.6805626475834288e-05\n"
     ]
    },
    {
     "name": "stderr",
     "output_type": "stream",
     "text": [
      " 33%|███▎      | 1626/5000 [12:23<26:41,  2.11it/s]"
     ]
    },
    {
     "name": "stdout",
     "output_type": "stream",
     "text": [
      "epoch: 1625\tloss: 3.466796875\tmean_prop_flipped: 2.2784781322116032e-05\n"
     ]
    },
    {
     "name": "stderr",
     "output_type": "stream",
     "text": [
      " 33%|███▎      | 1651/5000 [12:34<25:11,  2.22it/s]"
     ]
    },
    {
     "name": "stdout",
     "output_type": "stream",
     "text": [
      "epoch: 1650\tloss: 3.509765625\tmean_prop_flipped: 2.2114641978987493e-05\n"
     ]
    },
    {
     "name": "stderr",
     "output_type": "stream",
     "text": [
      " 34%|███▎      | 1676/5000 [12:46<24:31,  2.26it/s]"
     ]
    },
    {
     "name": "stdout",
     "output_type": "stream",
     "text": [
      "epoch: 1675\tloss: 3.3408203125\tmean_prop_flipped: 2.54653441515984e-05\n"
     ]
    },
    {
     "name": "stderr",
     "output_type": "stream",
     "text": [
      " 34%|███▍      | 1701/5000 [12:57<24:35,  2.24it/s]"
     ]
    },
    {
     "name": "stdout",
     "output_type": "stream",
     "text": [
      "epoch: 1700\tloss: 3.50390625\tmean_prop_flipped: 2.2784781322116032e-05\n"
     ]
    },
    {
     "name": "stderr",
     "output_type": "stream",
     "text": [
      " 35%|███▍      | 1726/5000 [13:08<24:43,  2.21it/s]"
     ]
    },
    {
     "name": "stdout",
     "output_type": "stream",
     "text": [
      "epoch: 1725\tloss: 3.3916015625\tmean_prop_flipped: 2.2784781322116032e-05\n"
     ]
    },
    {
     "name": "stderr",
     "output_type": "stream",
     "text": [
      " 35%|███▌      | 1751/5000 [13:20<27:08,  2.00it/s]"
     ]
    },
    {
     "name": "stdout",
     "output_type": "stream",
     "text": [
      "epoch: 1750\tloss: 3.3056640625\tmean_prop_flipped: 2.0104220311623067e-05\n"
     ]
    },
    {
     "name": "stderr",
     "output_type": "stream",
     "text": [
      " 36%|███▌      | 1776/5000 [13:31<23:57,  2.24it/s]"
     ]
    },
    {
     "name": "stdout",
     "output_type": "stream",
     "text": [
      "epoch: 1775\tloss: 3.5361328125\tmean_prop_flipped: 2.2784781322116032e-05\n"
     ]
    },
    {
     "name": "stderr",
     "output_type": "stream",
     "text": [
      " 36%|███▌      | 1801/5000 [13:43<23:44,  2.25it/s]"
     ]
    },
    {
     "name": "stdout",
     "output_type": "stream",
     "text": [
      "epoch: 1800\tloss: 3.3525390625\tmean_prop_flipped: 2.144450081686955e-05\n"
     ]
    },
    {
     "name": "stderr",
     "output_type": "stream",
     "text": [
      " 37%|███▋      | 1826/5000 [13:54<23:32,  2.25it/s]"
     ]
    },
    {
     "name": "stdout",
     "output_type": "stream",
     "text": [
      "epoch: 1825\tloss: 3.4716796875\tmean_prop_flipped: 2.0104220311623067e-05\n"
     ]
    },
    {
     "name": "stderr",
     "output_type": "stream",
     "text": [
      " 37%|███▋      | 1851/5000 [14:06<24:37,  2.13it/s]"
     ]
    },
    {
     "name": "stdout",
     "output_type": "stream",
     "text": [
      "epoch: 1850\tloss: 3.525390625\tmean_prop_flipped: 1.541323581477627e-05\n"
     ]
    },
    {
     "name": "stderr",
     "output_type": "stream",
     "text": [
      " 38%|███▊      | 1876/5000 [14:17<23:13,  2.24it/s]"
     ]
    },
    {
     "name": "stdout",
     "output_type": "stream",
     "text": [
      "epoch: 1875\tloss: 3.48046875\tmean_prop_flipped: 2.412506364635192e-05\n"
     ]
    },
    {
     "name": "stderr",
     "output_type": "stream",
     "text": [
      " 38%|███▊      | 1901/5000 [14:28<24:06,  2.14it/s]"
     ]
    },
    {
     "name": "stdout",
     "output_type": "stream",
     "text": [
      "epoch: 1900\tloss: 3.6494140625\tmean_prop_flipped: 1.7423657482140698e-05\n"
     ]
    },
    {
     "name": "stderr",
     "output_type": "stream",
     "text": [
      " 39%|███▊      | 1926/5000 [14:40<22:50,  2.24it/s]"
     ]
    },
    {
     "name": "stdout",
     "output_type": "stream",
     "text": [
      "epoch: 1925\tloss: 3.791015625\tmean_prop_flipped: 2.0104220311623067e-05\n"
     ]
    },
    {
     "name": "stderr",
     "output_type": "stream",
     "text": [
      " 39%|███▉      | 1951/5000 [14:51<23:14,  2.19it/s]"
     ]
    },
    {
     "name": "stdout",
     "output_type": "stream",
     "text": [
      "epoch: 1950\tloss: 3.580078125\tmean_prop_flipped: 2.0104220311623067e-05\n"
     ]
    },
    {
     "name": "stderr",
     "output_type": "stream",
     "text": [
      " 40%|███▉      | 1976/5000 [15:02<23:19,  2.16it/s]"
     ]
    },
    {
     "name": "stdout",
     "output_type": "stream",
     "text": [
      "epoch: 1975\tloss: 3.4453125\tmean_prop_flipped: 2.814590698108077e-05\n"
     ]
    },
    {
     "name": "stderr",
     "output_type": "stream",
     "text": [
      " 40%|████      | 2001/5000 [15:14<22:31,  2.22it/s]"
     ]
    },
    {
     "name": "stdout",
     "output_type": "stream",
     "text": [
      "epoch: 2000\tloss: 3.44140625\tmean_prop_flipped: 2.8816048143198714e-05\n"
     ]
    },
    {
     "name": "stderr",
     "output_type": "stream",
     "text": [
      " 41%|████      | 2026/5000 [15:25<21:58,  2.25it/s]"
     ]
    },
    {
     "name": "stdout",
     "output_type": "stream",
     "text": [
      "epoch: 2025\tloss: 3.7763671875\tmean_prop_flipped: 2.0774359654751606e-05\n"
     ]
    },
    {
     "name": "stderr",
     "output_type": "stream",
     "text": [
      " 41%|████      | 2051/5000 [15:37<21:55,  2.24it/s]"
     ]
    },
    {
     "name": "stdout",
     "output_type": "stream",
     "text": [
      "epoch: 2050\tloss: 3.93359375\tmean_prop_flipped: 2.0774359654751606e-05\n"
     ]
    },
    {
     "name": "stderr",
     "output_type": "stream",
     "text": [
      " 42%|████▏     | 2076/5000 [15:48<22:25,  2.17it/s]"
     ]
    },
    {
     "name": "stdout",
     "output_type": "stream",
     "text": [
      "epoch: 2075\tloss: 3.7958984375\tmean_prop_flipped: 2.814590698108077e-05\n"
     ]
    },
    {
     "name": "stderr",
     "output_type": "stream",
     "text": [
      " 42%|████▏     | 2101/5000 [16:00<23:22,  2.07it/s]"
     ]
    },
    {
     "name": "stdout",
     "output_type": "stream",
     "text": [
      "epoch: 2100\tloss: 3.662109375\tmean_prop_flipped: 2.9486189305316657e-05\n"
     ]
    },
    {
     "name": "stderr",
     "output_type": "stream",
     "text": [
      " 43%|████▎     | 2126/5000 [16:11<22:02,  2.17it/s]"
     ]
    },
    {
     "name": "stdout",
     "output_type": "stream",
     "text": [
      "epoch: 2125\tloss: 3.765625\tmean_prop_flipped: 2.6135485313716345e-05\n"
     ]
    },
    {
     "name": "stderr",
     "output_type": "stream",
     "text": [
      " 43%|████▎     | 2151/5000 [16:23<24:42,  1.92it/s]"
     ]
    },
    {
     "name": "stdout",
     "output_type": "stream",
     "text": [
      "epoch: 2150\tloss: 3.85546875\tmean_prop_flipped: 2.2784781322116032e-05\n"
     ]
    },
    {
     "name": "stderr",
     "output_type": "stream",
     "text": [
      " 44%|████▎     | 2176/5000 [16:34<20:44,  2.27it/s]"
     ]
    },
    {
     "name": "stdout",
     "output_type": "stream",
     "text": [
      "epoch: 2175\tloss: 3.529296875\tmean_prop_flipped: 2.814590698108077e-05\n"
     ]
    },
    {
     "name": "stderr",
     "output_type": "stream",
     "text": [
      " 44%|████▍     | 2201/5000 [16:45<21:27,  2.17it/s]"
     ]
    },
    {
     "name": "stdout",
     "output_type": "stream",
     "text": [
      "epoch: 2200\tloss: 3.2265625\tmean_prop_flipped: 3.2836891477927566e-05\n"
     ]
    },
    {
     "name": "stderr",
     "output_type": "stream",
     "text": [
      " 45%|████▍     | 2226/5000 [16:56<20:04,  2.30it/s]"
     ]
    },
    {
     "name": "stdout",
     "output_type": "stream",
     "text": [
      "epoch: 2225\tloss: 3.6064453125\tmean_prop_flipped: 1.876393798738718e-05\n"
     ]
    },
    {
     "name": "stderr",
     "output_type": "stream",
     "text": [
      " 45%|████▌     | 2251/5000 [17:08<20:14,  2.26it/s]"
     ]
    },
    {
     "name": "stdout",
     "output_type": "stream",
     "text": [
      "epoch: 2250\tloss: 3.7021484375\tmean_prop_flipped: 3.0156328648445196e-05\n"
     ]
    },
    {
     "name": "stderr",
     "output_type": "stream",
     "text": [
      " 46%|████▌     | 2276/5000 [17:19<20:07,  2.26it/s]"
     ]
    },
    {
     "name": "stdout",
     "output_type": "stream",
     "text": [
      "epoch: 2275\tloss: 3.6611328125\tmean_prop_flipped: 2.3454922484233975e-05\n"
     ]
    },
    {
     "name": "stderr",
     "output_type": "stream",
     "text": [
      " 46%|████▌     | 2301/5000 [17:31<20:37,  2.18it/s]"
     ]
    },
    {
     "name": "stdout",
     "output_type": "stream",
     "text": [
      "epoch: 2300\tloss: 3.640625\tmean_prop_flipped: 3.082647162955254e-05\n"
     ]
    },
    {
     "name": "stderr",
     "output_type": "stream",
     "text": [
      " 47%|████▋     | 2326/5000 [17:42<21:05,  2.11it/s]"
     ]
    },
    {
     "name": "stdout",
     "output_type": "stream",
     "text": [
      "epoch: 2325\tloss: 3.09765625\tmean_prop_flipped: 2.8816048143198714e-05\n"
     ]
    },
    {
     "name": "stderr",
     "output_type": "stream",
     "text": [
      " 47%|████▋     | 2351/5000 [17:53<19:35,  2.25it/s]"
     ]
    },
    {
     "name": "stdout",
     "output_type": "stream",
     "text": [
      "epoch: 2350\tloss: 3.1162109375\tmean_prop_flipped: 3.953829946112819e-05\n"
     ]
    },
    {
     "name": "stderr",
     "output_type": "stream",
     "text": [
      " 48%|████▊     | 2376/5000 [18:04<19:17,  2.27it/s]"
     ]
    },
    {
     "name": "stdout",
     "output_type": "stream",
     "text": [
      "epoch: 2375\tloss: 3.599609375\tmean_prop_flipped: 3.350703264004551e-05\n"
     ]
    },
    {
     "name": "stderr",
     "output_type": "stream",
     "text": [
      " 48%|████▊     | 2401/5000 [18:16<19:37,  2.21it/s]"
     ]
    },
    {
     "name": "stdout",
     "output_type": "stream",
     "text": [
      "epoch: 2400\tloss: 2.9658203125\tmean_prop_flipped: 5.227097062743269e-05\n"
     ]
    },
    {
     "name": "stderr",
     "output_type": "stream",
     "text": [
      " 49%|████▊     | 2426/5000 [18:27<19:20,  2.22it/s]"
     ]
    },
    {
     "name": "stdout",
     "output_type": "stream",
     "text": [
      "epoch: 2425\tloss: 3.318359375\tmean_prop_flipped: 2.8816048143198714e-05\n"
     ]
    },
    {
     "name": "stderr",
     "output_type": "stream",
     "text": [
      " 49%|████▉     | 2451/5000 [18:38<20:28,  2.08it/s]"
     ]
    },
    {
     "name": "stdout",
     "output_type": "stream",
     "text": [
      "epoch: 2450\tloss: 3.56640625\tmean_prop_flipped: 4.087857814738527e-05\n"
     ]
    },
    {
     "name": "stderr",
     "output_type": "stream",
     "text": [
      " 50%|████▉     | 2476/5000 [18:50<18:35,  2.26it/s]"
     ]
    },
    {
     "name": "stdout",
     "output_type": "stream",
     "text": [
      "epoch: 2475\tloss: 2.96484375\tmean_prop_flipped: 4.087857814738527e-05\n"
     ]
    },
    {
     "name": "stderr",
     "output_type": "stream",
     "text": [
      " 50%|█████     | 2501/5000 [19:01<18:34,  2.24it/s]"
     ]
    },
    {
     "name": "stdout",
     "output_type": "stream",
     "text": [
      "epoch: 2500\tloss: 4.3466796875\tmean_prop_flipped: 2.6805626475834288e-05\n"
     ]
    },
    {
     "name": "stderr",
     "output_type": "stream",
     "text": [
      " 51%|█████     | 2526/5000 [19:12<18:29,  2.23it/s]"
     ]
    },
    {
     "name": "stdout",
     "output_type": "stream",
     "text": [
      "epoch: 2525\tloss: 3.380859375\tmean_prop_flipped: 4.087857814738527e-05\n"
     ]
    },
    {
     "name": "stderr",
     "output_type": "stream",
     "text": [
      " 51%|█████     | 2551/5000 [19:24<19:03,  2.14it/s]"
     ]
    },
    {
     "name": "stdout",
     "output_type": "stream",
     "text": [
      "epoch: 2550\tloss: 3.78515625\tmean_prop_flipped: 4.020844062324613e-05\n"
     ]
    },
    {
     "name": "stderr",
     "output_type": "stream",
     "text": [
      " 52%|█████▏    | 2576/5000 [19:35<18:20,  2.20it/s]"
     ]
    },
    {
     "name": "stdout",
     "output_type": "stream",
     "text": [
      "epoch: 2575\tloss: 3.8447265625\tmean_prop_flipped: 4.154871930950321e-05\n"
     ]
    },
    {
     "name": "stderr",
     "output_type": "stream",
     "text": [
      " 52%|█████▏    | 2601/5000 [19:46<17:34,  2.27it/s]"
     ]
    },
    {
     "name": "stdout",
     "output_type": "stream",
     "text": [
      "epoch: 2600\tloss: 3.943359375\tmean_prop_flipped: 3.953829946112819e-05\n"
     ]
    },
    {
     "name": "stderr",
     "output_type": "stream",
     "text": [
      " 53%|█████▎    | 2626/5000 [19:58<18:11,  2.18it/s]"
     ]
    },
    {
     "name": "stdout",
     "output_type": "stream",
     "text": [
      "epoch: 2625\tloss: 3.923828125\tmean_prop_flipped: 4.020844062324613e-05\n"
     ]
    },
    {
     "name": "stderr",
     "output_type": "stream",
     "text": [
      " 53%|█████▎    | 2651/5000 [20:09<17:42,  2.21it/s]"
     ]
    },
    {
     "name": "stdout",
     "output_type": "stream",
     "text": [
      "epoch: 2650\tloss: 4.5419921875\tmean_prop_flipped: 4.690984496846795e-05\n"
     ]
    },
    {
     "name": "stderr",
     "output_type": "stream",
     "text": [
      " 54%|█████▎    | 2676/5000 [20:20<17:52,  2.17it/s]"
     ]
    },
    {
     "name": "stdout",
     "output_type": "stream",
     "text": [
      "epoch: 2675\tloss: 4.40234375\tmean_prop_flipped: 4.28890016337391e-05\n"
     ]
    },
    {
     "name": "stderr",
     "output_type": "stream",
     "text": [
      " 54%|█████▍    | 2701/5000 [20:32<16:38,  2.30it/s]"
     ]
    },
    {
     "name": "stdout",
     "output_type": "stream",
     "text": [
      "epoch: 2700\tloss: 5.7841796875\tmean_prop_flipped: 8.242730109486729e-05\n"
     ]
    },
    {
     "name": "stderr",
     "output_type": "stream",
     "text": [
      " 55%|█████▍    | 2726/5000 [20:43<17:02,  2.22it/s]"
     ]
    },
    {
     "name": "stdout",
     "output_type": "stream",
     "text": [
      "epoch: 2725\tloss: 6.7607421875\tmean_prop_flipped: 8.57780032674782e-05\n"
     ]
    },
    {
     "name": "stderr",
     "output_type": "stream",
     "text": [
      " 55%|█████▌    | 2751/5000 [20:54<17:08,  2.19it/s]"
     ]
    },
    {
     "name": "stdout",
     "output_type": "stream",
     "text": [
      "epoch: 2750\tloss: 2.935546875\tmean_prop_flipped: 3.551745612639934e-05\n"
     ]
    },
    {
     "name": "stderr",
     "output_type": "stream",
     "text": [
      " 56%|█████▌    | 2776/5000 [21:05<16:35,  2.23it/s]"
     ]
    },
    {
     "name": "stdout",
     "output_type": "stream",
     "text": [
      "epoch: 2775\tloss: 3.9541015625\tmean_prop_flipped: 2.9486189305316657e-05\n"
     ]
    },
    {
     "name": "stderr",
     "output_type": "stream",
     "text": [
      " 56%|█████▌    | 2801/5000 [21:17<17:33,  2.09it/s]"
     ]
    },
    {
     "name": "stdout",
     "output_type": "stream",
     "text": [
      "epoch: 2800\tloss: 3.869140625\tmean_prop_flipped: 4.489942512009293e-05\n"
     ]
    },
    {
     "name": "stderr",
     "output_type": "stream",
     "text": [
      " 57%|█████▋    | 2826/5000 [21:28<15:54,  2.28it/s]"
     ]
    },
    {
     "name": "stdout",
     "output_type": "stream",
     "text": [
      "epoch: 2825\tloss: 3.4580078125\tmean_prop_flipped: 4.825012729270384e-05\n"
     ]
    },
    {
     "name": "stderr",
     "output_type": "stream",
     "text": [
      " 57%|█████▋    | 2851/5000 [21:39<15:58,  2.24it/s]"
     ]
    },
    {
     "name": "stdout",
     "output_type": "stream",
     "text": [
      "epoch: 2850\tloss: 3.2421875\tmean_prop_flipped: 3.752787597477436e-05\n"
     ]
    },
    {
     "name": "stderr",
     "output_type": "stream",
     "text": [
      " 58%|█████▊    | 2876/5000 [21:51<15:46,  2.24it/s]"
     ]
    },
    {
     "name": "stdout",
     "output_type": "stream",
     "text": [
      "epoch: 2875\tloss: 4.0439453125\tmean_prop_flipped: 5.09306883031968e-05\n"
     ]
    },
    {
     "name": "stderr",
     "output_type": "stream",
     "text": [
      " 58%|█████▊    | 2901/5000 [22:02<16:27,  2.13it/s]"
     ]
    },
    {
     "name": "stdout",
     "output_type": "stream",
     "text": [
      "epoch: 2900\tloss: 3.6064453125\tmean_prop_flipped: 4.4229283957974985e-05\n"
     ]
    },
    {
     "name": "stderr",
     "output_type": "stream",
     "text": [
      " 59%|█████▊    | 2926/5000 [22:14<15:37,  2.21it/s]"
     ]
    },
    {
     "name": "stdout",
     "output_type": "stream",
     "text": [
      "epoch: 2925\tloss: 4.2939453125\tmean_prop_flipped: 5.6961955124279484e-05\n"
     ]
    },
    {
     "name": "stderr",
     "output_type": "stream",
     "text": [
      " 59%|█████▉    | 2951/5000 [22:25<15:08,  2.26it/s]"
     ]
    },
    {
     "name": "stdout",
     "output_type": "stream",
     "text": [
      "epoch: 2950\tloss: 3.2041015625\tmean_prop_flipped: 3.551745612639934e-05\n"
     ]
    },
    {
     "name": "stderr",
     "output_type": "stream",
     "text": [
      " 60%|█████▉    | 2976/5000 [22:36<14:52,  2.27it/s]"
     ]
    },
    {
     "name": "stdout",
     "output_type": "stream",
     "text": [
      "epoch: 2975\tloss: 3.9052734375\tmean_prop_flipped: 8.644814079161733e-05\n"
     ]
    },
    {
     "name": "stderr",
     "output_type": "stream",
     "text": [
      " 60%|██████    | 3001/5000 [22:48<14:54,  2.24it/s]"
     ]
    },
    {
     "name": "stdout",
     "output_type": "stream",
     "text": [
      "epoch: 3000\tloss: 3.23828125\tmean_prop_flipped: 3.0156328648445196e-05\n"
     ]
    },
    {
     "name": "stderr",
     "output_type": "stream",
     "text": [
      " 61%|██████    | 3026/5000 [22:59<15:24,  2.14it/s]"
     ]
    },
    {
     "name": "stdout",
     "output_type": "stream",
     "text": [
      "epoch: 3025\tloss: 3.0419921875\tmean_prop_flipped: 3.886815829901025e-05\n"
     ]
    },
    {
     "name": "stderr",
     "output_type": "stream",
     "text": [
      " 61%|██████    | 3051/5000 [23:10<14:07,  2.30it/s]"
     ]
    },
    {
     "name": "stdout",
     "output_type": "stream",
     "text": [
      "epoch: 3050\tloss: 4.0146484375\tmean_prop_flipped: 4.892026845482178e-05\n"
     ]
    },
    {
     "name": "stderr",
     "output_type": "stream",
     "text": [
      " 62%|██████▏   | 3076/5000 [23:21<14:31,  2.21it/s]"
     ]
    },
    {
     "name": "stdout",
     "output_type": "stream",
     "text": [
      "epoch: 3075\tloss: 3.2138671875\tmean_prop_flipped: 4.892026845482178e-05\n"
     ]
    },
    {
     "name": "stderr",
     "output_type": "stream",
     "text": [
      " 62%|██████▏   | 3101/5000 [23:33<14:05,  2.25it/s]"
     ]
    },
    {
     "name": "stdout",
     "output_type": "stream",
     "text": [
      "epoch: 3100\tloss: 3.1787109375\tmean_prop_flipped: 3.685773481265642e-05\n"
     ]
    },
    {
     "name": "stderr",
     "output_type": "stream",
     "text": [
      " 63%|██████▎   | 3126/5000 [23:44<14:39,  2.13it/s]"
     ]
    },
    {
     "name": "stdout",
     "output_type": "stream",
     "text": [
      "epoch: 3125\tloss: 5.6123046875\tmean_prop_flipped: 0.00013469827536027879\n"
     ]
    },
    {
     "name": "stderr",
     "output_type": "stream",
     "text": [
      " 63%|██████▎   | 3151/5000 [23:56<14:40,  2.10it/s]"
     ]
    },
    {
     "name": "stdout",
     "output_type": "stream",
     "text": [
      "epoch: 3150\tloss: 2.6103515625\tmean_prop_flipped: 5.09306883031968e-05\n"
     ]
    },
    {
     "name": "stderr",
     "output_type": "stream",
     "text": [
      " 64%|██████▎   | 3176/5000 [24:07<13:27,  2.26it/s]"
     ]
    },
    {
     "name": "stdout",
     "output_type": "stream",
     "text": [
      "epoch: 3175\tloss: 2.72265625\tmean_prop_flipped: 4.28890016337391e-05\n"
     ]
    },
    {
     "name": "stderr",
     "output_type": "stream",
     "text": [
      " 64%|██████▍   | 3201/5000 [24:18<13:20,  2.25it/s]"
     ]
    },
    {
     "name": "stdout",
     "output_type": "stream",
     "text": [
      "epoch: 3200\tloss: 3.4345703125\tmean_prop_flipped: 3.953829946112819e-05\n"
     ]
    },
    {
     "name": "stderr",
     "output_type": "stream",
     "text": [
      " 65%|██████▍   | 3226/5000 [24:30<13:10,  2.24it/s]"
     ]
    },
    {
     "name": "stdout",
     "output_type": "stream",
     "text": [
      "epoch: 3225\tloss: 3.451171875\tmean_prop_flipped: 4.4229283957974985e-05\n"
     ]
    },
    {
     "name": "stderr",
     "output_type": "stream",
     "text": [
      " 65%|██████▌   | 3251/5000 [24:41<13:36,  2.14it/s]"
     ]
    },
    {
     "name": "stdout",
     "output_type": "stream",
     "text": [
      "epoch: 3250\tloss: 3.2900390625\tmean_prop_flipped: 4.623970380635001e-05\n"
     ]
    },
    {
     "name": "stderr",
     "output_type": "stream",
     "text": [
      " 66%|██████▌   | 3276/5000 [24:52<12:47,  2.25it/s]"
     ]
    },
    {
     "name": "stdout",
     "output_type": "stream",
     "text": [
      "epoch: 3275\tloss: 4.7236328125\tmean_prop_flipped: 7.639603427378461e-05\n"
     ]
    },
    {
     "name": "stderr",
     "output_type": "stream",
     "text": [
      " 66%|██████▌   | 3301/5000 [25:03<12:33,  2.26it/s]"
     ]
    },
    {
     "name": "stdout",
     "output_type": "stream",
     "text": [
      "epoch: 3300\tloss: 4.712890625\tmean_prop_flipped: 0.00010119123908225447\n"
     ]
    },
    {
     "name": "stderr",
     "output_type": "stream",
     "text": [
      " 67%|██████▋   | 3326/5000 [25:15<12:19,  2.26it/s]"
     ]
    },
    {
     "name": "stdout",
     "output_type": "stream",
     "text": [
      "epoch: 3325\tloss: 4.7177734375\tmean_prop_flipped: 0.00010923292575171217\n"
     ]
    },
    {
     "name": "stderr",
     "output_type": "stream",
     "text": [
      " 67%|██████▋   | 3351/5000 [25:26<12:13,  2.25it/s]"
     ]
    },
    {
     "name": "stdout",
     "output_type": "stream",
     "text": [
      "epoch: 3350\tloss: 5.5576171875\tmean_prop_flipped: 7.036476745270193e-05\n"
     ]
    },
    {
     "name": "stderr",
     "output_type": "stream",
     "text": [
      " 68%|██████▊   | 3376/5000 [25:37<12:40,  2.14it/s]"
     ]
    },
    {
     "name": "stdout",
     "output_type": "stream",
     "text": [
      "epoch: 3375\tloss: 5.6611328125\tmean_prop_flipped: 0.00010052109428215772\n"
     ]
    },
    {
     "name": "stderr",
     "output_type": "stream",
     "text": [
      " 68%|██████▊   | 3401/5000 [25:49<12:00,  2.22it/s]"
     ]
    },
    {
     "name": "stdout",
     "output_type": "stream",
     "text": [
      "epoch: 3400\tloss: 3.205078125\tmean_prop_flipped: 9.180927008856088e-05\n"
     ]
    },
    {
     "name": "stderr",
     "output_type": "stream",
     "text": [
      " 69%|██████▊   | 3426/5000 [26:00<11:27,  2.29it/s]"
     ]
    },
    {
     "name": "stdout",
     "output_type": "stream",
     "text": [
      "epoch: 3425\tloss: 5.8642578125\tmean_prop_flipped: 0.00011191349040018395\n"
     ]
    },
    {
     "name": "stderr",
     "output_type": "stream",
     "text": [
      " 69%|██████▉   | 3451/5000 [26:11<11:41,  2.21it/s]"
     ]
    },
    {
     "name": "stdout",
     "output_type": "stream",
     "text": [
      "epoch: 3450\tloss: 3.6552734375\tmean_prop_flipped: 0.00010387180373072624\n"
     ]
    },
    {
     "name": "stderr",
     "output_type": "stream",
     "text": [
      " 70%|██████▉   | 3476/5000 [26:23<11:32,  2.20it/s]"
     ]
    },
    {
     "name": "stdout",
     "output_type": "stream",
     "text": [
      "epoch: 3475\tloss: 2.3388671875\tmean_prop_flipped: 4.489942512009293e-05\n"
     ]
    },
    {
     "name": "stderr",
     "output_type": "stream",
     "text": [
      " 70%|███████   | 3501/5000 [26:34<12:03,  2.07it/s]"
     ]
    },
    {
     "name": "stdout",
     "output_type": "stream",
     "text": [
      "epoch: 3500\tloss: 3.3359375\tmean_prop_flipped: 6.299321830738336e-05\n"
     ]
    },
    {
     "name": "stderr",
     "output_type": "stream",
     "text": [
      " 71%|███████   | 3526/5000 [26:46<11:12,  2.19it/s]"
     ]
    },
    {
     "name": "stdout",
     "output_type": "stream",
     "text": [
      "epoch: 3525\tloss: 4.6611328125\tmean_prop_flipped: 8.443772094324231e-05\n"
     ]
    },
    {
     "name": "stderr",
     "output_type": "stream",
     "text": [
      " 71%|███████   | 3551/5000 [26:58<12:26,  1.94it/s]"
     ]
    },
    {
     "name": "stdout",
     "output_type": "stream",
     "text": [
      "epoch: 3550\tloss: 3.36328125\tmean_prop_flipped: 4.825012729270384e-05\n"
     ]
    },
    {
     "name": "stderr",
     "output_type": "stream",
     "text": [
      " 72%|███████▏  | 3576/5000 [27:11<12:21,  1.92it/s]"
     ]
    },
    {
     "name": "stdout",
     "output_type": "stream",
     "text": [
      "epoch: 3575\tloss: 3.9873046875\tmean_prop_flipped: 7.907659892225638e-05\n"
     ]
    },
    {
     "name": "stderr",
     "output_type": "stream",
     "text": [
      " 72%|███████▏  | 3601/5000 [27:24<12:25,  1.88it/s]"
     ]
    },
    {
     "name": "stdout",
     "output_type": "stream",
     "text": [
      "epoch: 3600\tloss: 3.216796875\tmean_prop_flipped: 5.830223744851537e-05\n"
     ]
    },
    {
     "name": "stderr",
     "output_type": "stream",
     "text": [
      " 73%|███████▎  | 3626/5000 [27:37<12:04,  1.90it/s]"
     ]
    },
    {
     "name": "stdout",
     "output_type": "stream",
     "text": [
      "epoch: 3625\tloss: 2.041015625\tmean_prop_flipped: 5.428139411378652e-05\n"
     ]
    },
    {
     "name": "stderr",
     "output_type": "stream",
     "text": [
      " 73%|███████▎  | 3651/5000 [27:50<11:56,  1.88it/s]"
     ]
    },
    {
     "name": "stdout",
     "output_type": "stream",
     "text": [
      "epoch: 3650\tloss: 2.4462890625\tmean_prop_flipped: 3.417717380216345e-05\n"
     ]
    },
    {
     "name": "stderr",
     "output_type": "stream",
     "text": [
      " 74%|███████▎  | 3676/5000 [28:04<11:40,  1.89it/s]"
     ]
    },
    {
     "name": "stdout",
     "output_type": "stream",
     "text": [
      "epoch: 3675\tloss: 3.5673828125\tmean_prop_flipped: 9.247940761270002e-05\n"
     ]
    },
    {
     "name": "stderr",
     "output_type": "stream",
     "text": [
      " 74%|███████▍  | 3701/5000 [28:17<11:18,  1.91it/s]"
     ]
    },
    {
     "name": "stdout",
     "output_type": "stream",
     "text": [
      "epoch: 3700\tloss: 2.0\tmean_prop_flipped: 3.350703264004551e-05\n"
     ]
    },
    {
     "name": "stderr",
     "output_type": "stream",
     "text": [
      " 75%|███████▍  | 3726/5000 [28:30<11:56,  1.78it/s]"
     ]
    },
    {
     "name": "stdout",
     "output_type": "stream",
     "text": [
      "epoch: 3725\tloss: 5.0625\tmean_prop_flipped: 0.00016619487723801285\n"
     ]
    },
    {
     "name": "stderr",
     "output_type": "stream",
     "text": [
      " 75%|███████▌  | 3751/5000 [28:43<10:35,  1.96it/s]"
     ]
    },
    {
     "name": "stdout",
     "output_type": "stream",
     "text": [
      "epoch: 3750\tloss: 2.025390625\tmean_prop_flipped: 2.6135485313716345e-05\n"
     ]
    },
    {
     "name": "stderr",
     "output_type": "stream",
     "text": [
      " 76%|███████▌  | 3776/5000 [28:57<11:02,  1.85it/s]"
     ]
    },
    {
     "name": "stdout",
     "output_type": "stream",
     "text": [
      "epoch: 3775\tloss: 5.873046875\tmean_prop_flipped: 0.00011191349040018395\n"
     ]
    },
    {
     "name": "stderr",
     "output_type": "stream",
     "text": [
      " 76%|███████▌  | 3801/5000 [29:10<10:09,  1.97it/s]"
     ]
    },
    {
     "name": "stdout",
     "output_type": "stream",
     "text": [
      "epoch: 3800\tloss: 3.84765625\tmean_prop_flipped: 8.845856791594997e-05\n"
     ]
    },
    {
     "name": "stderr",
     "output_type": "stream",
     "text": [
      " 77%|███████▋  | 3826/5000 [29:23<10:21,  1.89it/s]"
     ]
    },
    {
     "name": "stdout",
     "output_type": "stream",
     "text": [
      "epoch: 3825\tloss: 3.587890625\tmean_prop_flipped: 0.00012129545939387754\n"
     ]
    },
    {
     "name": "stderr",
     "output_type": "stream",
     "text": [
      " 77%|███████▋  | 3851/5000 [29:36<10:52,  1.76it/s]"
     ]
    },
    {
     "name": "stdout",
     "output_type": "stream",
     "text": [
      "epoch: 3850\tloss: 5.138671875\tmean_prop_flipped: 0.00011995517706964165\n"
     ]
    },
    {
     "name": "stderr",
     "output_type": "stream",
     "text": [
      " 78%|███████▊  | 3876/5000 [29:50<09:31,  1.97it/s]"
     ]
    },
    {
     "name": "stdout",
     "output_type": "stream",
     "text": [
      "epoch: 3875\tloss: 4.138671875\tmean_prop_flipped: 5.3611252951668575e-05\n"
     ]
    },
    {
     "name": "stderr",
     "output_type": "stream",
     "text": [
      " 78%|███████▊  | 3901/5000 [30:03<09:23,  1.95it/s]"
     ]
    },
    {
     "name": "stdout",
     "output_type": "stream",
     "text": [
      "epoch: 3900\tloss: 3.3876953125\tmean_prop_flipped: 5.763209628639743e-05\n"
     ]
    },
    {
     "name": "stderr",
     "output_type": "stream",
     "text": [
      " 79%|███████▊  | 3926/5000 [30:16<09:37,  1.86it/s]"
     ]
    },
    {
     "name": "stdout",
     "output_type": "stream",
     "text": [
      "epoch: 3925\tloss: 2.517578125\tmean_prop_flipped: 5.294111178955063e-05\n"
     ]
    },
    {
     "name": "stderr",
     "output_type": "stream",
     "text": [
      " 79%|███████▉  | 3951/5000 [30:29<09:21,  1.87it/s]"
     ]
    },
    {
     "name": "stdout",
     "output_type": "stream",
     "text": [
      "epoch: 3950\tloss: 2.3115234375\tmean_prop_flipped: 5.3611252951668575e-05\n"
     ]
    },
    {
     "name": "stderr",
     "output_type": "stream",
     "text": [
      " 80%|███████▉  | 3976/5000 [30:42<08:39,  1.97it/s]"
     ]
    },
    {
     "name": "stdout",
     "output_type": "stream",
     "text": [
      "epoch: 3975\tloss: 4.080078125\tmean_prop_flipped: 5.830223744851537e-05\n"
     ]
    },
    {
     "name": "stderr",
     "output_type": "stream",
     "text": [
      " 80%|████████  | 4001/5000 [30:56<08:42,  1.91it/s]"
     ]
    },
    {
     "name": "stdout",
     "output_type": "stream",
     "text": [
      "epoch: 4000\tloss: 2.6533203125\tmean_prop_flipped: 5.428139411378652e-05\n"
     ]
    },
    {
     "name": "stderr",
     "output_type": "stream",
     "text": [
      " 81%|████████  | 4026/5000 [31:09<08:34,  1.89it/s]"
     ]
    },
    {
     "name": "stdout",
     "output_type": "stream",
     "text": [
      "epoch: 4025\tloss: 3.1103515625\tmean_prop_flipped: 7.840645412215963e-05\n"
     ]
    },
    {
     "name": "stderr",
     "output_type": "stream",
     "text": [
      " 81%|████████  | 4051/5000 [31:22<08:15,  1.92it/s]"
     ]
    },
    {
     "name": "stdout",
     "output_type": "stream",
     "text": [
      "epoch: 4050\tloss: 4.3203125\tmean_prop_flipped: 6.165294325910509e-05\n"
     ]
    },
    {
     "name": "stderr",
     "output_type": "stream",
     "text": [
      " 82%|████████▏ | 4076/5000 [31:36<08:26,  1.82it/s]"
     ]
    },
    {
     "name": "stdout",
     "output_type": "stream",
     "text": [
      "epoch: 4075\tloss: 2.0908203125\tmean_prop_flipped: 4.154871930950321e-05\n"
     ]
    },
    {
     "name": "stderr",
     "output_type": "stream",
     "text": [
      " 82%|████████▏ | 4101/5000 [31:49<07:53,  1.90it/s]"
     ]
    },
    {
     "name": "stdout",
     "output_type": "stream",
     "text": [
      "epoch: 4100\tloss: 2.0\tmean_prop_flipped: 4.020844062324613e-05\n"
     ]
    },
    {
     "name": "stderr",
     "output_type": "stream",
     "text": [
      " 83%|████████▎ | 4126/5000 [32:02<07:25,  1.96it/s]"
     ]
    },
    {
     "name": "stdout",
     "output_type": "stream",
     "text": [
      "epoch: 4125\tloss: 3.802734375\tmean_prop_flipped: 0.00010588222357910126\n"
     ]
    },
    {
     "name": "stderr",
     "output_type": "stream",
     "text": [
      " 83%|████████▎ | 4151/5000 [32:15<07:31,  1.88it/s]"
     ]
    },
    {
     "name": "stdout",
     "output_type": "stream",
     "text": [
      "epoch: 4150\tloss: 3.4541015625\tmean_prop_flipped: 0.00010253152140649036\n"
     ]
    },
    {
     "name": "stderr",
     "output_type": "stream",
     "text": [
      " 84%|████████▎ | 4176/5000 [32:29<07:10,  1.91it/s]"
     ]
    },
    {
     "name": "stdout",
     "output_type": "stream",
     "text": [
      "epoch: 4175\tloss: 2.9248046875\tmean_prop_flipped: 6.165294325910509e-05\n"
     ]
    },
    {
     "name": "stderr",
     "output_type": "stream",
     "text": [
      " 84%|████████▍ | 4201/5000 [32:42<07:19,  1.82it/s]"
     ]
    },
    {
     "name": "stdout",
     "output_type": "stream",
     "text": [
      "epoch: 4200\tloss: 2.6416015625\tmean_prop_flipped: 5.629181396216154e-05\n"
     ]
    },
    {
     "name": "stderr",
     "output_type": "stream",
     "text": [
      " 85%|████████▍ | 4226/5000 [32:55<06:40,  1.93it/s]"
     ]
    },
    {
     "name": "stdout",
     "output_type": "stream",
     "text": [
      "epoch: 4225\tloss: 2.37109375\tmean_prop_flipped: 4.7579986130585894e-05\n"
     ]
    },
    {
     "name": "stderr",
     "output_type": "stream",
     "text": [
      " 85%|████████▌ | 4251/5000 [33:08<06:31,  1.91it/s]"
     ]
    },
    {
     "name": "stdout",
     "output_type": "stream",
     "text": [
      "epoch: 4250\tloss: 2.0\tmean_prop_flipped: 3.0156328648445196e-05\n"
     ]
    },
    {
     "name": "stderr",
     "output_type": "stream",
     "text": [
      " 86%|████████▌ | 4276/5000 [33:21<06:12,  1.94it/s]"
     ]
    },
    {
     "name": "stdout",
     "output_type": "stream",
     "text": [
      "epoch: 4275\tloss: 2.38671875\tmean_prop_flipped: 2.6805626475834288e-05\n"
     ]
    },
    {
     "name": "stderr",
     "output_type": "stream",
     "text": [
      " 86%|████████▌ | 4301/5000 [33:35<06:17,  1.85it/s]"
     ]
    },
    {
     "name": "stdout",
     "output_type": "stream",
     "text": [
      "epoch: 4300\tloss: 2.03125\tmean_prop_flipped: 2.0774359654751606e-05\n"
     ]
    },
    {
     "name": "stderr",
     "output_type": "stream",
     "text": [
      " 87%|████████▋ | 4326/5000 [33:48<05:47,  1.94it/s]"
     ]
    },
    {
     "name": "stdout",
     "output_type": "stream",
     "text": [
      "epoch: 4325\tloss: 3.41015625\tmean_prop_flipped: 6.567378295585513e-05\n"
     ]
    },
    {
     "name": "stderr",
     "output_type": "stream",
     "text": [
      " 87%|████████▋ | 4351/5000 [34:01<05:41,  1.90it/s]"
     ]
    },
    {
     "name": "stdout",
     "output_type": "stream",
     "text": [
      "epoch: 4350\tloss: 3.5517578125\tmean_prop_flipped: 9.180927008856088e-05\n"
     ]
    },
    {
     "name": "stderr",
     "output_type": "stream",
     "text": [
      " 88%|████████▊ | 4376/5000 [34:14<05:21,  1.94it/s]"
     ]
    },
    {
     "name": "stdout",
     "output_type": "stream",
     "text": [
      "epoch: 4375\tloss: 2.3203125\tmean_prop_flipped: 5.56216728000436e-05\n"
     ]
    },
    {
     "name": "stderr",
     "output_type": "stream",
     "text": [
      " 88%|████████▊ | 4401/5000 [34:28<05:13,  1.91it/s]"
     ]
    },
    {
     "name": "stdout",
     "output_type": "stream",
     "text": [
      "epoch: 4400\tloss: 2.4765625\tmean_prop_flipped: 5.3611252951668575e-05\n"
     ]
    },
    {
     "name": "stderr",
     "output_type": "stream",
     "text": [
      " 89%|████████▊ | 4426/5000 [34:41<05:14,  1.82it/s]"
     ]
    },
    {
     "name": "stdout",
     "output_type": "stream",
     "text": [
      "epoch: 4425\tloss: 4.64453125\tmean_prop_flipped: 9.583010978531092e-05\n"
     ]
    },
    {
     "name": "stderr",
     "output_type": "stream",
     "text": [
      " 89%|████████▉ | 4451/5000 [34:54<04:44,  1.93it/s]"
     ]
    },
    {
     "name": "stdout",
     "output_type": "stream",
     "text": [
      "epoch: 4450\tloss: 2.0205078125\tmean_prop_flipped: 2.0104220311623067e-05\n"
     ]
    },
    {
     "name": "stderr",
     "output_type": "stream",
     "text": [
      " 90%|████████▉ | 4476/5000 [35:07<04:28,  1.95it/s]"
     ]
    },
    {
     "name": "stdout",
     "output_type": "stream",
     "text": [
      "epoch: 4475\tloss: 2.095703125\tmean_prop_flipped: 2.6135485313716345e-05\n"
     ]
    },
    {
     "name": "stderr",
     "output_type": "stream",
     "text": [
      " 90%|█████████ | 4501/5000 [35:21<04:18,  1.93it/s]"
     ]
    },
    {
     "name": "stdout",
     "output_type": "stream",
     "text": [
      "epoch: 4500\tloss: 3.6162109375\tmean_prop_flipped: 0.00015145179349929094\n"
     ]
    },
    {
     "name": "stderr",
     "output_type": "stream",
     "text": [
      " 91%|█████████ | 4526/5000 [35:34<04:10,  1.89it/s]"
     ]
    },
    {
     "name": "stdout",
     "output_type": "stream",
     "text": [
      "epoch: 4525\tloss: 5.203125\tmean_prop_flipped: 0.0001192850322695449\n"
     ]
    },
    {
     "name": "stderr",
     "output_type": "stream",
     "text": [
      " 91%|█████████ | 4551/5000 [35:47<04:17,  1.75it/s]"
     ]
    },
    {
     "name": "stdout",
     "output_type": "stream",
     "text": [
      "epoch: 4550\tloss: 2.0\tmean_prop_flipped: 4.4229283957974985e-05\n"
     ]
    },
    {
     "name": "stderr",
     "output_type": "stream",
     "text": [
      " 92%|█████████▏| 4576/5000 [36:00<03:38,  1.94it/s]"
     ]
    },
    {
     "name": "stdout",
     "output_type": "stream",
     "text": [
      "epoch: 4575\tloss: 2.0\tmean_prop_flipped: 3.8198017136892304e-05\n"
     ]
    },
    {
     "name": "stderr",
     "output_type": "stream",
     "text": [
      " 92%|█████████▏| 4601/5000 [36:13<03:23,  1.96it/s]"
     ]
    },
    {
     "name": "stdout",
     "output_type": "stream",
     "text": [
      "epoch: 4600\tloss: 3.5703125\tmean_prop_flipped: 9.583010978531092e-05\n"
     ]
    },
    {
     "name": "stderr",
     "output_type": "stream",
     "text": [
      " 93%|█████████▎| 4626/5000 [36:27<03:28,  1.80it/s]"
     ]
    },
    {
     "name": "stdout",
     "output_type": "stream",
     "text": [
      "epoch: 4625\tloss: 2.0\tmean_prop_flipped: 4.623970380635001e-05\n"
     ]
    },
    {
     "name": "stderr",
     "output_type": "stream",
     "text": [
      " 93%|█████████▎| 4651/5000 [36:40<03:12,  1.81it/s]"
     ]
    },
    {
     "name": "stdout",
     "output_type": "stream",
     "text": [
      "epoch: 4650\tloss: 2.0\tmean_prop_flipped: 3.685773481265642e-05\n"
     ]
    },
    {
     "name": "stderr",
     "output_type": "stream",
     "text": [
      " 94%|█████████▎| 4676/5000 [36:53<02:45,  1.96it/s]"
     ]
    },
    {
     "name": "stdout",
     "output_type": "stream",
     "text": [
      "epoch: 4675\tloss: 5.208984375\tmean_prop_flipped: 0.00012263574171811342\n"
     ]
    },
    {
     "name": "stderr",
     "output_type": "stream",
     "text": [
      " 94%|█████████▍| 4701/5000 [37:07<02:34,  1.93it/s]"
     ]
    },
    {
     "name": "stdout",
     "output_type": "stream",
     "text": [
      "epoch: 4700\tloss: 3.494140625\tmean_prop_flipped: 6.165294325910509e-05\n"
     ]
    },
    {
     "name": "stderr",
     "output_type": "stream",
     "text": [
      " 95%|█████████▍| 4726/5000 [37:20<02:22,  1.92it/s]"
     ]
    },
    {
     "name": "stdout",
     "output_type": "stream",
     "text": [
      "epoch: 4725\tloss: 4.02734375\tmean_prop_flipped: 0.0001112433456000872\n"
     ]
    },
    {
     "name": "stderr",
     "output_type": "stream",
     "text": [
      " 95%|█████████▌| 4751/5000 [37:33<02:12,  1.88it/s]"
     ]
    },
    {
     "name": "stdout",
     "output_type": "stream",
     "text": [
      "epoch: 4750\tloss: 2.1259765625\tmean_prop_flipped: 3.886815829901025e-05\n"
     ]
    },
    {
     "name": "stderr",
     "output_type": "stream",
     "text": [
      " 96%|█████████▌| 4776/5000 [37:47<02:07,  1.75it/s]"
     ]
    },
    {
     "name": "stdout",
     "output_type": "stream",
     "text": [
      "epoch: 4775\tloss: 3.052734375\tmean_prop_flipped: 0.0001306774211116135\n"
     ]
    },
    {
     "name": "stderr",
     "output_type": "stream",
     "text": [
      " 96%|█████████▌| 4801/5000 [38:00<01:44,  1.90it/s]"
     ]
    },
    {
     "name": "stdout",
     "output_type": "stream",
     "text": [
      "epoch: 4800\tloss: 3.349609375\tmean_prop_flipped: 0.0001621740375412628\n"
     ]
    },
    {
     "name": "stderr",
     "output_type": "stream",
     "text": [
      " 97%|█████████▋| 4826/5000 [38:13<01:29,  1.95it/s]"
     ]
    },
    {
     "name": "stdout",
     "output_type": "stream",
     "text": [
      "epoch: 4825\tloss: 2.341796875\tmean_prop_flipped: 4.5569562644232064e-05\n"
     ]
    },
    {
     "name": "stderr",
     "output_type": "stream",
     "text": [
      " 97%|█████████▋| 4851/5000 [38:27<01:18,  1.90it/s]"
     ]
    },
    {
     "name": "stdout",
     "output_type": "stream",
     "text": [
      "epoch: 4850\tloss: 2.0\tmean_prop_flipped: 2.54653441515984e-05\n"
     ]
    },
    {
     "name": "stderr",
     "output_type": "stream",
     "text": [
      " 98%|█████████▊| 4876/5000 [38:40<01:09,  1.78it/s]"
     ]
    },
    {
     "name": "stdout",
     "output_type": "stream",
     "text": [
      "epoch: 4875\tloss: 4.6240234375\tmean_prop_flipped: 8.979885024018586e-05\n"
     ]
    },
    {
     "name": "stderr",
     "output_type": "stream",
     "text": [
      " 98%|█████████▊| 4901/5000 [38:54<00:51,  1.92it/s]"
     ]
    },
    {
     "name": "stdout",
     "output_type": "stream",
     "text": [
      "epoch: 4900\tloss: 3.8359375\tmean_prop_flipped: 0.00018830952467396855\n"
     ]
    },
    {
     "name": "stderr",
     "output_type": "stream",
     "text": [
      " 99%|█████████▊| 4926/5000 [39:07<00:37,  1.96it/s]"
     ]
    },
    {
     "name": "stdout",
     "output_type": "stream",
     "text": [
      "epoch: 4925\tloss: 2.0166015625\tmean_prop_flipped: 2.7475765818962827e-05\n"
     ]
    },
    {
     "name": "stderr",
     "output_type": "stream",
     "text": [
      " 99%|█████████▉| 4951/5000 [39:20<00:25,  1.94it/s]"
     ]
    },
    {
     "name": "stdout",
     "output_type": "stream",
     "text": [
      "epoch: 4950\tloss: 2.1513671875\tmean_prop_flipped: 2.7475765818962827e-05\n"
     ]
    },
    {
     "name": "stderr",
     "output_type": "stream",
     "text": [
      "100%|█████████▉| 4976/5000 [39:33<00:13,  1.82it/s]"
     ]
    },
    {
     "name": "stdout",
     "output_type": "stream",
     "text": [
      "epoch: 4975\tloss: 2.48828125\tmean_prop_flipped: 3.4847314964281395e-05\n"
     ]
    },
    {
     "name": "stderr",
     "output_type": "stream",
     "text": [
      "100%|██████████| 5000/5000 [39:46<00:00,  2.10it/s]\n"
     ]
    }
   ],
   "source": [
    "zero_loss_count = 0\n",
    "zero_loss_count_for_early_stop = 10\n",
    "for epoch in tqdm.trange(train_epochs):\n",
    "    epoch_loss = 0\n",
    "    prop_flipped = 0\n",
    "    for batch_id, batch in enumerate(train_MNIST_loader):\n",
    "        # forward pass and loss\n",
    "        output = TBNN.forward(batch.input)\n",
    "        loss = loss_func.forward(output=output, target=batch.target)\n",
    "\n",
    "        # backward pass\n",
    "        grad = loss_func.backward(output=output, target=batch.target)\n",
    "        out_grad = TBNN.backward(grad)\n",
    "\n",
    "        # optimizer step\n",
    "        prop_flipped += BernOpt.step()\n",
    "\n",
    "        # sum loss\n",
    "        epoch_loss += loss\n",
    "\n",
    "        break\n",
    "\n",
    "    # save loss\n",
    "    losses.append(epoch_loss.cpu())\n",
    "\n",
    "    if epoch_loss == 0:\n",
    "        zero_loss_count += 1\n",
    "    else:\n",
    "        zero_loss_count = 0\n",
    "\n",
    "    early_exit = zero_loss_count >= zero_loss_count_for_early_stop\n",
    "\n",
    "    if early_exit or (epoch % epoch_log_rate) == 0:\n",
    "        mean_prop_flipped = prop_flipped / (1 + batch_id)\n",
    "        print(f'epoch: {epoch}\\tloss: {loss}\\tmean_prop_flipped: {mean_prop_flipped}')\n",
    "\n",
    "    if early_exit:\n",
    "        break"
   ]
  },
  {
   "cell_type": "code",
   "execution_count": 352,
   "metadata": {},
   "outputs": [
    {
     "name": "stderr",
     "output_type": "stream",
     "text": [
      "100%|██████████| 5/5 [00:00<00:00, 17.36it/s]"
     ]
    },
    {
     "name": "stdout",
     "output_type": "stream",
     "text": [
      "accuracy: 0.08699999749660492\n"
     ]
    },
    {
     "name": "stderr",
     "output_type": "stream",
     "text": [
      "\n"
     ]
    }
   ],
   "source": [
    "num_correct = 0\n",
    "total = test_MNIST_loader._datapoints\n",
    "for batch_id, batch in enumerate(tqdm.tqdm(test_MNIST_loader)):\n",
    "    # forward pass and loss\n",
    "    output_unproj = TBNN.forward_no_proj(batch.input)\n",
    "    output_argmax = torch.argmax(output_unproj, dim=-1)\n",
    "    target_argmax = torch.argmax(batch.target, dim=-1)\n",
    "\n",
    "    num_correct += torch.sum(target_argmax == output_argmax)\n",
    "\n",
    "print(f\"accuracy: {num_correct / total}\")"
   ]
  },
  {
   "cell_type": "code",
   "execution_count": 353,
   "metadata": {},
   "outputs": [
    {
     "data": {
      "text/plain": [
       "tensor(0.2848, device='cuda:0')"
      ]
     },
     "execution_count": 353,
     "metadata": {},
     "output_type": "execute_result"
    }
   ],
   "source": [
    "k = 3\n",
    "ins = torch.topk(output_unproj, k=k, dim=-1).indices\n",
    "out = torch.zeros_like(output_argmax, dtype=bool)\n",
    "for i in range(k):\n",
    "    out |= ins[..., i] == target_argmax\n",
    "\n",
    "torch.sum(out) / len(out)"
   ]
  },
  {
   "cell_type": "code",
   "execution_count": 354,
   "metadata": {},
   "outputs": [],
   "source": [
    "import bnn.metrics\n",
    "\n",
    "ds: list[bnn.random.DISCRETE_DIST | None] = []\n",
    "for n, p in TBNN.named_parameters():\n",
    "    if \"W\" in n:\n",
    "        d = bnn.metrics.distribution(p.cpu())\n",
    "        ds.append(d)"
   ]
  },
  {
   "cell_type": "code",
   "execution_count": 355,
   "metadata": {},
   "outputs": [
    {
     "data": {
      "application/vnd.jupyter.widget-view+json": {
       "model_id": "f72e026bc771489e9ac88de8cf1b2bcc",
       "version_major": 2,
       "version_minor": 0
      },
      "image/png": "[encoded data removed]",
      "text/html": [
       "\n",
       "            <div style=\"display: inline-block;\">\n",
       "                <div class=\"jupyter-widgets widget-label\" style=\"text-align: center;\">\n",
       "                    dist\n",
       "                </div>\n",
       "                <img src='data:image/png;base64,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' width=640.0/>\n",
       "            </div>\n",
       "        "
      ],
      "text/plain": [
       "Canvas(toolbar=Toolbar(toolitems=[('Home', 'Reset original view', 'home', 'home'), ('Back', 'Back to previous …"
      ]
     },
     "metadata": {},
     "output_type": "display_data"
    }
   ],
   "source": [
    "FIG_NAME = \"dist\"\n",
    "plt.close(FIG_NAME)\n",
    "\n",
    "num_plots = len(ds)\n",
    "ceil_sqrt_num_plots = np.ceil(np.sqrt(num_plots)).astype(int)\n",
    "\n",
    "fig, axs = plt.subplots(ceil_sqrt_num_plots, ceil_sqrt_num_plots, num=FIG_NAME)\n",
    "axs = np.array(axs).flatten()\n",
    "\n",
    "min_x, max_x = -1, 1\n",
    "width=0.1\n",
    "for i, (ax, d) in enumerate(zip(axs, ds + [None]*len(axs))):\n",
    "    if d is None:\n",
    "        ax.plot(np.linspace(min_x, max_x), np.linspace(0, 1), '-', color=\"red\")\n",
    "        ax.plot(np.linspace(max_x, min_x), np.linspace(0, 1), '-', color=\"red\")\n",
    "        ax.axis(\"off\")\n",
    "\n",
    "    else:\n",
    "        ax.set_title(i)\n",
    "        vals = [pair.value for pair in d]\n",
    "        probs = [pair.probability for pair in d]\n",
    "\n",
    "        if len(vals) > 3:\n",
    "            ax.plot(vals, probs, 'o-')\n",
    "        else:\n",
    "            ax.bar(vals, probs, width=width)\n",
    "\n",
    "        min_x = min(min_x, min(vals))\n",
    "        max_x = max(max_x, max(vals))\n",
    "\n",
    "for ax in axs:\n",
    "    ax.set_xlim(min_x-width, max_x+width)\n",
    "    ax.grid()\n",
    "\n",
    "fig.tight_layout(pad=0.1)\n",
    "plt.show()"
   ]
  },
  {
   "cell_type": "code",
   "execution_count": 356,
   "metadata": {},
   "outputs": [
    {
     "data": {
      "application/vnd.jupyter.widget-view+json": {
       "model_id": "a25af087cbd74f818e445fe262a85684",
       "version_major": 2,
       "version_minor": 0
      },
      "image/png": "[encoded data removed]",
      "text/html": [
       "\n",
       "            <div style=\"display: inline-block;\">\n",
       "                <div class=\"jupyter-widgets widget-label\" style=\"text-align: center;\">\n",
       "                    loss_curve_partial\n",
       "                </div>\n",
       "                <img src='data:image/png;base64,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' width=640.0/>\n",
       "            </div>\n",
       "        "
      ],
      "text/plain": [
       "Canvas(toolbar=Toolbar(toolitems=[('Home', 'Reset original view', 'home', 'home'), ('Back', 'Back to previous …"
      ]
     },
     "metadata": {},
     "output_type": "display_data"
    }
   ],
   "source": [
    "NAME = 'loss_curve_partial'\n",
    "plt.close(NAME)\n",
    "plt.figure(NAME)\n",
    "\n",
    "plt.plot(losses[:train_epochs])\n",
    "plt.xlabel('epoch')\n",
    "plt.ylabel('loss')\n",
    "plt.grid()\n",
    "\n",
    "plt.show()"
   ]
  },
  {
   "cell_type": "code",
   "execution_count": 357,
   "metadata": {},
   "outputs": [
    {
     "name": "stdout",
     "output_type": "stream",
     "text": [
      "layers.TernBinLayer0.W \n",
      " Parameter containing:\n",
      "tensor([[ 0, -1,  0,  ..., -1, -1, -1],\n",
      "        [-1,  0,  0,  ...,  0, -1,  0],\n",
      "        [ 1,  1, -1,  ..., -1, -1, -1],\n",
      "        ...,\n",
      "        [ 0,  1, -1,  ...,  1, -1, -1],\n",
      "        [-1,  1,  1,  ...,  1,  1, -1],\n",
      "        [ 1,  1,  0,  ...,  0, -1, -1]], device='cuda:0', dtype=torch.int32) \n",
      " tensor([[  -12,  1289,  1026,  ...,   220,  -580, -1261],\n",
      "        [  -12,  1289,  1026,  ...,   220,  -580, -1261],\n",
      "        [  -12,  1289,  1026,  ...,   220,  -580, -1261],\n",
      "        ...,\n",
      "        [  -12,  1289,  1026,  ...,   220,  -580, -1261],\n",
      "        [  -12,  1289,  1026,  ...,   220,  -580, -1261],\n",
      "        [  -12,  1289,  1026,  ...,   220,  -580, -1261]], device='cuda:0',\n",
      "       dtype=torch.int32)\n",
      "layers.TernBinLayer1.W \n",
      " Parameter containing:\n",
      "tensor([[-1,  1,  0,  ...,  1,  0,  1],\n",
      "        [ 1,  1,  0,  ...,  1,  1,  0],\n",
      "        [ 0,  1, -1,  ...,  1, -1,  0],\n",
      "        ...,\n",
      "        [ 1, -1, -1,  ...,  1,  1, -1],\n",
      "        [-1, -1,  1,  ...,  0, -1,  0],\n",
      "        [ 0, -1,  0,  ..., -1,  0,  0]], device='cuda:0', dtype=torch.int32) \n",
      " tensor([[ -278, -1058,   962,  ...,  -235, -1094,   483],\n",
      "        [  278,  1058,  -962,  ...,   235,  1094,  -483],\n",
      "        [  278,  1058,  -962,  ...,   235,  1094,  -483],\n",
      "        ...,\n",
      "        [  278,  1058,  -962,  ...,   235,  1094,  -483],\n",
      "        [ -278, -1058,   962,  ...,  -235, -1094,   483],\n",
      "        [ -278, -1058,   962,  ...,  -235, -1094,   483]], device='cuda:0',\n",
      "       dtype=torch.int32)\n",
      "layers.TernBinLayer2.W \n",
      " Parameter containing:\n",
      "tensor([[ 0,  0, -1,  ..., -1,  0, -1],\n",
      "        [ 1,  1,  0,  ...,  1,  1,  0],\n",
      "        [ 0,  1, -1,  ...,  1, -1, -1],\n",
      "        ...,\n",
      "        [ 0,  0,  0,  ...,  0,  1, -1],\n",
      "        [-1,  1, -1,  ..., -1,  0, -1],\n",
      "        [ 1, -1,  1,  ...,  1,  0,  1]], device='cuda:0', dtype=torch.int32) \n",
      " tensor([[ 402, -489, -491,  ..., -275,  -22, -383],\n",
      "        [ 402, -489, -491,  ..., -275,  -22, -383],\n",
      "        [-402,  489,  491,  ...,  275,   22,  383],\n",
      "        ...,\n",
      "        [ 402, -489, -491,  ..., -275,  -22, -383],\n",
      "        [ 402, -489, -491,  ..., -275,  -22, -383],\n",
      "        [-402,  489,  491,  ...,  275,   22,  383]], device='cuda:0',\n",
      "       dtype=torch.int32)\n",
      "layers.TernBinLayer3.W \n",
      " Parameter containing:\n",
      "tensor([[ 0, -1, -1,  ...,  1,  0,  1],\n",
      "        [ 0, -1, -1,  ..., -1,  0, -1],\n",
      "        [ 0, -1,  1,  ...,  0,  1,  1],\n",
      "        ...,\n",
      "        [ 1,  0,  0,  ...,  1,  0,  1],\n",
      "        [ 1, -1,  1,  ...,  1,  1,  1],\n",
      "        [-1,  0, -1,  ..., -1,  1, -1]], device='cuda:0', dtype=torch.int32) \n",
      " tensor([[   0,  840, -645,  ..., -515,    0,  697],\n",
      "        [   0,  840, -645,  ..., -515,    0,  697],\n",
      "        [   0,  840, -645,  ..., -515,    0,  697],\n",
      "        ...,\n",
      "        [   0,  840, -645,  ..., -515,    0,  697],\n",
      "        [   0, -840,  645,  ...,  515,    0, -697],\n",
      "        [   0, -840,  645,  ...,  515,    0, -697]], device='cuda:0',\n",
      "       dtype=torch.int32)\n",
      "layers.TernBinLayer4.W \n",
      " Parameter containing:\n",
      "tensor([[-1,  1, -1,  ...,  0,  0,  0],\n",
      "        [ 1,  1,  1,  ...,  1,  0, -1],\n",
      "        [-1,  0, -1,  ...,  1,  0, -1],\n",
      "        ...,\n",
      "        [-1, -1,  1,  ...,  1, -1,  1],\n",
      "        [-1,  1, -1,  ..., -1, -1,  1],\n",
      "        [ 1,  1,  1,  ...,  0, -1, -1]], device='cuda:0', dtype=torch.int32) \n",
      " tensor([[192,  28,   4,  ..., 229, 179, 213],\n",
      "        [192,  28,   4,  ..., 229, 179, 213],\n",
      "        [192,  28,   4,  ..., 229, 179, 213],\n",
      "        ...,\n",
      "        [192,  28,   4,  ..., 229, 179, 213],\n",
      "        [192,  28,   4,  ..., 229, 179, 213],\n",
      "        [192,  28,   4,  ..., 229, 179, 213]], device='cuda:0',\n",
      "       dtype=torch.int32)\n"
     ]
    }
   ],
   "source": [
    "for name, p in TBNN.named_parameters():\n",
    "    if name.lower().endswith('.w'):\n",
    "        print(name, '\\n', p, '\\n', p.grad)"
   ]
  },
  {
   "cell_type": "code",
   "execution_count": 358,
   "metadata": {},
   "outputs": [],
   "source": [
    "assert bnn.network.network_params_al_ternary(TBNN)"
   ]
  },
  {
   "cell_type": "code",
   "execution_count": null,
   "metadata": {},
   "outputs": [],
   "source": []
  },
  {
   "cell_type": "code",
   "execution_count": null,
   "metadata": {},
   "outputs": [],
   "source": []
  }
 ],
 "metadata": {
  "kernelspec": {
   "display_name": "Python 3 (ipykernel)",
   "language": "python",
   "name": "python3"
  },
  "language_info": {
   "codemirror_mode": {
    "name": "ipython",
    "version": 3
   },
   "file_extension": ".py",
   "mimetype": "text/x-python",
   "name": "python",
   "nbconvert_exporter": "python",
   "pygments_lexer": "ipython3",
   "version": "3.11.9"
  }
 },
 "nbformat": 4,
 "nbformat_minor": 4
}
