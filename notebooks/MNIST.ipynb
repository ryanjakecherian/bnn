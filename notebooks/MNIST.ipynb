{
 "cells": [
  {
   "cell_type": "code",
   "execution_count": 1,
   "metadata": {},
   "outputs": [],
   "source": [
    "%reload_ext autoreload\n",
    "%autoreload 2\n",
    "%matplotlib widget"
   ]
  },
  {
   "cell_type": "code",
   "execution_count": 2,
   "metadata": {},
   "outputs": [],
   "source": [
    "import matplotlib.pyplot as plt\n",
    "import numpy as np\n",
    "import torch\n",
    "import tqdm"
   ]
  },
  {
   "cell_type": "code",
   "execution_count": 3,
   "metadata": {},
   "outputs": [],
   "source": [
    "import bnn.data\n",
    "import bnn.functions\n",
    "import bnn.layer\n",
    "import bnn.loss\n",
    "import bnn.network\n",
    "import bnn.optimizer"
   ]
  },
  {
   "cell_type": "code",
   "execution_count": 16,
   "metadata": {},
   "outputs": [
    {
     "data": {
      "text/plain": [
       "torch.int64"
      ]
     },
     "execution_count": 16,
     "metadata": {},
     "output_type": "execute_result"
    }
   ],
   "source": [
    "torch.sign(torch.randint(-10, 10, (10,))).dtype"
   ]
  },
  {
   "cell_type": "code",
   "execution_count": 4,
   "metadata": {},
   "outputs": [],
   "source": [
    "root='./data'\n",
    "download=True\n",
    "batch_size=1\n",
    "shuffle=False\n",
    "include_last_if_uneven=True\n",
    "binarise_thesh=0.5\n",
    "\n",
    "train_MNIST_loader = bnn.data.MNISTDataLoader(\n",
    "    root=root,\n",
    "    download=download,\n",
    "    train=True,\n",
    "    batch_size=batch_size,\n",
    "    shuffle=shuffle,\n",
    "    include_last_if_uneven=include_last_if_uneven,\n",
    "    binarise_thesh=binarise_thesh,\n",
    ")\n",
    "test_MNIST_loader = bnn.data.MNISTDataLoader(\n",
    "    root=root,\n",
    "    download=download,\n",
    "    train=False,\n",
    "    batch_size=batch_size,\n",
    "    shuffle=shuffle,\n",
    "    include_last_if_uneven=include_last_if_uneven,\n",
    "    binarise_thesh=binarise_thesh,\n",
    ")"
   ]
  },
  {
   "cell_type": "code",
   "execution_count": 5,
   "metadata": {},
   "outputs": [
    {
     "name": "stderr",
     "output_type": "stream",
     "text": [
      " 23%|██▎       | 2326/10000 [00:00<00:00, 11835.22it/s]"
     ]
    },
    {
     "name": "stdout",
     "output_type": "stream",
     "text": [
      "0\n",
      "tensor(1, dtype=torch.int32)\n",
      "tensor(-1, dtype=torch.int32)\n",
      "tensor([[False, False, False, False, False, False, False,  True, False, False]])\n"
     ]
    },
    {
     "name": "stderr",
     "output_type": "stream",
     "text": [
      "100%|██████████| 10000/10000 [00:00<00:00, 12081.91it/s]\n"
     ]
    }
   ],
   "source": [
    "for batch_id, datum in enumerate(tqdm.tqdm(test_MNIST_loader)):\n",
    "    if batch_id == 0:\n",
    "        print(batch_id)\n",
    "        print(torch.max(datum.input))\n",
    "        print(torch.min(datum.input))\n",
    "        print(datum.target)"
   ]
  },
  {
   "cell_type": "code",
   "execution_count": 6,
   "metadata": {},
   "outputs": [
    {
     "data": {
      "text/plain": [
       "(10000, 60000)"
      ]
     },
     "execution_count": 6,
     "metadata": {},
     "output_type": "execute_result"
    }
   ],
   "source": [
    "len(test_MNIST_loader), len(train_MNIST_loader)"
   ]
  },
  {
   "cell_type": "code",
   "execution_count": 7,
   "metadata": {},
   "outputs": [],
   "source": [
    "forward_func = bnn.functions.forward.SignBinarise()\n",
    "#forward_func=bnn.functions.forward.LayerMeanBinarise()\n",
    "#forward_func=bnn.functions.forward.LayerMedianBinarise()"
   ]
  },
  {
   "cell_type": "code",
   "execution_count": 8,
   "metadata": {},
   "outputs": [],
   "source": [
    "#backward_func = bnn.functions.backward.SignTernarise()\n",
    "#backward_func = bnn.functions.backward.LayerMeanStdTernarise(half_range_stds=0.5)\n",
    "backward_func = bnn.functions.backward.LayerQuantileTernarise(lo=0.25, hi=0.75)"
   ]
  },
  {
   "cell_type": "code",
   "execution_count": 9,
   "metadata": {},
   "outputs": [],
   "source": [
    "INPUT_DIM = bnn.data.MNISTDataLoader.input_size\n",
    "OUTPUT_DIM = bnn.data.MNISTDataLoader.output_size"
   ]
  },
  {
   "cell_type": "code",
   "execution_count": 10,
   "metadata": {},
   "outputs": [],
   "source": [
    "dims = [INPUT_DIM, 128, 128, 64, OUTPUT_DIM]\n",
    "TBNN = bnn.network.TernBinNetwork(\n",
    "    dims,\n",
    "    forward_func=forward_func,\n",
    "    backward_func=backward_func,\n",
    ")\n",
    "TBNN._initialise(W_mean=0, W_zero_prob=0.5)"
   ]
  },
  {
   "cell_type": "code",
   "execution_count": 11,
   "metadata": {},
   "outputs": [],
   "source": [
    "loss_func: bnn.loss.LossFunction = bnn.loss.CrossEntropyLoss"
   ]
  },
  {
   "cell_type": "code",
   "execution_count": 12,
   "metadata": {},
   "outputs": [],
   "source": [
    "output = -torch.ones(3, 3).to(int)\n",
    "output[..., 0:2] = -1\n",
    "\n",
    "target = torch.zeros(3, 3).to(bool)\n",
    "target[..., 0] = True"
   ]
  },
  {
   "cell_type": "code",
   "execution_count": 337,
   "metadata": {},
   "outputs": [
    {
     "data": {
      "text/plain": [
       "(tensor([[-1, -1, -1],\n",
       "         [-1, -1, -1]]),\n",
       " tensor([[ True, False, False],\n",
       "         [ True, False, False]]))"
      ]
     },
     "execution_count": 337,
     "metadata": {},
     "output_type": "execute_result"
    }
   ],
   "source": [
    "output[:2], target[:2]"
   ]
  },
  {
   "cell_type": "code",
   "execution_count": 338,
   "metadata": {},
   "outputs": [
    {
     "data": {
      "text/plain": [
       "tensor(1.0986, dtype=torch.float64)"
      ]
     },
     "execution_count": 338,
     "metadata": {},
     "output_type": "execute_result"
    }
   ],
   "source": [
    "loss_func.forward(output, target)"
   ]
  },
  {
   "cell_type": "code",
   "execution_count": 339,
   "metadata": {},
   "outputs": [
    {
     "data": {
      "text/plain": [
       "tensor([[1, 0, 0],\n",
       "        [1, 0, 0],\n",
       "        [1, 0, 0]])"
      ]
     },
     "execution_count": 339,
     "metadata": {},
     "output_type": "execute_result"
    }
   ],
   "source": [
    "loss_func.backward(output, target)"
   ]
  },
  {
   "cell_type": "code",
   "execution_count": 340,
   "metadata": {},
   "outputs": [],
   "source": [
    "BernOpt = bnn.optimizer.ExpectationSGD(TBNN.parameters(), lr=0.0001)"
   ]
  },
  {
   "cell_type": "code",
   "execution_count": 341,
   "metadata": {},
   "outputs": [],
   "source": [
    "losses = []"
   ]
  },
  {
   "cell_type": "code",
   "execution_count": 342,
   "metadata": {},
   "outputs": [],
   "source": [
    "train_epochs = 50\n",
    "num_logs = train_epochs\n",
    "epoch_log_rate = train_epochs // num_logs"
   ]
  },
  {
   "cell_type": "code",
   "execution_count": 343,
   "metadata": {},
   "outputs": [
    {
     "name": "stderr",
     "output_type": "stream",
     "text": [
      " 56%|█████▌    | 28/50 [00:00<00:00, 150.60it/s]"
     ]
    },
    {
     "name": "stdout",
     "output_type": "stream",
     "text": [
      "epoch: 0\tloss: 3.878142210645671\tmean_prop_flipped: 7.963812095113099e-06\n",
      "epoch: 1\tloss: 3.878142210645671\tmean_prop_flipped: 1.5927624190226197e-05\n",
      "epoch: 2\tloss: 3.878142210645671\tmean_prop_flipped: 7.963812095113099e-06\n",
      "epoch: 3\tloss: 3.878142210645671\tmean_prop_flipped: 2.38914381043287e-05\n",
      "epoch: 4\tloss: 3.878142210645671\tmean_prop_flipped: 1.5927624190226197e-05\n",
      "epoch: 5\tloss: 3.878142210645671\tmean_prop_flipped: 7.963812095113099e-06\n",
      "epoch: 6\tloss: 3.878142210645671\tmean_prop_flipped: 1.5927624190226197e-05\n",
      "epoch: 7\tloss: 3.878142210645671\tmean_prop_flipped: 0.0\n",
      "epoch: 8\tloss: 3.878142210645671\tmean_prop_flipped: 3.1855248380452394e-05\n",
      "epoch: 9\tloss: 3.878142210645671\tmean_prop_flipped: 7.963812095113099e-06\n",
      "epoch: 10\tloss: 3.878142210645671\tmean_prop_flipped: 7.963812095113099e-06\n",
      "epoch: 11\tloss: 3.878142210645671\tmean_prop_flipped: 7.963812095113099e-06\n",
      "epoch: 12\tloss: 3.878142210645671\tmean_prop_flipped: 1.5927624190226197e-05\n",
      "epoch: 13\tloss: 3.878142210645671\tmean_prop_flipped: 0.0\n",
      "epoch: 14\tloss: 3.878142210645671\tmean_prop_flipped: 7.963812095113099e-06\n",
      "epoch: 15\tloss: 3.878142210645671\tmean_prop_flipped: 7.963812095113099e-06\n",
      "epoch: 16\tloss: 3.878142210645671\tmean_prop_flipped: 0.0\n",
      "epoch: 17\tloss: 3.878142210645671\tmean_prop_flipped: 7.963812095113099e-06\n",
      "epoch: 18\tloss: 3.878142210645671\tmean_prop_flipped: 7.963812095113099e-06\n",
      "epoch: 19\tloss: 3.7363659234770727\tmean_prop_flipped: 7.963812095113099e-06\n",
      "epoch: 20\tloss: 3.7363659234770727\tmean_prop_flipped: 7.963812095113099e-06\n",
      "epoch: 21\tloss: 3.7363659234770727\tmean_prop_flipped: 3.981906047556549e-05\n",
      "epoch: 22\tloss: 3.7363659234770727\tmean_prop_flipped: 1.5927624190226197e-05\n",
      "epoch: 23\tloss: 3.7363659234770727\tmean_prop_flipped: 2.38914381043287e-05\n",
      "epoch: 24\tloss: 3.7363659234770727\tmean_prop_flipped: 0.0\n",
      "epoch: 25\tloss: 3.7363659234770727\tmean_prop_flipped: 2.38914381043287e-05\n",
      "epoch: 26\tloss: 3.7363659234770727\tmean_prop_flipped: 0.0\n",
      "epoch: 27\tloss: 3.7363659234770727\tmean_prop_flipped: 7.963812095113099e-06\n",
      "epoch: 28\tloss: 3.7363659234770727\tmean_prop_flipped: 7.963812095113099e-06\n",
      "epoch: 29\tloss: 1.8781422106456713\tmean_prop_flipped: 7.963812095113099e-06\n",
      "epoch: 30\tloss: 1.8781422106456713\tmean_prop_flipped: 7.963812095113099e-06\n",
      "epoch: 31\tloss: 1.8781422106456713\tmean_prop_flipped: 1.5927624190226197e-05\n",
      "epoch: 32\tloss: 3.7363659234770727\tmean_prop_flipped: 7.963812095113099e-06\n",
      "epoch: 33\tloss: 3.7363659234770727\tmean_prop_flipped: 7.963812095113099e-06\n",
      "epoch: 34\tloss: 3.7363659234770727\tmean_prop_flipped: 7.963812095113099e-06\n",
      "epoch: 35\tloss: 3.7363659234770727\tmean_prop_flipped: 7.963812095113099e-06\n",
      "epoch: 36\tloss: 3.7363659234770727\tmean_prop_flipped: 1.5927624190226197e-05\n"
     ]
    },
    {
     "name": "stderr",
     "output_type": "stream",
     "text": [
      "100%|██████████| 50/50 [00:00<00:00, 160.04it/s]"
     ]
    },
    {
     "name": "stdout",
     "output_type": "stream",
     "text": [
      "epoch: 37\tloss: 3.7363659234770727\tmean_prop_flipped: 0.0\n",
      "epoch: 38\tloss: 3.7363659234770727\tmean_prop_flipped: 7.963812095113099e-06\n",
      "epoch: 39\tloss: 3.7363659234770727\tmean_prop_flipped: 1.5927624190226197e-05\n",
      "epoch: 40\tloss: 3.7363659234770727\tmean_prop_flipped: 7.963812095113099e-06\n",
      "epoch: 41\tloss: 3.7363659234770727\tmean_prop_flipped: 0.0\n",
      "epoch: 42\tloss: 3.7363659234770727\tmean_prop_flipped: 1.5927624190226197e-05\n",
      "epoch: 43\tloss: 3.7363659234770727\tmean_prop_flipped: 7.963812095113099e-06\n",
      "epoch: 44\tloss: 1.736365923477073\tmean_prop_flipped: 2.38914381043287e-05\n",
      "epoch: 45\tloss: 1.736365923477073\tmean_prop_flipped: 1.5927624190226197e-05\n",
      "epoch: 46\tloss: 1.736365923477073\tmean_prop_flipped: 7.963812095113099e-06\n",
      "epoch: 47\tloss: 1.736365923477073\tmean_prop_flipped: 0.0\n",
      "epoch: 48\tloss: 1.736365923477073\tmean_prop_flipped: 1.5927624190226197e-05\n",
      "epoch: 49\tloss: 1.736365923477073\tmean_prop_flipped: 2.38914381043287e-05\n"
     ]
    },
    {
     "name": "stderr",
     "output_type": "stream",
     "text": [
      "\n"
     ]
    }
   ],
   "source": [
    "zero_loss_count = 0\n",
    "zero_loss_count_for_early_stop = 10\n",
    "for epoch in tqdm.trange(train_epochs):\n",
    "    epoch_loss = 0\n",
    "    prop_flipped = 0\n",
    "    for batch_id, batch in enumerate(train_MNIST_loader):\n",
    "        # forward pass and loss\n",
    "        output = TBNN.forward(batch.input)\n",
    "        loss = loss_func.forward(output=output, target=batch.target)\n",
    "\n",
    "        # backward pass\n",
    "        grad = loss_func.backward(output=output, target=batch.target)\n",
    "        out_grad = TBNN.backward(grad)\n",
    "\n",
    "        # optimizer step\n",
    "        prop_flipped += BernOpt.step()\n",
    "\n",
    "        # sum loss\n",
    "        epoch_loss += loss\n",
    "\n",
    "        break\n",
    "\n",
    "    # save loss\n",
    "    losses.append(epoch_loss)\n",
    "\n",
    "    if epoch_loss == 0:\n",
    "        zero_loss_count += 1\n",
    "    else:\n",
    "        zero_loss_count = 0\n",
    "\n",
    "    early_exit = zero_loss_count >= zero_loss_count_for_early_stop\n",
    "\n",
    "    if early_exit or (epoch % epoch_log_rate) == 0:\n",
    "        mean_prop_flipped = prop_flipped / (1 + batch_id)\n",
    "        print(f'epoch: {epoch}\\tloss: {loss}\\tmean_prop_flipped: {mean_prop_flipped}')\n",
    "\n",
    "    if early_exit:\n",
    "        break"
   ]
  },
  {
   "cell_type": "code",
   "execution_count": 344,
   "metadata": {},
   "outputs": [],
   "source": [
    "import bnn.metrics\n",
    "\n",
    "ds: list[bnn.random.DISCRETE_DIST | None] = []\n",
    "for n, p in TBNN.named_parameters():\n",
    "    if \"W\" in n:\n",
    "        d = bnn.metrics.distribution(p)\n",
    "        ds.append(d)"
   ]
  },
  {
   "cell_type": "code",
   "execution_count": 345,
   "metadata": {},
   "outputs": [
    {
     "data": {
      "application/vnd.jupyter.widget-view+json": {
       "model_id": "88c0de4ff86f4ecc9f0b53bec2d2315a",
       "version_major": 2,
       "version_minor": 0
      },
      "image/png": "[encoded data removed]",
      "text/html": [
       "\n",
       "            <div style=\"display: inline-block;\">\n",
       "                <div class=\"jupyter-widgets widget-label\" style=\"text-align: center;\">\n",
       "                    dist\n",
       "                </div>\n",
       "                <img src='data:image/png;base64,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' width=640.0/>\n",
       "            </div>\n",
       "        "
      ],
      "text/plain": [
       "Canvas(toolbar=Toolbar(toolitems=[('Home', 'Reset original view', 'home', 'home'), ('Back', 'Back to previous …"
      ]
     },
     "metadata": {},
     "output_type": "display_data"
    }
   ],
   "source": [
    "FIG_NAME = \"dist\"\n",
    "plt.close(FIG_NAME)\n",
    "\n",
    "num_plots = len(ds)\n",
    "ceil_sqrt_num_plots = np.ceil(np.sqrt(num_plots)).astype(int)\n",
    "\n",
    "fig, axs = plt.subplots(ceil_sqrt_num_plots, ceil_sqrt_num_plots, num=FIG_NAME)\n",
    "axs = np.array(axs).flatten()\n",
    "\n",
    "min_x, max_x = -1, 1\n",
    "width=0.1\n",
    "for i, (ax, d) in enumerate(zip(axs, ds + [None]*len(axs))):\n",
    "    if d is None:\n",
    "        ax.plot(np.linspace(min_x, max_x), np.linspace(0, 1), '-', color=\"red\")\n",
    "        ax.plot(np.linspace(max_x, min_x), np.linspace(0, 1), '-', color=\"red\")\n",
    "        ax.axis(\"off\")\n",
    "\n",
    "    else:\n",
    "        ax.set_title(i)\n",
    "        vals = [pair.value for pair in d]\n",
    "        probs = [pair.probability for pair in d]\n",
    "\n",
    "        if len(vals) > 3:\n",
    "            ax.plot(vals, probs, 'o-')\n",
    "        else:\n",
    "            ax.bar(vals, probs, width=width)\n",
    "\n",
    "        min_x = min(min_x, min(vals))\n",
    "        max_x = max(max_x, max(vals))\n",
    "\n",
    "for ax in axs:\n",
    "    ax.set_xlim(min_x-width, max_x+width)\n",
    "    ax.grid()\n",
    "\n",
    "fig.tight_layout(pad=0.1)\n",
    "plt.show()"
   ]
  },
  {
   "cell_type": "code",
   "execution_count": 346,
   "metadata": {},
   "outputs": [
    {
     "data": {
      "application/vnd.jupyter.widget-view+json": {
       "model_id": "b306b9a61925433b889560138318bdf8",
       "version_major": 2,
       "version_minor": 0
      },
      "image/png": "[encoded data removed]",
      "text/html": [
       "\n",
       "            <div style=\"display: inline-block;\">\n",
       "                <div class=\"jupyter-widgets widget-label\" style=\"text-align: center;\">\n",
       "                    loss_curve_partial\n",
       "                </div>\n",
       "                <img src='data:image/png;base64,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' width=640.0/>\n",
       "            </div>\n",
       "        "
      ],
      "text/plain": [
       "Canvas(toolbar=Toolbar(toolitems=[('Home', 'Reset original view', 'home', 'home'), ('Back', 'Back to previous …"
      ]
     },
     "metadata": {},
     "output_type": "display_data"
    }
   ],
   "source": [
    "NAME = 'loss_curve_partial'\n",
    "plt.close(NAME)\n",
    "plt.figure(NAME)\n",
    "\n",
    "plt.plot(losses[:train_epochs])\n",
    "plt.xlabel('epoch')\n",
    "plt.ylabel('loss')\n",
    "plt.grid()\n",
    "\n",
    "plt.show()"
   ]
  },
  {
   "cell_type": "code",
   "execution_count": 347,
   "metadata": {},
   "outputs": [
    {
     "name": "stdout",
     "output_type": "stream",
     "text": [
      "layers.TernBinLayer0.W \n",
      " Parameter containing:\n",
      "tensor([[ 0,  1,  0,  ...,  1, -1,  0],\n",
      "        [ 0,  1, -1,  ...,  0,  1,  0],\n",
      "        [-1,  1,  0,  ...,  0, -1, -1],\n",
      "        ...,\n",
      "        [ 0, -1,  0,  ...,  0,  0,  0],\n",
      "        [ 0,  0,  1,  ...,  0,  0,  1],\n",
      "        [ 0, -1, -1,  ...,  1,  1,  0]], dtype=torch.int32) \n",
      " tensor([[ 0,  0,  0,  ..., -1, -1,  0],\n",
      "        [ 0,  0,  0,  ..., -1, -1,  0],\n",
      "        [ 0,  0,  0,  ..., -1, -1,  0],\n",
      "        ...,\n",
      "        [ 0,  0,  0,  ..., -1, -1,  0],\n",
      "        [ 0,  0,  0,  ..., -1, -1,  0],\n",
      "        [ 0,  0,  0,  ..., -1, -1,  0]], dtype=torch.int32)\n",
      "layers.TernBinLayer1.W \n",
      " Parameter containing:\n",
      "tensor([[ 0,  0,  0,  ...,  0,  0,  0],\n",
      "        [ 0, -1,  0,  ...,  0,  0,  0],\n",
      "        [-1, -1,  0,  ...,  0,  1,  1],\n",
      "        ...,\n",
      "        [ 0,  0,  0,  ..., -1,  0,  1],\n",
      "        [ 1,  1,  1,  ...,  0,  0,  1],\n",
      "        [ 0,  1,  0,  ...,  1,  0,  0]], dtype=torch.int32) \n",
      " tensor([[ 0,  0,  0,  ...,  0, -1,  0],\n",
      "        [ 0,  0,  0,  ...,  0, -1,  0],\n",
      "        [ 0,  0,  0,  ...,  0,  1,  0],\n",
      "        ...,\n",
      "        [ 0,  0,  0,  ...,  0, -1,  0],\n",
      "        [ 0,  0,  0,  ...,  0, -1,  0],\n",
      "        [ 0,  0,  0,  ...,  0,  1,  0]], dtype=torch.int32)\n",
      "layers.TernBinLayer2.W \n",
      " Parameter containing:\n",
      "tensor([[ 1,  1, -1,  ..., -1, -1, -1],\n",
      "        [ 0, -1, -1,  ...,  0,  1,  0],\n",
      "        [ 0,  1,  0,  ...,  0,  0,  0],\n",
      "        ...,\n",
      "        [ 1,  0,  1,  ...,  1,  0,  0],\n",
      "        [ 0,  1,  1,  ..., -1, -1,  0],\n",
      "        [ 0,  0,  1,  ...,  0,  0,  1]], dtype=torch.int32) \n",
      " tensor([[ 0,  0,  0,  ...,  1,  0,  0],\n",
      "        [ 0,  0,  0,  ..., -1,  0,  0],\n",
      "        [ 0,  0,  0,  ...,  1,  0,  0],\n",
      "        ...,\n",
      "        [ 0,  0,  0,  ..., -1,  0,  0],\n",
      "        [ 0,  0,  0,  ...,  1,  0,  0],\n",
      "        [ 0,  0,  0,  ...,  1,  0,  0]], dtype=torch.int32)\n",
      "layers.TernBinLayer3.W \n",
      " Parameter containing:\n",
      "tensor([[ 0,  1, -1,  0,  0, -1, -1, -1,  0,  1],\n",
      "        [-1, -1,  0, -1,  0,  0,  1, -1,  1,  0],\n",
      "        [-1, -1, -1, -1,  1,  0,  1,  1,  0,  1],\n",
      "        [ 1,  0, -1, -1,  1,  0,  0,  1,  1,  0],\n",
      "        [ 1,  0,  0,  0,  0,  0, -1,  1,  0,  0],\n",
      "        [ 0,  0, -1,  0,  0,  1,  1,  0,  0,  0],\n",
      "        [ 0, -1,  1,  1,  0,  0,  0,  0,  1,  0],\n",
      "        [-1, -1, -1,  0,  0, -1,  0,  0,  0, -1],\n",
      "        [ 0,  0,  0, -1,  1, -1,  0,  0,  1,  1],\n",
      "        [-1, -1,  0,  0,  0,  1,  1,  1,  1,  0],\n",
      "        [-1,  0, -1,  0,  0,  1,  1,  0, -1,  1],\n",
      "        [ 1, -1,  0,  0, -1,  0,  0, -1,  0,  0],\n",
      "        [ 1, -1,  1, -1, -1,  0, -1,  0,  0,  1],\n",
      "        [ 1,  0,  0,  0,  1,  0,  0,  1,  0,  1],\n",
      "        [ 1,  0,  0, -1,  1, -1,  0,  1, -1,  0],\n",
      "        [ 0,  0,  0, -1, -1, -1,  0,  1,  0, -1],\n",
      "        [ 0, -1, -1, -1, -1,  0,  0,  1,  1, -1],\n",
      "        [ 0,  0, -1,  0,  1, -1,  0,  0,  1, -1],\n",
      "        [-1, -1,  0,  0,  0,  0,  0,  0,  0,  1],\n",
      "        [ 0,  1,  0,  0,  0,  1,  0, -1,  0,  0],\n",
      "        [ 0, -1,  0,  1, -1,  0,  0,  1,  0,  0],\n",
      "        [-1,  1,  1, -1,  0,  0, -1,  1, -1,  0],\n",
      "        [-1,  0,  1, -1,  0,  0,  1, -1,  0,  1],\n",
      "        [-1,  1,  0, -1, -1,  0,  0, -1,  1,  1],\n",
      "        [ 0,  0,  1, -1,  0,  0,  0,  0,  1,  1],\n",
      "        [ 1,  1,  0,  0,  1, -1,  0,  0,  0,  0],\n",
      "        [ 1,  0,  0,  0,  0,  1,  0,  1,  1,  1],\n",
      "        [ 0,  0, -1,  0,  1,  0,  0,  0,  0,  0],\n",
      "        [ 1,  0,  1,  0, -1,  0, -1, -1,  0,  1],\n",
      "        [-1,  1,  0, -1,  0, -1, -1,  0, -1,  0],\n",
      "        [ 1,  0,  1,  1,  1,  0, -1,  0,  1,  0],\n",
      "        [ 1,  0, -1,  0,  1,  0,  0,  0,  0, -1],\n",
      "        [ 0,  0,  0,  1,  1,  0,  1, -1,  0,  0],\n",
      "        [ 0,  1, -1,  1,  0,  0,  1,  1,  0,  0],\n",
      "        [ 0,  1,  0,  0,  0, -1,  0, -1,  1, -1],\n",
      "        [ 0,  0,  0,  0,  0,  0, -1,  0, -1, -1],\n",
      "        [ 0,  0, -1,  0,  1,  0,  0, -1,  0,  0],\n",
      "        [-1,  1, -1,  0,  1,  0,  0,  1, -1, -1],\n",
      "        [ 1,  1, -1, -1, -1,  1,  0, -1, -1,  0],\n",
      "        [ 0, -1,  0,  0,  1, -1,  1,  0,  0,  0],\n",
      "        [ 0,  0,  0,  0,  0, -1,  0,  0,  0,  0],\n",
      "        [ 1, -1, -1,  0,  1,  0,  0,  0,  0,  1],\n",
      "        [ 1,  0,  1,  0, -1,  1,  0,  1,  1, -1],\n",
      "        [ 0,  0,  0,  0,  0, -1,  1,  0, -1, -1],\n",
      "        [ 1, -1,  1,  0, -1,  0,  0, -1,  0,  1],\n",
      "        [ 0, -1,  0, -1, -1,  0, -1,  1,  0, -1],\n",
      "        [ 0,  1,  1,  0,  1,  0,  0,  0,  0,  1],\n",
      "        [ 0,  1,  1, -1,  0,  0, -1,  0,  0,  0],\n",
      "        [ 0, -1,  0,  1,  1, -1,  1, -1,  1,  0],\n",
      "        [ 1,  0,  0,  1,  1, -1,  1,  0,  0, -1],\n",
      "        [ 0, -1,  1, -1,  0,  0,  0,  1,  0, -1],\n",
      "        [ 0,  0,  0,  1,  0, -1,  1,  0,  1,  1],\n",
      "        [ 1,  1,  1,  0, -1,  0, -1,  0,  1, -1],\n",
      "        [-1,  0,  0,  0,  1,  1,  0,  0, -1,  0],\n",
      "        [ 0,  0,  0,  0,  0,  1,  0,  0,  0, -1],\n",
      "        [ 0,  0, -1,  1,  0,  1,  1,  1, -1, -1],\n",
      "        [-1,  1,  0,  1,  0,  1,  0,  0,  1, -1],\n",
      "        [ 0,  1, -1,  0,  0, -1, -1,  0,  1,  0],\n",
      "        [ 0, -1,  0,  1,  0,  0, -1, -1, -1, -1],\n",
      "        [-1,  1,  0,  1,  0, -1,  0, -1,  0,  1],\n",
      "        [ 0,  1,  1,  0, -1,  0,  1,  1, -1, -1],\n",
      "        [ 1,  1,  1,  0,  0,  1,  0, -1,  1,  1],\n",
      "        [ 1,  0,  0, -1,  1,  1, -1,  0, -1,  0],\n",
      "        [ 0,  1,  0,  1,  0,  0, -1,  0, -1,  0]], dtype=torch.int32) \n",
      " tensor([[-1, -1,  0,  0, -1,  0, -1,  0,  0,  0],\n",
      "        [-1, -1,  0,  0, -1,  0, -1,  0,  0,  0],\n",
      "        [ 1,  1,  0,  0,  1,  0,  1,  0,  0,  0],\n",
      "        [-1, -1,  0,  0, -1,  0, -1,  0,  0,  0],\n",
      "        [ 1,  1,  0,  0,  1,  0,  1,  0,  0,  0],\n",
      "        [-1, -1,  0,  0, -1,  0, -1,  0,  0,  0],\n",
      "        [ 1,  1,  0,  0,  1,  0,  1,  0,  0,  0],\n",
      "        [ 1,  1,  0,  0,  1,  0,  1,  0,  0,  0],\n",
      "        [ 1,  1,  0,  0,  1,  0,  1,  0,  0,  0],\n",
      "        [ 1,  1,  0,  0,  1,  0,  1,  0,  0,  0],\n",
      "        [-1, -1,  0,  0, -1,  0, -1,  0,  0,  0],\n",
      "        [ 1,  1,  0,  0,  1,  0,  1,  0,  0,  0],\n",
      "        [ 1,  1,  0,  0,  1,  0,  1,  0,  0,  0],\n",
      "        [ 1,  1,  0,  0,  1,  0,  1,  0,  0,  0],\n",
      "        [-1, -1,  0,  0, -1,  0, -1,  0,  0,  0],\n",
      "        [ 1,  1,  0,  0,  1,  0,  1,  0,  0,  0],\n",
      "        [ 1,  1,  0,  0,  1,  0,  1,  0,  0,  0],\n",
      "        [ 1,  1,  0,  0,  1,  0,  1,  0,  0,  0],\n",
      "        [ 1,  1,  0,  0,  1,  0,  1,  0,  0,  0],\n",
      "        [-1, -1,  0,  0, -1,  0, -1,  0,  0,  0],\n",
      "        [ 1,  1,  0,  0,  1,  0,  1,  0,  0,  0],\n",
      "        [ 1,  1,  0,  0,  1,  0,  1,  0,  0,  0],\n",
      "        [-1, -1,  0,  0, -1,  0, -1,  0,  0,  0],\n",
      "        [ 1,  1,  0,  0,  1,  0,  1,  0,  0,  0],\n",
      "        [-1, -1,  0,  0, -1,  0, -1,  0,  0,  0],\n",
      "        [-1, -1,  0,  0, -1,  0, -1,  0,  0,  0],\n",
      "        [ 1,  1,  0,  0,  1,  0,  1,  0,  0,  0],\n",
      "        [ 1,  1,  0,  0,  1,  0,  1,  0,  0,  0],\n",
      "        [ 1,  1,  0,  0,  1,  0,  1,  0,  0,  0],\n",
      "        [ 1,  1,  0,  0,  1,  0,  1,  0,  0,  0],\n",
      "        [ 1,  1,  0,  0,  1,  0,  1,  0,  0,  0],\n",
      "        [-1, -1,  0,  0, -1,  0, -1,  0,  0,  0],\n",
      "        [ 1,  1,  0,  0,  1,  0,  1,  0,  0,  0],\n",
      "        [-1, -1,  0,  0, -1,  0, -1,  0,  0,  0],\n",
      "        [-1, -1,  0,  0, -1,  0, -1,  0,  0,  0],\n",
      "        [-1, -1,  0,  0, -1,  0, -1,  0,  0,  0],\n",
      "        [-1, -1,  0,  0, -1,  0, -1,  0,  0,  0],\n",
      "        [-1, -1,  0,  0, -1,  0, -1,  0,  0,  0],\n",
      "        [ 1,  1,  0,  0,  1,  0,  1,  0,  0,  0],\n",
      "        [ 1,  1,  0,  0,  1,  0,  1,  0,  0,  0],\n",
      "        [-1, -1,  0,  0, -1,  0, -1,  0,  0,  0],\n",
      "        [-1, -1,  0,  0, -1,  0, -1,  0,  0,  0],\n",
      "        [ 1,  1,  0,  0,  1,  0,  1,  0,  0,  0],\n",
      "        [ 1,  1,  0,  0,  1,  0,  1,  0,  0,  0],\n",
      "        [ 1,  1,  0,  0,  1,  0,  1,  0,  0,  0],\n",
      "        [ 1,  1,  0,  0,  1,  0,  1,  0,  0,  0],\n",
      "        [-1, -1,  0,  0, -1,  0, -1,  0,  0,  0],\n",
      "        [ 1,  1,  0,  0,  1,  0,  1,  0,  0,  0],\n",
      "        [ 1,  1,  0,  0,  1,  0,  1,  0,  0,  0],\n",
      "        [-1, -1,  0,  0, -1,  0, -1,  0,  0,  0],\n",
      "        [-1, -1,  0,  0, -1,  0, -1,  0,  0,  0],\n",
      "        [ 1,  1,  0,  0,  1,  0,  1,  0,  0,  0],\n",
      "        [ 1,  1,  0,  0,  1,  0,  1,  0,  0,  0],\n",
      "        [ 1,  1,  0,  0,  1,  0,  1,  0,  0,  0],\n",
      "        [-1, -1,  0,  0, -1,  0, -1,  0,  0,  0],\n",
      "        [ 1,  1,  0,  0,  1,  0,  1,  0,  0,  0],\n",
      "        [ 1,  1,  0,  0,  1,  0,  1,  0,  0,  0],\n",
      "        [-1, -1,  0,  0, -1,  0, -1,  0,  0,  0],\n",
      "        [-1, -1,  0,  0, -1,  0, -1,  0,  0,  0],\n",
      "        [ 1,  1,  0,  0,  1,  0,  1,  0,  0,  0],\n",
      "        [ 1,  1,  0,  0,  1,  0,  1,  0,  0,  0],\n",
      "        [-1, -1,  0,  0, -1,  0, -1,  0,  0,  0],\n",
      "        [-1, -1,  0,  0, -1,  0, -1,  0,  0,  0],\n",
      "        [ 1,  1,  0,  0,  1,  0,  1,  0,  0,  0]], dtype=torch.int32)\n"
     ]
    }
   ],
   "source": [
    "for name, p in TBNN.named_parameters():\n",
    "    if name.lower().endswith('.w'):\n",
    "        print(name, '\\n', p, '\\n', p.grad)"
   ]
  },
  {
   "cell_type": "code",
   "execution_count": 348,
   "metadata": {},
   "outputs": [],
   "source": [
    "assert bnn.network.network_params_al_ternary(TBNN)"
   ]
  },
  {
   "cell_type": "code",
   "execution_count": null,
   "metadata": {},
   "outputs": [],
   "source": []
  },
  {
   "cell_type": "code",
   "execution_count": null,
   "metadata": {},
   "outputs": [],
   "source": []
  }
 ],
 "metadata": {
  "kernelspec": {
   "display_name": "Python 3 (ipykernel)",
   "language": "python",
   "name": "python3"
  },
  "language_info": {
   "codemirror_mode": {
    "name": "ipython",
    "version": 3
   },
   "file_extension": ".py",
   "mimetype": "text/x-python",
   "name": "python",
   "nbconvert_exporter": "python",
   "pygments_lexer": "ipython3",
   "version": "3.11.9"
  }
 },
 "nbformat": 4,
 "nbformat_minor": 4
}
