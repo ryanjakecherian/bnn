{
 "cells": [
  {
   "cell_type": "code",
   "execution_count": 17,
   "metadata": {},
   "outputs": [],
   "source": [
    "import dataclasses\n",
    "\n",
    "import numpy as np"
   ]
  },
  {
   "cell_type": "code",
   "execution_count": 29,
   "metadata": {},
   "outputs": [],
   "source": [
    "def mean_std(vals: list[float])-> str:\n",
    "    return f\"{np.mean(vals):.3f} +- {np.std(vals):.3f}\""
   ]
  },
  {
   "cell_type": "code",
   "execution_count": 30,
   "metadata": {},
   "outputs": [],
   "source": [
    "@dataclasses.dataclass\n",
    "class Result:\n",
    "    hidden_dims: list[int]\n",
    "    mnist_test_accs: list[float]\n",
    "    mnist_train_accs: list[float]\n",
    "    fashion_test_accs: list[float]\n",
    "    fashion_train_accs: list[float]\n",
    "\n",
    "    def __repr__(self):\n",
    "        str = f\"hidden dims: {self.hidden_dims}\\n\"\n",
    "        str += f\"mnist train: {mean_std(self.mnist_train_accs)}\\n\"\n",
    "        str += f\"mnist test: {mean_std(self.mnist_test_accs)}\\n\"\n",
    "        str += f\"fashion train: {mean_std(self.fashion_test_accs)}\\n\"\n",
    "        str += f\"fashion test: {mean_std(self.fashion_train_accs)}\\n\"\n",
    "\n",
    "        return str\n"
   ]
  },
  {
   "cell_type": "code",
   "execution_count": 31,
   "metadata": {},
   "outputs": [
    {
     "data": {
      "text/plain": [
       "hidden dims: []\n",
       "mnist train: 0.799 +- 0.002\n",
       "mnist test: 0.798 +- 0.005\n",
       "fashion train: 0.674 +- 0.001\n",
       "fashion test: 0.681 +- 0.002"
      ]
     },
     "execution_count": 31,
     "metadata": {},
     "output_type": "execute_result"
    }
   ],
   "source": [
    "Result(\n",
    "    hidden_dims=[],\n",
    "    mnist_test_accs=[0.805, 0.7962, 0.7936],\n",
    "    mnist_train_accs=[0.8014, 0.798, 0.7979],\n",
    "    fashion_test_accs=[0.675, 0.6733, 0.6731],\n",
    "    fashion_train_accs=[0.6827, 0.6814, 0.6788],\n",
    ")"
   ]
  },
  {
   "cell_type": "code",
   "execution_count": null,
   "metadata": {},
   "outputs": [],
   "source": []
  }
 ],
 "metadata": {
  "kernelspec": {
   "display_name": "bnn",
   "language": "python",
   "name": "python3"
  },
  "language_info": {
   "codemirror_mode": {
    "name": "ipython",
    "version": 3
   },
   "file_extension": ".py",
   "mimetype": "text/x-python",
   "name": "python",
   "nbconvert_exporter": "python",
   "pygments_lexer": "ipython3",
   "version": "3.11.9"
  }
 },
 "nbformat": 4,
 "nbformat_minor": 2
}
