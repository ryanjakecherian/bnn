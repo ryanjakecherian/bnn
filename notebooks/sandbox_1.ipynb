{
 "cells": [
  {
   "cell_type": "markdown",
   "metadata": {},
   "source": [
    "Binary Network"
   ]
  },
  {
   "cell_type": "code",
   "execution_count": 5,
   "metadata": {},
   "outputs": [],
   "source": [
    "import random"
   ]
  },
  {
   "cell_type": "code",
   "execution_count": 6,
   "metadata": {},
   "outputs": [],
   "source": [
    "class Node:\n",
    "    input_dim: int\n",
    "    w: list[bool]\n",
    "    b: int\n",
    "\n",
    "    def __init__(self, input_dim: int, w: list[bool] | None = None, b: int | None = None):\n",
    "        self.input_dim = input_dim\n",
    "\n",
    "        if w is not None:\n",
    "            self.w = w\n",
    "        else:\n",
    "            self._initialise_w()\n",
    "\n",
    "        if b is not None:\n",
    "            self.b = b\n",
    "        else:\n",
    "            self._initialise_b()\n",
    "\n",
    "        self._check_w()\n",
    "        self._check_b()\n",
    "\n",
    "    def _initialise_w(self):\n",
    "        self.w = [bool(random.getrandbits(1)) for _ in range(self.input_dim)]\n",
    "\n",
    "    def _initialise_b(self):\n",
    "        self.b = random.randint(0, self.input_dim)\n",
    "\n",
    "    def _check_w(self):\n",
    "        assert len(self.w) == self.input_dim\n",
    "\n",
    "        for w_ in self.w:\n",
    "            assert isinstance(w_, bool)\n",
    "\n",
    "    def _check_b(self):\n",
    "        assert isinstance(self.b, int)\n",
    "\n",
    "        assert self.input_dim >= self.b >= 0\n",
    "\n",
    "    def forward(self, x: list[bool]) -> bool:\n",
    "        # inner product\n",
    "        y_ = 0\n",
    "        for w_, x_ in zip(self.w, x):\n",
    "            y_ += w_ * x_\n",
    "        # threshold\n",
    "        y = y_ >= self.b\n",
    "        return y"
   ]
  },
  {
   "cell_type": "code",
   "execution_count": 7,
   "metadata": {},
   "outputs": [],
   "source": [
    "class Layer:\n",
    "    input_dim: int\n",
    "    output_dim: int\n",
    "    nodes: list[Node]\n",
    "\n",
    "    def __init__(self, input_dim: int, output_dim: int, nodes: list[Node] | None = None):\n",
    "        self.input_dim = input_dim\n",
    "        self.output_dim = output_dim\n",
    "\n",
    "        if nodes is not None:\n",
    "            self.nodes = nodes\n",
    "        else:\n",
    "            self._initialise_nodes()\n",
    "\n",
    "        self._check_nodes()\n",
    "\n",
    "    def _initialise_nodes(self):\n",
    "        self.nodes = [Node(input_dim=self.input_dim) for _ in range(self.output_dim)]\n",
    "\n",
    "    def _check_nodes(self):\n",
    "        for node in self.nodes:\n",
    "            assert node.input_dim == self.input_dim\n",
    "        assert len(self.nodes) == self.output_dim\n",
    "\n",
    "    def forward(self, x: list[bool]) -> list[bool]:\n",
    "        return [node.forward(x) for node in self.nodes]"
   ]
  },
  {
   "cell_type": "code",
   "execution_count": 8,
   "metadata": {},
   "outputs": [],
   "source": [
    "class Network:\n",
    "    input_dim: int\n",
    "    output_dim: int\n",
    "    layers: list[Layer]\n",
    "\n",
    "    def __init__(self, layers: list[Layer]):\n",
    "        self.layers = layers\n",
    "\n",
    "        self._check_layers()\n",
    "\n",
    "        self.input_dim = self.layers[0].input_dim\n",
    "        self.output_dim = self.layers[-1].output_dim\n",
    "\n",
    "    def _check_layers(self):\n",
    "        for input_layer, output_layer in zip(self.layers[:-1], self.layers[1:]):\n",
    "            assert input_layer.output_dim == output_layer.input_dim\n",
    "\n",
    "    def forward(self, x: list[bool]) -> list[bool]:\n",
    "        for layer in self.layers:\n",
    "            x = layer.forward(x)\n",
    "\n",
    "        return x\n",
    "\n",
    "    def __call__(self, x: list[bool]) -> list[bool]:\n",
    "        return self.forward(x)"
   ]
  },
  {
   "cell_type": "markdown",
   "metadata": {},
   "source": [
    "Toy Network"
   ]
  },
  {
   "cell_type": "code",
   "execution_count": 9,
   "metadata": {},
   "outputs": [],
   "source": [
    "layer_1 = Layer(input_dim=2, output_dim=5)\n",
    "layer_2 = Layer(input_dim=5, output_dim=5)\n",
    "layer_3 = Layer(input_dim=5, output_dim=1)"
   ]
  },
  {
   "cell_type": "code",
   "execution_count": 10,
   "metadata": {},
   "outputs": [],
   "source": [
    "network = Network([layer_1, layer_2, layer_3])"
   ]
  },
  {
   "cell_type": "code",
   "execution_count": 11,
   "metadata": {},
   "outputs": [],
   "source": [
    "x_in = [True, False]"
   ]
  },
  {
   "cell_type": "code",
   "execution_count": 12,
   "metadata": {},
   "outputs": [
    {
     "data": {
      "text/plain": [
       "[False]"
      ]
     },
     "execution_count": 12,
     "metadata": {},
     "output_type": "execute_result"
    }
   ],
   "source": [
    "network(x_in)"
   ]
  },
  {
   "cell_type": "markdown",
   "metadata": {},
   "source": [
    "Training Data - AND"
   ]
  },
  {
   "cell_type": "code",
   "execution_count": 13,
   "metadata": {},
   "outputs": [],
   "source": [
    "train_input = [\n",
    "    [False, False],\n",
    "    [False, True],\n",
    "    [True, False],\n",
    "    [True, True],\n",
    "]\n",
    "\n",
    "train_output = [[x1 and x2] for x1, x2 in train_input]"
   ]
  },
  {
   "cell_type": "code",
   "execution_count": null,
   "metadata": {},
   "outputs": [],
   "source": []
  },
  {
   "cell_type": "code",
   "execution_count": null,
   "metadata": {},
   "outputs": [],
   "source": []
  },
  {
   "cell_type": "code",
   "execution_count": null,
   "metadata": {},
   "outputs": [],
   "source": []
  }
 ],
 "metadata": {
  "kernelspec": {
   "display_name": "bnn",
   "language": "python",
   "name": "python3"
  },
  "language_info": {
   "codemirror_mode": {
    "name": "ipython",
    "version": 3
   },
   "file_extension": ".py",
   "mimetype": "text/x-python",
   "name": "python",
   "nbconvert_exporter": "python",
   "pygments_lexer": "ipython3",
   "version": "3.11.9"
  }
 },
 "nbformat": 4,
 "nbformat_minor": 2
}
