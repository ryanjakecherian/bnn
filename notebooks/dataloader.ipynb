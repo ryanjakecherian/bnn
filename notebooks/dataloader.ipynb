{
 "cells": [
  {
   "cell_type": "code",
   "execution_count": 402,
   "metadata": {},
   "outputs": [],
   "source": [
    "%reload_ext autoreload\n",
    "%autoreload 2\n",
    "%matplotlib widget"
   ]
  },
  {
   "cell_type": "code",
   "execution_count": 403,
   "metadata": {},
   "outputs": [],
   "source": [
    "import matplotlib.pyplot as plt\n",
    "import numpy as np\n",
    "import torch\n",
    "import tqdm"
   ]
  },
  {
   "cell_type": "code",
   "execution_count": 404,
   "metadata": {},
   "outputs": [],
   "source": [
    "import bnn.data\n",
    "import bnn.functions\n",
    "import bnn.layer\n",
    "import bnn.loss\n",
    "import bnn.network\n",
    "import bnn.optimizer"
   ]
  },
  {
   "cell_type": "code",
   "execution_count": 405,
   "metadata": {},
   "outputs": [],
   "source": [
    "forward_func = bnn.functions.forward.SignBinarise()\n",
    "#forward_func=bnn.functions.forward.LayerMeanBinarise()\n",
    "#forward_func=bnn.functions.forward.LayerMedianBinarise()"
   ]
  },
  {
   "cell_type": "code",
   "execution_count": 406,
   "metadata": {},
   "outputs": [],
   "source": [
    "#backward_func = bnn.functions.backward.SignTernarise()\n",
    "#backward_func = bnn.functions.backward.LayerMeanStdTernarise(half_range_stds=0.5)\n",
    "backward_func = bnn.functions.backward.LayerQuantileTernarise(lo=0.25, hi=0.75)"
   ]
  },
  {
   "cell_type": "code",
   "execution_count": 407,
   "metadata": {},
   "outputs": [],
   "source": [
    "INPUT_DIM = 8\n",
    "OUTPUT_DIM = 8"
   ]
  },
  {
   "cell_type": "code",
   "execution_count": 408,
   "metadata": {},
   "outputs": [],
   "source": [
    "dims = [INPUT_DIM, 100, 100, OUTPUT_DIM]\n",
    "TBNN = bnn.network.TernBinNetwork(\n",
    "    *dims,\n",
    "    forward_func=forward_func,\n",
    "    backward_func=backward_func,\n",
    ")\n",
    "TBNN._initialise(W_mean=0, W_zero_prob=0.5)"
   ]
  },
  {
   "cell_type": "code",
   "execution_count": 409,
   "metadata": {},
   "outputs": [],
   "source": [
    "target_dims = [INPUT_DIM, 10, OUTPUT_DIM]\n",
    "Target_TBNN = bnn.network.TernBinNetwork(\n",
    "    *target_dims,\n",
    "    forward_func=forward_func,\n",
    "    backward_func=backward_func,\n",
    ")\n",
    "Target_TBNN._initialise(W_mean=0, W_zero_prob=0.8)"
   ]
  },
  {
   "cell_type": "code",
   "execution_count": 410,
   "metadata": {},
   "outputs": [],
   "source": [
    "DL = bnn.data.TargetNetwork(\n",
    "    datapoints=1000,\n",
    "    batch_size=1000,\n",
    "    target_network=Target_TBNN,\n",
    "    include_last_if_uneven=True,\n",
    ")"
   ]
  },
  {
   "cell_type": "code",
   "execution_count": 411,
   "metadata": {},
   "outputs": [],
   "source": [
    "loss_func: bnn.loss.LossFunction = bnn.loss.l1"
   ]
  },
  {
   "cell_type": "code",
   "execution_count": 412,
   "metadata": {},
   "outputs": [],
   "source": [
    "BernOpt = bnn.optimizer.ExpectationSGD(TBNN.parameters(), lr=0.001)"
   ]
  },
  {
   "cell_type": "code",
   "execution_count": 413,
   "metadata": {},
   "outputs": [],
   "source": [
    "losses = []"
   ]
  },
  {
   "cell_type": "code",
   "execution_count": null,
   "metadata": {},
   "outputs": [],
   "source": [
    "train_epochs = 1000\n",
    "num_logs = 10\n",
    "epoch_log_rate = train_epochs // num_logs"
   ]
  },
  {
   "cell_type": "code",
   "execution_count": null,
   "metadata": {},
   "outputs": [
    {
     "name": "stderr",
     "output_type": "stream",
     "text": [
      "  0%|          | 2/1000 [00:00<01:21, 12.25it/s]"
     ]
    },
    {
     "name": "stdout",
     "output_type": "stream",
     "text": [
      "epoch: 0\tloss: 9026\n"
     ]
    },
    {
     "name": "stderr",
     "output_type": "stream",
     "text": [
      " 10%|█         | 102/1000 [00:13<02:49,  5.31it/s]"
     ]
    },
    {
     "name": "stdout",
     "output_type": "stream",
     "text": [
      "epoch: 100\tloss: 690\n"
     ]
    },
    {
     "name": "stderr",
     "output_type": "stream",
     "text": [
      " 20%|██        | 203/1000 [00:24<01:09, 11.46it/s]"
     ]
    },
    {
     "name": "stdout",
     "output_type": "stream",
     "text": [
      "epoch: 200\tloss: 732\n"
     ]
    },
    {
     "name": "stderr",
     "output_type": "stream",
     "text": [
      " 30%|███       | 303/1000 [00:34<00:57, 12.04it/s]"
     ]
    },
    {
     "name": "stdout",
     "output_type": "stream",
     "text": [
      "epoch: 300\tloss: 610\n"
     ]
    },
    {
     "name": "stderr",
     "output_type": "stream",
     "text": [
      " 40%|████      | 403/1000 [00:44<00:51, 11.57it/s]"
     ]
    },
    {
     "name": "stdout",
     "output_type": "stream",
     "text": [
      "epoch: 400\tloss: 742\n"
     ]
    },
    {
     "name": "stderr",
     "output_type": "stream",
     "text": [
      " 50%|█████     | 503/1000 [00:56<01:00,  8.20it/s]"
     ]
    },
    {
     "name": "stdout",
     "output_type": "stream",
     "text": [
      "epoch: 500\tloss: 760\n"
     ]
    },
    {
     "name": "stderr",
     "output_type": "stream",
     "text": [
      " 60%|██████    | 602/1000 [01:07<00:33, 11.76it/s]"
     ]
    },
    {
     "name": "stdout",
     "output_type": "stream",
     "text": [
      "epoch: 600\tloss: 732\n"
     ]
    },
    {
     "name": "stderr",
     "output_type": "stream",
     "text": [
      " 70%|███████   | 703/1000 [01:18<00:26, 11.38it/s]"
     ]
    },
    {
     "name": "stdout",
     "output_type": "stream",
     "text": [
      "epoch: 700\tloss: 648\n"
     ]
    },
    {
     "name": "stderr",
     "output_type": "stream",
     "text": [
      " 80%|████████  | 802/1000 [01:28<00:21,  9.41it/s]"
     ]
    },
    {
     "name": "stdout",
     "output_type": "stream",
     "text": [
      "epoch: 800\tloss: 552\n"
     ]
    },
    {
     "name": "stderr",
     "output_type": "stream",
     "text": [
      " 90%|█████████ | 902/1000 [01:39<00:19,  4.93it/s]"
     ]
    },
    {
     "name": "stdout",
     "output_type": "stream",
     "text": [
      "epoch: 900\tloss: 694\n"
     ]
    },
    {
     "name": "stderr",
     "output_type": "stream",
     "text": [
      "100%|██████████| 1000/1000 [01:49<00:00,  9.12it/s]\n"
     ]
    }
   ],
   "source": [
    "for epoch in tqdm.trange(train_epochs):\n",
    "    epoch_loss = 0\n",
    "    for batch in DL:\n",
    "        # forward pass and loss\n",
    "        output = TBNN.forward(batch.input)\n",
    "        loss = loss_func.forward(output=output, target=batch.target)\n",
    "\n",
    "        # backward pass\n",
    "        grad = loss_func.backward(output=output, target=batch.target)\n",
    "        out_grad = TBNN.backward(grad)\n",
    "\n",
    "        # optimizer step\n",
    "        BernOpt.step(number_of_samples=len(input))\n",
    "\n",
    "        # sum loss\n",
    "        epoch_loss += loss\n",
    "\n",
    "    # save loss\n",
    "    losses.append(epoch_loss)\n",
    "\n",
    "    early_exit = epoch_loss == 0\n",
    "    if early_exit or (epoch % epoch_log_rate) == 0:\n",
    "        print(f'epoch: {epoch}\\tloss: {loss}')\n",
    "\n",
    "    if early_exit:\n",
    "        break"
   ]
  },
  {
   "cell_type": "code",
   "execution_count": null,
   "metadata": {},
   "outputs": [
    {
     "data": {
      "application/vnd.jupyter.widget-view+json": {
       "model_id": "7e23b86543744b33ab3c07b171c5a7cd",
       "version_major": 2,
       "version_minor": 0
      },
      "image/png": "[encoded data removed]",
      "text/html": [
       "\n",
       "            <div style=\"display: inline-block;\">\n",
       "                <div class=\"jupyter-widgets widget-label\" style=\"text-align: center;\">\n",
       "                    loss_curve_partial\n",
       "                </div>\n",
       "                <img src='data:image/png;base64,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' width=640.0/>\n",
       "            </div>\n",
       "        "
      ],
      "text/plain": [
       "Canvas(toolbar=Toolbar(toolitems=[('Home', 'Reset original view', 'home', 'home'), ('Back', 'Back to previous …"
      ]
     },
     "metadata": {},
     "output_type": "display_data"
    }
   ],
   "source": [
    "NAME = 'loss_curve_partial'\n",
    "plt.close(NAME)\n",
    "plt.figure(NAME)\n",
    "\n",
    "plt.plot(losses[:train_epochs])\n",
    "plt.xlabel('epoch')\n",
    "plt.ylabel('loss')\n",
    "plt.grid()\n",
    "\n",
    "plt.show()"
   ]
  },
  {
   "cell_type": "code",
   "execution_count": null,
   "metadata": {},
   "outputs": [
    {
     "name": "stdout",
     "output_type": "stream",
     "text": [
      "layers.TernBinLayer0.W \n",
      " Parameter containing:\n",
      "tensor([[ 1, -1, -1,  0,  0,  1,  1, -1,  1, -1,  1,  1,  1,  0,  1, -1,  0,  0,\n",
      "          1,  1,  0,  0, -1,  1, -1,  1, -1, -1,  0,  1,  1, -1, -1,  1,  1,  1,\n",
      "         -1,  1,  1,  1,  0, -1,  1, -1,  0,  1,  0, -1,  1,  1,  1, -1, -1,  0,\n",
      "          0,  1, -1,  1,  1,  1,  1, -1, -1,  0,  0, -1,  0, -1,  1,  0,  0, -1,\n",
      "          1,  1, -1,  1, -1,  1, -1,  1,  0,  1, -1,  0, -1,  1, -1, -1,  0, -1,\n",
      "          0,  1,  1, -1, -1,  0, -1,  1,  1, -1],\n",
      "        [ 1,  0,  1,  1,  1,  1,  1, -1,  1,  0, -1,  0,  1,  0,  1,  0,  0, -1,\n",
      "          0,  0, -1,  1,  0, -1,  1, -1, -1, -1,  0,  0,  0, -1,  0,  0,  1,  1,\n",
      "          0,  1,  0,  1, -1, -1, -1,  0,  1,  0,  1, -1,  0, -1, -1, -1,  1,  0,\n",
      "         -1, -1,  1,  0,  1,  1, -1, -1,  1, -1, -1, -1, -1,  1,  0, -1,  1,  0,\n",
      "          1, -1,  1,  1,  0,  0,  1,  0, -1,  1,  1,  0,  1, -1, -1, -1,  0, -1,\n",
      "          1,  1, -1,  1,  1, -1,  1,  1,  0, -1],\n",
      "        [-1,  1, -1,  1,  1, -1, -1,  0, -1,  1, -1,  1,  0, -1,  0,  0, -1,  1,\n",
      "          0, -1, -1,  1,  0,  1,  1, -1,  0, -1, -1,  0, -1,  1,  0,  0,  0, -1,\n",
      "          1, -1,  0, -1, -1,  0, -1, -1,  0, -1,  1,  1,  0,  0,  1,  1,  0,  1,\n",
      "          0,  1,  1,  0,  1, -1,  0,  1,  1, -1, -1,  1,  1,  1, -1,  1,  0,  0,\n",
      "          1, -1,  1,  0,  1,  0,  0,  1,  0,  0,  1,  1, -1,  1, -1,  1,  1,  1,\n",
      "          0,  0, -1,  1, -1, -1,  1, -1,  0,  1],\n",
      "        [ 0,  0,  0,  0,  0, -1,  1,  1,  0,  0, -1,  0,  0,  1,  0,  1,  0,  0,\n",
      "          0,  1,  1,  0,  1,  1, -1, -1, -1,  1,  0,  1,  0, -1, -1,  1, -1,  1,\n",
      "          0,  0,  1,  1,  0,  1,  1,  1,  1, -1,  0,  1, -1,  0,  1,  1,  1,  1,\n",
      "         -1,  0, -1,  1,  1,  1,  0,  0, -1,  1,  1, -1,  0,  0,  1,  1, -1,  0,\n",
      "          1,  1,  0, -1,  0,  1, -1,  1,  0, -1,  1,  0,  1, -1,  0, -1,  1, -1,\n",
      "          1,  1,  0,  1,  0, -1, -1,  0, -1, -1],\n",
      "        [-1,  1,  1,  0,  0,  0, -1,  1,  1, -1, -1,  1,  1, -1,  0, -1, -1, -1,\n",
      "         -1, -1,  1,  1,  0, -1, -1,  1,  1,  1,  1,  1, -1, -1,  1,  1,  1, -1,\n",
      "          1, -1,  0, -1,  0,  0, -1,  0,  0, -1,  1, -1,  0,  1, -1,  1, -1,  1,\n",
      "          0, -1,  0,  1, -1,  1,  1,  0,  1,  1, -1,  0, -1,  1, -1,  0, -1,  0,\n",
      "         -1,  1, -1,  1, -1, -1, -1, -1,  0,  0, -1,  0, -1,  0,  1,  0,  0,  0,\n",
      "          0,  0,  1, -1,  1, -1,  1,  1, -1, -1],\n",
      "        [ 1, -1, -1,  1, -1,  1,  1,  1,  0,  0,  0,  1,  0,  0,  1, -1,  0, -1,\n",
      "          0, -1,  1,  0,  0, -1,  1, -1, -1,  0, -1, -1,  1,  1,  1,  1,  1,  0,\n",
      "         -1,  0,  1,  0,  0,  1,  0,  1, -1,  1,  0,  1,  0,  0,  0,  1,  1,  1,\n",
      "          0,  1,  1,  0,  0,  0,  1, -1, -1,  0,  0, -1,  0,  1,  0, -1,  0,  0,\n",
      "         -1,  1, -1, -1,  0,  0, -1,  0,  0,  1,  0,  0, -1, -1,  1,  0, -1,  0,\n",
      "          1,  0,  1,  0, -1,  0,  1,  1, -1, -1],\n",
      "        [-1,  1,  0,  0,  1,  0, -1, -1, -1,  1, -1,  0, -1, -1,  1,  0, -1,  0,\n",
      "          1,  0,  1,  0,  0,  1,  1, -1,  0,  1, -1,  1,  0, -1,  0,  0, -1,  0,\n",
      "          1,  1,  1,  0,  1, -1,  1,  1,  1, -1,  0,  1,  1,  0,  0, -1, -1,  1,\n",
      "          0,  0,  1, -1,  0,  1,  0,  1, -1,  1,  0,  1,  1,  1,  1,  1, -1,  0,\n",
      "          0,  1, -1,  0, -1, -1,  1,  0, -1,  1,  1, -1,  0, -1,  0,  0, -1,  1,\n",
      "          1,  0,  0, -1,  1, -1, -1, -1, -1,  0],\n",
      "        [ 1,  0,  0, -1, -1,  1,  1,  0,  0,  0, -1,  1,  0, -1,  1, -1,  0,  0,\n",
      "         -1, -1, -1, -1,  1, -1, -1, -1, -1,  1,  0,  0,  1,  0,  0,  0,  0,  0,\n",
      "          0,  0,  0,  1,  0,  1,  1,  0,  0,  0,  0, -1,  0,  0,  1, -1,  1,  0,\n",
      "         -1, -1,  1,  0,  1, -1, -1,  1,  0, -1, -1,  0, -1, -1, -1, -1, -1,  0,\n",
      "          0,  1,  1,  0,  0,  1, -1,  1,  0,  1,  0, -1,  1,  0, -1, -1,  1,  0,\n",
      "         -1,  0, -1,  1, -1,  1, -1,  0,  1,  0]], dtype=torch.int32) \n",
      " tensor([[ -7,   5,   7,  -2,  -5,   3,   3,  -2,   1,   8, -12,   9,  -8,   2,\n",
      "           5,   8,   0,  -5,  -7,  -7,   0,   4,  16,   1,   5,  -2,   9,   4,\n",
      "          11,  -5,   5,   1,  16,  -8,  -3,  -4,   7,  -7, -11,   8,  15,   6,\n",
      "          -3,   2,  16,  10,   2,   7,  -1,   8,  -5,   7,   1,  -1,  -1,   4,\n",
      "          13,  -8,  -6,  -4, -15,  14,  -2,  -9,  -3,   9,   8,  -6, -10,   8,\n",
      "           2,   7, -14,   6,   1,  10,  17,  -2,   7,   7,   8,  -4,   9,  -7,\n",
      "           9,   0,  16,  -1,  -3,  -1,  -7, -18,  -3,  -8,   6,   2,   2,  10,\n",
      "         -11,  10],\n",
      "        [ -5,   5,   7,   8,   9, -11,   3,   6,  -7,   2,  -8,   5,   0,  -2,\n",
      "          -7,   2,   0,  15,   1,   3,  -8,  16,   0,   5,   3, -12,   9,   0,\n",
      "           3,  -5,   1,   3,  -2,  -8,  -1,   6,  -3,   3,   5,   0,   3,  -6,\n",
      "         -11,  -6,  12,  10,  -4,  -7,  -9,  12,   5,  -1,   1,  -3,  -1,   6,\n",
      "           3,   4,   2,   2,   1,   0,  -6,  -3, -13,  -5,   6,  -2,  -4,   0,\n",
      "           6,   7,   6,  -2,  -1,   8,   7,  12,  -5,   9,  -4,   6,   5,  -3,\n",
      "           5,  12,  -4,  -5,   5,   1,  -1, -12,  -5,   4,   4,   4,   2,   4,\n",
      "          -7,  -4],\n",
      "        [ 13,   5,   1,  -8,  -5,  -5, -11,   4,   7,   2,   8,  -5,  -8,   8,\n",
      "          11,  -6,   0,  -5,  -1,  -1,   6, -16,  10,  -5,   5,  -2,  -5,   4,\n",
      "           3,   1,   5,   1,   2,  -8,  -3,   2,   7,  -7,  -5,   8,   1,   6,\n",
      "           3,   2,   2, -10,   2,   7,   5,  -6,  -5,   1,  -7,  -1,   5,   4,\n",
      "          -7,  -8,  -6,  -4,  -1,  14,  -2,   5,  17,   9,  -6, -12,  -4,   8,\n",
      "          -4,  -7, -14,   6, -13,   2,  -3,  -2,  13, -13,   8,  -4,   9,   7,\n",
      "           3, -20,  22,  -1,  -9,  -1,  -7,   2,  -3,  -8,   6,   2,   2,  -4,\n",
      "          -5,   4],\n",
      "        [ -5,  -1,  -7,   0,  -1,  13,  11,  18,  15, -18,  -2,  -7,   4,  -2,\n",
      "          -5,  16,   0,  13,  19,  21,   0,   6,   0,  -1,  -3,  -4,   9,  -4,\n",
      "          11,   1,  11,   1,  -4,  12,  -3,  10,  -9,  21,  15,  -4,  -1, -22,\n",
      "           7,  -2,  10,   4, -16,   3,   1,  18,  15,  -7,  13,  -1,   5,  14,\n",
      "          -9,   8,   6,  -6,   5,  -4,  -6,   9,  -9, -11,   8, -10,  20, -20,\n",
      "          -2,   7,  18,  -6,   3,  14,  -5,  12,  -3,   1,  -8,  18,  -9, -19,\n",
      "          -9,  10,   0, -11,   3, -13,   5,  -2,   5,   8,  12,  12,   2,   6,\n",
      "           7, -16],\n",
      "        [ 15,   1,  -7,  -4,   3,   3,   5,  14,  17, -12,  18, -15,   4,   8,\n",
      "           3,  -2,   0,  17,  13,  17,  -6,  -8,  -2,  -5,  -3, -16,  -5,  -4,\n",
      "          -1,   1,  15,  -3, -16,   4,   1,  16, -15,  11,  13,   0,  -3, -12,\n",
      "           3,   2,  -6,  -6, -16,  -5,   5,  12,   9, -13,  -3,   3,   5,  14,\n",
      "         -21,   0,   2,  -4,  13,  -2, -12,  19,   5, -13,  -6, -14,  14, -10,\n",
      "           8,  -3,  16,  -2, -19,   8, -21,  16,   1, -19, -14,  18,   1,  -7,\n",
      "          -5,  -4,   2, -11,  -1,  -7,   5,  -2,   5,   0,  16,  16,   2,   0,\n",
      "           7, -14],\n",
      "        [ 11,  -5,  11,  16,  13, -15,  -1,   8,   1, -14,   4, -11,   8,  -4,\n",
      "          -7,  -2,   0,  25,  13,   1,  -6,  24, -18,   1,   7, -22,   5,  -8,\n",
      "           1,  -1,  -1,  -1, -26,   0,   3,  22, -19,   7,  13,  -8,   3, -22,\n",
      "          -7, -14,   2,  10,  -6, -15, -17,  22,  33,  -9,   7,   1,  -5,  12,\n",
      "          -5,   4,   6,  12,   9, -10, -10,  -1, -17, -17, -10,  -4,   8,  -8,\n",
      "           8,   7,  22,  -6,   1,  14,  -9,  10,  -9,  -3, -20,  20,   7, -11,\n",
      "          13,  16, -14, -15,   9,  -3,   7,  -6,  -9,   4,  14,  14,  -2,  -8,\n",
      "         -11, -12],\n",
      "        [ -1,   5,   1,  -6,  -9,   9,  -5,   8,   7,  -4,  -4,   1,  -4,   8,\n",
      "           7,   8,   0,  -7,   3,   5,   6,  -2,   8,  -5,   3,   2,   5,   0,\n",
      "          19,   5,   5,   3,   8,   2,  -1,  -2,   7,  -1,  -3,   0,   7,  -2,\n",
      "          13,  -2,  18,   0,  -4,  11,   1,   8,   5,   3,   3,  -3,   1,   6,\n",
      "           7,  -4,  -2,  -8,  -9,  14,   4,   1,   1,   9,   2, -12,   6,   0,\n",
      "          -4,   3, -12,   2,   5,  18,   7,  -6,   9,   1,   6,   2,   9,  -7,\n",
      "           3,  -6,  20,  -9,  -5,  -7,  -5,  -2,  -5,  -4,   8,   4,  -2,   0,\n",
      "          -5,   4],\n",
      "        [ -1,  -5,  -5,  -6,  -3,   3,   1, -18,  -1,  10,   6,   1,   0,  -4,\n",
      "           1,  -8,   0, -15, -13, -11,   2, -14,   0,   1,  -7,  12,  -9,   0,\n",
      "         -19,  -1,  -3,  -3,   2,   2,   1, -12,  -1,  -5,  -7,   0,  -3,  12,\n",
      "          -1,  10, -22,  -4,   6,   1,   7, -18, -15,   3,  -7,   3,  -5, -12,\n",
      "          -1,  -4,  -2,   4,   3, -10,   2,   1,   7,   1,  -2,  14,  -4,   2,\n",
      "           0,  -7,  -2,   2,  -3, -20,  -5,  -8,  -1,  -7,   0, -12,  -9,   5,\n",
      "          -3,  -6, -12,  11,   1,   1,   1,   6,   9,  -4, -10, -10,  -2,   0,\n",
      "           5,   6]], dtype=torch.int32)\n",
      "layers.TernBinLayer1.W \n",
      " Parameter containing:\n",
      "tensor([[ 1,  1,  0,  ...,  0,  0,  1],\n",
      "        [ 0,  0,  0,  ..., -1,  1,  1],\n",
      "        [-1, -1, -1,  ..., -1,  1, -1],\n",
      "        ...,\n",
      "        [ 0,  1,  0,  ...,  1,  1, -1],\n",
      "        [ 0,  1,  1,  ...,  1,  1, -1],\n",
      "        [-1,  1,  0,  ...,  1,  0,  0]], dtype=torch.int32) \n",
      " tensor([[-16,  10,  -2,  ...,   7,   2,  11],\n",
      "        [  2,   4,   2,  ...,  -7,  -2,   3],\n",
      "        [  4,   0,   4,  ...,  -3,   2,   3],\n",
      "        ...,\n",
      "        [ 18, -16,  -2,  ...,   7,   2, -19],\n",
      "        [  8,  -2,   0,  ...,  -7,   2,  11],\n",
      "        [  2,  -4,   4,  ...,  -7,   2,  -1]], dtype=torch.int32)\n",
      "layers.TernBinLayer2.W \n",
      " Parameter containing:\n",
      "tensor([[ 1, -1, -1, -1,  0, -1,  1, -1],\n",
      "        [ 1,  1,  1,  1, -1, -1, -1,  1],\n",
      "        [ 0,  1, -1,  0, -1,  1,  0,  1],\n",
      "        [ 1,  0, -1,  0,  0, -1,  1, -1],\n",
      "        [ 1,  0, -1,  1, -1,  0,  0,  0],\n",
      "        [-1,  0,  1,  0,  0,  0,  1,  0],\n",
      "        [ 0,  1,  0,  0,  1,  0, -1, -1],\n",
      "        [ 0,  0,  0,  1,  1,  1, -1,  1],\n",
      "        [-1,  0, -1, -1,  0, -1,  1, -1],\n",
      "        [ 0,  0,  0,  1,  1,  1,  0,  0],\n",
      "        [ 0, -1,  1, -1,  0,  0,  0,  1],\n",
      "        [-1,  0, -1, -1,  0, -1,  1, -1],\n",
      "        [-1, -1,  0,  0, -1, -1, -1, -1],\n",
      "        [-1, -1, -1,  0,  1, -1,  0, -1],\n",
      "        [ 0,  1,  0, -1, -1,  1, -1, -1],\n",
      "        [-1, -1,  0,  1,  0,  0,  1,  0],\n",
      "        [-1,  1,  1, -1,  1, -1, -1, -1],\n",
      "        [-1, -1,  1,  0, -1,  0,  0,  1],\n",
      "        [-1, -1,  0, -1, -1, -1, -1, -1],\n",
      "        [-1,  1,  0,  0,  1,  1, -1, -1],\n",
      "        [-1,  0,  0,  0,  0,  0,  0, -1],\n",
      "        [ 0,  0,  1,  0, -1, -1,  1,  1],\n",
      "        [ 0, -1,  0,  1, -1,  1,  1, -1],\n",
      "        [-1, -1, -1,  0,  0, -1,  1, -1],\n",
      "        [ 1,  1,  1,  1,  1,  1, -1,  1],\n",
      "        [ 1,  0,  0,  0, -1,  0, -1,  0],\n",
      "        [ 1,  0,  0,  1,  0,  1,  0,  0],\n",
      "        [ 0,  0,  0, -1,  1,  0,  1,  0],\n",
      "        [ 0, -1, -1, -1,  1, -1,  1, -1],\n",
      "        [-1, -1,  0, -1,  1,  0,  0, -1],\n",
      "        [ 0,  0,  0,  0,  0, -1,  0,  0],\n",
      "        [ 0,  1, -1,  0,  0,  1, -1,  0],\n",
      "        [-1,  0,  0, -1,  1, -1,  0, -1],\n",
      "        [-1,  0,  1,  1, -1,  0, -1, -1],\n",
      "        [ 0,  1,  1,  1,  1,  1, -1, -1],\n",
      "        [ 0,  0,  0,  0, -1, -1,  0,  0],\n",
      "        [ 0,  0,  0, -1, -1,  0, -1,  0],\n",
      "        [ 0,  1,  1,  0,  1,  0, -1,  0],\n",
      "        [-1,  0,  0, -1,  1,  0,  0,  0],\n",
      "        [-1,  1,  1, -1, -1, -1,  0, -1],\n",
      "        [-1,  1, -1, -1, -1, -1, -1, -1],\n",
      "        [ 0,  1, -1,  0,  1,  0,  0, -1],\n",
      "        [ 0,  1, -1,  0,  1,  1, -1,  1],\n",
      "        [ 0,  0,  1,  0,  0,  1, -1,  0],\n",
      "        [ 1, -1, -1, -1,  0,  0, -1, -1],\n",
      "        [-1, -1,  0,  1, -1,  0, -1, -1],\n",
      "        [ 0,  0,  1,  1,  1,  0, -1,  0],\n",
      "        [ 1,  0,  1,  1, -1,  1,  1,  1],\n",
      "        [-1, -1, -1, -1, -1, -1,  0, -1],\n",
      "        [ 1, -1,  0,  0,  1,  0,  0,  1],\n",
      "        [ 1,  0,  0,  0, -1,  1, -1,  1],\n",
      "        [-1,  0, -1,  0,  0, -1,  1,  0],\n",
      "        [ 1,  0,  0, -1,  1,  0,  1,  1],\n",
      "        [-1, -1,  0,  1, -1,  0,  1, -1],\n",
      "        [ 0, -1,  0,  1,  0,  0,  1,  1],\n",
      "        [ 1,  0, -1, -1,  1,  1, -1, -1],\n",
      "        [ 1,  0,  0,  1, -1, -1,  0,  1],\n",
      "        [ 0,  1,  1,  1, -1,  0,  1,  0],\n",
      "        [ 0, -1,  1, -1, -1,  0, -1, -1],\n",
      "        [ 0,  0,  1,  1, -1, -1,  0,  0],\n",
      "        [ 1, -1,  0,  1,  0,  0,  1, -1],\n",
      "        [ 1, -1,  1,  1,  0,  1, -1,  1],\n",
      "        [ 0,  0,  0,  1,  0, -1, -1,  1],\n",
      "        [ 1,  1,  0,  0,  1, -1,  1, -1],\n",
      "        [-1, -1,  0,  1,  0,  0,  1, -1],\n",
      "        [-1,  1,  0, -1,  1,  1,  0, -1],\n",
      "        [ 1,  0,  0,  1,  0,  1,  0,  1],\n",
      "        [ 1, -1, -1,  0,  0,  0, -1,  0],\n",
      "        [-1,  0,  0, -1,  1, -1,  0, -1],\n",
      "        [-1,  0,  0, -1, -1,  0,  1, -1],\n",
      "        [ 0,  0,  1,  1, -1,  0,  1,  0],\n",
      "        [-1,  0,  0,  1, -1,  0,  0,  0],\n",
      "        [ 0, -1, -1,  1,  1,  1,  1, -1],\n",
      "        [ 0, -1,  0,  1, -1,  1,  1,  1],\n",
      "        [ 1, -1,  1,  1, -1,  0,  0,  0],\n",
      "        [ 0, -1, -1,  0,  1,  0,  0,  0],\n",
      "        [ 1,  1,  1,  1,  1,  0, -1,  0],\n",
      "        [-1, -1, -1, -1,  0,  0,  1, -1],\n",
      "        [ 1,  1,  1,  0,  1,  1,  1,  0],\n",
      "        [ 0, -1, -1,  0,  0,  1,  0, -1],\n",
      "        [ 1,  1, -1,  0, -1,  1,  0,  1],\n",
      "        [-1, -1,  1,  1,  0,  1, -1,  1],\n",
      "        [ 1, -1,  0, -1, -1,  0,  0,  1],\n",
      "        [ 1,  1, -1, -1,  0,  1,  1,  1],\n",
      "        [-1,  1,  1,  0,  0,  1, -1, -1],\n",
      "        [-1, -1, -1,  0, -1,  0,  0, -1],\n",
      "        [-1, -1, -1, -1, -1,  1,  1,  0],\n",
      "        [ 1,  0,  1, -1,  1,  0,  0,  0],\n",
      "        [-1, -1,  1,  0,  1, -1,  0,  0],\n",
      "        [ 0, -1,  1,  1,  0,  1, -1,  1],\n",
      "        [-1,  1,  1,  0, -1, -1, -1, -1],\n",
      "        [ 1,  1,  0,  1, -1,  1, -1,  1],\n",
      "        [ 0,  0,  1,  1,  1,  1, -1,  1],\n",
      "        [ 1,  1,  0,  0,  1,  1,  0,  1],\n",
      "        [-1,  0,  0,  1,  0,  0,  0, -1],\n",
      "        [-1,  0, -1,  0,  0, -1,  1,  0],\n",
      "        [ 1, -1,  0,  1,  1,  1, -1, -1],\n",
      "        [ 1,  0, -1,  1,  1,  0,  0,  1],\n",
      "        [ 1,  0,  0,  0, -1,  1,  1,  1],\n",
      "        [ 1,  1,  1,  0,  0,  1, -1, -1]], dtype=torch.int32) \n",
      " tensor([[  6,  -6,  -3,   9,  13, -19,  -4,  -7],\n",
      "        [  6,  18,  -7,  -9, -11,  -7,  -2, -11],\n",
      "        [ 16,   2,  13,  21,   1,  -3, -18,   5],\n",
      "        [ 10,  -8,   3,   1,   3,  -1, -10,   5],\n",
      "        [  6, -28,  -3,  21,  -3,  -5,   4,  -7],\n",
      "        [  0,  -2,  23, -21,  -7,  -7,   2, -13],\n",
      "        [-10,  24,  23,  -5,  -7,   7, -30, -13],\n",
      "        [-12,   0,   7,   5,   5,  -9, -14,  11],\n",
      "        [  0,  24,  -7,  21,   7,  -3, -30,   1],\n",
      "        [  0,   4,   7,  -9,  -3,  11,  -8, -15],\n",
      "        [-16,   8,  -7, -21,   3, -15,  12,  -9],\n",
      "        [-10, -16, -15,   5, -11,  -5,  -4,  19],\n",
      "        [ 12,   6,   9,  -9,  -3,  13, -30, -15],\n",
      "        [  6, -52,  13,  -9,   3, -13,  -8, -13],\n",
      "        [  6,  10,  17,  -9,  -9,  -9, -14, -23],\n",
      "        [  0, -10,   3,  17,  -3,  -9,  22, -13],\n",
      "        [ 16,  14,  -3,  -1,   3,  13, -22,   5],\n",
      "        [  6,   4,   3,  17,  -7,  -3,   4,   9],\n",
      "        [ 12,  32, -11,   3,  -9,   9,   0,  -3],\n",
      "        [ -6,   8, -23,  -9,  -3,  13, -10,  -1],\n",
      "        [ 10,  24,   9,   3,   5,  13,  20,  -5],\n",
      "        [ 16,  10,  13,  21,   5,  -9, -30,   3],\n",
      "        [-10,  18,  -9,   9,  15, -13,  40,  -1],\n",
      "        [ 16, -34,  -3,   9,  -3,  -1,  -2,   5],\n",
      "        [-16,  10,  13, -11,   3,   5,   4,   7],\n",
      "        [  6,  12,  13,  21,  13, -13, -14,   1],\n",
      "        [ 12,  -4,   5,   5,   9, -15,  -4,   9],\n",
      "        [ 10,  24,  -9,  -5,   5,   3, -12, -13],\n",
      "        [ 10, -18,  13, -21,  -5,   7, -14, -11],\n",
      "        [ 16,  22,  13,   7,   7,  19, -28,  -9],\n",
      "        [-16, -10, -17,   9,  -3,  -3,  16,   5],\n",
      "        [ -6,  12, -23,  -9,  -1,  13,   4,   7],\n",
      "        [ -6,  46,  -9,  -1,  -3,   3, -32,   5],\n",
      "        [-10, -16,  -5,   1, -21,   1,  -2,  13],\n",
      "        [-12,  16,   7,  -9,   9,  11, -22,   3],\n",
      "        [ -6,  42, -25,  -1,  11,   1,   0,  11],\n",
      "        [-10, -34,   9,   1,  -1,  -3,  14,   9],\n",
      "        [ 16,  -4,  -7,  -9,   5,   5, -32, -13],\n",
      "        [  6,  20,  11,   1, -15,   1, -16,   3],\n",
      "        [ -6,   6,   7,   1,   7,  -3,   0,   5],\n",
      "        [ 10, -16,  -3, -13,  11,  -3, -10,   1],\n",
      "        [-12,  12,   7, -11,  21,   1, -22,  -3],\n",
      "        [ 16,  10,  19,  -7,  13,  -3, -36,   3],\n",
      "        [ -6, -10,  33,  -9,  -3,  13, -16,  -9],\n",
      "        [  6,  24,  -7,  21,   7,  -7,  12,   1],\n",
      "        [-12,  20,  -3,  21,  15,   1,  24,   3],\n",
      "        [-16, -22,   5,   3, -17,  11,  -6,  -1],\n",
      "        [ 12,  -6,   3, -17,   3, -19,  -6, -17],\n",
      "        [  6,  12,  -3,  -5,  -3,  11,  -2,  -7],\n",
      "        [ 16, -36,  -3,  -3,  15,  -1,   2,  23],\n",
      "        [  6, -24, -13,  -3,  -3,  -9,  14,   5],\n",
      "        [  6,   0,   7,  21,   3,  -9,   4,  -7],\n",
      "        [ 10,   8,   3,   3,  -7,   3, -20, -17],\n",
      "        [ -6,   2,  -5,  21,   1,  -9, -26,   9],\n",
      "        [ -6, -38,   3,  21,   9, -11,  30,  17],\n",
      "        [  6,   4,   7,   5,  -5,  -7, -18,  -7],\n",
      "        [ 10,  22,   7,   9,  11, -13,  20,   9],\n",
      "        [ 10, -16,  21,   9,   9, -19,   6,   1],\n",
      "        [  6,  -6,   7,  -9,  -9,  11,  40, -11],\n",
      "        [-16, -20,  17,   9,  13,  -1,   2,   5],\n",
      "        [ 16,  22,   9,   7,  -7,   9, -26,  -1],\n",
      "        [  6,  -2,  17,  11,  11,  -1,  -6, -19],\n",
      "        [  0, -18,  -5,   7,  -3,  -7,  14,  -7],\n",
      "        [ 16,   6,   7,  -5,   5,  -1,  -8,  -1],\n",
      "        [  6,  -8,  -3,  21,   1,  -9,  14,  -7],\n",
      "        [ 16, -24,  13,  17,   9,   9,  12,  15],\n",
      "        [ -6, -34,  -3,   3,  -9,  13,  18,   7],\n",
      "        [ 16,  10,  17,  -5,   9,   7, -30, -11],\n",
      "        [-12,  10, -15,  -5,  -7,   7, -26,   3],\n",
      "        [  6,  -2,  -7,  21,   9, -13,  32,  -7],\n",
      "        [ 16,  -2,  33,   7,  -1,   3,  -8,  -7],\n",
      "        [  0,  12,  13,  -9,  11,  19,   6, -13],\n",
      "        [  0,   0,  -3,   5,   9,  -9,   0, -11],\n",
      "        [  6, -26,  23,  11,  -9,  -5,  -6, -17],\n",
      "        [  6,   6,  13,  -7,  -5,  -3, -16,  -5],\n",
      "        [  6,   8,  17,  -7,  17, -11,  10, -11],\n",
      "        [ -6,  24,  -1,  -9,  -5,   7,  -8,   7],\n",
      "        [-10,   8,  -7,   7,   5,  19,  24,  -3],\n",
      "        [-16,  12, -19, -17,  15,   3,  28,  -3],\n",
      "        [ 10,  24, -13,  11,  17,   9,  38, -13],\n",
      "        [-16,  12,   7,  -5, -11,   3,  24,  -9],\n",
      "        [-16,   0,  17,  -9, -11,   3, -14, -19],\n",
      "        [ 12,  20,   9,  17,  -5,  -5, -14,   9],\n",
      "        [ 16, -12,  23, -21, -15,   7, -46,   1],\n",
      "        [-10, -14, -15,  -9, -13,  17,  32,  -3],\n",
      "        [  6,   0, -17,  21,   7, -13,  12,   9],\n",
      "        [  6,  -6,   1,  21,  11,  -9,  24,  -7],\n",
      "        [ -6, -24,   3, -11,  -3,  -7, -18,   5],\n",
      "        [ -6,   4, -13, -21,  -1,   9, -24,   7],\n",
      "        [-12, -26,   1,  -5,   1,  -9,   2, -19],\n",
      "        [ 16,  16,   9,  -9,   1, -13, -42,  -9],\n",
      "        [ -6, -10,  -7,  -9,  -3,  -3,   0,  -7],\n",
      "        [ -6, -10,  -5,  -3,  13,   1,   4,  -3],\n",
      "        [ -6, -18,   1,  -3,  21, -19,   2,   5],\n",
      "        [  6,  24,  17,  21,  13, -17, -32,  -7],\n",
      "        [ 10,   4,  17,  21,  13,  -5,  28,  11],\n",
      "        [ -6, -36,  -7, -11,   3,  -5,   6,  11],\n",
      "        [  6,  26,  -3,  -5,  -5, -19,   0,  -3],\n",
      "        [ 16,   8,  19,   7,  17,  -3,  24, -13],\n",
      "        [-10,  30, -19, -21, -17,   5, -26, -23]], dtype=torch.int32)\n"
     ]
    }
   ],
   "source": [
    "for name, p in TBNN.named_parameters():\n",
    "    if name.lower().endswith('.w'):\n",
    "        print(name, '\\n', p, '\\n', p.grad)"
   ]
  },
  {
   "cell_type": "code",
   "execution_count": null,
   "metadata": {},
   "outputs": [],
   "source": [
    "assert bnn.network.network_params_al_ternary(TBNN)"
   ]
  },
  {
   "cell_type": "code",
   "execution_count": null,
   "metadata": {},
   "outputs": [],
   "source": []
  }
 ],
 "metadata": {
  "kernelspec": {
   "display_name": "Python 3 (ipykernel)",
   "language": "python",
   "name": "python3"
  },
  "language_info": {
   "codemirror_mode": {
    "name": "ipython",
    "version": 3
   },
   "file_extension": ".py",
   "mimetype": "text/x-python",
   "name": "python",
   "nbconvert_exporter": "python",
   "pygments_lexer": "ipython3",
   "version": "3.11.9"
  }
 },
 "nbformat": 4,
 "nbformat_minor": 4
}
