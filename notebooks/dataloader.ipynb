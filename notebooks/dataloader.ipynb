{
 "cells": [
  {
   "cell_type": "code",
   "execution_count": 315,
   "metadata": {},
   "outputs": [],
   "source": [
    "%reload_ext autoreload\n",
    "%autoreload 2\n",
    "%matplotlib widget"
   ]
  },
  {
   "cell_type": "code",
   "execution_count": 316,
   "metadata": {},
   "outputs": [],
   "source": [
    "import matplotlib.pyplot as plt\n",
    "import numpy as np\n",
    "import torch\n",
    "import tqdm"
   ]
  },
  {
   "cell_type": "code",
   "execution_count": 317,
   "metadata": {},
   "outputs": [],
   "source": [
    "import bnn.data\n",
    "import bnn.functions\n",
    "import bnn.layer\n",
    "import bnn.loss\n",
    "import bnn.network\n",
    "import bnn.optimizer"
   ]
  },
  {
   "cell_type": "code",
   "execution_count": 318,
   "metadata": {},
   "outputs": [],
   "source": [
    "forward_func = bnn.functions.forward.SignBinarise()\n",
    "#forward_func=bnn.functions.forward.LayerMeanBinarise()\n",
    "#forward_func=bnn.functions.forward.LayerMedianBinarise()"
   ]
  },
  {
   "cell_type": "code",
   "execution_count": 319,
   "metadata": {},
   "outputs": [],
   "source": [
    "backward_func = bnn.functions.backward.SignTernarise()\n",
    "#backward_func = bnn.functions.backward.LayerMeanStdTernarise(half_range_stds=0.5)\n",
    "#backward_func = bnn.functions.backward.LayerQuantileTernarise(lo=0.25, hi=0.75)"
   ]
  },
  {
   "cell_type": "code",
   "execution_count": 320,
   "metadata": {},
   "outputs": [],
   "source": [
    "INPUT_DIM = 8\n",
    "OUTPUT_DIM = 8"
   ]
  },
  {
   "cell_type": "code",
   "execution_count": 321,
   "metadata": {},
   "outputs": [],
   "source": [
    "dims = [INPUT_DIM, 100, 100, OUTPUT_DIM]\n",
    "TBNN = bnn.network.TernBinNetwork(\n",
    "    *dims,\n",
    "    forward_func=forward_func,\n",
    "    backward_func=backward_func,\n",
    ")\n",
    "TBNN._initialise(W_mean=0, W_zero_prob=0.5)"
   ]
  },
  {
   "cell_type": "code",
   "execution_count": 322,
   "metadata": {},
   "outputs": [],
   "source": [
    "target_dims = [INPUT_DIM, OUTPUT_DIM]\n",
    "Target_TBNN = bnn.network.TernBinNetwork(\n",
    "    *target_dims,\n",
    "    forward_func=forward_func,\n",
    "    backward_func=backward_func,\n",
    ")\n",
    "Target_TBNN._initialise(W_mean=0, W_zero_prob=0.8)"
   ]
  },
  {
   "cell_type": "code",
   "execution_count": 323,
   "metadata": {},
   "outputs": [],
   "source": [
    "DL = bnn.data.TargetNetwork(\n",
    "    datapoints=1000,\n",
    "    batch_size=1000,\n",
    "    target_network=Target_TBNN,\n",
    "    include_last_if_uneven=True,\n",
    ")"
   ]
  },
  {
   "cell_type": "code",
   "execution_count": 324,
   "metadata": {},
   "outputs": [],
   "source": [
    "loss_func: bnn.loss.LossFunction = bnn.loss.l1"
   ]
  },
  {
   "cell_type": "code",
   "execution_count": 325,
   "metadata": {},
   "outputs": [],
   "source": [
    "BernOpt = bnn.optimizer.ExpectationSGD(TBNN.parameters(), lr=0.0001)"
   ]
  },
  {
   "cell_type": "code",
   "execution_count": 326,
   "metadata": {},
   "outputs": [],
   "source": [
    "losses = []"
   ]
  },
  {
   "cell_type": "code",
   "execution_count": 327,
   "metadata": {},
   "outputs": [],
   "source": [
    "train_epochs = 1000\n",
    "num_logs = 10\n",
    "epoch_log_rate = train_epochs // num_logs"
   ]
  },
  {
   "cell_type": "code",
   "execution_count": 328,
   "metadata": {},
   "outputs": [
    {
     "name": "stderr",
     "output_type": "stream",
     "text": [
      "  1%|          | 8/1000 [00:00<00:26, 37.93it/s]"
     ]
    },
    {
     "name": "stdout",
     "output_type": "stream",
     "text": [
      "epoch: 0\tloss: 7720\n"
     ]
    },
    {
     "name": "stderr",
     "output_type": "stream",
     "text": [
      " 11%|█         | 107/1000 [00:03<00:22, 39.71it/s]"
     ]
    },
    {
     "name": "stdout",
     "output_type": "stream",
     "text": [
      "epoch: 100\tloss: 708\n"
     ]
    },
    {
     "name": "stderr",
     "output_type": "stream",
     "text": [
      " 21%|██        | 207/1000 [00:06<00:21, 37.30it/s]"
     ]
    },
    {
     "name": "stdout",
     "output_type": "stream",
     "text": [
      "epoch: 200\tloss: 726\n"
     ]
    },
    {
     "name": "stderr",
     "output_type": "stream",
     "text": [
      " 30%|███       | 305/1000 [00:09<00:18, 37.69it/s]"
     ]
    },
    {
     "name": "stdout",
     "output_type": "stream",
     "text": [
      "epoch: 300\tloss: 460\n"
     ]
    },
    {
     "name": "stderr",
     "output_type": "stream",
     "text": [
      " 41%|████      | 409/1000 [00:13<00:17, 34.14it/s]"
     ]
    },
    {
     "name": "stdout",
     "output_type": "stream",
     "text": [
      "epoch: 400\tloss: 520\n"
     ]
    },
    {
     "name": "stderr",
     "output_type": "stream",
     "text": [
      " 50%|█████     | 505/1000 [00:16<00:17, 28.56it/s]"
     ]
    },
    {
     "name": "stdout",
     "output_type": "stream",
     "text": [
      "epoch: 500\tloss: 280\n"
     ]
    },
    {
     "name": "stderr",
     "output_type": "stream",
     "text": [
      " 61%|██████    | 606/1000 [00:19<00:11, 34.69it/s]"
     ]
    },
    {
     "name": "stdout",
     "output_type": "stream",
     "text": [
      "epoch: 600\tloss: 684\n"
     ]
    },
    {
     "name": "stderr",
     "output_type": "stream",
     "text": [
      " 70%|███████   | 705/1000 [00:23<00:10, 28.91it/s]"
     ]
    },
    {
     "name": "stdout",
     "output_type": "stream",
     "text": [
      "epoch: 700\tloss: 490\n"
     ]
    },
    {
     "name": "stderr",
     "output_type": "stream",
     "text": [
      " 80%|████████  | 805/1000 [00:26<00:05, 32.60it/s]"
     ]
    },
    {
     "name": "stdout",
     "output_type": "stream",
     "text": [
      "epoch: 800\tloss: 494\n"
     ]
    },
    {
     "name": "stderr",
     "output_type": "stream",
     "text": [
      " 90%|█████████ | 904/1000 [00:29<00:02, 40.08it/s]"
     ]
    },
    {
     "name": "stdout",
     "output_type": "stream",
     "text": [
      "epoch: 900\tloss: 376\n"
     ]
    },
    {
     "name": "stderr",
     "output_type": "stream",
     "text": [
      "100%|██████████| 1000/1000 [00:33<00:00, 29.98it/s]\n"
     ]
    }
   ],
   "source": [
    "for epoch in tqdm.trange(train_epochs):\n",
    "    epoch_loss = 0\n",
    "    for batch in DL:\n",
    "        # forward pass and loss\n",
    "        output = TBNN.forward(batch.input)\n",
    "        loss = loss_func.forward(output=output, target=batch.target)\n",
    "\n",
    "        # backward pass\n",
    "        grad = loss_func.backward(output=output, target=batch.target)\n",
    "        out_grad = TBNN.backward(grad)\n",
    "\n",
    "        # optimizer step\n",
    "        BernOpt.step(number_of_samples=len(input))\n",
    "\n",
    "        # sum loss\n",
    "        epoch_loss += loss\n",
    "\n",
    "    # save loss\n",
    "    losses.append(epoch_loss)\n",
    "\n",
    "    early_exit = epoch_loss == 0\n",
    "    if early_exit or (epoch % epoch_log_rate) == 0:\n",
    "        print(f'epoch: {epoch}\\tloss: {loss}')\n",
    "\n",
    "    if early_exit:\n",
    "        break"
   ]
  },
  {
   "cell_type": "code",
   "execution_count": 329,
   "metadata": {},
   "outputs": [
    {
     "data": {
      "application/vnd.jupyter.widget-view+json": {
       "model_id": "9a7930ffedd148ffb31a4f4b57cd4b19",
       "version_major": 2,
       "version_minor": 0
      },
      "image/png": "[encoded data removed]",
      "text/html": [
       "\n",
       "            <div style=\"display: inline-block;\">\n",
       "                <div class=\"jupyter-widgets widget-label\" style=\"text-align: center;\">\n",
       "                    loss_curve_partial\n",
       "                </div>\n",
       "                <img src='data:image/png;base64,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' width=640.0/>\n",
       "            </div>\n",
       "        "
      ],
      "text/plain": [
       "Canvas(toolbar=Toolbar(toolitems=[('Home', 'Reset original view', 'home', 'home'), ('Back', 'Back to previous …"
      ]
     },
     "metadata": {},
     "output_type": "display_data"
    }
   ],
   "source": [
    "NAME = 'loss_curve_partial'\n",
    "plt.close(NAME)\n",
    "plt.figure(NAME)\n",
    "\n",
    "plt.plot(losses[:train_epochs])\n",
    "plt.xlabel('epoch')\n",
    "plt.ylabel('loss')\n",
    "plt.grid()\n",
    "\n",
    "plt.show()"
   ]
  },
  {
   "cell_type": "code",
   "execution_count": 330,
   "metadata": {},
   "outputs": [
    {
     "name": "stdout",
     "output_type": "stream",
     "text": [
      "layers.TernBinLayer0.W \n",
      " Parameter containing:\n",
      "tensor([[ 1, -1,  1, -1, -1, -1,  1, -1, -1, -1,  0,  0,  0,  1,  1,  0,  0,  0,\n",
      "         -1,  0,  0,  1,  0,  1,  1,  1,  0, -1,  0, -1, -1,  1,  0,  0,  0,  1,\n",
      "          1, -1,  1,  1,  1, -1,  1,  1,  1,  1,  0, -1, -1,  1,  1,  1,  1,  1,\n",
      "          1, -1,  0,  0, -1, -1, -1, -1, -1,  1,  0,  1,  1, -1,  0, -1,  1, -1,\n",
      "          1,  1, -1, -1,  0, -1,  0,  0,  1,  1,  1, -1, -1, -1,  1,  1, -1, -1,\n",
      "         -1,  1,  0,  1,  1,  0, -1,  0,  1,  0],\n",
      "        [ 1, -1,  1,  1,  1,  1, -1,  1, -1, -1, -1, -1,  1, -1,  0,  1,  1,  0,\n",
      "         -1, -1,  1,  1, -1,  1,  0,  0,  1,  0,  0,  1, -1,  1,  0,  1, -1,  1,\n",
      "         -1,  0, -1,  1, -1,  0,  0, -1, -1,  1,  0,  0,  0,  0,  0,  1,  0,  0,\n",
      "          1,  0,  1, -1,  1,  0, -1, -1,  1,  1,  1,  1,  1, -1,  0,  0,  1,  0,\n",
      "          0,  1, -1,  0,  0, -1,  1, -1,  1,  1, -1,  1,  1,  0,  1, -1, -1,  0,\n",
      "          1, -1,  0, -1, -1,  1,  0, -1, -1, -1],\n",
      "        [-1,  1, -1,  0,  1, -1, -1, -1, -1,  1, -1,  1, -1,  0,  1,  0,  0, -1,\n",
      "          1, -1,  1, -1, -1,  1, -1, -1, -1,  1,  1,  0, -1, -1, -1, -1, -1,  1,\n",
      "          1, -1, -1,  1, -1,  1,  1,  0, -1,  1,  0,  1,  1,  0, -1, -1,  0,  0,\n",
      "          1, -1, -1,  1, -1,  1, -1,  0, -1,  1, -1,  0,  1,  0,  0,  1,  1,  1,\n",
      "          1,  1, -1, -1, -1,  0,  1,  0,  1,  1,  0,  1,  1,  1,  1, -1,  1,  0,\n",
      "          0,  0,  1,  0, -1,  1,  1, -1,  1, -1],\n",
      "        [ 1, -1,  1,  1, -1,  1,  1, -1, -1,  1,  0,  1,  1,  1,  0,  1,  0,  1,\n",
      "          1,  0, -1, -1,  1, -1,  1, -1,  0, -1,  1, -1,  0,  0,  1,  1,  0,  0,\n",
      "          1,  0, -1,  0, -1,  1,  1,  1,  0,  0, -1, -1,  1,  1,  0,  0,  0,  1,\n",
      "          1,  1,  0,  1,  1, -1, -1, -1, -1, -1, -1, -1,  0,  1,  0, -1,  1,  1,\n",
      "          1,  0,  1,  1,  1,  0, -1, -1,  1, -1,  1, -1, -1,  1, -1,  0,  0,  1,\n",
      "         -1,  1, -1,  1,  1, -1, -1,  0,  1, -1],\n",
      "        [-1, -1, -1,  1, -1, -1,  1, -1, -1, -1, -1,  0, -1,  0, -1,  1,  1,  1,\n",
      "          1, -1, -1, -1,  1,  1,  0,  0,  0,  1,  0,  1,  0,  1,  0,  0,  0,  0,\n",
      "          1,  0, -1, -1,  0,  1, -1,  1,  1, -1,  0, -1,  1, -1,  1,  1,  0,  1,\n",
      "          1,  1, -1,  0,  0,  1,  1, -1,  1,  0,  1, -1, -1,  1,  0, -1, -1, -1,\n",
      "          1,  1, -1,  1,  1,  1, -1,  1,  1, -1,  1,  1,  0,  1,  0, -1, -1, -1,\n",
      "         -1,  1,  1,  1,  0,  1, -1, -1,  0,  1],\n",
      "        [-1,  0,  0, -1, -1,  0,  0,  0,  1,  0,  0,  1,  1,  1, -1, -1,  1, -1,\n",
      "          1,  0,  0,  0,  1,  1, -1,  0,  0, -1,  0,  1,  0, -1,  0,  0,  1, -1,\n",
      "          1,  0, -1, -1,  1, -1, -1,  1,  0,  0,  0, -1,  0, -1,  0, -1,  1, -1,\n",
      "         -1,  1,  0, -1,  1, -1,  0,  0,  1, -1,  0,  1,  1, -1,  1,  1, -1,  0,\n",
      "          0,  0,  1, -1,  1,  1, -1, -1,  1,  0,  1,  1,  1, -1,  1, -1, -1, -1,\n",
      "         -1, -1,  1,  1,  0,  0,  0, -1,  1,  1],\n",
      "        [ 0,  1, -1, -1,  1, -1,  1,  1,  1, -1,  1,  0,  1,  1,  1,  0,  1,  0,\n",
      "          0,  1, -1, -1,  0,  0, -1,  0,  0,  1, -1,  0,  1,  0,  1, -1,  1, -1,\n",
      "         -1,  1, -1, -1,  0,  1,  0, -1,  1, -1,  0,  1, -1,  1, -1,  0,  1,  0,\n",
      "         -1,  0,  0,  1,  1,  1,  1,  1,  0,  0,  1,  1,  1, -1,  0,  1, -1,  0,\n",
      "          1, -1, -1,  1, -1, -1, -1,  0, -1,  0, -1,  1,  0,  0, -1,  1, -1,  1,\n",
      "          1,  0,  1, -1, -1,  0,  1,  1, -1,  1],\n",
      "        [ 1,  1,  1,  0, -1,  0,  0,  0,  0,  0,  0,  0,  0, -1, -1,  0,  0,  1,\n",
      "          1, -1,  1,  0, -1,  0,  0,  0, -1, -1, -1, -1, -1, -1,  0,  0, -1,  0,\n",
      "          0,  1, -1, -1, -1,  1,  0, -1,  1,  0,  0,  1,  1,  0,  1, -1,  0,  0,\n",
      "          0,  0, -1,  0,  0,  1,  0, -1,  0, -1,  1, -1, -1,  1,  1,  0,  0,  0,\n",
      "          1,  0, -1, -1,  0,  1, -1,  1,  1,  1,  0,  0,  1, -1, -1,  1, -1, -1,\n",
      "          1, -1, -1,  1, -1, -1,  1,  0, -1,  0]], dtype=torch.int32) \n",
      " tensor([[   7,   11,   25,   10,   69,  -23,  -13,  -12,   15,   23,    0,   -1,\n",
      "           -3,    8,   25,    1,   -5,  -11,   38,  -16,   77,   -5,  -79,   38,\n",
      "          -70,  -33,   32,   69,   34,   42,    3,   65,    5,   -7,  -39,   24,\n",
      "          -39,    2,  -53,   25,  -40,   69,   19,  -51,   -3,   60,   57,   26,\n",
      "           32,    7,  -15,  -77,   11,  -78,   28,  -37,  -41,   66,   18,   64,\n",
      "          -39,   30,   30,  -23,    3,   -5,   69,   -1,   16,   35,   44,   48,\n",
      "            7,    9,  -11,   -2,  -46,   27,   41,  -73,   -1,   41,   16,   50,\n",
      "           53,   15,    2,  -23,   52,   68,   55,  -35,    7,  -19,  -73,   -2,\n",
      "           15,  -41,    7,    5],\n",
      "        [   9,    9,   -9,   22,   -9,   11,   -3,   30,    1,    7,    2,   17,\n",
      "           -9,  -14,    3,   -9,  -15,   -1,   -6,    0,  -13,    1,   35,  -16,\n",
      "           38,    5,   22,  -21,    0,  -10,    5,   -1,   -9,    3,   19,  -10,\n",
      "            7,   -2,   13,    3,   12,  -33,    1,   39,   -1,   -4,  -41,  -28,\n",
      "          -12,    1,   31,   33,  -15,   30,   18,   21,   13,  -38,    6,  -26,\n",
      "           19,  -22,  -22,   15,  -11,    9,   -9,   17,   16,  -31,   -8,   -4,\n",
      "           13,   11,    3,  -16,   32,  -11,  -37,   41,   17,  -37,    0,  -10,\n",
      "          -37,    3,   -8,   11,  -28,  -14,  -23,   31,  -15,   35,   41,  -26,\n",
      "           -7,   37,   13,  -13],\n",
      "        [ -27,    1,   31,  -14,  -57,  -49,    1,    2,  -27,  -23,  -22,  -59,\n",
      "          -25,  -46,  -45,  -41,  -39,  -17,  -62,    4,  -47,  -15,   -9,  -78,\n",
      "           38,  -19,    2,  -65,  -42,  -84,  -19,  -49,  -33,  -33,   -5,  -64,\n",
      "          -37,  -26,   -3,  -45,  -12,  -77,  -47,  -37,  -25,  -44,  -69,  -14,\n",
      "          -68,   13,   11,    9,  -11,    8,  -30,  -23,  -11,  -52,  -76,  -60,\n",
      "           -5,  -18,  -36,  -29,  -31,  -67,  -57,  -59,  -66,  -43,  -28,  -24,\n",
      "          -83,  -81,  -13,    6,    6,  -41,  -49,   -3,  -59,  -49,  -40,  -52,\n",
      "          -61,  -59,  -40,   31,  -56,  -44,  -31,   -1,    1,  -33,   -3,    0,\n",
      "          -35,   17,  -49,  -37],\n",
      "        [  75,   43,  -31,  -34,   93,  -11,   19,   54,   -9,  -89,   -6,  -69,\n",
      "          -15,  -14,   37,   13,   19,  -23,  -18,   16,   71,   63,  -47,    6,\n",
      "          -42,   35,   22,   25,  -60,   10,   -9,   29,    5,  -55,   -7,  -20,\n",
      "          -27,    2,  -21,   37,    4,   37,  -49,  -75,   -3,   12,   25,  106,\n",
      "          -12,   11,  -31,   23,   -1,  -38,  -14,  -49,   27,   -8,  -56,   20,\n",
      "           -7,  110,   -6,   45,   15,  -21,   93,  -69,  -70,   59,   -4,  -12,\n",
      "          -37,  -35,  -83,  -34,  -86,    9,   65,  -53,  -69,   65,  -56,   44,\n",
      "           21,  -53,  -16,   65,    8,  -54,   67,   -3,   35, -103,  -53,   38,\n",
      "           27,   35,  -91,   17],\n",
      "        [  53,  -51,   59,   54,   -5,   31,  -23,  -36,  -35,   61,   -8,   21,\n",
      "           59,   60,   31,   59,    1,   67,  -28,  -20,   13,   65,    3,  -26,\n",
      "           26,   21,   12,   -5,   24,  -30,  -11,   -1,  -13,   67,  -49,   52,\n",
      "           47,   -8,   29,   31,  -46,   -5,   53,   -9,   -5,   68,    7,   12,\n",
      "          -22,   25,   71,  -15,  -31,   -6,   44,   41,   29,   22,   32,    0,\n",
      "          -49,   18,   18,   31,   -7,   21,   -5,   21,   32,   13,   64,   58,\n",
      "           17,   15,   67,   68,   22,   -5,    7,   -3,   21,    7,   32,  -32,\n",
      "           11,   31,   58,  -33,   10,   50,  -11,    7,   29,   11,   -3,  -34,\n",
      "           41,   17,   39,   -9],\n",
      "        [   9,   25,  -53,  -56,  -33,   35,   77,   18,   49,   -5,   36,   17,\n",
      "           51,   36,   -9,   43,   37,   59,   -4,   80,  -61,   21,   91,   -6,\n",
      "           20,   17,  -64,   -5,  -36,  -10,   33, -101,   31,   -9,   71,   20,\n",
      "           51,   32,   97,   -9,   70,   -5,   29,   63,   39,  -78,    7,   10,\n",
      "            2,   -7,  -37,   57,    5,   78,  -44,   53,   25,  -20,  -20,    0,\n",
      "           71,    6,  -38,    7,   29,   17,  -33,   17,  -22,   29,  -62,  -58,\n",
      "            5,    3,   -1,  -18,   30,  -15,   23,   85,   17,   23,  -10,  -60,\n",
      "           11,   23,    6,   59,   14,  -50,  -19,   51,  -11,    3,   85,    0,\n",
      "            1,   57,  -11,   27],\n",
      "        [   1,    9,   -5,   52,   15,  -21,  -15,   54,  -27,   -7,    8,  -35,\n",
      "          -49,  -64,  -21,  -45,    1,  -41,  -20,  -12,   31,   -7,   -9,  -16,\n",
      "           68,    1,   96,  -37,   32,  -10,    5,   67,    3,   23,   11,  -62,\n",
      "          -25,    0,  -35,  -21,    6,  -37,  -55,  -21,   11,   18,  -45,   12,\n",
      "          -14,  -47,   63,    9,  -31,  -34,   12,  -15,    9,  -24,  -16,  -42,\n",
      "           11,   18,   34,   11,   -7,  -31,   15,  -35,  -14,  -19,   14,   22,\n",
      "          -35,  -37,   19,  -18,   28,   13,  -25,  -15,  -35,  -25,  -26,   44,\n",
      "          -41,  -45,  -22,   27,  -34,   -6,  -11,   -5,  -59,   27,  -15,  -24,\n",
      "          -31,    5,  -19,   -9],\n",
      "        [ -11,   49,   -1,   -2,   51,  -17,   29,   32,   41,    1,   58,   25,\n",
      "           19,  -10,   11,   -1,   21,   11,   64,   32,   47,  -35,  -33,   44,\n",
      "          -38,  -23,   50,   67,   40,   50,   61,   31,   63,  -33,   23,    6,\n",
      "          -29,   44,  -27,   11,    6,   55,   37,  -21,   55,  -16,   47,   34,\n",
      "           58,   17,  -13,  -63,   49,  -54,   12,    5,  -31,   60,   -6,   62,\n",
      "           23,   22,   30,  -33,   25,   -7,   51,   25,   14,   49,    0,   14,\n",
      "            1,   -1,   -5,  -50,  -36,   41,   43,  -27,   25,   43,  -36,   42,\n",
      "           51,   25,  -14,   35,   70,   58,   57,   -9,  -19,  -25,  -27,   24,\n",
      "            1,  -31,   21,   31]], dtype=torch.int32)\n",
      "layers.TernBinLayer1.W \n",
      " Parameter containing:\n",
      "tensor([[ 1,  0, -1,  ..., -1, -1,  0],\n",
      "        [ 0,  1,  1,  ...,  1,  1, -1],\n",
      "        [ 0,  0,  0,  ...,  1,  1,  0],\n",
      "        ...,\n",
      "        [ 1, -1,  0,  ..., -1,  1,  0],\n",
      "        [ 0,  0,  0,  ...,  0,  0,  1],\n",
      "        [-1, -1,  1,  ...,  0, -1,  1]], dtype=torch.int32) \n",
      " tensor([[ 22,  37,   2,  ..., -12, -48, -24],\n",
      "        [  8,  -5,  56,  ..., -10, -22,  76],\n",
      "        [ 26,  53,  12,  ..., -24, -24,  -6],\n",
      "        ...,\n",
      "        [  2,  21,   6,  ..., -12, -40, -36],\n",
      "        [ 40,  41, -30,  ..., -16,  22,  18],\n",
      "        [-14,  -5,   4,  ...,  18, -14,  -4]], dtype=torch.int32)\n",
      "layers.TernBinLayer2.W \n",
      " Parameter containing:\n",
      "tensor([[ 0, -1,  0,  1, -1,  1,  0,  0],\n",
      "        [ 0,  1,  0,  1,  1,  1, -1,  0],\n",
      "        [ 0, -1,  0, -1, -1,  0, -1,  0],\n",
      "        [ 1,  1, -1,  1, -1,  0, -1,  1],\n",
      "        [ 1,  0,  0, -1, -1, -1,  0,  0],\n",
      "        [-1,  0,  0, -1,  1,  0,  0, -1],\n",
      "        [-1, -1, -1,  1,  0, -1, -1, -1],\n",
      "        [ 0,  0,  1, -1,  1, -1,  0,  1],\n",
      "        [ 0,  0,  0,  0, -1, -1,  0,  0],\n",
      "        [ 0,  0, -1,  1, -1,  0,  1,  1],\n",
      "        [ 1, -1,  1,  0,  0,  1,  0,  0],\n",
      "        [ 0,  0,  0, -1, -1,  0,  1,  0],\n",
      "        [ 1,  1,  1, -1,  1,  1, -1,  0],\n",
      "        [ 0,  1, -1, -1,  0, -1, -1,  0],\n",
      "        [-1, -1,  0, -1,  1,  0,  0,  0],\n",
      "        [-1,  0,  1,  0,  0, -1,  1,  0],\n",
      "        [ 1, -1,  1,  1, -1,  0,  0,  0],\n",
      "        [ 1,  0,  1,  1,  0,  0, -1,  1],\n",
      "        [ 1,  1, -1,  1, -1, -1,  0, -1],\n",
      "        [-1,  0, -1, -1, -1,  1,  0,  0],\n",
      "        [ 0,  0,  1, -1,  0,  1,  0,  0],\n",
      "        [ 1,  0,  0,  0,  1, -1,  1,  1],\n",
      "        [ 0,  0, -1,  0,  0, -1,  1,  1],\n",
      "        [-1,  0,  0, -1, -1,  0,  1,  1],\n",
      "        [-1,  1,  1,  0, -1, -1,  0,  1],\n",
      "        [-1, -1, -1,  0,  1,  0,  1,  0],\n",
      "        [-1,  0,  0, -1, -1, -1,  0,  1],\n",
      "        [ 0, -1,  1,  0,  0,  0,  1,  0],\n",
      "        [ 0, -1,  1, -1,  0, -1,  0,  1],\n",
      "        [ 0,  0,  1,  0,  0,  0,  0,  0],\n",
      "        [-1, -1,  1, -1, -1,  0,  0,  0],\n",
      "        [ 0, -1,  1,  1,  1,  0,  0,  1],\n",
      "        [ 0,  0,  0,  0,  1,  0,  1, -1],\n",
      "        [ 1,  0,  1,  0, -1,  1,  0, -1],\n",
      "        [ 0,  1, -1,  0,  1,  0,  0,  0],\n",
      "        [ 1,  1,  0,  1,  0, -1,  1,  1],\n",
      "        [ 1, -1, -1,  0,  1,  1,  0, -1],\n",
      "        [-1,  0,  1,  0,  1,  1, -1,  1],\n",
      "        [ 0, -1,  1,  0, -1,  1, -1,  1],\n",
      "        [ 1,  0, -1,  1,  1,  0,  0,  0],\n",
      "        [ 0, -1,  0,  1,  0,  0,  0,  1],\n",
      "        [ 0,  0, -1,  1,  0, -1, -1,  1],\n",
      "        [-1, -1,  0,  1,  1,  0,  0, -1],\n",
      "        [ 1,  1,  0,  0, -1,  0,  0,  0],\n",
      "        [-1,  0,  0,  1,  0,  0, -1,  0],\n",
      "        [ 0,  1, -1, -1,  0,  0,  1,  1],\n",
      "        [ 0,  1,  1, -1,  1,  0,  1,  0],\n",
      "        [-1,  0, -1,  0,  0,  0,  0,  0],\n",
      "        [-1, -1,  1,  0, -1, -1,  1,  0],\n",
      "        [ 1,  0, -1, -1,  0, -1, -1, -1],\n",
      "        [ 0,  1, -1,  0, -1,  1,  0, -1],\n",
      "        [ 1, -1,  1, -1,  0, -1,  1,  1],\n",
      "        [ 0, -1,  0, -1, -1,  0,  1, -1],\n",
      "        [ 0,  1, -1,  1,  1, -1,  1, -1],\n",
      "        [ 0,  0, -1, -1, -1, -1,  0,  1],\n",
      "        [ 0,  0,  0, -1, -1,  0,  1,  0],\n",
      "        [ 0,  1, -1, -1, -1,  0, -1,  0],\n",
      "        [ 1,  1,  0,  1,  0,  1, -1, -1],\n",
      "        [ 0, -1, -1,  0,  1,  1,  1,  0],\n",
      "        [ 0,  1,  1,  0, -1, -1,  1,  0],\n",
      "        [ 0, -1,  1,  1,  1,  0,  1,  0],\n",
      "        [ 0, -1, -1, -1,  0,  1,  1, -1],\n",
      "        [ 0,  1,  0,  1, -1,  1,  0,  0],\n",
      "        [ 1,  0,  1, -1, -1, -1,  1, -1],\n",
      "        [-1,  0,  0, -1,  0,  1,  0,  1],\n",
      "        [ 1,  1,  1,  1,  1,  1,  0,  1],\n",
      "        [ 1,  0, -1,  0,  0,  1,  1,  0],\n",
      "        [ 0,  0,  0,  1,  0, -1, -1,  0],\n",
      "        [ 1,  1, -1,  0,  1,  1,  0, -1],\n",
      "        [ 0,  0,  1,  1,  0,  1,  1,  1],\n",
      "        [-1,  0,  1,  1,  0,  1,  0,  1],\n",
      "        [ 0,  0,  0, -1, -1, -1,  0,  0],\n",
      "        [ 0, -1,  0,  1,  1, -1, -1, -1],\n",
      "        [ 1,  1, -1, -1,  0,  1,  1,  0],\n",
      "        [ 0,  1,  1,  0, -1, -1,  0,  1],\n",
      "        [ 0,  1, -1,  1,  0,  0,  0, -1],\n",
      "        [ 1,  1, -1,  1,  0,  0,  0, -1],\n",
      "        [ 1,  1,  0,  1,  0,  1,  0,  1],\n",
      "        [ 0,  1, -1,  1, -1, -1,  1,  1],\n",
      "        [ 0,  1, -1, -1, -1,  1,  0,  0],\n",
      "        [ 0,  1,  0,  0, -1,  1, -1,  0],\n",
      "        [ 1, -1,  1,  1,  1,  1,  0,  1],\n",
      "        [-1,  0,  0,  1,  1,  0,  1,  1],\n",
      "        [-1,  1, -1,  1,  0, -1,  0,  1],\n",
      "        [-1,  1,  1, -1,  1,  1, -1,  0],\n",
      "        [ 0,  0, -1,  1,  0,  0, -1, -1],\n",
      "        [ 0,  0,  1,  1,  1,  0, -1,  0],\n",
      "        [ 0, -1, -1, -1,  0,  1, -1,  1],\n",
      "        [ 0,  0,  1,  1,  1,  1,  0,  1],\n",
      "        [-1,  0,  1,  1,  1,  1,  1,  1],\n",
      "        [ 0,  0,  1,  0, -1,  0,  0, -1],\n",
      "        [ 0, -1,  0,  1,  0,  1,  1,  1],\n",
      "        [ 1,  1, -1,  0,  1,  1,  0,  0],\n",
      "        [ 0,  1,  1,  1,  0,  0,  1,  0],\n",
      "        [ 0,  0, -1, -1,  0,  1,  0,  0],\n",
      "        [ 0,  0, -1, -1,  0,  1,  0,  1],\n",
      "        [ 0,  1,  0,  0,  1,  1,  0, -1],\n",
      "        [ 0,  0,  1,  0,  0, -1,  0, -1],\n",
      "        [-1, -1,  1, -1,  0,  0,  1,  0],\n",
      "        [-1,  1, -1,  0, -1,  1, -1, -1]], dtype=torch.int32) \n",
      " tensor([[ -1, -34,  -6,  26,  17,  -8,  -6,  -2],\n",
      "        [  1,   0, -10, -24,  -7,  -2,  -2, -18],\n",
      "        [  7,  12, -10,   2, -23,  14, -10,  -6],\n",
      "        [ -1,   0, -16, -14,  -7,  -4, -28,  18],\n",
      "        [ 27,  40,  10, -14, -15, -14,  14,  -6],\n",
      "        [ -7,  10, -14,  -4,  -7,  36, -22,  -6],\n",
      "        [  3,  10,  -8,  18, -17, -14,  24,  -2],\n",
      "        [-23,  -2,   6, -14, -13,   6,   2,  -6],\n",
      "        [ -1, -16,   4,  -4,  -3,   6,  -2,   2],\n",
      "        [-11,   4,  10,  30, -15,  32,   0,   2],\n",
      "        [ -7, -44,   0, -28,  13,   6,  -2,  -2],\n",
      "        [  1, -12,   8,   2,   7,  22,  -8,   2],\n",
      "        [ 21,  -6, -10, -24,  -9,  -6, -12, -10],\n",
      "        [  1,  18,   8,  18,   9,  14,   4, -10],\n",
      "        [  1,  10,  10,   2,  -3,   0,  18,  10],\n",
      "        [-13, -18,   6,   6,  -9, -26,  12,  10],\n",
      "        [ -1, -26,  -6,  12, -13,  44, -24, -10],\n",
      "        [ -1, -30,  -8, -26, -13, -30,  -6,  -2],\n",
      "        [ -5,   2,  -4,  10,  23,  -6, -20,  -2],\n",
      "        [ 23,  36,  -6, -14,  -9,  12,  24, -10],\n",
      "        [ 11, -22,   8,  -4,   3,  -4, -24,  10],\n",
      "        [ -7,  -2,  16,  22,   9, -22,   8,   6],\n",
      "        [ -3,   4,  10,  22,  -7,  18,  -4, -10],\n",
      "        [  5,  26,  16,  -6,  -7,  -6,  14, -10],\n",
      "        [ -7,  22,  10,  -4, -13,   8, -14,  10],\n",
      "        [ 15,  40,   6,  -2, -21,  12,  10,  10],\n",
      "        [-11,  -6,   0,  14,  -3,  22,  -8, -10],\n",
      "        [-11, -44,   0,  -4,   3,  -8, -22,  10],\n",
      "        [  3, -20,  10,  -4,   5,  22,  12,  10],\n",
      "        [-11,  -8, -10, -14,  -3,   8, -10,   2],\n",
      "        [ 11,  16,   8,  10,  -5,   8,   2,  18],\n",
      "        [ -7, -20, -10,  10,   3, -22,   8,  18],\n",
      "        [-15,  -2,  -4, -10,  23,  -8,  16, -10],\n",
      "        [  3, -28,  -6,   4,  13, -32,  -6,  18],\n",
      "        [  5,  -8, -10,   0,   5,   4,  10, -10],\n",
      "        [-25, -22,  16, -14,   5,   6,  -2,  -2],\n",
      "        [  9,  -6,  16,   6,   5,  -8,  -6,  18],\n",
      "        [ -5,  30,  -8, -16, -13,   6,   6, -10],\n",
      "        [  3, -24, -10, -18,  -7, -32, -16,   2],\n",
      "        [  5,  -2,  -8,   4,  15, -22,  22,  -2],\n",
      "        [-23, -16,  -8, -26, -11, -12,   0,  10],\n",
      "        [ -3,  -8,  -8, -12,  -7,  -2,   4, -10],\n",
      "        [ -3,  -2, -10,  -8,  21,  10,   8,  -2],\n",
      "        [ 17,   2,   8, -10,  21,  14,   2, -10],\n",
      "        [ -1, -20, -10,   8,  -7,  -8, -12,  10],\n",
      "        [  7,  36,   6,   8,  -7,  22,   0, -18],\n",
      "        [-15,   8,  10,  24,  13, -12,  -6,  10],\n",
      "        [  5,  40,   6,  12,  -3,   6,  18,  -2],\n",
      "        [-13, -22,  10,  10,   7,   2, -14,  10],\n",
      "        [  5,   2,  16,  -2,  -3,   4,   0, -10],\n",
      "        [ -1,   2,  14,   2,   7,  22, -12,  -2],\n",
      "        [ 11,   0,  10,  10,   7,   6, -10,  10],\n",
      "        [ 17,  16,  -6,  -4,   1,  12,   0,  18],\n",
      "        [  3,   0,  16,  16,  15, -14,  10, -10],\n",
      "        [  5,  14,  10,  10,   1,   2,   0,  10],\n",
      "        [ 11,   6,  10,  -4,  13,  12,   2,  -2],\n",
      "        [ 23,   6,  -6,  -8, -17,  12,  16, -18],\n",
      "        [-11, -10,   8,  -2,  31,   6, -14,  -2],\n",
      "        [ 21,  16, -16,  16,   7,  10,  -2,  18],\n",
      "        [ 21,   2,  10,  14,   7, -10, -24,  10],\n",
      "        [  9,  -2,  -8,  -8, -15, -22,   8,  10],\n",
      "        [  5,  22,  -6,   4,  -7,   2,   2,  10],\n",
      "        [-21, -30,  14,  18,  -7,  30,  -8, -10],\n",
      "        [  7,  -6,  -6,   2,  15,  14,  -6, -10],\n",
      "        [-17,   8,   6, -24,  -7,  22,  -4,   2],\n",
      "        [-17, -26,  16,   4,  31,  -2, -10,  -2],\n",
      "        [ 15, -26,  -6,  10,  15,  -6, -14,  -2],\n",
      "        [ -5,  -4,   0,  -4,   9, -24, -20, -10],\n",
      "        [  9,  -2,  10,  -6,  13,   2, -24, -10],\n",
      "        [  3, -10,  10,   2,   9,  18,   0, -10],\n",
      "        [-19,   6,  -8, -16,   5,  16,  -8,  -2],\n",
      "        [ 23,   8,   8,   4,  13,   2,   0,  10],\n",
      "        [-11,  -6, -10,  -8,   1, -20,  -2,  10],\n",
      "        [ -1, -20,   8, -18,  15,  -6, -10, -10],\n",
      "        [ -7, -26,   6,  12,  11,  22,  -6, -10],\n",
      "        [ 11,   6,  10,   8,  13,  28,  26, -10],\n",
      "        [ 11,   2,  10,   8,  13,   4,  26,  -2],\n",
      "        [-15, -36, -10,  -2,  17,  -2, -14,  -2],\n",
      "        [  7,  24,  10,  -4,   9,  -6,  18,  -2],\n",
      "        [ 11, -14,  -6,   8,  11,  22, -20,  -2],\n",
      "        [-15,   8,   6, -10, -13,   8, -24,   2],\n",
      "        [  3, -22, -10,  -6,  15, -16,  -6,  -2],\n",
      "        [  3, -14,  -8,   8,   1,   2,  12, -10],\n",
      "        [-37, -16,   6,  12,   7,  38,  -6, -10],\n",
      "        [-11,  20,  14, -18,   1, -20,  -8,  -6],\n",
      "        [ 17,  -8,  -6,   6,  21, -12,   2, -10],\n",
      "        [-23, -14,  -8, -14,   3, -10,   0, -10],\n",
      "        [  9,  -8, -10, -18,  15, -14,   0,  -2],\n",
      "        [-13, -16,  -8,  10, -15,  18,  -2,  -2],\n",
      "        [ 27,  32,  -4,   0,  -1, -22,   8,  18],\n",
      "        [ 29,   6,   8,  -4,  13,  18, -22,  10],\n",
      "        [ 17, -14,   6,   6,   5,  18,   4,  -2],\n",
      "        [ -7,   6, -10, -10,  19,  24,  22, -18],\n",
      "        [ -7, -14,  10,  10,  15,   4, -14,  18],\n",
      "        [ -5, -12, -10,  -6,  -3,  10,  -2,   2],\n",
      "        [  1,  22, -10, -18, -25,  18,  22,   2],\n",
      "        [  3, -18, -10, -24,   3,  10,   6, -18],\n",
      "        [ -1,   4, -10, -10, -15, -12,  10, -18],\n",
      "        [  5,  -8,  10,   8,  -1,  -6,   2,  18],\n",
      "        [-13,   8,  -8,  12, -25,  22,   4, -10]], dtype=torch.int32)\n"
     ]
    }
   ],
   "source": [
    "for name, p in TBNN.named_parameters():\n",
    "    if name.lower().endswith('.w'):\n",
    "        print(name, '\\n', p, '\\n', p.grad)"
   ]
  },
  {
   "cell_type": "code",
   "execution_count": 331,
   "metadata": {},
   "outputs": [],
   "source": [
    "assert bnn.network.network_params_al_ternary(TBNN)"
   ]
  },
  {
   "cell_type": "code",
   "execution_count": null,
   "metadata": {},
   "outputs": [],
   "source": []
  }
 ],
 "metadata": {
  "kernelspec": {
   "display_name": "Python 3 (ipykernel)",
   "language": "python",
   "name": "python3"
  },
  "language_info": {
   "codemirror_mode": {
    "name": "ipython",
    "version": 3
   },
   "file_extension": ".py",
   "mimetype": "text/x-python",
   "name": "python",
   "nbconvert_exporter": "python",
   "pygments_lexer": "ipython3",
   "version": "3.11.9"
  }
 },
 "nbformat": 4,
 "nbformat_minor": 4
}
