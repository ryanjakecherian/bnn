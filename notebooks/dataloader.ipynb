{
 "cells": [
  {
   "cell_type": "code",
   "execution_count": 18,
   "metadata": {},
   "outputs": [
    {
     "name": "stderr",
     "output_type": "stream",
     "text": [
      "[autoreload of bnn.optimizer failed: Traceback (most recent call last):\n",
      "  File \"/home/blustrini/miniconda3/envs/bnn/lib/python3.11/site-packages/IPython/extensions/autoreload.py\", line 276, in check\n",
      "    superreload(m, reload, self.old_objects)\n",
      "  File \"/home/blustrini/miniconda3/envs/bnn/lib/python3.11/site-packages/IPython/extensions/autoreload.py\", line 500, in superreload\n",
      "    update_generic(old_obj, new_obj)\n",
      "  File \"/home/blustrini/miniconda3/envs/bnn/lib/python3.11/site-packages/IPython/extensions/autoreload.py\", line 397, in update_generic\n",
      "    update(a, b)\n",
      "  File \"/home/blustrini/miniconda3/envs/bnn/lib/python3.11/site-packages/IPython/extensions/autoreload.py\", line 349, in update_class\n",
      "    if update_generic(old_obj, new_obj):\n",
      "       ^^^^^^^^^^^^^^^^^^^^^^^^^^^^^^^^\n",
      "  File \"/home/blustrini/miniconda3/envs/bnn/lib/python3.11/site-packages/IPython/extensions/autoreload.py\", line 397, in update_generic\n",
      "    update(a, b)\n",
      "  File \"/home/blustrini/miniconda3/envs/bnn/lib/python3.11/site-packages/IPython/extensions/autoreload.py\", line 309, in update_function\n",
      "    setattr(old, name, getattr(new, name))\n",
      "ValueError: step() requires a code object with 1 free vars, not 0\n",
      "]\n"
     ]
    }
   ],
   "source": [
    "%reload_ext autoreload\n",
    "%autoreload 2\n",
    "%matplotlib widget"
   ]
  },
  {
   "cell_type": "code",
   "execution_count": 19,
   "metadata": {},
   "outputs": [],
   "source": [
    "import matplotlib.pyplot as plt\n",
    "import numpy as np\n",
    "import torch\n",
    "import tqdm"
   ]
  },
  {
   "cell_type": "code",
   "execution_count": 20,
   "metadata": {},
   "outputs": [],
   "source": [
    "import bnn.data\n",
    "import bnn.functions\n",
    "import bnn.layer\n",
    "import bnn.loss\n",
    "import bnn.network\n",
    "import bnn.optimizer"
   ]
  },
  {
   "cell_type": "code",
   "execution_count": 21,
   "metadata": {},
   "outputs": [],
   "source": [
    "forward_func = bnn.functions.forward.SignBinarise()\n",
    "#forward_func=bnn.functions.forward.LayerMeanBinarise()\n",
    "#forward_func=bnn.functions.forward.LayerMedianBinarise()"
   ]
  },
  {
   "cell_type": "code",
   "execution_count": 22,
   "metadata": {},
   "outputs": [],
   "source": [
    "#backward_func = bnn.functions.backward.SignTernarise()\n",
    "#backward_func = bnn.functions.backward.LayerMeanStdTernarise(half_range_stds=0.5)\n",
    "backward_func = bnn.functions.backward.LayerQuantileTernarise(lo=0.25, hi=0.75)"
   ]
  },
  {
   "cell_type": "code",
   "execution_count": 23,
   "metadata": {},
   "outputs": [],
   "source": [
    "INPUT_DIM = 1\n",
    "OUTPUT_DIM = 4"
   ]
  },
  {
   "cell_type": "code",
   "execution_count": 24,
   "metadata": {},
   "outputs": [],
   "source": [
    "dims = [INPUT_DIM, 100, 100, OUTPUT_DIM]\n",
    "TBNN = bnn.network.TernBinNetwork(\n",
    "    *dims,\n",
    "    forward_func=forward_func,\n",
    "    backward_func=backward_func,\n",
    ")\n",
    "TBNN._initialise(W_mean=0, W_zero_prob=0.5)"
   ]
  },
  {
   "cell_type": "code",
   "execution_count": 25,
   "metadata": {},
   "outputs": [],
   "source": [
    "target_dims = [INPUT_DIM, 10, OUTPUT_DIM]\n",
    "Target_TBNN = bnn.network.TernBinNetwork(\n",
    "    *target_dims,\n",
    "    forward_func=forward_func,\n",
    "    backward_func=None,\n",
    ")\n",
    "Target_TBNN._initialise(W_mean=0, W_zero_prob=0.8)"
   ]
  },
  {
   "cell_type": "code",
   "execution_count": 26,
   "metadata": {},
   "outputs": [],
   "source": [
    "TN_DL = bnn.data.TargetNetworkDataLoader(\n",
    "    target_network=Target_TBNN,\n",
    "    datapoints=1000,\n",
    "    batch_size=1000,\n",
    "    include_last_if_uneven=True,\n",
    ")\n",
    "\n",
    "UnaryDL = bnn.data.AllUnaryFunctionsDataLoader(\n",
    "    input_dim=1,\n",
    "    datapoints=100,\n",
    "    batch_size=100,\n",
    "    include_last_if_uneven=True\n",
    ")\n",
    "\n",
    "DL = UnaryDL"
   ]
  },
  {
   "cell_type": "code",
   "execution_count": 27,
   "metadata": {},
   "outputs": [],
   "source": [
    "loss_func: bnn.loss.LossFunction = bnn.loss.l1"
   ]
  },
  {
   "cell_type": "code",
   "execution_count": 28,
   "metadata": {},
   "outputs": [],
   "source": [
    "BernOpt = bnn.optimizer.ExpectationSGD(TBNN.parameters(), lr=0.001)"
   ]
  },
  {
   "cell_type": "code",
   "execution_count": 29,
   "metadata": {},
   "outputs": [],
   "source": [
    "losses = []"
   ]
  },
  {
   "cell_type": "code",
   "execution_count": 30,
   "metadata": {},
   "outputs": [],
   "source": [
    "train_epochs = 500\n",
    "num_logs = 10\n",
    "epoch_log_rate = train_epochs // num_logs"
   ]
  },
  {
   "cell_type": "code",
   "execution_count": 31,
   "metadata": {},
   "outputs": [
    {
     "name": "stderr",
     "output_type": "stream",
     "text": [
      "  1%|          | 4/500 [00:00<00:19, 25.41it/s]"
     ]
    },
    {
     "name": "stdout",
     "output_type": "stream",
     "text": [
      "epoch: 0\tloss: 376\n",
      "epoch: 4\tloss: 0\n"
     ]
    },
    {
     "name": "stderr",
     "output_type": "stream",
     "text": [
      "\n"
     ]
    }
   ],
   "source": [
    "for epoch in tqdm.trange(train_epochs):\n",
    "    epoch_loss = 0\n",
    "    for batch in DL:\n",
    "        # forward pass and loss\n",
    "        output = TBNN.forward(batch.input)\n",
    "        loss = loss_func.forward(output=output, target=batch.target)\n",
    "\n",
    "        # backward pass\n",
    "        grad = loss_func.backward(output=output, target=batch.target)\n",
    "        out_grad = TBNN.backward(grad)\n",
    "\n",
    "        # optimizer step\n",
    "        BernOpt.step()\n",
    "\n",
    "        # sum loss\n",
    "        epoch_loss += loss\n",
    "\n",
    "    # save loss\n",
    "    losses.append(epoch_loss)\n",
    "\n",
    "    early_exit = epoch_loss == 0\n",
    "    if early_exit or (epoch % epoch_log_rate) == 0:\n",
    "        print(f'epoch: {epoch}\\tloss: {loss}')\n",
    "\n",
    "    if early_exit:\n",
    "        break"
   ]
  },
  {
   "cell_type": "code",
   "execution_count": 32,
   "metadata": {},
   "outputs": [
    {
     "data": {
      "application/vnd.jupyter.widget-view+json": {
       "model_id": "249501dcdfd741c2a64ff63c99eab906",
       "version_major": 2,
       "version_minor": 0
      },
      "image/png": "[encoded data removed]",
      "text/html": [
       "\n",
       "            <div style=\"display: inline-block;\">\n",
       "                <div class=\"jupyter-widgets widget-label\" style=\"text-align: center;\">\n",
       "                    loss_curve_partial\n",
       "                </div>\n",
       "                <img src='data:image/png;base64,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' width=640.0/>\n",
       "            </div>\n",
       "        "
      ],
      "text/plain": [
       "Canvas(toolbar=Toolbar(toolitems=[('Home', 'Reset original view', 'home', 'home'), ('Back', 'Back to previous …"
      ]
     },
     "metadata": {},
     "output_type": "display_data"
    }
   ],
   "source": [
    "NAME = 'loss_curve_partial'\n",
    "plt.close(NAME)\n",
    "plt.figure(NAME)\n",
    "\n",
    "plt.plot(losses[:train_epochs])\n",
    "plt.xlabel('epoch')\n",
    "plt.ylabel('loss')\n",
    "plt.grid()\n",
    "\n",
    "plt.show()"
   ]
  },
  {
   "cell_type": "code",
   "execution_count": 33,
   "metadata": {},
   "outputs": [
    {
     "name": "stdout",
     "output_type": "stream",
     "text": [
      "layers.TernBinLayer0.W \n",
      " Parameter containing:\n",
      "tensor([[-1,  0,  0, -1, -1, -1,  0,  0,  0,  1,  0,  0,  0,  0, -1,  0, -1,  0,\n",
      "         -1,  0,  0,  0,  0,  0, -1, -1,  0, -1,  1,  0,  1,  0, -1,  0, -1,  1,\n",
      "          0, -1,  0, -1,  0,  1,  0, -1,  1, -1,  1,  0, -1,  1,  1,  0,  1,  1,\n",
      "         -1,  1,  0,  1, -1,  1,  0,  0,  0,  0, -1,  1, -1,  0,  0,  0,  1,  0,\n",
      "         -1,  0,  0,  0,  0, -1,  0,  0,  0,  0,  1,  0,  0,  0,  1,  1,  0,  0,\n",
      "          1,  0, -1,  0,  1,  0,  0, -1,  0,  0]], dtype=torch.int32) \n",
      " tensor([[0, 0, 0, 0, 0, 0, 0, 0, 0, 0, 0, 0, 0, 0, 0, 0, 0, 0, 0, 0, 0, 0, 0, 0,\n",
      "         0, 0, 0, 0, 0, 0, 0, 0, 0, 0, 0, 0, 0, 0, 0, 0, 0, 0, 0, 0, 0, 0, 0, 0,\n",
      "         0, 0, 0, 0, 0, 0, 0, 0, 0, 0, 0, 0, 0, 0, 0, 0, 0, 0, 0, 0, 0, 0, 0, 0,\n",
      "         0, 0, 0, 0, 0, 0, 0, 0, 0, 0, 0, 0, 0, 0, 0, 0, 0, 0, 0, 0, 0, 0, 0, 0,\n",
      "         0, 0, 0, 0]], dtype=torch.int32)\n",
      "layers.TernBinLayer1.W \n",
      " Parameter containing:\n",
      "tensor([[ 0,  0,  0,  ...,  0,  0,  0],\n",
      "        [-1, -1,  0,  ..., -1,  1,  0],\n",
      "        [-1, -1,  0,  ..., -1,  1,  0],\n",
      "        ...,\n",
      "        [ 0, -1,  0,  ...,  0, -1, -1],\n",
      "        [-1,  0,  0,  ...,  0,  1, -1],\n",
      "        [ 1,  0,  1,  ...,  0,  1,  1]], dtype=torch.int32) \n",
      " tensor([[0, 0, 0,  ..., 0, 0, 0],\n",
      "        [0, 0, 0,  ..., 0, 0, 0],\n",
      "        [0, 0, 0,  ..., 0, 0, 0],\n",
      "        ...,\n",
      "        [0, 0, 0,  ..., 0, 0, 0],\n",
      "        [0, 0, 0,  ..., 0, 0, 0],\n",
      "        [0, 0, 0,  ..., 0, 0, 0]], dtype=torch.int32)\n",
      "layers.TernBinLayer2.W \n",
      " Parameter containing:\n",
      "tensor([[ 0,  1,  0, -1],\n",
      "        [ 1, -1,  1,  1],\n",
      "        [ 0,  0,  0,  1],\n",
      "        [ 0,  0,  0,  0],\n",
      "        [ 0,  0,  0,  1],\n",
      "        [-1,  1,  0, -1],\n",
      "        [ 0,  0,  0,  1],\n",
      "        [ 1,  0,  0, -1],\n",
      "        [ 0, -1,  0,  0],\n",
      "        [ 1,  1, -1,  1],\n",
      "        [ 0, -1,  1,  0],\n",
      "        [ 1,  0,  1,  0],\n",
      "        [ 1,  0,  1, -1],\n",
      "        [ 1,  0,  1, -1],\n",
      "        [ 1,  1,  1, -1],\n",
      "        [ 1, -1, -1,  0],\n",
      "        [-1,  0,  0, -1],\n",
      "        [ 1, -1,  0,  0],\n",
      "        [ 0,  0,  0,  0],\n",
      "        [ 0,  0,  0,  1],\n",
      "        [ 0,  0,  1, -1],\n",
      "        [ 0,  0,  0,  0],\n",
      "        [-1, -1,  0,  0],\n",
      "        [ 0, -1,  0, -1],\n",
      "        [ 1,  1, -1, -1],\n",
      "        [ 1,  1,  0, -1],\n",
      "        [-1, -1,  0, -1],\n",
      "        [-1,  0,  1,  1],\n",
      "        [-1,  0,  0, -1],\n",
      "        [ 1,  0,  0,  0],\n",
      "        [ 1,  0, -1,  0],\n",
      "        [ 0,  1,  0,  1],\n",
      "        [ 0,  0,  0, -1],\n",
      "        [ 1, -1,  1,  0],\n",
      "        [ 0, -1,  1,  0],\n",
      "        [-1,  0,  0,  0],\n",
      "        [ 1, -1,  0, -1],\n",
      "        [-1,  0,  0,  0],\n",
      "        [-1,  0,  0, -1],\n",
      "        [ 1,  1,  0, -1],\n",
      "        [ 0,  0, -1,  1],\n",
      "        [ 0,  0,  0,  0],\n",
      "        [-1,  0,  1,  0],\n",
      "        [ 0,  0,  0,  0],\n",
      "        [ 0, -1,  1,  0],\n",
      "        [-1, -1,  1,  0],\n",
      "        [ 0,  1,  0,  0],\n",
      "        [ 0,  0,  0,  1],\n",
      "        [ 0,  1,  0,  1],\n",
      "        [ 0, -1,  0,  0],\n",
      "        [-1,  0, -1,  1],\n",
      "        [ 0, -1, -1,  1],\n",
      "        [ 1,  1,  0, -1],\n",
      "        [-1, -1,  0, -1],\n",
      "        [ 0,  1,  0, -1],\n",
      "        [ 1,  0,  0,  0],\n",
      "        [ 0,  0,  1,  0],\n",
      "        [ 1,  1,  1,  0],\n",
      "        [ 1,  0, -1,  1],\n",
      "        [ 0, -1,  1, -1],\n",
      "        [ 1,  1,  1,  0],\n",
      "        [-1,  0,  0,  1],\n",
      "        [ 0,  0,  1, -1],\n",
      "        [-1,  0,  0,  1],\n",
      "        [ 0, -1,  0,  0],\n",
      "        [-1,  1,  0,  0],\n",
      "        [ 0,  1,  1,  0],\n",
      "        [ 0,  0,  1,  0],\n",
      "        [ 1,  0,  1, -1],\n",
      "        [ 0,  0,  0,  1],\n",
      "        [ 0,  0, -1,  1],\n",
      "        [ 0,  0,  0, -1],\n",
      "        [ 0,  1,  0,  0],\n",
      "        [ 0,  1,  0,  0],\n",
      "        [-1,  0, -1, -1],\n",
      "        [ 0, -1,  1,  0],\n",
      "        [ 0, -1,  0,  0],\n",
      "        [ 0,  0,  0,  1],\n",
      "        [ 0,  0,  0,  0],\n",
      "        [ 0,  0,  0,  0],\n",
      "        [ 1, -1, -1,  1],\n",
      "        [ 0, -1,  0,  0],\n",
      "        [ 1, -1,  1, -1],\n",
      "        [-1,  1,  0,  0],\n",
      "        [-1,  0,  0,  0],\n",
      "        [ 0,  1, -1,  1],\n",
      "        [ 0, -1,  0,  0],\n",
      "        [-1,  0,  0,  0],\n",
      "        [ 1,  1,  0,  1],\n",
      "        [ 0,  1,  0, -1],\n",
      "        [ 0, -1, -1,  0],\n",
      "        [ 0, -1, -1,  0],\n",
      "        [ 0, -1, -1,  0],\n",
      "        [ 0,  0,  0,  0],\n",
      "        [ 1,  0,  1,  0],\n",
      "        [ 1,  1,  1, -1],\n",
      "        [ 1,  1, -1, -1],\n",
      "        [-1,  1,  0,  0],\n",
      "        [ 0, -1,  0,  0],\n",
      "        [ 1,  1,  1, -1]], dtype=torch.int32) \n",
      " tensor([[0, 0, 0, 0],\n",
      "        [0, 0, 0, 0],\n",
      "        [0, 0, 0, 0],\n",
      "        [0, 0, 0, 0],\n",
      "        [0, 0, 0, 0],\n",
      "        [0, 0, 0, 0],\n",
      "        [0, 0, 0, 0],\n",
      "        [0, 0, 0, 0],\n",
      "        [0, 0, 0, 0],\n",
      "        [0, 0, 0, 0],\n",
      "        [0, 0, 0, 0],\n",
      "        [0, 0, 0, 0],\n",
      "        [0, 0, 0, 0],\n",
      "        [0, 0, 0, 0],\n",
      "        [0, 0, 0, 0],\n",
      "        [0, 0, 0, 0],\n",
      "        [0, 0, 0, 0],\n",
      "        [0, 0, 0, 0],\n",
      "        [0, 0, 0, 0],\n",
      "        [0, 0, 0, 0],\n",
      "        [0, 0, 0, 0],\n",
      "        [0, 0, 0, 0],\n",
      "        [0, 0, 0, 0],\n",
      "        [0, 0, 0, 0],\n",
      "        [0, 0, 0, 0],\n",
      "        [0, 0, 0, 0],\n",
      "        [0, 0, 0, 0],\n",
      "        [0, 0, 0, 0],\n",
      "        [0, 0, 0, 0],\n",
      "        [0, 0, 0, 0],\n",
      "        [0, 0, 0, 0],\n",
      "        [0, 0, 0, 0],\n",
      "        [0, 0, 0, 0],\n",
      "        [0, 0, 0, 0],\n",
      "        [0, 0, 0, 0],\n",
      "        [0, 0, 0, 0],\n",
      "        [0, 0, 0, 0],\n",
      "        [0, 0, 0, 0],\n",
      "        [0, 0, 0, 0],\n",
      "        [0, 0, 0, 0],\n",
      "        [0, 0, 0, 0],\n",
      "        [0, 0, 0, 0],\n",
      "        [0, 0, 0, 0],\n",
      "        [0, 0, 0, 0],\n",
      "        [0, 0, 0, 0],\n",
      "        [0, 0, 0, 0],\n",
      "        [0, 0, 0, 0],\n",
      "        [0, 0, 0, 0],\n",
      "        [0, 0, 0, 0],\n",
      "        [0, 0, 0, 0],\n",
      "        [0, 0, 0, 0],\n",
      "        [0, 0, 0, 0],\n",
      "        [0, 0, 0, 0],\n",
      "        [0, 0, 0, 0],\n",
      "        [0, 0, 0, 0],\n",
      "        [0, 0, 0, 0],\n",
      "        [0, 0, 0, 0],\n",
      "        [0, 0, 0, 0],\n",
      "        [0, 0, 0, 0],\n",
      "        [0, 0, 0, 0],\n",
      "        [0, 0, 0, 0],\n",
      "        [0, 0, 0, 0],\n",
      "        [0, 0, 0, 0],\n",
      "        [0, 0, 0, 0],\n",
      "        [0, 0, 0, 0],\n",
      "        [0, 0, 0, 0],\n",
      "        [0, 0, 0, 0],\n",
      "        [0, 0, 0, 0],\n",
      "        [0, 0, 0, 0],\n",
      "        [0, 0, 0, 0],\n",
      "        [0, 0, 0, 0],\n",
      "        [0, 0, 0, 0],\n",
      "        [0, 0, 0, 0],\n",
      "        [0, 0, 0, 0],\n",
      "        [0, 0, 0, 0],\n",
      "        [0, 0, 0, 0],\n",
      "        [0, 0, 0, 0],\n",
      "        [0, 0, 0, 0],\n",
      "        [0, 0, 0, 0],\n",
      "        [0, 0, 0, 0],\n",
      "        [0, 0, 0, 0],\n",
      "        [0, 0, 0, 0],\n",
      "        [0, 0, 0, 0],\n",
      "        [0, 0, 0, 0],\n",
      "        [0, 0, 0, 0],\n",
      "        [0, 0, 0, 0],\n",
      "        [0, 0, 0, 0],\n",
      "        [0, 0, 0, 0],\n",
      "        [0, 0, 0, 0],\n",
      "        [0, 0, 0, 0],\n",
      "        [0, 0, 0, 0],\n",
      "        [0, 0, 0, 0],\n",
      "        [0, 0, 0, 0],\n",
      "        [0, 0, 0, 0],\n",
      "        [0, 0, 0, 0],\n",
      "        [0, 0, 0, 0],\n",
      "        [0, 0, 0, 0],\n",
      "        [0, 0, 0, 0],\n",
      "        [0, 0, 0, 0],\n",
      "        [0, 0, 0, 0]], dtype=torch.int32)\n"
     ]
    }
   ],
   "source": [
    "for name, p in TBNN.named_parameters():\n",
    "    if name.lower().endswith('.w'):\n",
    "        print(name, '\\n', p, '\\n', p.grad)"
   ]
  },
  {
   "cell_type": "code",
   "execution_count": 34,
   "metadata": {},
   "outputs": [],
   "source": [
    "assert bnn.network.network_params_al_ternary(TBNN)"
   ]
  },
  {
   "cell_type": "code",
   "execution_count": null,
   "metadata": {},
   "outputs": [],
   "source": []
  }
 ],
 "metadata": {
  "kernelspec": {
   "display_name": "Python 3 (ipykernel)",
   "language": "python",
   "name": "python3"
  },
  "language_info": {
   "codemirror_mode": {
    "name": "ipython",
    "version": 3
   },
   "file_extension": ".py",
   "mimetype": "text/x-python",
   "name": "python",
   "nbconvert_exporter": "python",
   "pygments_lexer": "ipython3",
   "version": "3.11.9"
  }
 },
 "nbformat": 4,
 "nbformat_minor": 4
}
