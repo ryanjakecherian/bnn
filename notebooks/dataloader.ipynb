{
 "cells": [
  {
   "cell_type": "code",
   "execution_count": 53,
   "metadata": {},
   "outputs": [],
   "source": [
    "%reload_ext autoreload\n",
    "%autoreload 2\n",
    "%matplotlib widget"
   ]
  },
  {
   "cell_type": "code",
   "execution_count": 54,
   "metadata": {},
   "outputs": [],
   "source": [
    "import matplotlib.pyplot as plt\n",
    "import numpy as np\n",
    "import torch\n",
    "import tqdm"
   ]
  },
  {
   "cell_type": "code",
   "execution_count": 55,
   "metadata": {},
   "outputs": [],
   "source": [
    "import bnn.data\n",
    "import bnn.functions\n",
    "import bnn.layer\n",
    "import bnn.loss\n",
    "import bnn.network\n",
    "import bnn.optimizer"
   ]
  },
  {
   "cell_type": "code",
   "execution_count": 56,
   "metadata": {},
   "outputs": [],
   "source": [
    "forward_func = bnn.functions.forward.SignBinarise()\n",
    "#forward_func=bnn.functions.forward.LayerMeanBinarise()\n",
    "#forward_func=bnn.functions.forward.LayerMedianBinarise()"
   ]
  },
  {
   "cell_type": "code",
   "execution_count": 57,
   "metadata": {},
   "outputs": [],
   "source": [
    "#backward_func = bnn.functions.backward.SignTernarise()\n",
    "#backward_func = bnn.functions.backward.LayerMeanStdTernarise(half_range_stds=0.5)\n",
    "backward_func = bnn.functions.backward.LayerQuantileTernarise(lo=0.25, hi=0.75)"
   ]
  },
  {
   "cell_type": "code",
   "execution_count": 58,
   "metadata": {},
   "outputs": [],
   "source": [
    "INPUT_DIM = 7\n",
    "OUTPUT_DIM = 7"
   ]
  },
  {
   "cell_type": "code",
   "execution_count": 59,
   "metadata": {},
   "outputs": [],
   "source": [
    "dims = [INPUT_DIM, 256, 256, OUTPUT_DIM]\n",
    "TBNN = bnn.network.TernBinNetwork(\n",
    "    *dims,\n",
    "    forward_func=forward_func,\n",
    "    backward_func=backward_func,\n",
    ")\n",
    "TBNN._initialise(W_mean=0, W_zero_prob=0.5)"
   ]
  },
  {
   "cell_type": "code",
   "execution_count": 60,
   "metadata": {},
   "outputs": [],
   "source": [
    "target_dims = [INPUT_DIM, 10, OUTPUT_DIM]\n",
    "Target_TBNN = bnn.network.TernBinNetwork(\n",
    "    *target_dims,\n",
    "    forward_func=forward_func,\n",
    "    backward_func=None,\n",
    ")\n",
    "Target_TBNN._initialise(W_mean=0, W_zero_prob=0.8)"
   ]
  },
  {
   "cell_type": "code",
   "execution_count": 61,
   "metadata": {},
   "outputs": [],
   "source": [
    "TN_DL = bnn.data.TargetNetworkDataLoader(\n",
    "    target_network=Target_TBNN,\n",
    "    datapoints=1000,\n",
    "    batch_size=1000,\n",
    "    include_last_if_uneven=True,\n",
    ")\n",
    "\n",
    "UnaryDL = bnn.data.AllUnaryFunctionsDataLoader(\n",
    "    input_dim=1,\n",
    "    datapoints=100,\n",
    "    batch_size=100,\n",
    "    include_last_if_uneven=True\n",
    ")\n",
    "\n",
    "DL = TN_DL"
   ]
  },
  {
   "cell_type": "code",
   "execution_count": 62,
   "metadata": {},
   "outputs": [],
   "source": [
    "loss_func: bnn.loss.LossFunction = bnn.loss.l1"
   ]
  },
  {
   "cell_type": "code",
   "execution_count": 63,
   "metadata": {},
   "outputs": [],
   "source": [
    "BernOpt = bnn.optimizer.ExpectationSGD(TBNN.parameters(), lr=0.0005)"
   ]
  },
  {
   "cell_type": "code",
   "execution_count": 64,
   "metadata": {},
   "outputs": [],
   "source": [
    "losses = []"
   ]
  },
  {
   "cell_type": "code",
   "execution_count": 65,
   "metadata": {},
   "outputs": [],
   "source": [
    "train_epochs = 500\n",
    "num_logs = 10\n",
    "epoch_log_rate = train_epochs // num_logs"
   ]
  },
  {
   "cell_type": "code",
   "execution_count": 66,
   "metadata": {},
   "outputs": [],
   "source": [
    "scheduler = torch.optim.lr_scheduler.ExponentialLR(optimizer=BernOpt, gamma=1.)"
   ]
  },
  {
   "cell_type": "code",
   "execution_count": 67,
   "metadata": {},
   "outputs": [
    {
     "name": "stderr",
     "output_type": "stream",
     "text": [
      "  0%|          | 1/500 [00:00<02:10,  3.82it/s]"
     ]
    },
    {
     "name": "stdout",
     "output_type": "stream",
     "text": [
      "epoch: 0\tloss: 6846\n"
     ]
    },
    {
     "name": "stderr",
     "output_type": "stream",
     "text": [
      " 10%|█         | 51/500 [00:11<01:32,  4.86it/s]"
     ]
    },
    {
     "name": "stdout",
     "output_type": "stream",
     "text": [
      "epoch: 50\tloss: 76\n"
     ]
    },
    {
     "name": "stderr",
     "output_type": "stream",
     "text": [
      " 16%|█▌        | 79/500 [00:17<01:34,  4.47it/s]"
     ]
    },
    {
     "name": "stdout",
     "output_type": "stream",
     "text": [
      "epoch: 79\tloss: 0\n"
     ]
    },
    {
     "name": "stderr",
     "output_type": "stream",
     "text": [
      "\n"
     ]
    }
   ],
   "source": [
    "zero_loss_count = 0\n",
    "zero_loss_count_for_early_stop = 10\n",
    "for epoch in tqdm.trange(train_epochs):\n",
    "    epoch_loss = 0\n",
    "    for batch in DL:\n",
    "        # forward pass and loss\n",
    "        output = TBNN.forward(batch.input)\n",
    "        loss = loss_func.forward(output=output, target=batch.target)\n",
    "\n",
    "        # backward pass\n",
    "        grad = loss_func.backward(output=output, target=batch.target)\n",
    "        out_grad = TBNN.backward(grad)\n",
    "\n",
    "        # optimizer step\n",
    "        BernOpt.step()\n",
    "\n",
    "        # sum loss\n",
    "        epoch_loss += loss\n",
    "\n",
    "    # save loss\n",
    "    losses.append(epoch_loss)\n",
    "\n",
    "    if epoch_loss == 0:\n",
    "        zero_loss_count += 1\n",
    "    else:\n",
    "        zero_loss_count = 0\n",
    "\n",
    "    early_exit = zero_loss_count >= zero_loss_count_for_early_stop\n",
    "\n",
    "    if early_exit or (epoch % epoch_log_rate) == 0:\n",
    "        print(f'epoch: {epoch}\\tloss: {loss}')\n",
    "\n",
    "    if early_exit:\n",
    "        break\n",
    "\n",
    "    scheduler.step()"
   ]
  },
  {
   "cell_type": "code",
   "execution_count": 68,
   "metadata": {},
   "outputs": [
    {
     "data": {
      "application/vnd.jupyter.widget-view+json": {
       "model_id": "ad10574205b345839afa0fd003f96a92",
       "version_major": 2,
       "version_minor": 0
      },
      "image/png": "[encoded data removed]",
      "text/html": [
       "\n",
       "            <div style=\"display: inline-block;\">\n",
       "                <div class=\"jupyter-widgets widget-label\" style=\"text-align: center;\">\n",
       "                    loss_curve_partial\n",
       "                </div>\n",
       "                <img src='data:image/png;base64,iVBORw0KGgoAAAANSUhEUgAAAoAAAAHgCAYAAAA10dzkAAAAOXRFWHRTb2Z0d2FyZQBNYXRwbG90bGliIHZlcnNpb24zLjguNCwgaHR0cHM6Ly9tYXRwbG90bGliLm9yZy8fJSN1AAAACXBIWXMAAA9hAAAPYQGoP6dpAABbFklEQVR4nO3deVxU9f4/8NcMs7A5ICCbLKKkgrlbOmqliZDSYtpimdFV65sXuymlZXXNpcJb10yT9FYm9isrbbFcSnDDVNxQXFDBBcWNwQ2GnYE5vz9wjk4uqRycMzOv5+PhIznnw5nPeybo1ed8Pp+jEARBABERERE5DaWtO0BEREREdxYDIBEREZGTYQAkIiIicjIMgEREREROhgGQiIiIyMkwABIRERE5GQZAIiIiIifDAEhERETkZBgAiYiIiJwMAyARERGRk2EAJCIiInIyDIBEREREToYBkIiIiMjJMAASERERORkGQCIiIiInwwBIRERE5GQYAImIiIicDAMgERERkZNhACQiIiJyMgyARERERE6GAZCIiIjIyTAAEhERETkZBkAiIiIiJ8MASERERORkGACJiIiInAwDIBEREZGTYQAkIiIicjIMgEREREROhgGQiIiIyMkwABIRERE5GQZAIiIiIifDAEhERETkZBgAiYiIiJwMAyARERGRk2EAJCIiInIyDIBEREREToYBkIiIiMjJMAASERERORkGQCIiIiInwwBIRERE5GQYAImIiIicDAMgERERkZNhACQiIiJyMgyARERERE6GAZCIiIjIyTAAEhERETkZBkAiIiIiJ8MASERERORkGACJiIiInAwDIBEREZGTYQAkIiIicjIMgEREREROhgGQiIiIyMkwABIRERE5GQZAIiIiIifDAEhERETkZFS27oA9M5vNOH36NJo0aQKFQmHr7hAREdFNEAQBpaWlCA4OhlLpnGNhDIANcPr0aYSGhtq6G0RERHQbTpw4gZCQEFt3wyYYABugSZMmAOr/BdLpdJJe22QyIS0tDbGxsVCr1ZJeWy5Yo2NgjY6BNToG1nhzjEYjQkNDxf+OOyMGwAaw3PbV6XSNEgDd3d2h0+kc+oeYNdo/1ugYWKNjYI23xpmnbznnjW8iIiIiJya7ANiiRQsoFIqr/iQmJgIAqqqqkJiYCF9fX3h6emLIkCEwGAxW1ygoKEB8fDzc3d3h7++P8ePHo7a21qrN+vXr0aVLF2i1WkRGRiI1NfVOlUhERERkU7ILgNu3b8eZM2fEP+np6QCAJ598EgAwbtw4LFu2DEuWLEFGRgZOnz6NwYMHi99fV1eH+Ph41NTUYPPmzVi4cCFSU1MxadIksU1+fj7i4+PRt29fZGdnY+zYsRg1ahRWrVp1Z4slIiIisgHZzQFs1qyZ1dfTp09Hq1at8MADD6CkpATz58/HokWL8OCDDwIAFixYgKioKGzZsgU9evRAWloa9u/fj9WrVyMgIACdOnXCtGnT8MYbb2Dy5MnQaDSYN28eIiIiMGPGDABAVFQUNm7ciJkzZyIuLu6O10xERER0J8luBPBKNTU1+OabbzBixAgoFApkZWXBZDIhJiZGbNO2bVuEhYUhMzMTAJCZmYn27dsjICBAbBMXFwej0YicnByxzZXXsLSxXIOIiIjIkcluBPBKS5cuRXFxMV544QUAQGFhITQaDby9va3aBQQEoLCwUGxzZfiznLecu1Ebo9GIyspKuLm5XbM/1dXVqK6uFr82Go0A6lckmUym2yvyOizXk/q6csIaHQNrdAys0TGwxlu7hjOTdQCcP38+BgwYgODgYFt3BQCQnJyMKVOmXHU8LS0N7u7ujfKaljmQjow1OgbW6BhYo2NgjTdWUVEhYU/sk2wD4PHjx7F69Wr8/PPP4rHAwEDU1NSguLjYahTQYDAgMDBQbLNt2zara1lWCV/Z5q8rhw0GA3Q63XVH/wBg4sSJSEpKEr+2bCQZGxvbKPsApqeno3///g69lxNrtH+s0TGwRsfAGm+O5Q6eM5NtAFywYAH8/f0RHx8vHuvatSvUajXWrFmDIUOGAAByc3NRUFAAvV4PANDr9Xj//fdRVFQEf39/APX/l6DT6RAdHS22WblypdXrpaeni9e4Hq1WC61We9VxtVrdaD9ojXltuWCNjoE1OgbW6BhY499/r7OT5SIQs9mMBQsWICEhASrV5Yzq5eWFkSNHIikpCevWrUNWVhb+8Y9/QK/Xo0ePHgCA2NhYREdHY/jw4di9ezdWrVqFd955B4mJiWJ4e/nll3H06FFMmDABBw8exGeffYbFixdj3LhxNqmXiIiI6E6S5Qjg6tWrUVBQgBEjRlx1bubMmVAqlRgyZAiqq6sRFxeHzz77TDzv4uKC5cuXY/To0dDr9fDw8EBCQgKmTp0qtomIiMCKFSswbtw4zJo1CyEhIfjyyy+5BQwRERE5BVkGwNjYWAiCcM1zrq6uSElJQUpKynW/Pzw8/KpbvH/Vp08f7Nq1q0H9JCIiIrJHsgyAzu6PfWewYs9peJYrMNDWnSEiIiKHI8s5gM7uYGEplu0pREGZwtZdISIiIgfEAChDapf6j6Xu2nfBiYiIiBqEAVCGVMr6kT8GQCIiImoMDIAyJI4Amm3cESIiInJIDIAypHbhCCARERE1HgZAGVJxDiARERE1IgZAGeIcQCIiImpMDIAypFFxBJCIiIgaDwOgDKmUlkUg3AeQiIiIpMcAKEMqLgIhIiKiRsQAKENcBUxERESNiQFQhvgkECIiImpMDIAyJM4BZAAkIiKiRsAAKEO8BUxERESNiQFQhiwbQZsZAImIiKgRMADKkGUEsJbPAiYiIqJGwAAoQ1wEQkRERI2JAVCGLI+C4y1gIiIiagwMgDLEEUAiIiJqTAyAMsQngRAREVFjYgCUocsjgAoIAlMgERERSYsBUIbUyssfSy0nAhIREZHEGABlyHILGABqeR+YiIiIJMYAKENWAdDMzQCJiIhIWgyAMnTlLeAajgASERGRxBgAZUipVMDl0l6AtXUcASQiIiJpMQDKlGUzaC4CISIiIqkxAMqUZR4gF4EQERGR1BgAZUpzaS/AGt4CJiIiIokxAMqUeAuYI4BEREQkMQZAmVJdGgHkNjBEREQkNQZAmeIIIBERETUWBkCZUnMOIBERETUSBkCZUrtwGxgiIiJqHAyAMnV5GxiOABIREZG0GABlSnXpcXCcA0hERERSYwCUKcstYM4BJCIiIqnJMgCeOnUKzz33HHx9feHm5ob27dtjx44d4nlBEDBp0iQEBQXBzc0NMTExOHTokNU1Lly4gGHDhkGn08Hb2xsjR45EWVmZVZs9e/bgvvvug6urK0JDQ/Hhhx/ekfpuhlrcBoYjgERERCQt2QXAixcvolevXlCr1fj999+xf/9+zJgxA02bNhXbfPjhh5g9ezbmzZuHrVu3wsPDA3FxcaiqqhLbDBs2DDk5OUhPT8fy5cuxYcMGvPTSS+J5o9GI2NhYhIeHIysrCx999BEmT56Mzz///I7Wez3cBoaIiIgai8rWHfir//znPwgNDcWCBQvEYxEREeLfBUHAJ598gnfeeQePPfYYAODrr79GQEAAli5diqFDh+LAgQP4448/sH37dnTr1g0A8Omnn2LgwIH473//i+DgYHz77beoqanBV199BY1Gg3bt2iE7Oxsff/yxVVC0FXERCDeCJiIiIonJbgTwt99+Q7du3fDkk0/C398fnTt3xhdffCGez8/PR2FhIWJiYsRjXl5e6N69OzIzMwEAmZmZ8Pb2FsMfAMTExECpVGLr1q1im/vvvx8ajUZsExcXh9zcXFy8eLGxy/xblkUgJo4AEhERkcRkNwJ49OhRzJ07F0lJSXjrrbewfft2/Otf/4JGo0FCQgIKCwsBAAEBAVbfFxAQIJ4rLCyEv7+/1XmVSgUfHx+rNleOLF55zcLCQqtbzhbV1dWorq4WvzYajQAAk8kEk8nUkLKvoroUzatqaiW/tlxY6nLU+gDW6ChYo2NgjY5Bihod+f25WbILgGazGd26dcMHH3wAAOjcuTP27duHefPmISEhwaZ9S05OxpQpU646npaWBnd3d0lf66xBCUCJ/QcPYqXxgKTXlpv09HRbd6HRsUbHwBodA2t0DA2psaKiQsKe2CfZBcCgoCBER0dbHYuKisJPP/0EAAgMDAQAGAwGBAUFiW0MBgM6deoktikqKrK6Rm1tLS5cuCB+f2BgIAwGg1Uby9eWNn81ceJEJCUliV8bjUaEhoYiNjYWOp3uVku9ofU/7cGOc4Vo2eouDOwbKem15cJkMiE9PR39+/eHWq22dXcaBWt0DKzRMbBGxyBFjZY7eM5MdgGwV69eyM3NtTqWl5eH8PBwAPULQgIDA7FmzRox8BmNRmzduhWjR48GAOj1ehQXFyMrKwtdu3YFAKxduxZmsxndu3cX27z99tswmUziv0Dp6elo06bNNW//AoBWq4VWq73quFqtlvwHTaOq/2jMUDjsD7FFY7x/csMaHQNrdAys0TE0pEZHf29uhuwWgYwbNw5btmzBBx98gMOHD2PRokX4/PPPkZiYCABQKBQYO3Ys3nvvPfz222/Yu3cvnn/+eQQHB2PQoEEA6kcMH3roIbz44ovYtm0bNm3ahDFjxmDo0KEIDg4GADz77LPQaDQYOXIkcnJy8MMPP2DWrFlWI3y2pLm0CpiLQIiIiEhqshsBvOeee/DLL79g4sSJmDp1KiIiIvDJJ59g2LBhYpsJEyagvLwcL730EoqLi9G7d2/88ccfcHV1Fdt8++23GDNmDPr16welUokhQ4Zg9uzZ4nkvLy+kpaUhMTERXbt2hZ+fHyZNmiSLLWAAQCVuBM1tYIiIiEhasguAAPDwww/j4Ycfvu55hUKBqVOnYurUqddt4+Pjg0WLFt3wdTp06IA///zztvvZmLgRNBERETUW2d0CpnqWjaBNfBQcERERSYwBUKYszwI21fEWMBEREUmLAVCm1LwFTERERI2EAVCmxEUgHAEkIiIiiTEAyhTnABIREVFjYQCUKcstYM4BJCIiIqkxAMqUWrwFzBFAIiIikhYDoExZbgFzI2giIiKSGgOgTKmUHAEkIiKixsEAKFNqLgIhIiKiRsIAKFPcCJqIiIgaCwOgTIlzAHkLmIiIiCTGAChTl+cAcgSQiIiIpMUAKFOcA0hERESNhQFQpjgHkIiIiBoLA6BMqZScA0hERESNgwFQpi5vBM0ASERERNJiAJQptZK3gImIiKhxMADKlFp1aREIbwETERGRxBgAZUrcBobPAiYiIiKJMQDKFDeCJiIiosbCAChTauXlRSCCwBBIRERE0mEAlCmVy+WPhvMAiYiISEoMgDJleRIIwHmAREREJC0GQJmyLAIBOAJIRERE0mIAlCmrEUDuBUhEREQSYgCUKYVCASXqR/44AkhERERSYgCUMcs6ED4NhIiIiKTEAChjlrvAfB4wERERSYkBUMbEAMgRQCIiIpIQA6CMWQIg5wASERGRlBgAZexyAOQIIBEREUmHAVDGLs8BZAAkIiIi6TAAytjlVcC8BUxERETSYQCUMaW4CIQBkIiIiKTDAChjKs4BJCIiokbAAChjXARCREREjYEBUMa4ETQRERE1BgZAGVMqLM8C5gggERERSUd2AXDy5MlQKBRWf9q2bSuer6qqQmJiInx9feHp6YkhQ4bAYDBYXaOgoADx8fFwd3eHv78/xo8fj9raWqs269evR5cuXaDVahEZGYnU1NQ7Ud4t4UbQRERE1BhkFwABoF27djhz5oz4Z+PGjeK5cePGYdmyZViyZAkyMjJw+vRpDB48WDxfV1eH+Ph41NTUYPPmzVi4cCFSU1MxadIksU1+fj7i4+PRt29fZGdnY+zYsRg1ahRWrVp1R+v8O6pLnw4fBUdERERSUtm6A9eiUqkQGBh41fGSkhLMnz8fixYtwoMPPggAWLBgAaKiorBlyxb06NEDaWlp2L9/P1avXo2AgAB06tQJ06ZNwxtvvIHJkydDo9Fg3rx5iIiIwIwZMwAAUVFR2LhxI2bOnIm4uLg7WuuNWLaBMXEOIBEREUlIlgHw0KFDCA4OhqurK/R6PZKTkxEWFoasrCyYTCbExMSIbdu2bYuwsDBkZmaiR48eyMzMRPv27REQECC2iYuLw+jRo5GTk4POnTsjMzPT6hqWNmPHjr1hv6qrq1FdXS1+bTQaAQAmkwkmk0mCyi8zmUziLeDqGumvLweWmhyxNgvW6BhYo2NgjY5Bihod+f25WbILgN27d0dqairatGmDM2fOYMqUKbjvvvuwb98+FBYWQqPRwNvb2+p7AgICUFhYCAAoLCy0Cn+W85ZzN2pjNBpRWVkJNze3a/YtOTkZU6ZMuep4Wloa3N3db6veG3FR1N8D3puzHysv5kh+fblIT0+3dRcaHWt0DKzRMbBGx9CQGisqKiTsiX2SXQAcMGCA+PcOHTqge/fuCA8Px+LFi68bzO6UiRMnIikpSfzaaDQiNDQUsbGx0Ol0kr6WyWTCosNrAACRd7XBwAdaSnp9OTCZTEhPT0f//v2hVqtt3Z1GwRodA2t0DKzRMUhRo+UOnjOTXQD8K29vb7Ru3RqHDx9G//79UVNTg+LiYqtRQIPBIM4ZDAwMxLZt26yuYVklfGWbv64cNhgM0Ol0NwyZWq0WWq32quNqtbpRftAszwI2Q+mwP8hA471/csIaHQNrdAys0TE0pEZHf29uhixXAV+prKwMR44cQVBQELp27Qq1Wo01a9aI53Nzc1FQUAC9Xg8A0Ov12Lt3L4qKisQ26enp0Ol0iI6OFttceQ1LG8s15OLyRtBcBUxERETSkV0AfP3115GRkYFjx45h8+bNePzxx+Hi4oJnnnkGXl5eGDlyJJKSkrBu3TpkZWXhH//4B/R6PXr06AEAiI2NRXR0NIYPH47du3dj1apVeOedd5CYmCiO3r388ss4evQoJkyYgIMHD+Kzzz7D4sWLMW7cOFuWfhXuA0hERESNQXa3gE+ePIlnnnkG58+fR7NmzdC7d29s2bIFzZo1AwDMnDkTSqUSQ4YMQXV1NeLi4vDZZ5+J3+/i4oLly5dj9OjR0Ov18PDwQEJCAqZOnSq2iYiIwIoVKzBu3DjMmjULISEh+PLLL2W1BQzAZwETERFR45BdAPz+++9veN7V1RUpKSlISUm5bpvw8HCsXLnyhtfp06cPdu3adVt9vFPEW8AMgERERCQh2d0CpstcLM8C5kbQREREJCEGQBlz4aPgiIiIqBEwAMoYF4EQERFRY2AAlDEuAiEiIqLGwAAoY5cXgXAEkIiIiKTDAChj3AiaiIiIGgMDoIxZAmANRwCJiIhIQgyAMsZVwERERNQYGABljHMAiYiIqDEwAMqYuAqYcwCJiIhIQgyAMqbkNjBERETUCBgAZUzFW8BERETUCBgAZUx8FjBHAImIiEhCDIAyJq4CNnMEkIiIiKTDAChj4hzAWo4AEhERkXQYAGVMJa4C5gggERERSYcBUMYu7wPIEUAiIiKSDgOgjCm5CpiIiIgaAQOgjHEjaCIiImoMDIAyprr06Zg4AkhEREQSYgCUMcsIYJ1ZgCAwBBIREZE0GABlzDIHEOAoIBEREUmHAVDGXK4IgLWcB0hEREQSYQCUsSsDoKmWI4BEREQkDQZAGbMKgBwBJCIiIokwAMqYQgGoLk0E5F6AREREJBUGQJlTXRoGNPFpIERERCQRBkCZUynrPyIGQCIiIpIKA6DMqS+NANaaeQuYiIiIpMEAKHNqF44AEhERkbQYAGWOi0CIiIhIagyAMsdFIERERCQ1BkCZu3wLmCOAREREJA0GQJlTW24BcyNoIiIikggDoMypLo0Acg4gERERSYUBUOYscwBrOAeQiIiIJMIAKHNqjgASERGRxBgAZY5zAImIiEhqsg+A06dPh0KhwNixY8VjVVVVSExMhK+vLzw9PTFkyBAYDAar7ysoKEB8fDzc3d3h7++P8ePHo7a21qrN+vXr0aVLF2i1WkRGRiI1NfUOVHRrLm8DwxFAIiIikoasA+D27dvxv//9Dx06dLA6Pm7cOCxbtgxLlixBRkYGTp8+jcGDB4vn6+rqEB8fj5qaGmzevBkLFy5EamoqJk2aJLbJz89HfHw8+vbti+zsbIwdOxajRo3CqlWr7lh9N8PyLOBazgEkIiIiicg2AJaVlWHYsGH44osv0LRpU/F4SUkJ5s+fj48//hgPPvggunbtigULFmDz5s3YsmULACAtLQ379+/HN998g06dOmHAgAGYNm0aUlJSUFNTAwCYN28eIiIiMGPGDERFRWHMmDF44oknMHPmTJvUez3cCJqIiIikprJ1B64nMTER8fHxiImJwXvvvScez8rKgslkQkxMjHisbdu2CAsLQ2ZmJnr06IHMzEy0b98eAQEBYpu4uDiMHj0aOTk56Ny5MzIzM62uYWlz5a3mv6qurkZ1dbX4tdFoBACYTCaYTKaGlmzFcj1Vff5DlalW8tewNUs9jlbXlVijY2CNjoE1OgYpanTk9+dmyTIAfv/999i5cye2b99+1bnCwkJoNBp4e3tbHQ8ICEBhYaHY5srwZzlvOXejNkajEZWVlXBzc7vqtZOTkzFlypSrjqelpcHd3f3mC7wFZw2FAJTYl7MfKy/mNMpr2Fp6erqtu9DoWKNjYI2OgTU6hobUWFFRIWFP7JPsAuCJEyfw6quvIj09Ha6urrbujpWJEyciKSlJ/NpoNCI0NBSxsbHQ6XSSvpbJZEJ6ejpCQ5pj+7kziLyrDQY+0FLS17A1S439+/eHWq22dXcaBWt0DKzRMbBGxyBFjZY7eM5MdgEwKysLRUVF6NKli3isrq4OGzZswJw5c7Bq1SrU1NSguLjYahTQYDAgMDAQABAYGIht27ZZXdeySvjKNn9dOWwwGKDT6a45+gcAWq0WWq32quNqtbrRftA0ahcAQB0UDvvD3Jjvn1ywRsfAGh0Da3QMDanR0d+bmyG7RSD9+vXD3r17kZ2dLf7p1q0bhg0bJv5drVZjzZo14vfk5uaioKAAer0eAKDX67F3714UFRWJbdLT06HT6RAdHS22ufIaljaWa8gFN4ImIiIiqcluBLBJkya4++67rY55eHjA19dXPD5y5EgkJSXBx8cHOp0Or7zyCvR6PXr06AEAiI2NRXR0NIYPH44PP/wQhYWFeOedd5CYmCiO4L388suYM2cOJkyYgBEjRmDt2rVYvHgxVqxYcWcL/huWjaBN3AiaiIiIJCK7AHgzZs6cCaVSiSFDhqC6uhpxcXH47LPPxPMuLi5Yvnw5Ro8eDb1eDw8PDyQkJGDq1Klim4iICKxYsQLjxo3DrFmzEBISgi+//BJxcXG2KOm6LNvAcASQiIiIpGIXAXD9+vVWX7u6uiIlJQUpKSnX/Z7w8HCsXLnyhtft06cPdu3aJUUXG41lI2juA0hERERSkd0cQLKm5qPgiIiISGIMgDJ3eREIRwCJiIhIGgyAMifOATRzBJCIiIikwQAoc6pLq4BrOAJIREREEmEAlDneAiYiIiKpMQDKnJrbwBAREZHEGABlTtwGhnMAiYiISCIMgDJ3eSNo3gImIiIiaTAAypxlEQg3giYiIiKpMADKnMbF8iQQ3gImIiIiaTAAytzlfQA5AkhERETSYACUOZW4DQxHAImIiEgakgbAhQsXYsWKFeLXEyZMgLe3N3r27Injx49L+VJOgxtBExERkdQkDYAffPAB3NzcAACZmZlISUnBhx9+CD8/P4wbN07Kl3IaGo4AEhERkcRUUl7sxIkTiIyMBAAsXboUQ4YMwUsvvYRevXqhT58+Ur6U0+A2MERERCQ1SUcAPT09cf78eQBAWloa+vfvDwBwdXVFZWWllC/lNLgRNBEREUlN0hHA/v37Y9SoUejcuTPy8vIwcOBAAEBOTg5atGgh5Us5DcsIIPcBJCIiIqlIOgKYkpICvV6Ps2fP4qeffoKvry8AICsrC88884yUL+U0OAeQiIiIpCbpCKC3tzfmzJlz1fEpU6ZI+TJOhSOAREREJDVJRwD/+OMPbNy4Ufw6JSUFnTp1wrPPPouLFy9K+VJOw7INTC3nABIREZFEJA2A48ePh9FoBADs3bsXr732GgYOHIj8/HwkJSVJ+VJOw7IRdJ1ZgJkhkIiIiCQg6S3g/Px8REdHAwB++uknPPzww/jggw+wc+dOcUEI3RrNpVvAAGAym6FVutiwN0REROQIJB0B1Gg0qKioAACsXr0asbGxAAAfHx9xZJBujWUbGIALQYiIiEgako4A9u7dG0lJSejVqxe2bduGH374AQCQl5eHkJAQKV/KaaiuGAFkACQiIiIpSDoCOGfOHKhUKvz444+YO3cumjdvDgD4/fff8dBDD0n5Uk7DsggE4POAiYiISBqSjgCGhYVh+fLlVx2fOXOmlC/jVBQKBVRKBWrNAmrNDIBERETUcJIGQACoq6vD0qVLceDAAQBAu3bt8Oijj8LFhYsXbpfaRYlacx1vARMREZEkJA2Ahw8fxsCBA3Hq1Cm0adMGAJCcnIzQ0FCsWLECrVq1kvLlnIbKRQGYuBk0ERERSUPSOYD/+te/0KpVK5w4cQI7d+7Ezp07UVBQgIiICPzrX/+S8qWcitryODjuA0hEREQSkHQEMCMjA1u2bIGPj494zNfXF9OnT0evXr2kfCmnYlkIUlPLEUAiIiJqOElHALVaLUpLS686XlZWBo1GI+VLORWOABIREZGUJA2ADz/8MF566SVs3boVgiBAEARs2bIFL7/8Mh599FEpX8qpqC/tBVjLOYBEREQkAUkD4OzZs9GqVSvo9Xq4urrC1dUVPXv2RGRkJD755BMpX8qpWJ4HbOIqYCIiIpKApHMAvb298euvv+Lw4cPiNjBRUVGIjIyU8mWcjmUOIFcBExERkRQaHACTkpJueH7dunXi3z/++OOGvpxT0qgscwAZAImIiKjhGhwAd+3adVPtFArF3zeia7o8AshbwERERNRwDQ6AV47wUeOwzAHkk0CIiIhICpIuAqHGYVkFzDmAREREJAXZBcC5c+eiQ4cO0Ol00Ol00Ov1+P3338XzVVVVSExMhK+vLzw9PTFkyBAYDAaraxQUFCA+Ph7u7u7w9/fH+PHjUVtba9Vm/fr16NKlC7RaLSIjI5GamnonyrstanEVMAMgERERNZzsAmBISAimT5+OrKws7NixAw8++CAee+wx5OTkAADGjRuHZcuWYcmSJcjIyMDp06cxePBg8fvr6uoQHx+PmpoabN68GQsXLkRqaiomTZoktsnPz0d8fDz69u2L7OxsjB07FqNGjcKqVavueL03Q6XkRtBEREQkHUm3gZHCI488YvX1+++/j7lz52LLli0ICQnB/PnzsWjRIjz44IMAgAULFiAqKgpbtmxBjx49kJaWhv3792P16tUICAhAp06dMG3aNLzxxhuYPHkyNBoN5s2bh4iICMyYMQNA/VY1GzduxMyZMxEXF3fHa/473AiaiIiIpCS7AHiluro6LFmyBOXl5dDr9cjKyoLJZEJMTIzYpm3btggLC0NmZiZ69OiBzMxMtG/fHgEBAWKbuLg4jB49Gjk5OejcuTMyMzOtrmFpM3bs2Bv2p7q6GtXV1eLXRqMRAGAymWAymSSo+DLL9UwmEy4tAkZlTa3kr2NLV9boqFijY2CNjoE1OgYpanTk9+dmyTIA7t27F3q9HlVVVfD09MQvv/yC6OhoZGdnQ6PRwNvb26p9QEAACgsLAQCFhYVW4c9y3nLuRm2MRiMqKyvh5uZ2zX4lJydjypQpVx1PS0uDu7v7bdX6d9LT01F0RglAiX05+7GyOKdRXseW0tPTbd2FRscaHQNrdAys0TE0pMaKigoJe2KfZBkA27Rpg+zsbJSUlODHH39EQkICMjIybN0tTJw40Wrja6PRiNDQUMTGxkKn00n6WiaTCenp6ejfvz821uRh+7lTiGzdBgMfaCnp69jSlTWq1Wpbd6dRsEbHwBodA2t0DFLUaLmD58xkGQA1Go34+LiuXbti+/btmDVrFp5++mnU1NSguLjYahTQYDAgMDAQABAYGIht27ZZXc+ySvjKNn9dOWwwGKDT6a47+gcAWq0WWq32quNqtbrRftDUajU0KhcAgBkKh/yBbsz3Ty5Yo2NgjY6BNTqGhtTo6O/NzZDdKuBrMZvNqK6uRteuXaFWq7FmzRrxXG5uLgoKCqDX6wEAer0ee/fuRVFRkdgmPT0dOp0O0dHRYpsrr2FpY7mG3Ki5ETQRERFJSHYjgBMnTsSAAQMQFhaG0tJSLFq0COvXr8eqVavg5eWFkSNHIikpCT4+PtDpdHjllVeg1+vRo0cPAEBsbCyio6MxfPhwfPjhhygsLMQ777yDxMREcfTu5Zdfxpw5czBhwgSMGDECa9euxeLFi7FixQpbln5dlx8Fx1XARERE1HCyC4BFRUV4/vnncebMGXh5eaFDhw5YtWoV+vfvDwCYOXMmlEolhgwZgurqasTFxeGzzz4Tv9/FxQXLly/H6NGjodfr4eHhgYSEBEydOlVsExERgRUrVmDcuHGYNWsWQkJC8OWXX8pyCxgAUKssG0FzBJCIiIgaTnYBcP78+Tc87+rqipSUFKSkpFy3TXh4OFauXHnD6/Tp0we7du26rT7eaepLI4C1Zo4AEhERUcPZxRxAZ6dy4QggERERSYcB0A6oXDgHkIiIiKTDAGgHNOIqYAZAIiIiajgGQDsgrgI28xYwERERNRwDoB1QcQSQiIiIJMQAaAfU4hxAjgASERFRwzEA2gG1uAqYI4BERETUcAyAdkDFR8ERERGRhBgA7QA3giYiIiIpMQDaAcsIYA1HAImIiEgCDIB2wLIRNFcBExERkRQYAO2AhnMAiYiISEIMgHbg8kbQHAEkIiKihmMAtAMqbgNDREREEmIAtANqcQ4gbwETERFRwzEA2oHLG0EzABIREVHDMQDaAXEEkHMAiYiISAIMgHZApeQqYCIiIpIOA6AdsOwDWMNFIERERCQBBkA7cHkfQAZAIiIiajgGQDtg2QbGLABmM28DExERUcMwANoByy1ggJtBExERUcMxANoBtfLyx8StYIiIiKihGADtgPqKEUDOAyQiIqKGYgC0Ay7KK24BcwSQiIiIGogB0A4oFApuBk1ERESSYQC0E5bNoE21HAEkIiKihmEAtBOWEUCuAiYiIqKGYgC0E2oXPg6OiIiIpMEAaCcsewGauAqYiIiIGogB0E6IcwAZAImIiKiBGADtxOVVwLwFTERERA3DAGgnLHMAOQJIREREDcUAaCdUXARCREREEmEAtBPcCJqIiIikwgBoJ1SXHgdXw42giYiIqIEYAO2EuA8gRwCJiIiogRgA7QQ3giYiIiKpyC4AJicn45577kGTJk3g7++PQYMGITc316pNVVUVEhMT4evrC09PTwwZMgQGg8GqTUFBAeLj4+Hu7g5/f3+MHz8etbW1Vm3Wr1+PLl26QKvVIjIyEqmpqY1d3m3jRtBEREQkFdkFwIyMDCQmJmLLli1IT0+HyWRCbGwsysvLxTbjxo3DsmXLsGTJEmRkZOD06dMYPHiweL6urg7x8fGoqanB5s2bsXDhQqSmpmLSpElim/z8fMTHx6Nv377Izs7G2LFjMWrUKKxateqO1nuzLm8EzRFAIiIiahiVrTvwV3/88YfV16mpqfD390dWVhbuv/9+lJSUYP78+Vi0aBEefPBBAMCCBQsQFRWFLVu2oEePHkhLS8P+/fuxevVqBAQEoFOnTpg2bRreeOMNTJ48GRqNBvPmzUNERARmzJgBAIiKisLGjRsxc+ZMxMXF3fG6/45GxVXAREREJA3ZBcC/KikpAQD4+PgAALKysmAymRATEyO2adu2LcLCwpCZmYkePXogMzMT7du3R0BAgNgmLi4Oo0ePRk5ODjp37ozMzEyra1jajB079rp9qa6uRnV1tfi10WgEAJhMJphMpgbXeiXL9Sz/tAzVVtXUSv5atvLXGh0Ra3QMrNExsEbHIEWNjvz+3CxZB0Cz2YyxY8eiV69euPvuuwEAhYWF0Gg08Pb2tmobEBCAwsJCsc2V4c9y3nLuRm2MRiMqKyvh5uZ2VX+Sk5MxZcqUq46npaXB3d399or8G+np6QAAQ6ESgBL7cvZjZXFOo7yWrVhqdGSs0TGwRsfAGh1DQ2qsqKiQsCf2SdYBMDExEfv27cPGjRtt3RUAwMSJE5GUlCR+bTQaERoaitjYWOh0Oklfy2QyIT09Hf3794darcbGpTnYfvYUWt3VBgP7tJT0tWzlrzU6ItboGFijY2CNjkGKGi138JyZbAPgmDFjsHz5cmzYsAEhISHi8cDAQNTU1KC4uNhqFNBgMCAwMFBss23bNqvrWVYJX9nmryuHDQYDdDrdNUf/AECr1UKr1V51XK1WN9oPmuXaWrULAMAMhcP9UDfm+ycXrNExsEbHwBodQ0NqdPT35mbIbhWwIAgYM2YMfvnlF6xduxYRERFW57t27Qq1Wo01a9aIx3Jzc1FQUAC9Xg8A0Ov12Lt3L4qKisQ26enp0Ol0iI6OFttceQ1LG8s15MayCpiLQIiIiKihZDcCmJiYiEWLFuHXX39FkyZNxDl7Xl5ecHNzg5eXF0aOHImkpCT4+PhAp9PhlVdegV6vR48ePQAAsbGxiI6OxvDhw/Hhhx+isLAQ77zzDhITE8URvJdffhlz5szBhAkTMGLECKxduxaLFy/GihUrbFb7jYjPAuY2MERERNRAshsBnDt3LkpKStCnTx8EBQWJf3744QexzcyZM/Hwww9jyJAhuP/++xEYGIiff/5ZPO/i4oLly5fDxcUFer0ezz33HJ5//nlMnTpVbBMREYEVK1YgPT0dHTt2xIwZM/Dll1/KcgsYAFBdehJIDTeCJiIiogaS3QigIPz9CJerqytSUlKQkpJy3Tbh4eFYuXLlDa/Tp08f7Nq165b7aAtqJUcAiYiISBqyGwGkaxOfBcw5gERERNRADIB2wnILmI+CIyIiooZiALQTlkUgJs4BJCIiogZiALQTKs4BJCIiIokwANoJtcpyC5gjgERERNQwDIB2Qi1uBM0RQCIiImoYBkA7oeIcQCIiIpIIA6CduLwKmAGQiIiIGoYB0E5o+Cg4IiIikggDoJ1QXZoDaOIcQCIiImogBkA7oRJHAHkLmIiIiBqGAdBOqDkHkIiIiCTCAGgnxGcBcw4gERERNRADoJ0Qt4ExcwSQiIiIGoYB0E6IG0FzBJCIiIgaiAHQTnAjaCIiIpIKA6CdUIsBkCOARERE1DAMgHbi8iIQjgASERFRwzAA2gnxUXDcCJqIiIgaiAHQTqiVnANIRERE0mAAtBOWEUBBAOo4CkhEREQNwABoJyyLQACOAhIREVHDMADaCcsiEACo5QggERERNQADoJ1QKa8YAazlCCARERHdPgZAO+FyZQDk4+CIiIioARgA7YRCoYDGhY+DIyIiooZjALQjlsfBMQASERFRQzAA2hHLPEDeAiYiIqKGYAC0I5aVwNwGhoiIiBqCAdCOqDkHkIiIiCTAAGhHLHMAOQJIREREDcEAaEfEEUBuBE1EREQNwABoR8RFINwImoiIiBqAAdCOqCyLQDgCSERERA3AAGhH3DUuAICSSpONe0JERET2jAHQjtzl7wkAyCsstXFPiIiIyJ4xANqRqCAdAODAGaONe0JERET2jAHQjrQNbAIAOMgRQCIiImoAWQbADRs24JFHHkFwcDAUCgWWLl1qdV4QBEyaNAlBQUFwc3NDTEwMDh06ZNXmwoULGDZsGHQ6Hby9vTFy5EiUlZVZtdmzZw/uu+8+uLq6IjQ0FB9++GFjl9YgbS+NAJ4qrkRJBecBEhER0e2RZQAsLy9Hx44dkZKScs3zH374IWbPno158+Zh69at8PDwQFxcHKqqqsQ2w4YNQ05ODtLT07F8+XJs2LABL730knjeaDQiNjYW4eHhyMrKwkcffYTJkyfj888/b/T6bpeXmxrNvd0AAAcLeRuYiIiIbo/K1h24lgEDBmDAgAHXPCcIAj755BO88847eOyxxwAAX3/9NQICArB06VIMHToUBw4cwB9//IHt27ejW7duAIBPP/0UAwcOxH//+18EBwfj22+/RU1NDb766itoNBq0a9cO2dnZ+Pjjj62CotxEBTXBqeJKHDhjRPeWvrbuDhEREdkhWQbAG8nPz0dhYSFiYmLEY15eXujevTsyMzMxdOhQZGZmwtvbWwx/ABATEwOlUomtW7fi8ccfR2ZmJu6//35oNBqxTVxcHP7zn//g4sWLaNq06VWvXV1djerqavFro7F+FM5kMsFkkvaWrOV6f71ua39PrD5QhP2nSyR/zTvtejU6EtboGFijY2CNjkGKGh35/blZdhcACwsLAQABAQFWxwMCAsRzhYWF8Pf3tzqvUqng4+Nj1SYiIuKqa1jOXSsAJicnY8qUKVcdT0tLg7u7+21WdGPp6elWX1ecVwBwwZaDJ7Fy5fFGec077a81OiLW6BhYo2NgjY6hITVWVFRI2BP7ZHcB0JYmTpyIpKQk8Wuj0YjQ0FDExsZCp9NJ+lomkwnp6eno378/1Gq1eDzqXDlS8zahqMYFcQ/FwuXS4+Hs0fVqdCSs0TGwRsfAGh2DFDVa7uA5M7sLgIGBgQAAg8GAoKAg8bjBYECnTp3ENkVFRVbfV1tbiwsXLojfHxgYCIPBYNXG8rWlzV9ptVpotdqrjqvV6kb7QfvrtVsFeMFVrUSVyYxTxhq0aubZKK97JzXm+ycXrNExsEbHwBodQ0NqdPT35mbIchXwjURERCAwMBBr1qwRjxmNRmzduhV6vR4AoNfrUVxcjKysLLHN2rVrYTab0b17d7HNhg0brOYBpKeno02bNte8/SsXLkoF2gTWjzYePMP9AImIiOjWyTIAlpWVITs7G9nZ2QDqF35kZ2ejoKAACoUCY8eOxXvvvYfffvsNe/fuxfPPP4/g4GAMGjQIABAVFYWHHnoIL774IrZt24ZNmzZhzJgxGDp0KIKDgwEAzz77LDQaDUaOHImcnBz88MMPmDVrltUtXrmKurQhNJ8IQkRERLdDlreAd+zYgb59+4pfW0JZQkICUlNTMWHCBJSXl+Oll15CcXExevfujT/++AOurq7i93z77bcYM2YM+vXrB6VSiSFDhmD27NnieS8vL6SlpSExMRFdu3aFn58fJk2aJOstYCwsj4TjXoBERER0O2QZAPv06QNBEK57XqFQYOrUqZg6dep12/j4+GDRokU3fJ0OHTrgzz//vO1+2kpbcQSQt4CJiIjo1snyFjDdmNUj4Sq5lxERERHdGgZAO2T1SDjOAyQiIqJbxABop6KC6m8DHyzkbWAiIiK6NQyAdsqyEIQrgYmIiOhWMQDaqbaBDIBERER0exgA7ZTlFnCuoRR15uuvmCYiIiL6KwZAOxXu6yE+Eu7Y+XJbd4eIiIjsCAOgnZLbI+HyDKUYPn8reiavwYa8s7buDhEREd0AA6Adk8Mj4cqqa/HBygMYOOtP/HnoHE6XVCFhwTakrDt8w828iYiIyHZk+SQQujm2fCScIAhYtucM3l+xHwZjNQAgNjoAXm5qLMk6iY9W5WLPyWLMeKoTPLX814yIiEhO+F9mO2arR8IdP1+ON3/ai8yj5wEA4b7umPxIO/Rt6w8A6BzWFO/+tg+rcgw4PGcj/je8GyL9Pe9oH4mIiOj6eAvYjt3qI+Eqa+qw49gFpO83wHybK4d/230a8bM3IvPoeWhVSiT1b41VY+8Xwx8APNs9DD/8nx6BOlccOVuOQSmbsCqn8LZej4iIiKTHEUA7Znkk3KniShw8Y0T3lr5W5w8WGpF1/CL2nCjB7pPFOFRUJm4ZM/mRaLzQK+KmX6uypg5TluXg++0nAAD3tGiKGU92Qpiv+zXbdwlrimWv9Ebiop3Yln8B//f/spDYtxWS+reBi1JxmxUTERGRFBgA7VxUUJP6AFhYKgbArOMX8XF6LjYdPn9Ve0+tCmXVtUjdfAzP61tAeRNh7JChFImLdiLPUAaFAhjTNxKv9rsLKpcbDyA3a6LFt6O6I3nlQXy1KR8p645g7ykjZg/tBG93ze0VTERERA3GAGjnooJ0WH2gCAfOGLHvVAk+Ts/D2oNFAAC1iwLdI3zRIcQLHUK80THUC15uanT/YA2Ona/AhkNn0aeN/w2vv3jHCUz6dR+qTGb4eWrxydOd0Psuv5vun9pFiUmPRKNjqBfe+GkPNuSdxSNzNuJ/z3XDXc3cGlQ7ERER3R4GQDtneSTc0uxT4u1ZF6UCT3QJwSv9IhHS9OpbtE92DcVXm/LxdebxGwbAdblFmPDjHgDAfXf54eOnOqFZE+1t9fOxTs1xl38T/N83O3DiQiUGz92E9x5rB/VtXY2IiIgagotA7JzlkXBVJjMUCmBQp2CsTnoA/3miwzXDHwAM14cDqA94Becrrtmmzixg+sqDAIBn7g3Fwn/ce9vhzyI6WIdlY3rj/tbNUGUy4/Uf9+Lbw0qcLa1u0HWJiIjo1jAA2rkIPw+8eF8EhnQJwaqx9+OToZ0R4efxt9/zQOtmEATgm63Hr9nm550nkWsohc5VhTceantTcwVvhre7BgteuAdj+kYCALadVaL/rI34YsNR1NSar2pfZxawLrcIY7/fhanL9t/26mUiIiK6jLeA7ZxCocDb8dG3/H0JPcORkXcWP2w/gXExreGmcRHPVZnq8HF6HgAgsW+k5As2XJQKvB7XBg/c5YPXvt2KgvI6vL/yAL7bXoBJD0ejTxt/HDlbhh+zTuLnnSfFjaYBoE+bZri/dTNJ+0NERORsGACd1AOt/RHm446CCxX4bfcpPH1PmHgudfMxnCmpQrCXKxJ6tmi0PnQK9ca49nWoCuqIGemHcPRsOV5YsB0tfN1x7Ipb097uagR7uWH/GSO+zjzGAEhERNRAvAXspFyUCjzXoz70Ldx8XHxu78XyGqSsOwwASIptA1e1y3WvIQWlAniiS3Osfb0PRvWOgEqpwLHzFVAqgAfb+mPusC7Y+lY/zHm2MwBgzcHrz1skIiKim8MRQCf2VLdQzEjLw/4z9RtGd2vhg5R1h1FaVYu2gU3weOfmd6wvOlc13nk4Gs92D8PeUyXQt/SFv85VPN+ymSfub90MG/LO4v9tOXZbt71JngRBwI7jF1FbJ6BzmHej/08HERExADo1b3cNBnVqjh92nMDCzOMI0Lni68z6RSFvDmhrkyd2tGzmiZbNrv3c4AR9ODZcmreY1L+N1bxFkpeaWjOyTxQjKqgJmrhee7MfQRCw5kARZq05hL2nSgAAGpUS3cKbomcrX+hb+aFjiNffbjhORES3jgHQyQ3Xh+OHHSfw+94zMFaaUFNnRs9WvnhAhvPs+rS5PG9xafYpPHNv2N9/0xXqzAJqas0Mjo3sVHEl/vntTuw+UQy1iwL6Vn7oHx2A/lEBCPRyFYPfJ2vysO+UEQDgrnGBh1aFs6XV2HzkPDYfOQ8gD+4aFwR6ucLbTQ0vNzW83TXwclOjWRMterT0vWFArKypQ+bRc9iafwH92gbg3gifO/guEBHJGwOgk7u7uRe6hTfFjuMXkZF3FgAwcUAUFAr5Pa/XRanA8B7heH/lASzcfAxD7wm9qX5W1tThu20F+HzDUZRWmfCfJzrg4Q7Bd6DHzmdD3lm8+v0uXKwwQaVUwFQnYEPeWWzIO4t/L92HDiFeqDMLyDl9Ofg9r2+BF++LgI+HBkfOltUHwMPnkXn0PEoqTTh6tvy6r6dzVaFXpB/ub90M9116Qs26g0VYe7AIm4+cR/WlrYW+3nwcS17W4+7mXo3/JhAR2QEGQMLzPVtgx/GLAIBHOgajfYh8/yP5VLdQfJyeh4OFpdiWf0F8/vG1lFaZ8P+2HMf8P/NxvrxGPD5m0S7sP23Ea7FtbHKb2xGZBWDOuiOYve4IBAFo39wLnw3rgupaM9L3G5C+vxC7ThRjz8n6W73uGhck9GyBF+9rCR+Py9sMRfo3QaR/EzyvbwGzWcDRc2U4V1aDkkoTSipMKK6s/3v+uXJsOlwfEH/fV4jf9xVes1/BXq5o4qpGrqEUoxbuwK9jeiHgirmlRETOigGQ8FC7QIT7uuNcaTXGx7axdXduyMtdjUGdm+O7bQVYmHnsmgGwtMqEL/7MR+qmfBiragEAoT5uePmBVjh+vgKfbziKz9YfwcHCUnwytBN0f5mjZjYL2H7sAjYdOY9HOwYj0v/acxKpXnGFCV8cVGJ/8REAwDP3huHdR6LFxRyR/p4Y3acVikqrsPZAEcpr6vB45+ZWwe9alErFpUB47fN1ZgF7ThZjQ945/HnoLHadKAYAdA1rir5t/dG3bTO0CWgCY1UtBn+2CUfOlmPUwh1Y/H/6Rp0GUGcWUFxRA1/Phj05h4ioMTEAEjQqJX5N7IWaWrPVylu5SugZju+2FWBVjgGniysR7O0mntuWfwHjfsjGqeJKAECrZh5I7BuJRzsGi3PFooN0eOOnPVh7sAiD5mzC5893Q6S/Jw4XleKXXaewdNdp8fu/2piP2c90woNtA+58oXZg+7ELGPf9LpwsVkKrUuK9QXfjyW6h12zr38QVQ29x3uaNuCgV6BzWFJ3DmuLVmLtQVl0LQRCuWnTi5abGVy/cg0Epm7D3VAmSFmcj5dkukj3d5kpVpjr8Y8F2ZB49j0GdgvFabBuE+lz7kYxERLbEAEgAIPnTPhpT20Adukf4YGv+BSzaWoDX49qgptaMWWvyMHf9EZiF+hG/iQOiENcu8KrbvIM6N0erZp74v/+3A0fPlePxlE0I93MXFyQAQBOtCoFerjhUVIaRC3fgzYfa4qX7W15zzmFhSRW+2pSP08WV8PPUwtdDA19PLXw9NfB2dUFxNWT/CLs6s4AzJZUoOF+BY+crUFFTi4Htg6zC9ZWqa+ufFvP5hqMQBMBPK2D+yHvRMez6t+Qbm6f2+r/Own098L/h3TDsyy34fV8hPk7Pw+tx0o52m80Cxv+4B5lHzwMAlmafxsq9hXihVwsk9omEl/u1V0MTEdkCAyDZpRd6tsDW/Av4blsB4jsEYcKPe8StRJ7oGoJ3H4m+7vYjANA+xAu/vdIb//xmJ7Ydu4B9p4xQKRXo06YZBnVujpioACgVCkxeloNFWwuQ/PtB5BaW4oPB7cVbm2dKKjF3/RF8v+0Eauqufo7xZSp8sGcNwnzcEe7rjjAfD7Ty98DDHYLh5XZroaCsuhYZuWeRtr8Qu08UY8yDd+GJriG3dI06s4D9p43IPHoO2/Iv4OjZcpy8WHlVDdN/P4j4DkEY1bul1bzQnNMleG3xbhwsLAUADO4cjHtVBYgO0t1SP+60eyN8kDy4A15fshtz1h1Gy2Ye6NPGH7tPFmPvyRLsOVk/R9FV7YJ/PxyN/tG3Nur737RcLNt9GiqlApMfbYeVe89g85Hz+HzDUSzecQJj+kZiuD4cWhVXoROR7TEAkl3qHx2AIC9XnCmpwsDZf0IQ6m/1JQ9uj4Htg27qGn6eWnwzqjsWbj4GV7USA9sHXTVv6/1Bd6NtYBNMWbYfP+86haPnyjH1sXZYsuMkfth+OfjdG+GD2OgAFFeYcL68GmdLa+r/aazC6eJKVNeacaioDIeKysRrT//9IEb0isCI3hE3DIIGY9WlhRQGZB45bxXUXl+yG9W1dRjWPfyGtZ64UHFpZew5bDl6ASWVpqvaqF0UCG3qjjBfd1RU12HbsQv4Nfs0fs0+je4RPhh1X0vkGUrxyeo8mOoE+Hpo8MHg9niwtS9Wriy4qffc1p7oGoIjZ8swd/0RvLZkN4TrDMy++PUOPNUtBP9++Mb/I2Hx3bYCfLa+fg7k9CEd8ETXEAzrHob1uWeR/PsB5BnK8N6KA1i0tQCfPtsZ7YLlu9CKiJwDAyDZJZWLEs/1CMdHq3IhCECvSF/MeLITAr1ubQ6jRqXEi/e3vO55hUKB5/Ut0KqZJ/757U5knyjGo3M2iee7R/hgbExr6Ftd+9anyWTCshUr0VHfB6dKanD8QgUKzpcjI+8s8gxlmLXmEL7amI9/9I7AyF4R8HJXo8pUh235F/DnobP489A5caTNoqWfB/pHB8BYVYvvthXg7V/2obZOuOZzm2vrzPjfhqNiaLPw1KrQPcIH+la+iArSIczHHcHebla3y/edKsH8jflYtvs0tuZfwNb8C+K5/tEBSB7cHn6eWphMV4dJORsf2wbHzpWLK4db+nmgQ4gXOoR4o0OIF9L3G/D5n0exeMdJbDp8HjOe6oiuodcf3VyfW4R3lu4DALza7/KIrEKhQN+2/rjvLj/8tPMk/puWd2nKwWa883AUhvcIl+V2S0TkHBgAyW690LMFzpRUok1AEwzrHt4ok/otekX6YWliL4xauB1Hzpb/bfC7kosCCPNxR6uAy6M+EwcI+COnELNWH0KuoRSz1xzCgo35uLu5F3YWXBT3rwMAhQLoFOqN/tEBiI0OFFclC4IAnasK/9twFO/+lgNTnRmj7rscZvPPleO1xdnYWVAMAOgWXr86tmcrX7Rv/vdP2Li7uRdmPt0JEx5qg4Wbj2PR1uMQBGDSI9F4omuI3YYXpVKBT5/pjP1njAj39bhq9LVbCx/0iwrAa0uyceJCJZ75Ygv+oQ9H27qrr7X/tBGJ3+5EnVnA4C7NMTbmrqvaqFyUePqeMMRGB2L8j3uw+oABk37NwabD5/DhkI6cG0hENsEASHbLQ6vCe4Pa37HXi/DzwIp/3YdTxZVodZ3H1d0spVKBge2D8FC7QKzKKcSsNYdwsLBUXEAQqHPFfXfVb3DcK9LvmlumKBQKvDmgLVQuCqSsO4L3VhxArVnA/93fEt9sLcAHKw6g0lSHJloVJj/aDoO7NL+t0Bbk5YY3B7TF2Ji7YBYEuGvs/9eGykWJDiHe1z1/b4QPfn/1fry/Yj++23YCX20+DkCFKbvXWC302X2iGOU1ddC39MX0wR1u+P429dDgi+e7YsGmY0j+/QBW5Riw79Sf+PTZzugS1lT6IomIbsD+f5MT3UGuapcGh78rKZUKDGgfhLh2gVh7sAhnSirRvaUv7vL3vKmwplAo8HpsG6iUSsxacwjTfz+IX3aeQq6h/rZxz1a++OjJjmh+ndW8t8Ky+MVZeGpVSB7cAf2jA/D2L/twpqQK5dV1KK+uwPHzFWK7u/w9MW94V2hUf//MYoVCgRG9I9CtRVO88t0uHD9fgafmZeLJbqF4rFMw7m3h06gj2UREFgyARDKgVCoQc4urTi0UCgXG9W8NlVKBGel5yDWUQqtS4s0BbZGgb8FA0UAPtg1AxmtN8fOy39G11wMoqTLjXFn9Ip+yqlo83rn5La/m7hDijeWv9MZbv+zDst2n8d22Any3rQABOi3i2wfjkY5B6BTqbbe32YlI/hgAiRzEK/3ugq+nFpuPnMPYmNZ8gomEFAoF3FRAC18PqNXSzNlr4qrG7KGdMPSeUPyafQq/7yuEwViNrzbl46tN+QjzccfYmLswqFNzhng7cLioDH6eGrvaU5WcGwMgkQN5tnsYnu0u3dM2qHEpFAr0ivRDr0g/TBt0N/7MO4dle04jfb8BBRcqkLR4N77ZchyTH213wzmLDVFWXYvj58txtKgUWecUcM09C293LTy0KnhqVXDXuMBYVYvzZdU4X16D82XVOFdWAwHAE11CEObrvE86qTMLWH3AgPl/5mPbsQvwdldj+uD2eOjum9uK6mZdKK9BE1cV1H+zcIvoVjh9AExJScFHH32EwsJCdOzYEZ9++inuvfdeW3eLiJyMVuWCmOgAxEQHoLKmDqmbj+HTtYews6AYj6VswlNdQzH+oTbwu2KvyrLqWhw9W4b8c+UA6p/o4+2mhpebGt7uarhrVLhQXoNCYxUMxioUGatQaKzC6eIqHD9fjuPnK3C+vOaKXrjg60O7brrPKesOY3Dn5hjzYCTCfT0keR9qas2orKmDzk113VvggiDgQnkNjpwtx5mSSnQNb4qQprcWRAVBwMHCUizbfRprDxZB5aJAc283NPd2R/Ombpf+7oZmTbTw8dBYzfGsqKnFj1kn8dXGfBy7Yj5ocYUJL3+zE091C8G7j7SDxw2eTvN3THVmrMopROqmY9hx/CICdFoM7xGOZ+4N43OmSRJOHQB/+OEHJCUlYd68eejevTs++eQTxMXFITc3F/7+13kCPRFRI3PTuGB0n1YY3KV5/cKeXafww44TWLnvDB5qF4hTxZU4crYMBmO1JK/n46FBaFM3VBgvwrWJN8pr6lBeXYuyqlpUXFpJ7nfp8Ya+HvX/PHGxEhvyzmJJ1kn8vOsUHu/cHGP6RqKFnwdKq0zYe6oEe06WYO/JEuw/Y4Sr2gUtfOs3Gg/38UALX3f4NdHi2Lly5BlKkWsoQ15hKY6eK4OpToBWpUSAzhUBOi38da4IaOKK0ioTjpwtw9Fz5SiuuLz/pEIB3H9XMzxzbyj6RQXccKTMUAl8uu4IVu4z4PAVG7MDsHoc5F/pXOvfAx8PDQ4VlYmbqXu5qTGsexieuTcMi7YVYF7GESzecRJb8y9g5tOdbnmF9/myany//QT+X+ZxFBqrLvfbWI3/puVh9trDeLRjMF7o2QJ3N+eG4nT7nDoAfvzxx3jxxRfxj3/8AwAwb948rFixAl999RXefPNNG/eOiJxdgM4VM5/uhOd6hGHyb/ux91QJlmSdtGrj56lFSz8PuCgVKK40wVhpQnFFDcpr6jcudFEq4N9EK4apQJ0rArxc0cLXQ3w8YRNXNUwmE1auXImBA3tYzXMUBOG6I3G7Ci5i1ppDWJ97Fj9mncQvu04hzMcdx86XX/MpKwfOXD9g/VV1rRkFFypQcKHimucVCqC5txuaumuw91QJMvLOIiPvLPw8tXiiawj6RwfgXFk1Cs5X4PiF+tHO/HPlOHlRBaD+qS0alRIPtvHHwA5BcFO74HRxJU4VV+LUxUqcLK7EmeJKXCivQa1ZgLGqFsaqWhy9NNoa7uuOkb0j8ETXEHFrpDceaosHWjfDa4t34/j5Cjw5LxOJfSOhb+mLOrMAk9mMujoBtWYzqmvNKKk0obii/k9JZf1ThDYfOY+aS/uA+nlqMKx7OJ7sFoIdxy5iwaZ87D5Zgh+zTuLHrJPoHOaN7hG+iA7WoV2wDhESjcKSc3DaAFhTU4OsrCxMnDhRPKZUKhETE4PMzMxrfk91dTWqqy//H7fRWP/LzGQySf40BMv17O0pC7eCNToG1tj4OgQ3wZKX7sXyvYU4crYMLXzd0dLPAy39PKC7zgpkU50Z5dV1aOKqsnrCyzXbXvE77FZqvDvIE1881xnZJ4oxZ91RZBw6J96ODvZyRfvmOrRv7oV2wTrU1FkCXWX9P89X4GxZDcJ83NDa3xN3BXiidYAnWvt7wtdDg6KyahQZq2EwVsNQWo2i0mq4a1zQys8DLZvVjyBatiY6fqECS3acwk+7TuFcWTXmZRzBvIwj1+yzUiGgVytfPNIhGDFR/mjieuP/DJovhb/z5fUrv8+X1aCJqxr6lj6X3lfB6j3rGqrDb//sgcnLD2DZnkLMXnMIs9ccuun3FADuDtYhQR+GAXcHQnvp1nP83f6Iv9sfu04U4+vMAvyRY8CugmLsurTROwC4a1zQ2t8DLlVKpC/eDaXCMeYMxkb7I67d5V0SpPh5dOTfVzdLIQjXexqmYzt9+jSaN2+OzZs3Q6/Xi8cnTJiAjIwMbN269arvmTx5MqZMmXLV8UWLFsHd3XknQhMRAcCpcsBYo0CIp4AmNnjASZ0Z2HdRgcwiBU6UK9BUA/i5CvBzvfRPrYAgd8DjDvVtx1kF1p1RwmSufyKQUnH5nyqFAHcVrvhT/3VzdwFhnvUjnDdSUlNf66lyBU6WK3C6AjCZHXO1+EMhdRgQKm1UqaiowLPPPouSkhLodNd/1KMjc9oRwNsxceJEJCUliV8bjUaEhoYiNjZW8n+BTCYT0tPT0b9/f8m2nZAb1ugYWKNjcJQaH7nBuTtd40AAkxr9VerVmQUcO1+BvScvYlPWXrRp0wYuLo6xeXunEC90DvMWv5bic7TcwXNmThsA/fz84OLiAoPBYHXcYDAgMDDwmt+j1Wqh1V69+kqtVjfaL5PGvLZcsEbHwBodA2u0T2oAbYM1aNXMA5ozezDwvpYOV+NfNeRzdPT35mY4xgSB26DRaNC1a1esWbNGPGY2m7FmzRqrW8JEREREjsZpRwABICkpCQkJCejWrRvuvfdefPLJJygvLxdXBRMRERE5IqcOgE8//TTOnj2LSZMmobCwEJ06dcIff/yBgIDbeyYrERERkT1w6gAIAGPGjMGYMWNs3Q0iIiKiO8Zp5wASEREROSsGQCIiIiInwwBIRERE5GQYAImIiIicDAMgERERkZNhACQiIiJyMgyARERERE6GAZCIiIjIyTAAEhERETkZp38SSEMIggAAMBqNkl/bZDKhoqICRqMRarVa8uvLAWt0DKzRMbBGx8Aab47lv9uW/447IwbABigtLQUAhIaG2rgnREREdKtKS0vh5eVl627YhEJw5vjbQGazGadPn0aTJk2gUCgkvbbRaERoaChOnDgBnU4n6bXlgjU6BtboGFijY2CNN0cQBJSWliI4OBhKpXPOhuMIYAMolUqEhIQ06mvodDqH/SG2YI2OgTU6BtboGFjj33PWkT8L54y9RERERE6MAZCIiIjIyTAAypRWq8W7774LrVZr6640GtboGFijY2CNjoE10s3iIhAiIiIiJ8MRQCIiIiInwwBIRERE5GQYAImIiIicDAMgERERkZNhAJShlJQUtGjRAq6urujevTu2bdtm6y7dtg0bNuCRRx5BcHAwFAoFli5danVeEARMmjQJQUFBcHNzQ0xMDA4dOmSbzt6m5ORk3HPPPWjSpAn8/f0xaNAg5ObmWrWpqqpCYmIifH194enpiSFDhsBgMNiox7du7ty56NChg7jxql6vx++//y6et/f6rmX69OlQKBQYO3aseMze65w8eTIUCoXVn7Zt24rn7b0+i1OnTuG5556Dr68v3Nzc0L59e+zYsUM8b++/d1q0aHHV56hQKJCYmAjAMT7Huro6/Pvf/0ZERATc3NzQqlUrTJs2zerZvfb+OdqcQLLy/fffCxqNRvjqq6+EnJwc4cUXXxS8vb0Fg8Fg667dlpUrVwpvv/228PPPPwsAhF9++cXq/PTp0wUvLy9h6dKlwu7du4VHH31UiIiIECorK23T4dsQFxcnLFiwQNi3b5+QnZ0tDBw4UAgLCxPKysrENi+//LIQGhoqrFmzRtixY4fQo0cPoWfPnjbs9a357bffhBUrVgh5eXlCbm6u8NZbbwlqtVrYt2+fIAj2X99fbdu2TWjRooXQoUMH4dVXXxWP23ud7777rtCuXTvhzJkz4p+zZ8+K5+29PkEQhAsXLgjh4eHCCy+8IGzdulU4evSosGrVKuHw4cNiG3v/vVNUVGT1GaanpwsAhHXr1gmC4Bif4/vvvy/4+voKy5cvF/Lz84UlS5YInp6ewqxZs8Q29v452hoDoMzce++9QmJiovh1XV2dEBwcLCQnJ9uwV9L4awA0m81CYGCg8NFHH4nHiouLBa1WK3z33Xc26KE0ioqKBABCRkaGIAj1NanVamHJkiVimwMHDggAhMzMTFt1s8GaNm0qfPnllw5XX2lpqXDXXXcJ6enpwgMPPCAGQEeo89133xU6dux4zXOOUJ8gCMIbb7wh9O7d+7rnHfH3zquvviq0atVKMJvNDvM5xsfHCyNGjLA6NnjwYGHYsGGCIDjm53in8RawjNTU1CArKwsxMTHiMaVSiZiYGGRmZtqwZ40jPz8fhYWFVvV6eXmhe/fudl1vSUkJAMDHxwcAkJWVBZPJZFVn27ZtERYWZpd11tXV4fvvv0d5eTn0er3D1ZeYmIj4+HiregDH+RwPHTqE4OBgtGzZEsOGDUNBQQEAx6nvt99+Q7du3fDkk0/C398fnTt3xhdffCGed7TfOzU1Nfjmm28wYsQIKBQKh/kce/bsiTVr1iAvLw8AsHv3bmzcuBEDBgwA4Hifoy2obN0BuuzcuXOoq6tDQECA1fGAgAAcPHjQRr1qPIWFhQBwzXot5+yN2WzG2LFj0atXL9x9990A6uvUaDTw9va2amtvde7duxd6vR5VVVXw9PTEL7/8gujoaGRnZztEfQDw/fffY+fOndi+fftV5xzhc+zevTtSU1PRpk0bnDlzBlOmTMF9992Hffv2OUR9AHD06FHMnTsXSUlJeOutt7B9+3b861//gkajQUJCgsP93lm6dCmKi4vxwgsvAHCMf08B4M0334TRaETbtm3h4uKCuro6vP/++xg2bBgAx/zvx53GAEgkocTEROzbtw8bN260dVck16ZNG2RnZ6OkpAQ//vgjEhISkJGRYetuSebEiRN49dVXkZ6eDldXV1t3p1FYRk8AoEOHDujevTvCw8OxePFiuLm52bBn0jGbzejWrRs++OADAEDnzp2xb98+zJs3DwkJCTbunfTmz5+PAQMGIDg42NZdkdTixYvx7bffYtGiRWjXrh2ys7MxduxYBAcHO+TnaAu8BSwjfn5+cHFxuWq1lsFgQGBgoI161XgsNTlKvWPGjMHy5cuxbt06hISEiMcDAwNRU1OD4uJiq/b2VqdGo0FkZCS6du2K5ORkdOzYEbNmzXKY+rKyslBUVIQuXbpApVJBpVIhIyMDs2fPhkqlQkBAgEPUeSVvb2+0bt0ahw8fdpjPMSgoCNHR0VbHoqKixFvdjvR75/jx41i9ejVGjRolHnOUz3H8+PF48803MXToULRv3x7Dhw/HuHHjkJycDMCxPkdbYQCUEY1Gg65du2LNmjXiMbPZjDVr1kCv19uwZ40jIiICgYGBVvUajUZs3brVruoVBAFjxozBL7/8grVr1yIiIsLqfNeuXaFWq63qzM3NRUFBgV3V+VdmsxnV1dUOU1+/fv2wd+9eZGdni3+6deuGYcOGiX93hDqvVFZWhiNHjiAoKMhhPsdevXpdtQ1TXl4ewsPDATjO7x0AWLBgAfz9/REfHy8ec5TPsaKiAkqldURxcXGB2WwG4Fifo83YehUKWfv+++8FrVYrpKamCvv37xdeeuklwdvbWygsLLR1125LaWmpsGvXLmHXrl0CAOHjjz8Wdu3aJRw/flwQhPpl/N7e3sKvv/4q7NmzR3jsscfsbhn/6NGjBS8vL2H9+vVWWzNUVFSIbV5++WUhLCxMWLt2rbBjxw5Br9cLer3ehr2+NW+++aaQkZEh5OfnC3v27BHefPNNQaFQCGlpaYIg2H9913PlKmBBsP86X3vtNWH9+vVCfn6+sGnTJiEmJkbw8/MTioqKBEGw//oEoX4LH5VKJbz//vvCoUOHhG+//VZwd3cXvvnmG7GNI/zeqaurE8LCwoQ33njjqnOO8DkmJCQIzZs3F7eB+fnnnwU/Pz9hwoQJYhtH+BxtiQFQhj799FMhLCxM0Gg0wr333its2bLF1l26bevWrRMAXPUnISFBEIT6pfz//ve/hYCAAEGr1Qr9+vUTcnNzbdvpW3St+gAICxYsENtUVlYK//znP4WmTZsK7u7uwuOPPy6cOXPGdp2+RSNGjBDCw8MFjUYjNGvWTOjXr58Y/gTB/uu7nr8GQHuv8+mnnxaCgoIEjUYjNG/eXHj66aet9sez9/osli1bJtx9992CVqsV2rZtK3z++edW5x3h986qVasEANfstyN8jkajUXj11VeFsLAwwdXVVWjZsqXw9ttvC9XV1WIbR/gcbUkhCFdsq01EREREDo9zAImIiIicDAMgERERkZNhACQiIiJyMgyARERERE6GAZCIiIjIyTAAEhERETkZBkAiIiIiJ8MASEQkofXr10OhUFz1LFYiIjlhACQiIiJyMgyARERERE6GAZCIHIrZbEZycjIiIiLg5uaGjh074scffwRw+fbsihUr0KFDB7i6uqJHjx7Yt2+f1TV++ukntGvXDlqtFi1atMCMGTOszldXV+ONN95AaGgotFotIiMjMX/+fKs2WVlZ6NatG9zd3dGzZ0/k5uY2buFERLeAAZCIHEpycjK+/vprzJs3Dzk5ORg3bhyee+45ZGRkiG3Gjx+PGTNmYPv27WjWrBkeeeQRmEwmAPXB7amnnsLQoUOxd+9eTJ48Gf/+97+Rmpoqfv/zzz+P7777DrNnz8aBAwfwv//9D56enlb9ePvttzFjxgzs2LEDKpUKI0aMuCP1ExHdDIUgCIKtO0FEJIXq6mr4+Phg9erV0Ov14vFRo0ahoqICL730Evr27Yvvv/8eTz/9NADgwoULCAkJQWpqKp566ikMGzYMZ8+eRVpamvj9EyZMwIoVK5CTk4O8vDy0adMG6enpiImJuaoP69evR9++fbF69Wr069cPALBy5UrEx8ejsrISrq6ujfwuEBH9PY4AEpHDOHz4MCoqKtC/f394enqKf77++mscOXJEbHdlOPTx8UGbNm1w4MABAMCBAwfQq1cvq+v26tULhw4dQl1dHbKzs+Hi4oIHHnjghn3p0KGD+PegoCAAQFFRUYNrJCKSgsrWHSAikkpZWRkAYMWKFWjevLnVOa1WaxUCb5ebm9tNtVOr1eLfFQoFgPr5iUREcsARQCJyGNHR0dBqtSgoKEBkZKTVn9DQULHdli1bxL9fvHgReXl5iIqKAgBERUVh06ZNVtfdtGkTWrduDRcXF7Rv3x5ms9lqTiERkb3hCCAROYwmTZrg9ddfx7hx42A2m9G7d2+UlJRg06ZN0Ol0CA8PBwBMnToVvr6+CAgIwNtvvw0/Pz8MGjQIAPDaa6/hnnvuwbRp0/D0008jMzMTc+bMwWeffQYAaNGiBRISEjBixAjMnj0bHTt2xPHjx1FUVISnnnrKVqUTEd0SBkAicijTpk1Ds2bNkJycjKNHj8Lb2xtdunTBW2+9Jd6CnT59Ol599VUcOnQInTp1wrJly6DRaAAAXbp0weLFizFp0iRMmzYNQUFBmDp1Kl544QXxNebOnYu33noL//znP3H+/HmEhYXhrbfeskW5RES3hauAichpWFboXrx4Ed7e3rbuDhGRzXAOIBEREZGTYQAkIiIicjK8BUxERETkZDgCSERERORkGACJiIiInAwDIBEREZGTYQAkIiIicjIMgEREREROhgGQiIiIyMkwABIRERE5GQZAIiIiIifDAEhERETkZP4/sZwlmqWxyPgAAAAASUVORK5CYII=' width=640.0/>\n",
       "            </div>\n",
       "        "
      ],
      "text/plain": [
       "Canvas(toolbar=Toolbar(toolitems=[('Home', 'Reset original view', 'home', 'home'), ('Back', 'Back to previous …"
      ]
     },
     "metadata": {},
     "output_type": "display_data"
    }
   ],
   "source": [
    "NAME = 'loss_curve_partial'\n",
    "plt.close(NAME)\n",
    "plt.figure(NAME)\n",
    "\n",
    "plt.plot(losses[:train_epochs])\n",
    "plt.xlabel('epoch')\n",
    "plt.ylabel('loss')\n",
    "plt.grid()\n",
    "\n",
    "plt.show()"
   ]
  },
  {
   "cell_type": "code",
   "execution_count": 69,
   "metadata": {},
   "outputs": [
    {
     "name": "stdout",
     "output_type": "stream",
     "text": [
      "layers.TernBinLayer0.W \n",
      " Parameter containing:\n",
      "tensor([[ 0,  0,  1,  ...,  1,  1, -1],\n",
      "        [ 1, -1,  1,  ...,  1,  1,  0],\n",
      "        [ 0,  1,  0,  ..., -1,  0,  1],\n",
      "        ...,\n",
      "        [ 1,  1,  0,  ...,  0,  0, -1],\n",
      "        [ 1, -1,  1,  ..., -1, -1,  1],\n",
      "        [ 1,  0, -1,  ..., -1,  1,  0]], dtype=torch.int32) \n",
      " tensor([[0, 0, 0,  ..., 0, 0, 0],\n",
      "        [0, 0, 0,  ..., 0, 0, 0],\n",
      "        [0, 0, 0,  ..., 0, 0, 0],\n",
      "        ...,\n",
      "        [0, 0, 0,  ..., 0, 0, 0],\n",
      "        [0, 0, 0,  ..., 0, 0, 0],\n",
      "        [0, 0, 0,  ..., 0, 0, 0]], dtype=torch.int32)\n",
      "layers.TernBinLayer1.W \n",
      " Parameter containing:\n",
      "tensor([[ 0, -1,  0,  ...,  1,  0,  0],\n",
      "        [-1,  0,  0,  ...,  0, -1,  1],\n",
      "        [ 1, -1,  0,  ...,  0, -1,  0],\n",
      "        ...,\n",
      "        [-1,  0,  0,  ...,  1, -1, -1],\n",
      "        [ 0, -1, -1,  ..., -1,  0,  0],\n",
      "        [ 0,  1,  0,  ...,  0, -1, -1]], dtype=torch.int32) \n",
      " tensor([[0, 0, 0,  ..., 0, 0, 0],\n",
      "        [0, 0, 0,  ..., 0, 0, 0],\n",
      "        [0, 0, 0,  ..., 0, 0, 0],\n",
      "        ...,\n",
      "        [0, 0, 0,  ..., 0, 0, 0],\n",
      "        [0, 0, 0,  ..., 0, 0, 0],\n",
      "        [0, 0, 0,  ..., 0, 0, 0]], dtype=torch.int32)\n",
      "layers.TernBinLayer2.W \n",
      " Parameter containing:\n",
      "tensor([[ 0,  0, -1,  ..., -1,  1,  0],\n",
      "        [ 0,  0,  1,  ...,  1, -1,  0],\n",
      "        [ 0,  0,  1,  ...,  0,  0,  0],\n",
      "        ...,\n",
      "        [ 1, -1,  0,  ..., -1,  1, -1],\n",
      "        [ 1,  0, -1,  ..., -1, -1,  1],\n",
      "        [-1,  1,  1,  ...,  1,  0,  1]], dtype=torch.int32) \n",
      " tensor([[0, 0, 0,  ..., 0, 0, 0],\n",
      "        [0, 0, 0,  ..., 0, 0, 0],\n",
      "        [0, 0, 0,  ..., 0, 0, 0],\n",
      "        ...,\n",
      "        [0, 0, 0,  ..., 0, 0, 0],\n",
      "        [0, 0, 0,  ..., 0, 0, 0],\n",
      "        [0, 0, 0,  ..., 0, 0, 0]], dtype=torch.int32)\n"
     ]
    }
   ],
   "source": [
    "for name, p in TBNN.named_parameters():\n",
    "    if name.lower().endswith('.w'):\n",
    "        print(name, '\\n', p, '\\n', p.grad)"
   ]
  },
  {
   "cell_type": "code",
   "execution_count": 70,
   "metadata": {},
   "outputs": [],
   "source": [
    "assert bnn.network.network_params_al_ternary(TBNN)"
   ]
  },
  {
   "cell_type": "code",
   "execution_count": null,
   "metadata": {},
   "outputs": [],
   "source": []
  }
 ],
 "metadata": {
  "kernelspec": {
   "display_name": "Python 3 (ipykernel)",
   "language": "python",
   "name": "python3"
  },
  "language_info": {
   "codemirror_mode": {
    "name": "ipython",
    "version": 3
   },
   "file_extension": ".py",
   "mimetype": "text/x-python",
   "name": "python",
   "nbconvert_exporter": "python",
   "pygments_lexer": "ipython3",
   "version": "3.11.9"
  }
 },
 "nbformat": 4,
 "nbformat_minor": 4
}
