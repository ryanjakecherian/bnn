{
 "cells": [
  {
   "cell_type": "code",
   "execution_count": 1,
   "metadata": {},
   "outputs": [],
   "source": [
    "%reload_ext autoreload\n",
    "%autoreload 2\n",
    "%matplotlib widget"
   ]
  },
  {
   "cell_type": "code",
   "execution_count": 2,
   "metadata": {},
   "outputs": [],
   "source": [
    "import matplotlib.pyplot as plt\n",
    "import numpy as np\n",
    "import torch\n",
    "import tqdm"
   ]
  },
  {
   "cell_type": "code",
   "execution_count": 3,
   "metadata": {},
   "outputs": [],
   "source": [
    "import bnn.data\n",
    "import bnn.functions\n",
    "import bnn.layer\n",
    "import bnn.loss\n",
    "import bnn.network\n",
    "import bnn.optimizer"
   ]
  },
  {
   "cell_type": "code",
   "execution_count": 4,
   "metadata": {},
   "outputs": [],
   "source": [
    "forward_func = bnn.functions.forward.SignBinarise()\n",
    "#forward_func=bnn.functions.forward.LayerMeanBinarise()\n",
    "#forward_func=bnn.functions.forward.LayerMedianBinarise()"
   ]
  },
  {
   "cell_type": "code",
   "execution_count": 5,
   "metadata": {},
   "outputs": [],
   "source": [
    "#backward_func = bnn.functions.backward.SignTernarise()\n",
    "#backward_func = bnn.functions.backward.LayerMeanStdTernarise(half_range_stds=0.5)\n",
    "backward_func = bnn.functions.backward.LayerQuantileTernarise(lo=0.25, hi=0.75)"
   ]
  },
  {
   "cell_type": "code",
   "execution_count": 6,
   "metadata": {},
   "outputs": [],
   "source": [
    "INPUT_DIM = 7\n",
    "OUTPUT_DIM = 7"
   ]
  },
  {
   "cell_type": "code",
   "execution_count": 7,
   "metadata": {},
   "outputs": [],
   "source": [
    "dims = [INPUT_DIM, 256, 256, OUTPUT_DIM]\n",
    "TBNN = bnn.network.TernBinNetwork(\n",
    "    *dims,\n",
    "    forward_func=forward_func,\n",
    "    backward_func=backward_func,\n",
    ")\n",
    "TBNN._initialise(W_mean=0, W_zero_prob=0.5)"
   ]
  },
  {
   "cell_type": "code",
   "execution_count": 8,
   "metadata": {},
   "outputs": [],
   "source": [
    "target_dims = [INPUT_DIM, 10, OUTPUT_DIM]\n",
    "Target_TBNN = bnn.network.TernBinNetwork(\n",
    "    *target_dims,\n",
    "    forward_func=forward_func,\n",
    "    backward_func=None,\n",
    ")\n",
    "Target_TBNN._initialise(W_mean=0, W_zero_prob=0.8)"
   ]
  },
  {
   "cell_type": "code",
   "execution_count": 9,
   "metadata": {},
   "outputs": [],
   "source": [
    "TN_DL = bnn.data.TargetNetworkDataLoader(\n",
    "    target_network=Target_TBNN,\n",
    "    datapoints=1000,\n",
    "    batch_size=1000,\n",
    "    include_last_if_uneven=True,\n",
    ")\n",
    "\n",
    "UnaryDL = bnn.data.AllUnaryFunctionsDataLoader(\n",
    "    input_dim=1,\n",
    "    datapoints=100,\n",
    "    batch_size=100,\n",
    "    include_last_if_uneven=True\n",
    ")\n",
    "\n",
    "DL = TN_DL"
   ]
  },
  {
   "cell_type": "code",
   "execution_count": 10,
   "metadata": {},
   "outputs": [],
   "source": [
    "loss_func: bnn.loss.LossFunction = bnn.loss.l1"
   ]
  },
  {
   "cell_type": "code",
   "execution_count": 11,
   "metadata": {},
   "outputs": [],
   "source": [
    "BernOpt = bnn.optimizer.ExpectationSGD(TBNN.parameters(), lr=0.0005)"
   ]
  },
  {
   "cell_type": "code",
   "execution_count": 12,
   "metadata": {},
   "outputs": [],
   "source": [
    "losses = []"
   ]
  },
  {
   "cell_type": "code",
   "execution_count": 13,
   "metadata": {},
   "outputs": [],
   "source": [
    "train_epochs = 500\n",
    "num_logs = 10\n",
    "epoch_log_rate = train_epochs // num_logs"
   ]
  },
  {
   "cell_type": "code",
   "execution_count": 14,
   "metadata": {},
   "outputs": [],
   "source": [
    "scheduler = torch.optim.lr_scheduler.ExponentialLR(optimizer=BernOpt, gamma=1.)"
   ]
  },
  {
   "cell_type": "code",
   "execution_count": 15,
   "metadata": {},
   "outputs": [
    {
     "name": "stderr",
     "output_type": "stream",
     "text": [
      "  0%|          | 2/500 [00:00<01:49,  4.53it/s]"
     ]
    },
    {
     "name": "stdout",
     "output_type": "stream",
     "text": [
      "epoch: 0\tloss: 6782\n"
     ]
    },
    {
     "name": "stderr",
     "output_type": "stream",
     "text": [
      " 10%|█         | 51/500 [00:14<03:08,  2.38it/s]"
     ]
    },
    {
     "name": "stdout",
     "output_type": "stream",
     "text": [
      "epoch: 50\tloss: 516\n"
     ]
    },
    {
     "name": "stderr",
     "output_type": "stream",
     "text": [
      " 20%|██        | 101/500 [00:26<01:29,  4.45it/s]"
     ]
    },
    {
     "name": "stdout",
     "output_type": "stream",
     "text": [
      "epoch: 100\tloss: 210\n"
     ]
    },
    {
     "name": "stderr",
     "output_type": "stream",
     "text": [
      " 30%|███       | 152/500 [00:38<01:13,  4.73it/s]"
     ]
    },
    {
     "name": "stdout",
     "output_type": "stream",
     "text": [
      "epoch: 150\tloss: 0\n"
     ]
    },
    {
     "name": "stderr",
     "output_type": "stream",
     "text": [
      " 31%|███       | 153/500 [00:38<01:27,  3.96it/s]"
     ]
    },
    {
     "name": "stdout",
     "output_type": "stream",
     "text": [
      "epoch: 153\tloss: 0\n"
     ]
    },
    {
     "name": "stderr",
     "output_type": "stream",
     "text": [
      "\n"
     ]
    }
   ],
   "source": [
    "zero_loss_count = 0\n",
    "zero_loss_count_for_early_stop = 10\n",
    "for epoch in tqdm.trange(train_epochs):\n",
    "    epoch_loss = 0\n",
    "    for batch in DL:\n",
    "        # forward pass and loss\n",
    "        output = TBNN.forward(batch.input)\n",
    "        loss = loss_func.forward(output=output, target=batch.target)\n",
    "\n",
    "        # backward pass\n",
    "        grad = loss_func.backward(output=output, target=batch.target)\n",
    "        out_grad = TBNN.backward(grad)\n",
    "\n",
    "        # optimizer step\n",
    "        BernOpt.step()\n",
    "\n",
    "        # sum loss\n",
    "        epoch_loss += loss\n",
    "\n",
    "    # save loss\n",
    "    losses.append(epoch_loss)\n",
    "\n",
    "    if epoch_loss == 0:\n",
    "        zero_loss_count += 1\n",
    "    else:\n",
    "        zero_loss_count = 0\n",
    "\n",
    "    early_exit = zero_loss_count >= zero_loss_count_for_early_stop\n",
    "\n",
    "    if early_exit or (epoch % epoch_log_rate) == 0:\n",
    "        print(f'epoch: {epoch}\\tloss: {loss}')\n",
    "\n",
    "    if early_exit:\n",
    "        break\n",
    "\n",
    "    scheduler.step()"
   ]
  },
  {
   "cell_type": "code",
   "execution_count": 16,
   "metadata": {},
   "outputs": [
    {
     "data": {
      "application/vnd.jupyter.widget-view+json": {
       "model_id": "40299e7d04e440b1a14f4b06a735ca77",
       "version_major": 2,
       "version_minor": 0
      },
      "image/png": "[encoded data removed]",
      "text/html": [
       "\n",
       "            <div style=\"display: inline-block;\">\n",
       "                <div class=\"jupyter-widgets widget-label\" style=\"text-align: center;\">\n",
       "                    loss_curve_partial\n",
       "                </div>\n",
       "                <img src='data:image/png;base64,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' width=640.0/>\n",
       "            </div>\n",
       "        "
      ],
      "text/plain": [
       "Canvas(toolbar=Toolbar(toolitems=[('Home', 'Reset original view', 'home', 'home'), ('Back', 'Back to previous …"
      ]
     },
     "metadata": {},
     "output_type": "display_data"
    }
   ],
   "source": [
    "NAME = 'loss_curve_partial'\n",
    "plt.close(NAME)\n",
    "plt.figure(NAME)\n",
    "\n",
    "plt.plot(losses[:train_epochs])\n",
    "plt.xlabel('epoch')\n",
    "plt.ylabel('loss')\n",
    "plt.grid()\n",
    "\n",
    "plt.show()"
   ]
  },
  {
   "cell_type": "code",
   "execution_count": 17,
   "metadata": {},
   "outputs": [
    {
     "name": "stdout",
     "output_type": "stream",
     "text": [
      "layers.TernBinLayer0.W \n",
      " Parameter containing:\n",
      "tensor([[-1,  0,  1,  ...,  1, -1, -1],\n",
      "        [ 0,  0,  1,  ...,  1, -1, -1],\n",
      "        [-1,  1, -1,  ...,  0,  0, -1],\n",
      "        ...,\n",
      "        [ 1,  1,  1,  ...,  1, -1,  1],\n",
      "        [-1,  0,  0,  ...,  1,  1, -1],\n",
      "        [ 1, -1,  1,  ...,  0,  0,  0]], dtype=torch.int32) \n",
      " tensor([[0, 0, 0,  ..., 0, 0, 0],\n",
      "        [0, 0, 0,  ..., 0, 0, 0],\n",
      "        [0, 0, 0,  ..., 0, 0, 0],\n",
      "        ...,\n",
      "        [0, 0, 0,  ..., 0, 0, 0],\n",
      "        [0, 0, 0,  ..., 0, 0, 0],\n",
      "        [0, 0, 0,  ..., 0, 0, 0]], dtype=torch.int32)\n",
      "layers.TernBinLayer1.W \n",
      " Parameter containing:\n",
      "tensor([[-1,  0,  0,  ...,  1,  0, -1],\n",
      "        [ 1, -1,  0,  ..., -1,  0,  1],\n",
      "        [ 0,  1,  0,  ...,  0,  1,  0],\n",
      "        ...,\n",
      "        [ 0,  0,  0,  ...,  0,  0,  0],\n",
      "        [ 0,  1, -1,  ...,  0, -1,  1],\n",
      "        [ 0,  0,  0,  ..., -1,  1,  1]], dtype=torch.int32) \n",
      " tensor([[0, 0, 0,  ..., 0, 0, 0],\n",
      "        [0, 0, 0,  ..., 0, 0, 0],\n",
      "        [0, 0, 0,  ..., 0, 0, 0],\n",
      "        ...,\n",
      "        [0, 0, 0,  ..., 0, 0, 0],\n",
      "        [0, 0, 0,  ..., 0, 0, 0],\n",
      "        [0, 0, 0,  ..., 0, 0, 0]], dtype=torch.int32)\n",
      "layers.TernBinLayer2.W \n",
      " Parameter containing:\n",
      "tensor([[ 0,  0,  1,  ..., -1, -1,  1],\n",
      "        [ 0,  1, -1,  ...,  1,  1,  1],\n",
      "        [ 0,  1,  0,  ..., -1,  0, -1],\n",
      "        ...,\n",
      "        [ 0,  0, -1,  ..., -1,  0, -1],\n",
      "        [ 1,  0, -1,  ...,  1,  1,  0],\n",
      "        [-1,  1,  0,  ...,  0, -1, -1]], dtype=torch.int32) \n",
      " tensor([[0, 0, 0,  ..., 0, 0, 0],\n",
      "        [0, 0, 0,  ..., 0, 0, 0],\n",
      "        [0, 0, 0,  ..., 0, 0, 0],\n",
      "        ...,\n",
      "        [0, 0, 0,  ..., 0, 0, 0],\n",
      "        [0, 0, 0,  ..., 0, 0, 0],\n",
      "        [0, 0, 0,  ..., 0, 0, 0]], dtype=torch.int32)\n"
     ]
    }
   ],
   "source": [
    "for name, p in TBNN.named_parameters():\n",
    "    if name.lower().endswith('.w'):\n",
    "        print(name, '\\n', p, '\\n', p.grad)"
   ]
  },
  {
   "cell_type": "code",
   "execution_count": 18,
   "metadata": {},
   "outputs": [],
   "source": [
    "assert bnn.network.network_params_al_ternary(TBNN)"
   ]
  },
  {
   "cell_type": "code",
   "execution_count": null,
   "metadata": {},
   "outputs": [],
   "source": []
  }
 ],
 "metadata": {
  "kernelspec": {
   "display_name": "Python 3 (ipykernel)",
   "language": "python",
   "name": "python3"
  },
  "language_info": {
   "codemirror_mode": {
    "name": "ipython",
    "version": 3
   },
   "file_extension": ".py",
   "mimetype": "text/x-python",
   "name": "python",
   "nbconvert_exporter": "python",
   "pygments_lexer": "ipython3",
   "version": "3.11.9"
  }
 },
 "nbformat": 4,
 "nbformat_minor": 4
}
