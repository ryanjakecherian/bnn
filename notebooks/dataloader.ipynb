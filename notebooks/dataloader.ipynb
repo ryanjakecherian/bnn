{
 "cells": [
  {
   "cell_type": "code",
   "execution_count": 1,
   "metadata": {},
   "outputs": [],
   "source": [
    "%reload_ext autoreload\n",
    "%autoreload 2\n",
    "%matplotlib widget"
   ]
  },
  {
   "cell_type": "code",
   "execution_count": 2,
   "metadata": {},
   "outputs": [],
   "source": [
    "import matplotlib.pyplot as plt\n",
    "import numpy as np\n",
    "import torch\n",
    "import tqdm"
   ]
  },
  {
   "cell_type": "code",
   "execution_count": 3,
   "metadata": {},
   "outputs": [],
   "source": [
    "import bnn.data\n",
    "import bnn.functions\n",
    "import bnn.layer\n",
    "import bnn.loss\n",
    "import bnn.network\n",
    "import bnn.optimizer"
   ]
  },
  {
   "cell_type": "code",
   "execution_count": 4,
   "metadata": {},
   "outputs": [],
   "source": [
    "forward_func = bnn.functions.forward.SignBinarise()\n",
    "#forward_func=bnn.functions.forward.LayerMeanBinarise()\n",
    "#forward_func=bnn.functions.forward.LayerMedianBinarise()"
   ]
  },
  {
   "cell_type": "code",
   "execution_count": 5,
   "metadata": {},
   "outputs": [],
   "source": [
    "#backward_func = bnn.functions.backward.SignTernarise()\n",
    "#backward_func = bnn.functions.backward.LayerMeanStdTernarise(half_range_stds=0.5)\n",
    "backward_func = bnn.functions.backward.LayerQuantileTernarise(lo=0.25, hi=0.75)"
   ]
  },
  {
   "cell_type": "code",
   "execution_count": 6,
   "metadata": {},
   "outputs": [],
   "source": [
    "INPUT_DIM = 8\n",
    "OUTPUT_DIM = 8"
   ]
  },
  {
   "cell_type": "code",
   "execution_count": 7,
   "metadata": {},
   "outputs": [],
   "source": [
    "dims = [INPUT_DIM, 100, 100, OUTPUT_DIM]\n",
    "TBNN = bnn.network.TernBinNetwork(\n",
    "    *dims,\n",
    "    forward_func=forward_func,\n",
    "    backward_func=backward_func,\n",
    ")\n",
    "TBNN._initialise(W_mean=0, W_zero_prob=0.5)"
   ]
  },
  {
   "cell_type": "code",
   "execution_count": 8,
   "metadata": {},
   "outputs": [],
   "source": [
    "target_dims = [INPUT_DIM, 10, OUTPUT_DIM]\n",
    "Target_TBNN = bnn.network.TernBinNetwork(\n",
    "    *target_dims,\n",
    "    forward_func=forward_func,\n",
    "    backward_func=None,\n",
    ")\n",
    "Target_TBNN._initialise(W_mean=0, W_zero_prob=0.8)"
   ]
  },
  {
   "cell_type": "code",
   "execution_count": 9,
   "metadata": {},
   "outputs": [],
   "source": [
    "DL = bnn.data.target_network_factory(\n",
    "    datapoints=1000,\n",
    "    batch_size=1000,\n",
    "    target_network=Target_TBNN,\n",
    "    include_last_if_uneven=True,\n",
    ")"
   ]
  },
  {
   "cell_type": "code",
   "execution_count": 10,
   "metadata": {},
   "outputs": [],
   "source": [
    "loss_func: bnn.loss.LossFunction = bnn.loss.l1"
   ]
  },
  {
   "cell_type": "code",
   "execution_count": 11,
   "metadata": {},
   "outputs": [],
   "source": [
    "BernOpt = bnn.optimizer.ExpectationSGD(TBNN.parameters(), lr=0.001)"
   ]
  },
  {
   "cell_type": "code",
   "execution_count": 12,
   "metadata": {},
   "outputs": [],
   "source": [
    "losses = []"
   ]
  },
  {
   "cell_type": "code",
   "execution_count": 13,
   "metadata": {},
   "outputs": [],
   "source": [
    "train_epochs = 500\n",
    "num_logs = 10\n",
    "epoch_log_rate = train_epochs // num_logs"
   ]
  },
  {
   "cell_type": "code",
   "execution_count": 14,
   "metadata": {},
   "outputs": [
    {
     "name": "stderr",
     "output_type": "stream",
     "text": [
      "  1%|          | 3/500 [00:00<00:42, 11.59it/s]"
     ]
    },
    {
     "name": "stdout",
     "output_type": "stream",
     "text": [
      "epoch: 0\tloss: 7466\n"
     ]
    },
    {
     "name": "stderr",
     "output_type": "stream",
     "text": [
      " 10%|█         | 52/500 [00:05<00:50,  8.88it/s]"
     ]
    },
    {
     "name": "stdout",
     "output_type": "stream",
     "text": [
      "epoch: 50\tloss: 1060\n"
     ]
    },
    {
     "name": "stderr",
     "output_type": "stream",
     "text": [
      " 21%|██        | 103/500 [00:11<00:32, 12.18it/s]"
     ]
    },
    {
     "name": "stdout",
     "output_type": "stream",
     "text": [
      "epoch: 100\tloss: 1208\n"
     ]
    },
    {
     "name": "stderr",
     "output_type": "stream",
     "text": [
      " 30%|███       | 152/500 [00:17<00:50,  6.95it/s]"
     ]
    },
    {
     "name": "stdout",
     "output_type": "stream",
     "text": [
      "epoch: 150\tloss: 1234\n"
     ]
    },
    {
     "name": "stderr",
     "output_type": "stream",
     "text": [
      " 40%|████      | 202/500 [00:21<00:28, 10.62it/s]"
     ]
    },
    {
     "name": "stdout",
     "output_type": "stream",
     "text": [
      "epoch: 200\tloss: 1026\n"
     ]
    },
    {
     "name": "stderr",
     "output_type": "stream",
     "text": [
      " 50%|█████     | 252/500 [00:26<00:29,  8.51it/s]"
     ]
    },
    {
     "name": "stdout",
     "output_type": "stream",
     "text": [
      "epoch: 250\tloss: 968\n"
     ]
    },
    {
     "name": "stderr",
     "output_type": "stream",
     "text": [
      " 60%|██████    | 302/500 [00:33<00:23,  8.41it/s]"
     ]
    },
    {
     "name": "stdout",
     "output_type": "stream",
     "text": [
      "epoch: 300\tloss: 1204\n"
     ]
    },
    {
     "name": "stderr",
     "output_type": "stream",
     "text": [
      " 70%|███████   | 352/500 [00:37<00:11, 13.07it/s]"
     ]
    },
    {
     "name": "stdout",
     "output_type": "stream",
     "text": [
      "epoch: 350\tloss: 1104\n"
     ]
    },
    {
     "name": "stderr",
     "output_type": "stream",
     "text": [
      " 80%|████████  | 402/500 [00:43<00:12,  7.99it/s]"
     ]
    },
    {
     "name": "stdout",
     "output_type": "stream",
     "text": [
      "epoch: 400\tloss: 1308\n"
     ]
    },
    {
     "name": "stderr",
     "output_type": "stream",
     "text": [
      " 90%|█████████ | 452/500 [00:48<00:07,  6.38it/s]"
     ]
    },
    {
     "name": "stdout",
     "output_type": "stream",
     "text": [
      "epoch: 450\tloss: 1154\n"
     ]
    },
    {
     "name": "stderr",
     "output_type": "stream",
     "text": [
      "100%|██████████| 500/500 [00:53<00:00,  9.27it/s]\n"
     ]
    }
   ],
   "source": [
    "for epoch in tqdm.trange(train_epochs):\n",
    "    epoch_loss = 0\n",
    "    for batch in DL:\n",
    "        # forward pass and loss\n",
    "        output = TBNN.forward(batch.input)\n",
    "        loss = loss_func.forward(output=output, target=batch.target)\n",
    "\n",
    "        # backward pass\n",
    "        grad = loss_func.backward(output=output, target=batch.target)\n",
    "        out_grad = TBNN.backward(grad)\n",
    "\n",
    "        # optimizer step\n",
    "        BernOpt.step(number_of_samples=len(batch.input))\n",
    "\n",
    "        # sum loss\n",
    "        epoch_loss += loss\n",
    "\n",
    "    # save loss\n",
    "    losses.append(epoch_loss)\n",
    "\n",
    "    early_exit = epoch_loss == 0\n",
    "    if early_exit or (epoch % epoch_log_rate) == 0:\n",
    "        print(f'epoch: {epoch}\\tloss: {loss}')\n",
    "\n",
    "    if early_exit:\n",
    "        break"
   ]
  },
  {
   "cell_type": "code",
   "execution_count": 15,
   "metadata": {},
   "outputs": [
    {
     "data": {
      "application/vnd.jupyter.widget-view+json": {
       "model_id": "4a49b80fc02c42c98f753e64b18df2cd",
       "version_major": 2,
       "version_minor": 0
      },
      "image/png": "[encoded data removed]",
      "text/html": [
       "\n",
       "            <div style=\"display: inline-block;\">\n",
       "                <div class=\"jupyter-widgets widget-label\" style=\"text-align: center;\">\n",
       "                    loss_curve_partial\n",
       "                </div>\n",
       "                <img src='data:image/png;base64,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' width=640.0/>\n",
       "            </div>\n",
       "        "
      ],
      "text/plain": [
       "Canvas(toolbar=Toolbar(toolitems=[('Home', 'Reset original view', 'home', 'home'), ('Back', 'Back to previous …"
      ]
     },
     "metadata": {},
     "output_type": "display_data"
    }
   ],
   "source": [
    "NAME = 'loss_curve_partial'\n",
    "plt.close(NAME)\n",
    "plt.figure(NAME)\n",
    "\n",
    "plt.plot(losses[:train_epochs])\n",
    "plt.xlabel('epoch')\n",
    "plt.ylabel('loss')\n",
    "plt.grid()\n",
    "\n",
    "plt.show()"
   ]
  },
  {
   "cell_type": "code",
   "execution_count": 16,
   "metadata": {},
   "outputs": [
    {
     "name": "stdout",
     "output_type": "stream",
     "text": [
      "layers.TernBinLayer0.W \n",
      " Parameter containing:\n",
      "tensor([[ 1,  0,  1,  0,  0,  1,  1, -1, -1,  0,  0, -1,  1,  1, -1,  1,  0,  0,\n",
      "          0, -1,  0,  1,  1,  1, -1, -1,  1, -1,  1, -1,  0,  1, -1,  0, -1,  0,\n",
      "         -1,  1, -1,  1,  1,  0, -1,  1, -1,  1,  1,  0,  1,  0, -1,  1, -1,  1,\n",
      "          0, -1, -1,  0, -1,  1,  0,  1,  1, -1, -1,  0,  0, -1, -1,  0, -1,  1,\n",
      "         -1,  1,  0,  1,  1,  0,  1,  0,  1,  0, -1, -1,  1,  1,  0, -1,  0, -1,\n",
      "         -1,  0,  0,  1, -1, -1,  0,  0,  1, -1],\n",
      "        [ 1,  1,  0,  1, -1, -1, -1,  1,  1,  1,  1,  0,  1,  0, -1, -1,  1, -1,\n",
      "          1,  0, -1,  0, -1,  0, -1,  1,  1,  0,  0,  0,  0,  1,  0, -1,  1, -1,\n",
      "         -1, -1, -1,  1,  0,  1,  1, -1,  1, -1, -1,  1, -1,  1,  1,  0, -1, -1,\n",
      "          1, -1,  1,  0, -1,  1,  0, -1, -1,  0,  1, -1,  1,  1, -1,  1, -1, -1,\n",
      "          0,  1,  0,  1, -1,  0,  0,  0, -1, -1,  1,  0, -1, -1, -1,  1,  1, -1,\n",
      "         -1,  1, -1, -1,  0,  1, -1,  0,  1, -1],\n",
      "        [ 0,  0,  0, -1, -1,  1,  1,  0,  0,  0,  1,  0, -1,  0, -1, -1,  0,  1,\n",
      "          0,  0,  1,  0,  0,  1, -1,  1,  1, -1,  0,  1,  1, -1,  0,  1,  1,  1,\n",
      "          0,  1,  1,  1,  1, -1, -1,  1,  1,  1,  1, -1,  1,  1, -1,  1,  0,  0,\n",
      "         -1,  1,  0,  1, -1, -1, -1,  0,  1, -1,  0,  1,  0, -1,  1, -1, -1, -1,\n",
      "         -1,  0, -1,  0,  0,  0,  1, -1, -1,  0,  1,  0, -1, -1,  0,  0,  1,  1,\n",
      "          0,  0, -1,  0,  1, -1,  1, -1,  0,  1],\n",
      "        [ 0, -1,  0, -1,  1,  1,  0,  1,  1, -1, -1,  1, -1,  0,  0,  1,  0,  0,\n",
      "          0,  1,  0,  1,  0,  1,  1, -1,  0, -1,  0,  1,  1, -1,  0,  1, -1,  0,\n",
      "         -1, -1,  1, -1,  1,  0,  0,  1, -1,  0, -1,  1, -1,  1,  0,  1,  0, -1,\n",
      "         -1, -1,  0,  0, -1,  0, -1, -1,  1,  0, -1,  1,  0,  1,  1,  1, -1, -1,\n",
      "          0,  1,  0,  0,  0,  1,  0,  1,  1, -1,  1,  1, -1,  0,  0, -1,  0, -1,\n",
      "          1, -1,  0,  1,  0, -1,  1,  1,  0, -1],\n",
      "        [ 0, -1,  0,  1,  1,  0, -1,  0,  1,  0,  0,  0, -1,  1,  1,  0, -1, -1,\n",
      "         -1, -1,  1,  0,  0,  0, -1,  1, -1, -1,  1,  0, -1, -1,  1, -1,  1, -1,\n",
      "         -1, -1, -1,  1,  1,  1, -1,  1, -1, -1,  1, -1,  1,  0,  0,  0,  1,  1,\n",
      "         -1,  0, -1,  1,  1,  1,  0,  0,  0, -1,  0,  1, -1, -1, -1, -1, -1, -1,\n",
      "          0,  1,  1, -1,  1,  1, -1,  1, -1,  0,  1,  0,  1,  1,  1, -1,  0,  1,\n",
      "         -1, -1,  0, -1, -1,  1,  1,  0,  1, -1],\n",
      "        [ 0,  1,  1, -1, -1,  0,  1, -1, -1,  1,  1,  1,  0,  0,  0, -1, -1,  1,\n",
      "          1, -1,  1,  0,  1,  0,  0,  1, -1,  1, -1,  0, -1,  1,  1, -1, -1,  1,\n",
      "          0, -1,  0,  0, -1,  1, -1,  0,  0,  1, -1, -1,  1,  0, -1, -1, -1,  0,\n",
      "          1,  1,  1,  0, -1, -1, -1, -1,  0,  0, -1,  0, -1,  0,  0,  1, -1, -1,\n",
      "          1, -1,  1, -1,  0,  1,  0,  0,  1,  0,  1, -1,  1,  1,  0,  0,  1,  1,\n",
      "          0,  0, -1, -1,  1,  0, -1,  1,  0,  0],\n",
      "        [-1, -1,  1,  1, -1,  0,  1,  1, -1, -1,  0,  0,  1,  1, -1,  1,  1, -1,\n",
      "         -1, -1,  0, -1, -1,  1, -1, -1,  0,  1,  1, -1, -1,  1,  1, -1, -1,  0,\n",
      "          1,  1,  1,  1,  1,  0,  1,  1, -1,  0, -1,  1,  0,  0, -1,  1, -1,  1,\n",
      "          0,  1, -1,  1,  0,  1,  0, -1, -1,  1,  0,  1,  0,  1,  1, -1,  0,  0,\n",
      "          1,  0,  1,  0,  1,  0,  0,  0,  1,  1,  0, -1, -1, -1,  1, -1,  1,  1,\n",
      "         -1,  0,  1, -1,  1,  1,  0,  1, -1, -1],\n",
      "        [-1, -1, -1,  0,  0,  1,  1,  0,  0,  0,  1,  0,  1,  1,  0,  1,  1,  1,\n",
      "         -1,  1,  1, -1, -1, -1, -1, -1, -1,  1,  0,  0,  1, -1, -1,  1,  1, -1,\n",
      "          1,  0,  0, -1,  0, -1,  0,  0,  0,  0, -1, -1,  0,  0,  0, -1, -1, -1,\n",
      "          1,  0,  0,  0,  1,  1, -1,  0,  1,  0, -1,  0, -1,  1,  0, -1,  1, -1,\n",
      "          1,  1,  1,  0,  0,  0,  1,  1, -1,  0,  0, -1,  0,  1, -1,  1, -1, -1,\n",
      "          0,  1,  0,  0, -1,  0,  1,  1, -1, -1]], dtype=torch.int32) \n",
      " tensor([[ 10, -22,  29,  10,  38, -11,  -7, -26, -26,  -7, -18,  72,   2, -43,\n",
      "          37, -63, -18,  15,  23,  -1, -53, -12,   6,   9,  67,  44, -36, -13,\n",
      "         -28,   2, -55,   0, -15,  39,  50,  38,  -5, -23, -12,   2,  14,   4,\n",
      "         -27,  56, -17,   8,  49,  21,  -2, -25, -35,  41,  47,   4, -13,  -3,\n",
      "          -3, -16, -86, -29,  39,  -4, -24,  46,  10,   5,  28,   6, -18,   9,\n",
      "         -16,  47,   0, -31, -17,  -6,  37, -45, -13, -32,   4, -75, -27, -57,\n",
      "          11, -32, -40, -43,  18,  -9, -31,  39,  22,  40,  51,   1, -35,  21,\n",
      "         -24,  20],\n",
      "        [-34,  12, -33,  -6,   6,   3,  39,  46, -14, -47,   2, -92, -36,  43,\n",
      "           1,  57, -32,  13, -33, -25,  61, -20,  16, -55, -47, -64,  34, -23,\n",
      "          10, -10,  43,  10, -19, -23, -58, -42,  49,  -5,  20, -12,  16, -26,\n",
      "          15, -40, -35,  24, -49, -51,   4,  -1,  -3, -51,   9,  30,  31,   1,\n",
      "           7,  22,  64,   9, -39,  72,  48, -98, -20,  39, -58,   8,  12, -55,\n",
      "         -10, -55,   2,  45,  -1,  26, -45,  83,  -3,  50, -36,  63,  13,  49,\n",
      "          15,  42,  64,  15,  16,  19,  37, -41,  10, -26, -49, -23,  59,   7,\n",
      "           6,  30],\n",
      "        [ 24, -22,  37,  16,  32,  27, -29, -30,   2,  43, -12,  72,  -4, -19,\n",
      "          13, -57,  30,   5,  33,  33, -37,  24, -28,  39,  47,  68, -26,   7,\n",
      "         -34,  22, -51,   8,   7,  27,  64,  38, -41,  23, -14,  22, -18,  20,\n",
      "         -17,  28,   7, -30,  75,  45,  -8, -11, -17,  39,  19,  -8, -43,   5,\n",
      "           9,  -4, -66,  -7,  53, -34, -40,  86,  28, -31,  54, -16, -12,  41,\n",
      "          10,  43,  -4, -33,   7, -30,  53, -75,   9, -32,  24, -73, -35, -53,\n",
      "          -1, -50, -46, -19,   8,  -3, -31,  63,  14,  14,  67,  21, -53,   3,\n",
      "         -32, -22],\n",
      "        [ 18,  12,   3, -20,  -4, -17,  23,  -8,  -6,  -5,   2,   2,   6,   1,\n",
      "         -21,  -5, -30,  -7, -17, -11,   9,  14,  14,   7, -11, -18,  -8,  -5,\n",
      "           8, -16,  21,  -6,   5,   1,  -4,  -8,   7, -13, -10,   2,  12,  -6,\n",
      "          -1,  14,   9,  38,  11, -15, -10,  13,  29, -11, -13,   0,  19, -19,\n",
      "         -17,   8,   2,  -3,  11, -10,   0, -20,  -8,  13, -12,  26,  -6,  -3,\n",
      "           0,  -1,  -2,  -7,  -1, -14,  25,   5,  11,  -2,  10,  23,  11,   9,\n",
      "         -13,  -8, -34,  -7,  14,  -3, -19,  19, -20,  12,  -9,  -3,  13,   7,\n",
      "          18,   2],\n",
      "        [-32, -28,  -1,  -2,   4,  19,  35,  -4, -46, -11,  10,  40,  14, -25,\n",
      "          23, -37, -10,  -5,  -9,  -3, -49, -50,  16, -31,  31,  22, -24,  -5,\n",
      "         -24, -14, -35,  -8,  -9,  -9,  28,  32,  -3, -35,  14, -10,   2, -14,\n",
      "           9,   8,  11,  12,  13, -19,  54, -23, -19,   3,  19, -26,  25,  29,\n",
      "          29,   4, -28, -35,  -5, -14, -10,  30,   8,  15, -16,  28,  -2,  11,\n",
      "         -24,  41, -22,  -3, -49,  36, -19, -27,   3, -10,   8, -31,   1, -31,\n",
      "         -17,  -8, -10,   1, -12,  -7,  11, -25,   2,  20,  19, -17,  11,  -9,\n",
      "          -8,  52],\n",
      "        [ 46,  42,  17,  10, -46, -41,  13,  -2,  -2,  15,  -4,   2,   4, -23,\n",
      "         -27,  -7,  16,  27,  23,   9,  -1,  28,   4,  63, -17,  -2, -10,  -7,\n",
      "           6,  10,  -5,   8,  13,  19,  12, -12, -31, -11,  -2,  10,   0,  12,\n",
      "           1,  22,  -1,   0,   5,  17, -26,  31,  35,  39, -15, -14,   5, -31,\n",
      "         -29,  14,   0,  19,  23, -22, -32,   4,  10, -13,   8,  10, -16,  15,\n",
      "         -26, -13, -12, -21,  23, -46,   7,   5,   9, -38,   0, -27,  31,  17,\n",
      "          -9, -36, -24, -17,  12,   3, -15,  25, -30,  20, -11,   7, -21,  -1,\n",
      "          30, -14],\n",
      "        [-42,  16, -45,   6, -10, -15,  -3,  80,   0, -59,  -4, -82,  -4,  61,\n",
      "          -9,  53,  14,  17, -57,  13,  79, -36, -12, -47, -75, -74,  68,  -7,\n",
      "           4,  12,  73,   4,   1,  17, -50, -54,  65,   7, -10,   4,   0,  10,\n",
      "          69, -58,   1,  18, -43, -65, -28,  15,  19, -53,   7,  12,  61, -17,\n",
      "         -11,  -6,  60,   5, -47,  50,  50, -68,  -6,   5, -64, -16, -12, -69,\n",
      "           6, -69,   0,  49,  17,  40, -33,  61,   3,  48, -66,  63, -13,  63,\n",
      "           3,  64,  50,  49,  10,  13,  25, -23,  -2, -64, -55,   5,  55,   9,\n",
      "          -8, -16],\n",
      "        [ 24,  46,  25,   6, -48,  -5,  27,  12,  -6,  25,  20, -60,   4, -39,\n",
      "         -15,   5,  10,   5,  45,  -1, -13,  14,   4,  17,  -1, -10,  -6,  -3,\n",
      "          36,   0,  -1, -16,   3, -39,  -4,  30, -15,  -1,  22, -22,  -4, -24,\n",
      "         -25, -12,   9,   6, -15,  11,  22,   5,  23,  11, -21,   0,  -5,   5,\n",
      "          27,  18,  30,   9,   1, -56, -30, -34, -10,   7,  10,  12,  16,   7,\n",
      "          -4,  11,  -2, -11,  19, -18, -13,   9, -13, -38,  20,  17,  33,  -7,\n",
      "           1,  -4,  -4, -15,  -6,   3,  -9,  -1, -14,  20, -21,   5, -11, -23,\n",
      "          14,  12]], dtype=torch.int32)\n",
      "layers.TernBinLayer1.W \n",
      " Parameter containing:\n",
      "tensor([[ 0,  0, -1,  ...,  1, -1,  1],\n",
      "        [ 0,  0, -1,  ...,  0, -1,  1],\n",
      "        [-1,  0,  0,  ..., -1,  0,  1],\n",
      "        ...,\n",
      "        [-1,  1,  0,  ..., -1, -1,  0],\n",
      "        [-1,  1,  0,  ..., -1,  0,  1],\n",
      "        [ 0, -1,  0,  ...,  1, -1, -1]], dtype=torch.int32) \n",
      " tensor([[-27,  13,   6,  ..., -17,   9, -13],\n",
      "        [-19,   5,  -2,  ...,  -5,   3,  -9],\n",
      "        [  9,   1,  -2,  ...,   9,   9,  -9],\n",
      "        ...,\n",
      "        [  1,   7,  -6,  ...,   1,  -9,  19],\n",
      "        [-21,  13,   6,  ..., -11,   9, -13],\n",
      "        [-13,  -7,   6,  ..., -23,   5, -15]], dtype=torch.int32)\n",
      "layers.TernBinLayer2.W \n",
      " Parameter containing:\n",
      "tensor([[ 0, -1, -1,  1, -1, -1,  1,  0],\n",
      "        [ 0, -1,  1, -1,  1,  1,  0,  0],\n",
      "        [ 0, -1, -1,  0,  0,  1,  1,  0],\n",
      "        [ 0, -1,  0,  0,  0,  0, -1,  1],\n",
      "        [-1, -1,  0,  1,  1,  1, -1, -1],\n",
      "        [-1, -1,  1,  0, -1,  0, -1,  0],\n",
      "        [ 0,  1,  1,  0,  0,  0,  1,  0],\n",
      "        [ 0,  0, -1, -1, -1, -1,  1, -1],\n",
      "        [ 1, -1,  1,  0,  1, -1,  0,  0],\n",
      "        [ 0, -1,  0,  1,  0,  1,  1,  0],\n",
      "        [ 0,  1,  0,  1,  1,  0,  0,  1],\n",
      "        [ 1,  1,  1, -1,  1, -1,  1,  0],\n",
      "        [-1,  0, -1,  1,  1,  0,  0, -1],\n",
      "        [ 0,  1,  0,  1,  0,  1,  0,  0],\n",
      "        [ 0,  0, -1,  0,  0, -1,  1,  0],\n",
      "        [-1, -1, -1, -1,  1,  0,  0, -1],\n",
      "        [ 0,  0,  0,  1, -1,  0,  0,  1],\n",
      "        [-1, -1, -1,  0,  0, -1,  0,  0],\n",
      "        [-1,  1, -1,  1, -1,  0,  1,  0],\n",
      "        [ 0, -1, -1,  0,  1, -1,  1, -1],\n",
      "        [ 1,  1,  0,  0,  1,  1,  0, -1],\n",
      "        [ 0, -1,  0, -1,  0,  0,  1,  1],\n",
      "        [ 0,  0,  1,  1, -1,  1,  0,  0],\n",
      "        [ 1,  0,  1,  0,  1,  0,  0,  0],\n",
      "        [ 0, -1,  0, -1, -1,  1,  0,  0],\n",
      "        [-1,  0,  1, -1,  0, -1, -1,  0],\n",
      "        [-1,  0, -1,  0, -1,  0,  0, -1],\n",
      "        [ 1,  1,  1,  0,  0,  0,  1,  1],\n",
      "        [ 1,  0, -1,  0,  1,  0, -1,  0],\n",
      "        [-1, -1, -1,  0,  0,  0, -1, -1],\n",
      "        [ 1,  0,  1,  1,  0,  0,  1,  0],\n",
      "        [ 1,  0,  1,  1, -1,  1,  0,  1],\n",
      "        [ 1,  1,  1,  1,  1,  1, -1,  0],\n",
      "        [ 1, -1, -1,  1,  0,  1,  0,  1],\n",
      "        [-1,  0, -1,  0, -1,  1,  1,  0],\n",
      "        [ 1,  1,  0, -1,  1,  1,  0,  0],\n",
      "        [-1,  1,  0,  1, -1,  0, -1,  1],\n",
      "        [ 1,  0,  1, -1,  1,  1,  1,  1],\n",
      "        [ 1,  0,  1,  1,  0,  0,  0,  1],\n",
      "        [-1, -1,  0,  1,  0, -1, -1, -1],\n",
      "        [-1,  0, -1,  0, -1, -1,  1,  1],\n",
      "        [-1,  0, -1, -1,  0,  0,  0, -1],\n",
      "        [ 0,  0, -1,  0, -1,  1,  0,  0],\n",
      "        [ 0, -1,  0,  0,  1,  1,  0,  1],\n",
      "        [ 1,  0, -1, -1,  0, -1,  1, -1],\n",
      "        [ 0,  1,  0, -1, -1,  0,  0,  0],\n",
      "        [ 0,  1,  1, -1,  1,  1,  0, -1],\n",
      "        [-1,  0, -1,  0,  1,  0,  1,  1],\n",
      "        [-1, -1, -1, -1, -1,  0,  1,  1],\n",
      "        [ 1, -1,  1,  1,  1,  0, -1,  1],\n",
      "        [ 1,  0,  1,  1,  1,  0,  1,  0],\n",
      "        [ 1, -1,  0, -1, -1,  0,  0,  0],\n",
      "        [ 0,  1,  0,  1,  0,  1,  1,  0],\n",
      "        [-1,  0, -1, -1, -1,  0,  0,  0],\n",
      "        [ 0, -1,  1,  1,  1,  0,  1,  1],\n",
      "        [-1,  1, -1, -1, -1,  1,  0, -1],\n",
      "        [ 1,  1,  1, -1,  0, -1,  0, -1],\n",
      "        [ 1,  1,  0, -1,  0,  0,  0,  0],\n",
      "        [ 1,  1,  1,  1,  1, -1,  1,  1],\n",
      "        [-1, -1, -1, -1, -1,  0,  1,  0],\n",
      "        [ 0,  1,  1, -1,  0, -1,  0,  1],\n",
      "        [ 0,  0,  1,  1,  1, -1, -1,  1],\n",
      "        [ 1,  1,  1,  1,  1, -1,  0,  0],\n",
      "        [ 1, -1,  0,  0,  1,  1, -1, -1],\n",
      "        [ 0,  0,  0,  0,  1,  0,  1, -1],\n",
      "        [ 1,  1, -1,  1,  0,  1,  1,  1],\n",
      "        [ 1,  0,  1,  1, -1,  0, -1,  0],\n",
      "        [-1, -1, -1, -1, -1,  1, -1,  0],\n",
      "        [ 0,  0,  1,  1,  1,  1,  0,  1],\n",
      "        [ 0,  0, -1,  0,  0,  1, -1,  0],\n",
      "        [ 0,  1, -1,  0, -1,  1,  0,  1],\n",
      "        [ 1,  0, -1,  0,  1,  1,  0,  0],\n",
      "        [ 0, -1, -1,  1, -1,  1, -1,  0],\n",
      "        [ 0, -1,  0,  1,  0,  0,  1,  0],\n",
      "        [ 0,  0,  0, -1,  0,  1,  0, -1],\n",
      "        [ 1,  0,  1,  0,  0,  1,  0,  1],\n",
      "        [ 0,  1,  0, -1, -1, -1,  0,  1],\n",
      "        [-1,  0,  1,  0, -1,  1,  1,  0],\n",
      "        [ 1, -1,  0,  0,  1,  0, -1,  0],\n",
      "        [ 1,  0,  0, -1,  1, -1,  1,  1],\n",
      "        [ 0,  1,  0,  1,  1,  1,  0,  1],\n",
      "        [ 1,  1,  1,  1,  0, -1,  1,  1],\n",
      "        [ 0,  1,  1,  0,  1,  1, -1,  0],\n",
      "        [ 1,  1,  1, -1,  0, -1,  0,  1],\n",
      "        [ 0, -1, -1,  0, -1,  1,  1, -1],\n",
      "        [-1, -1,  0,  1, -1,  0, -1,  1],\n",
      "        [ 0,  0,  1,  0,  0,  1,  0,  1],\n",
      "        [ 0, -1,  1,  0,  1,  0, -1,  1],\n",
      "        [ 1,  1,  1,  1,  0, -1,  0,  1],\n",
      "        [-1, -1,  1,  1,  1,  0,  0, -1],\n",
      "        [ 0,  0, -1,  0,  0,  0,  1,  0],\n",
      "        [ 0, -1,  1,  0,  0,  0,  0,  0],\n",
      "        [ 1,  0,  1,  1,  1,  1,  0,  1],\n",
      "        [ 0,  0,  1,  0, -1,  1,  0,  0],\n",
      "        [ 0, -1, -1,  0,  1,  1, -1,  1],\n",
      "        [-1, -1, -1,  0, -1,  0,  0,  0],\n",
      "        [ 0,  1, -1,  0,  0,  0, -1, -1],\n",
      "        [ 0, -1,  0,  0,  1, -1,  1,  1],\n",
      "        [ 0, -1, -1, -1, -1,  0,  0,  1],\n",
      "        [-1,  1,  0,  1,  1,  0,  0,  0]], dtype=torch.int32) \n",
      " tensor([[ 15, -23,   0,  45,  12, -14,  15,   2],\n",
      "        [ -5,  59,   0,  -3,  12, -32,  29, -42],\n",
      "        [ -3,  33,   0,  33,   6,  22,  19, -18],\n",
      "        [ -3, -23,   0,   7,  16,  26, -13, -14],\n",
      "        [ -5,  15,   0, -29,  -8, -32,  13,  -4],\n",
      "        [  7, -63,   4,  35,  18,  10,  -1, -16],\n",
      "        [ 11, -13,   0,   7,   4,  14,   7,  42],\n",
      "        [  1,  -9,  -4,  31,   2,  32, -11,  10],\n",
      "        [-13,   7,  -4, -35,  -2, -50,  11,  14],\n",
      "        [  5,  41,   4,  23,  14, -32,  29,  10],\n",
      "        [-11,  -9,   0, -29, -12,  32, -15,  38],\n",
      "        [ -7,  11,  -4,  -3,   2, -28,   9,  12],\n",
      "        [ -1,   1,  -4,  19,  14,  32,  11, -12],\n",
      "        [  1, -29,  -4, -13,  -4,  56, -27,   8],\n",
      "        [  9,   7,  -4,  35,  10, -38,  15, -20],\n",
      "        [  7, -29,   0,   9,  26, -30,   7, -28],\n",
      "        [ 13,  55,   4,   5,   2, -30,  23,  -4],\n",
      "        [ -3,  -9,   4,  15, -22, -38, -13, -18],\n",
      "        [ -7, -31,   0,  19,  12,  12,  -3, -24],\n",
      "        [  9, -25,   0,  47,  16, -48,  -1, -30],\n",
      "        [ -1,  17,   0, -25, -18,  72, -15,  40],\n",
      "        [  5,  59,   4,  15,  20, -54,  23, -30],\n",
      "        [  9,  -7,   4,   9, -18,  46, -17,   6],\n",
      "        [ -9, -25,  -4, -21, -16,  42, -15,  60],\n",
      "        [-11,   1,   4,  23,  -4, -28, -13, -18],\n",
      "        [ -7,  -3,   0,   1,  10,  18, -11,  32],\n",
      "        [  1, -57,   0,  41,  -2, -32, -25, -16],\n",
      "        [  3,  15,   0,  17,   2, -26,  29,   6],\n",
      "        [ -1,  43,   0,  -5,   0, -64,  17,  -2],\n",
      "        [  1,  23,   0,   1,  12, -60,  15, -76],\n",
      "        [  1,  13,   0, -15,  -6,  12,  -3, -28],\n",
      "        [ -5,  41,   0,   7,  -8,  -4,  25,  30],\n",
      "        [  7,  39,   4,  17,   2, -16,  27, -12],\n",
      "        [  1,   5,   4,   9,  18, -48,  27, -14],\n",
      "        [-11, -35,  -4,   3,   6,  54, -17,   0],\n",
      "        [ -9,  31,  -4, -25, -12,  32,  23, -20],\n",
      "        [  1,   7,   4,  29, -20,   2, -23,  14],\n",
      "        [ 19,  13,   0, -35,   4,  28,   1,  28],\n",
      "        [ 13,  39,   0,  27,   2, -14,   1,  -2],\n",
      "        [ -1, -53,   0,   7,  16, -18, -11, -30],\n",
      "        [ -9, -57,   0,  37,  16,   8, -15, -10],\n",
      "        [  5, -19,  -4,  31,  22,  -4,  -3, -42],\n",
      "        [-11,  19,   0,  -9,  -2, -26,  15, -22],\n",
      "        [ -1, -23,  -4,   1,   8, -20,  25,   6],\n",
      "        [ -5, -35,  -4,  25,  22, -34, -13,  -2],\n",
      "        [  7, -11,   0,   3,  -2,   0,   1, -24],\n",
      "        [ -1, -33,  -4, -31,   4,  66, -17,  12],\n",
      "        [ 17, -13,   0,  23,  10,  52, -11,   2],\n",
      "        [ 17, -33,   4,   9,   2,  22, -11, -10],\n",
      "        [ -1,  35,   0,  -9,   2,  -2,  17, -22],\n",
      "        [ -1,  -3,   0, -13, -20,  40,  17,  30],\n",
      "        [  1,  -9,   0, -17, -14,   0, -19, -40],\n",
      "        [-11,  31,   4, -21, -12,   2,  25,  -4],\n",
      "        [  9,  -1,  -4,  17,   2, -14,  -5, -18],\n",
      "        [  3,  11,   0,   1, -12,  -8,  -1,  28],\n",
      "        [ -5, -25,  -4,  19,  14,  32,  -3, -12],\n",
      "        [-13,  21,  -4, -41,  -2, -44,  11,   4],\n",
      "        [ 15,  -5,   4,  -5,   0,  -6, -21, -14],\n",
      "        [ -3,  25,   4,  23,  16, -40,  17,  -6],\n",
      "        [-13, -69,  -4,  39,   2,  28, -13,   4],\n",
      "        [  9,  21,   0,  41,   8, -38,  17, -16],\n",
      "        [ -3, -15,  -4,  47,  14, -32,  11, -14],\n",
      "        [  7,  19,   0,  31,  12,   8,  15,  -8],\n",
      "        [  7,  17,   0,  -1,  12,   8,  13, -10],\n",
      "        [ 25, -37,   4,  33,  26,  -6,   3, -10],\n",
      "        [ 13,  11,   0,  -3,   6,  20,  -9,  26],\n",
      "        [ 13,  49,   0,   1,  -4,  -8,  11, -46],\n",
      "        [  3,  29,   0, -25,   2,  -8,  15, -22],\n",
      "        [ -5,  37,  -4,  -3,  16,  -6,  15,   6],\n",
      "        [ -7, -17,  -4,  -3,   2,  44,  -1, -32],\n",
      "        [  9,  -1,  -4,  23, -12,  66, -27,  16],\n",
      "        [ 17,  15,   4,  13,   4,  18,  -3, -10],\n",
      "        [ -9,   9,   0,  -9,  -6,  18,  15,  -6],\n",
      "        [  1,  31,  -4,  21,  -4, -46,  15, -20],\n",
      "        [-13,  63,   0, -41, -16,  58,  -3,  18],\n",
      "        [ -5, -15,   4,   1, -12,  28,   3,   4],\n",
      "        [ -3,  29,   0, -49, -18,  30,  19,  24],\n",
      "        [  7, -65,   4,  -5, -10,  14, -11,  16],\n",
      "        [ 13,  27,   0,  29,   2, -38,   1, -20],\n",
      "        [-15,  19,   0, -33,  -6,  22,  -3,  48],\n",
      "        [  3,  51,  -4,  -3,   0, -10,  25,  22],\n",
      "        [  9,  49,   0,  33, -14,   6,   3, -14],\n",
      "        [ -9,  21,  -4, -39,  -8,  12,  -3,  20],\n",
      "        [  5,   5,  -4,  23,   6,  34, -17,   2],\n",
      "        [ -1,  37,   4,  -7, -26,  18,  29,  -2],\n",
      "        [  1,  19,   0,  -9,   2, -34, -11, -34],\n",
      "        [ -1,  51,   4,  11,  10, -54,  17, -48],\n",
      "        [ -1,  49,   4,  -9,   0, -40,  29, -18],\n",
      "        [ -5,  51,  -4,  -3, -14,  30,  25,  24],\n",
      "        [-21,  21,  -4,   5,   2, -28,  -1, -20],\n",
      "        [  9, -31,   0,  -1,  12,  38,  15,   0],\n",
      "        [ -5,  31,   4,  19,  -6, -44,  13, -24],\n",
      "        [ -3,  27,  -4, -23,   2, -18,  25,   6],\n",
      "        [  1,  23,   4,   1, -18,   6,  11, -24],\n",
      "        [  1,  31,   4,  23,  12, -16,  11, -32],\n",
      "        [ 17, -53,   4,  55,  18, -18, -11, -38],\n",
      "        [-13,   1,  -4, -31,  10,   0,  -1,  16],\n",
      "        [ 11,  17,   0,  11, -10,  -4,   3,  36],\n",
      "        [ 17,   1,   0,   1,   0, -42, -13,  10],\n",
      "        [-17,  57,   4, -35,   2,   8,  23, -18]], dtype=torch.int32)\n"
     ]
    }
   ],
   "source": [
    "for name, p in TBNN.named_parameters():\n",
    "    if name.lower().endswith('.w'):\n",
    "        print(name, '\\n', p, '\\n', p.grad)"
   ]
  },
  {
   "cell_type": "code",
   "execution_count": 17,
   "metadata": {},
   "outputs": [],
   "source": [
    "assert bnn.network.network_params_al_ternary(TBNN)"
   ]
  },
  {
   "cell_type": "code",
   "execution_count": null,
   "metadata": {},
   "outputs": [],
   "source": []
  }
 ],
 "metadata": {
  "kernelspec": {
   "display_name": "Python 3 (ipykernel)",
   "language": "python",
   "name": "python3"
  },
  "language_info": {
   "codemirror_mode": {
    "name": "ipython",
    "version": 3
   },
   "file_extension": ".py",
   "mimetype": "text/x-python",
   "name": "python",
   "nbconvert_exporter": "python",
   "pygments_lexer": "ipython3",
   "version": "3.11.9"
  }
 },
 "nbformat": 4,
 "nbformat_minor": 4
}
