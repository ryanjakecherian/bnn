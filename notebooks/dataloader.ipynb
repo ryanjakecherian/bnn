{
 "cells": [
  {
   "cell_type": "code",
   "execution_count": 49,
   "metadata": {},
   "outputs": [],
   "source": [
    "%reload_ext autoreload\n",
    "%autoreload 2\n",
    "%matplotlib widget"
   ]
  },
  {
   "cell_type": "code",
   "execution_count": 50,
   "metadata": {},
   "outputs": [],
   "source": [
    "import matplotlib.pyplot as plt\n",
    "import numpy as np\n",
    "import torch\n",
    "import tqdm"
   ]
  },
  {
   "cell_type": "code",
   "execution_count": 51,
   "metadata": {},
   "outputs": [],
   "source": [
    "import bnn.data\n",
    "import bnn.functions\n",
    "import bnn.layer\n",
    "import bnn.loss\n",
    "import bnn.network\n",
    "import bnn.optimizer"
   ]
  },
  {
   "cell_type": "code",
   "execution_count": 52,
   "metadata": {},
   "outputs": [],
   "source": [
    "forward_func = bnn.functions.forward.SignBinarise()\n",
    "#forward_func=bnn.functions.forward.LayerMeanBinarise()\n",
    "#forward_func=bnn.functions.forward.LayerMedianBinarise()"
   ]
  },
  {
   "cell_type": "code",
   "execution_count": 53,
   "metadata": {},
   "outputs": [],
   "source": [
    "#backward_func = bnn.functions.backward.SignTernarise()\n",
    "#backward_func = bnn.functions.backward.LayerMeanStdTernarise(half_range_stds=0.5)\n",
    "backward_func = bnn.functions.backward.LayerQuantileTernarise(lo=0.25, hi=0.75)"
   ]
  },
  {
   "cell_type": "code",
   "execution_count": 54,
   "metadata": {},
   "outputs": [],
   "source": [
    "INPUT_DIM = 20\n",
    "OUTPUT_DIM = 7"
   ]
  },
  {
   "cell_type": "code",
   "execution_count": 55,
   "metadata": {},
   "outputs": [],
   "source": [
    "dims = [INPUT_DIM, 256, 256, OUTPUT_DIM]\n",
    "TBNN = bnn.network.TernBinNetwork(\n",
    "    dims,\n",
    "    forward_func=forward_func,\n",
    "    backward_func=backward_func,\n",
    ")\n",
    "TBNN._initialise(W_mean=0, W_zero_prob=0.5)"
   ]
  },
  {
   "cell_type": "code",
   "execution_count": 56,
   "metadata": {},
   "outputs": [],
   "source": [
    "target_dims = [INPUT_DIM, 10, OUTPUT_DIM]\n",
    "Target_TBNN = bnn.network.TernBinNetwork(\n",
    "    target_dims,\n",
    "    forward_func=forward_func,\n",
    "    backward_func=None,\n",
    ")\n",
    "Target_TBNN._initialise(W_mean=0, W_zero_prob=0.8)"
   ]
  },
  {
   "cell_type": "code",
   "execution_count": 57,
   "metadata": {},
   "outputs": [],
   "source": [
    "TN_DL = bnn.data.TargetNetworkDataLoader(\n",
    "    target_network=Target_TBNN,\n",
    "    datapoints=1000,\n",
    "    batch_size=1000,\n",
    "    include_last_if_uneven=True,\n",
    ")\n",
    "\n",
    "UnaryDL = bnn.data.AllUnaryFunctionsDataLoader(\n",
    "    input_dim=1,\n",
    "    datapoints=100,\n",
    "    batch_size=100,\n",
    "    include_last_if_uneven=True\n",
    ")\n",
    "\n",
    "DL = TN_DL"
   ]
  },
  {
   "cell_type": "code",
   "execution_count": 58,
   "metadata": {},
   "outputs": [],
   "source": [
    "loss_func: bnn.loss.LossFunction = bnn.loss.l1"
   ]
  },
  {
   "cell_type": "code",
   "execution_count": 59,
   "metadata": {},
   "outputs": [],
   "source": [
    "BernOpt = bnn.optimizer.ExpectationSGD(TBNN.parameters(), lr=0.0005)"
   ]
  },
  {
   "cell_type": "code",
   "execution_count": 60,
   "metadata": {},
   "outputs": [],
   "source": [
    "losses = []"
   ]
  },
  {
   "cell_type": "code",
   "execution_count": 61,
   "metadata": {},
   "outputs": [],
   "source": [
    "train_epochs = 50\n",
    "num_logs = 10\n",
    "epoch_log_rate = train_epochs // num_logs"
   ]
  },
  {
   "cell_type": "code",
   "execution_count": 62,
   "metadata": {},
   "outputs": [],
   "source": [
    "scheduler = torch.optim.lr_scheduler.ExponentialLR(optimizer=BernOpt, gamma=1.)"
   ]
  },
  {
   "cell_type": "code",
   "execution_count": 63,
   "metadata": {},
   "outputs": [
    {
     "name": "stderr",
     "output_type": "stream",
     "text": [
      "  4%|▍         | 2/50 [00:00<00:09,  5.03it/s]"
     ]
    },
    {
     "name": "stdout",
     "output_type": "stream",
     "text": [
      "epoch: 0\tloss: 6940\n"
     ]
    },
    {
     "name": "stderr",
     "output_type": "stream",
     "text": [
      " 14%|█▍        | 7/50 [00:01<00:08,  5.29it/s]"
     ]
    },
    {
     "name": "stdout",
     "output_type": "stream",
     "text": [
      "epoch: 5\tloss: 3306\n"
     ]
    },
    {
     "name": "stderr",
     "output_type": "stream",
     "text": [
      " 24%|██▍       | 12/50 [00:02<00:08,  4.45it/s]"
     ]
    },
    {
     "name": "stdout",
     "output_type": "stream",
     "text": [
      "epoch: 10\tloss: 3108\n"
     ]
    },
    {
     "name": "stderr",
     "output_type": "stream",
     "text": [
      " 32%|███▏      | 16/50 [00:03<00:07,  4.61it/s]"
     ]
    },
    {
     "name": "stdout",
     "output_type": "stream",
     "text": [
      "epoch: 15\tloss: 2784\n"
     ]
    },
    {
     "name": "stderr",
     "output_type": "stream",
     "text": [
      " 44%|████▍     | 22/50 [00:04<00:05,  5.31it/s]"
     ]
    },
    {
     "name": "stdout",
     "output_type": "stream",
     "text": [
      "epoch: 20\tloss: 2536\n"
     ]
    },
    {
     "name": "stderr",
     "output_type": "stream",
     "text": [
      " 52%|█████▏    | 26/50 [00:05<00:06,  3.74it/s]"
     ]
    },
    {
     "name": "stdout",
     "output_type": "stream",
     "text": [
      "epoch: 25\tloss: 2546\n"
     ]
    },
    {
     "name": "stderr",
     "output_type": "stream",
     "text": [
      " 62%|██████▏   | 31/50 [00:07<00:04,  3.98it/s]"
     ]
    },
    {
     "name": "stdout",
     "output_type": "stream",
     "text": [
      "epoch: 30\tloss: 2382\n"
     ]
    },
    {
     "name": "stderr",
     "output_type": "stream",
     "text": [
      " 72%|███████▏  | 36/50 [00:08<00:03,  4.50it/s]"
     ]
    },
    {
     "name": "stdout",
     "output_type": "stream",
     "text": [
      "epoch: 35\tloss: 2326\n"
     ]
    },
    {
     "name": "stderr",
     "output_type": "stream",
     "text": [
      " 82%|████████▏ | 41/50 [00:09<00:01,  4.53it/s]"
     ]
    },
    {
     "name": "stdout",
     "output_type": "stream",
     "text": [
      "epoch: 40\tloss: 2426\n"
     ]
    },
    {
     "name": "stderr",
     "output_type": "stream",
     "text": [
      " 94%|█████████▍| 47/50 [00:10<00:00,  4.72it/s]"
     ]
    },
    {
     "name": "stdout",
     "output_type": "stream",
     "text": [
      "epoch: 45\tloss: 2550\n"
     ]
    },
    {
     "name": "stderr",
     "output_type": "stream",
     "text": [
      "100%|██████████| 50/50 [00:11<00:00,  4.38it/s]\n"
     ]
    }
   ],
   "source": [
    "zero_loss_count = 0\n",
    "zero_loss_count_for_early_stop = 10\n",
    "for epoch in tqdm.trange(train_epochs):\n",
    "    epoch_loss = 0\n",
    "    for batch in DL:\n",
    "        # forward pass and loss\n",
    "        output = TBNN.forward(batch.input)\n",
    "        loss = loss_func.forward(output=output, target=batch.target)\n",
    "\n",
    "        # backward pass\n",
    "        grad = loss_func.backward(output=output, target=batch.target)\n",
    "        out_grad = TBNN.backward(grad)\n",
    "\n",
    "        # optimizer step\n",
    "        BernOpt.step()\n",
    "\n",
    "        # sum loss\n",
    "        epoch_loss += loss\n",
    "\n",
    "    # save loss\n",
    "    losses.append(epoch_loss)\n",
    "\n",
    "    if epoch_loss == 0:\n",
    "        zero_loss_count += 1\n",
    "    else:\n",
    "        zero_loss_count = 0\n",
    "\n",
    "    early_exit = zero_loss_count >= zero_loss_count_for_early_stop\n",
    "\n",
    "    if early_exit or (epoch % epoch_log_rate) == 0:\n",
    "        print(f'epoch: {epoch}\\tloss: {loss}')\n",
    "\n",
    "    if early_exit:\n",
    "        break\n",
    "\n",
    "    scheduler.step()"
   ]
  },
  {
   "cell_type": "code",
   "execution_count": 68,
   "metadata": {},
   "outputs": [
    {
     "name": "stdout",
     "output_type": "stream",
     "text": [
      "tensor([-1,  0,  1], dtype=torch.int32)\n",
      "tensor([-1,  0,  1], dtype=torch.int32)\n",
      "tensor([-1,  0,  1], dtype=torch.int32)\n",
      "tensor([-1,  1], dtype=torch.int32)\n",
      "tensor([-1,  1], dtype=torch.int32)\n",
      "tensor([-1,  1], dtype=torch.int32)\n",
      "tensor([-1,  0,  1], dtype=torch.int32)\n",
      "tensor([-1,  0,  1], dtype=torch.int32)\n",
      "tensor([-1,  0,  1], dtype=torch.int32)\n"
     ]
    }
   ],
   "source": [
    "for p in TBNN.parameters():\n",
    "    print(torch.unique(p))"
   ]
  },
  {
   "cell_type": "code",
   "execution_count": 64,
   "metadata": {},
   "outputs": [
    {
     "data": {
      "application/vnd.jupyter.widget-view+json": {
       "model_id": "86a00295f3a04f88aa1d073b68d744ec",
       "version_major": 2,
       "version_minor": 0
      },
      "image/png": "[encoded data removed]",
      "text/html": [
       "\n",
       "            <div style=\"display: inline-block;\">\n",
       "                <div class=\"jupyter-widgets widget-label\" style=\"text-align: center;\">\n",
       "                    loss_curve_partial\n",
       "                </div>\n",
       "                <img src='data:image/png;base64,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' width=640.0/>\n",
       "            </div>\n",
       "        "
      ],
      "text/plain": [
       "Canvas(toolbar=Toolbar(toolitems=[('Home', 'Reset original view', 'home', 'home'), ('Back', 'Back to previous …"
      ]
     },
     "metadata": {},
     "output_type": "display_data"
    }
   ],
   "source": [
    "NAME = 'loss_curve_partial'\n",
    "plt.close(NAME)\n",
    "plt.figure(NAME)\n",
    "\n",
    "plt.plot(losses[:train_epochs])\n",
    "plt.xlabel('epoch')\n",
    "plt.ylabel('loss')\n",
    "plt.grid()\n",
    "\n",
    "plt.show()"
   ]
  },
  {
   "cell_type": "code",
   "execution_count": 65,
   "metadata": {},
   "outputs": [
    {
     "name": "stdout",
     "output_type": "stream",
     "text": [
      "layers.TernBinLayer0.W \n",
      " Parameter containing:\n",
      "tensor([[ 0, -1,  0,  ...,  0,  1, -1],\n",
      "        [-1,  0,  0,  ...,  0,  1, -1],\n",
      "        [ 1,  0, -1,  ..., -1, -1,  0],\n",
      "        ...,\n",
      "        [ 1,  1,  1,  ...,  1, -1, -1],\n",
      "        [ 1, -1, -1,  ...,  1,  0,  0],\n",
      "        [ 0,  0,  1,  ...,  1, -1,  0]], dtype=torch.int32) \n",
      " tensor([[  2,  18, -20,  ...,   3,   2,   0],\n",
      "        [ 40, -20,  40,  ...,   3,  36, -36],\n",
      "        [-22, -12,  12,  ..., -11,   2,  14],\n",
      "        ...,\n",
      "        [-34, -16, -12,  ...,   3,  50,   8],\n",
      "        [ -8,  22,  -4,  ..., -17, -34, -14],\n",
      "        [ -4,   4,  -2,  ...,  13,  10,  24]], dtype=torch.int32)\n",
      "layers.TernBinLayer1.W \n",
      " Parameter containing:\n",
      "tensor([[ 1, -1, -1,  ...,  1,  0,  0],\n",
      "        [-1,  1,  1,  ...,  1,  0,  0],\n",
      "        [-1,  0,  1,  ...,  1,  0,  0],\n",
      "        ...,\n",
      "        [ 0,  0, -1,  ...,  0, -1,  0],\n",
      "        [ 0,  0,  1,  ...,  1,  1,  0],\n",
      "        [ 0,  1, -1,  ...,  0,  1,  0]], dtype=torch.int32) \n",
      " tensor([[  1,  13, -23,  ...,   4,   9,   0],\n",
      "        [ -3,  27,  25,  ...,  -8,  37,  12],\n",
      "        [ -3, -13, -27,  ..., -18,  21, -14],\n",
      "        ...,\n",
      "        [ -3, -13,  -1,  ...,  -6, -11,   0],\n",
      "        [  5,  19, -11,  ...,   8,   5,   8],\n",
      "        [  5, -29,   1,  ..., -14,  13, -20]], dtype=torch.int32)\n",
      "layers.TernBinLayer2.W \n",
      " Parameter containing:\n",
      "tensor([[ 0,  1,  0,  ..., -1,  0,  0],\n",
      "        [ 1, -1,  1,  ...,  0,  0,  0],\n",
      "        [ 0,  0,  1,  ...,  0,  0, -1],\n",
      "        ...,\n",
      "        [ 1,  0,  1,  ..., -1, -1,  0],\n",
      "        [-1, -1, -1,  ..., -1,  0, -1],\n",
      "        [ 0,  1,  1,  ...,  1,  0,  0]], dtype=torch.int32) \n",
      " tensor([[ -9,  10,  18,  ...,   6,  -6,   5],\n",
      "        [ -3,  -6,  46,  ...,   0,  14,  -7],\n",
      "        [ -5, -14, -10,  ...,  -4, -14,   7],\n",
      "        ...,\n",
      "        [ 21, -36,  48,  ...,   4,  -2,  -7],\n",
      "        [ -9,  -6,  10,  ...,   2,   4,  -3],\n",
      "        [  1,  16,  36,  ...,   6, -10,   1]], dtype=torch.int32)\n"
     ]
    }
   ],
   "source": [
    "for name, p in TBNN.named_parameters():\n",
    "    if name.lower().endswith('.w'):\n",
    "        print(name, '\\n', p, '\\n', p.grad)"
   ]
  },
  {
   "cell_type": "code",
   "execution_count": 66,
   "metadata": {},
   "outputs": [],
   "source": [
    "assert bnn.network.network_params_al_ternary(TBNN)"
   ]
  },
  {
   "cell_type": "code",
   "execution_count": null,
   "metadata": {},
   "outputs": [],
   "source": []
  }
 ],
 "metadata": {
  "kernelspec": {
   "display_name": "Python 3 (ipykernel)",
   "language": "python",
   "name": "python3"
  },
  "language_info": {
   "codemirror_mode": {
    "name": "ipython",
    "version": 3
   },
   "file_extension": ".py",
   "mimetype": "text/x-python",
   "name": "python",
   "nbconvert_exporter": "python",
   "pygments_lexer": "ipython3",
   "version": "3.11.9"
  }
 },
 "nbformat": 4,
 "nbformat_minor": 4
}
