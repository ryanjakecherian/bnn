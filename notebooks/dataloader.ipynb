{
 "cells": [
  {
   "cell_type": "code",
   "execution_count": 1,
   "metadata": {},
   "outputs": [],
   "source": [
    "%reload_ext autoreload\n",
    "%autoreload 2\n",
    "%matplotlib widget"
   ]
  },
  {
   "cell_type": "code",
   "execution_count": 2,
   "metadata": {},
   "outputs": [],
   "source": [
    "import matplotlib.pyplot as plt\n",
    "import numpy as np\n",
    "import torch\n",
    "import tqdm"
   ]
  },
  {
   "cell_type": "code",
   "execution_count": 3,
   "metadata": {},
   "outputs": [],
   "source": [
    "import bnn.data\n",
    "import bnn.functions\n",
    "import bnn.layer\n",
    "import bnn.loss\n",
    "import bnn.network\n",
    "import bnn.optimizer"
   ]
  },
  {
   "cell_type": "code",
   "execution_count": 4,
   "metadata": {},
   "outputs": [
    {
     "data": {
      "text/plain": [
       "device(type='cuda', index=0)"
      ]
     },
     "execution_count": 4,
     "metadata": {},
     "output_type": "execute_result"
    }
   ],
   "source": [
    "device = torch.device(\"cuda:0\" if torch.cuda.is_available() else \"cpu\")\n",
    "device"
   ]
  },
  {
   "cell_type": "code",
   "execution_count": 5,
   "metadata": {},
   "outputs": [],
   "source": [
    "forward_func = bnn.functions.forward.SignBinarise()\n",
    "#forward_func=bnn.functions.forward.LayerMeanBinarise()\n",
    "#forward_func=bnn.functions.forward.LayerMedianBinarise()"
   ]
  },
  {
   "cell_type": "code",
   "execution_count": 18,
   "metadata": {},
   "outputs": [],
   "source": [
    "#backward_func = bnn.functions.backward.SignTernarise()\n",
    "#backward_func = bnn.functions.backward.LayerMeanStdTernarise(half_range_stds=0.5)\n",
    "backward_func = bnn.functions.backward.LayerQuantileTernarise(lo=0.25, hi=0.75)"
   ]
  },
  {
   "cell_type": "code",
   "execution_count": 19,
   "metadata": {},
   "outputs": [],
   "source": [
    "INPUT_DIM = 7\n",
    "OUTPUT_DIM = 7"
   ]
  },
  {
   "cell_type": "code",
   "execution_count": 20,
   "metadata": {},
   "outputs": [
    {
     "name": "stdout",
     "output_type": "stream",
     "text": [
      "YAYAYAY\n",
      "YAYAYAY\n",
      "YAYAYAY\n"
     ]
    },
    {
     "data": {
      "text/plain": [
       "TernBinNetwork(\n",
       "  (layers): ModuleDict(\n",
       "    (TernBinLayer0): W: Parameter containing:\n",
       "    tensor([[ 0,  0,  1,  ..., -1, -1,  1],\n",
       "            [ 0,  1, -1,  ...,  1, -1,  0],\n",
       "            [ 0,  0,  0,  ...,  0,  0,  0],\n",
       "            ...,\n",
       "            [-1,  0,  0,  ..., -1, -1,  1],\n",
       "            [-1,  0,  0,  ..., -1, -1,  0],\n",
       "            [ 1,  0, -1,  ...,  1,  1,  0]], device='cuda:0', dtype=torch.int32)\n",
       "    (TernBinLayer1): W: Parameter containing:\n",
       "    tensor([[ 0, -1,  1,  ..., -1, -1,  0],\n",
       "            [ 0, -1,  0,  ...,  0,  0, -1],\n",
       "            [ 1, -1,  0,  ...,  0,  0, -1],\n",
       "            ...,\n",
       "            [ 0,  1,  1,  ...,  0,  1,  0],\n",
       "            [ 1,  0,  1,  ...,  0,  0,  0],\n",
       "            [ 0,  0, -1,  ...,  0,  0,  0]], device='cuda:0', dtype=torch.int32)\n",
       "    (TernBinLayer2): W: Parameter containing:\n",
       "    tensor([[ 1,  0,  0,  ..., -1,  1,  0],\n",
       "            [ 0, -1,  0,  ...,  0,  1,  1],\n",
       "            [ 0,  0,  0,  ..., -1, -1, -1],\n",
       "            ...,\n",
       "            [ 1,  0, -1,  ...,  1,  1, -1],\n",
       "            [ 1, -1,  0,  ...,  0,  0,  1],\n",
       "            [ 0,  0,  0,  ...,  0,  0,  0]], device='cuda:0', dtype=torch.int32)\n",
       "  )\n",
       "  (input): ParameterDict(\n",
       "      (TernBinLayer0): Parameter containing: [torch.cuda.IntTensor of size 7x256 (cuda:0)]\n",
       "      (TernBinLayer1): Parameter containing: [torch.cuda.IntTensor of size 256x256 (cuda:0)]\n",
       "      (TernBinLayer2): Parameter containing: [torch.cuda.IntTensor of size 256x7 (cuda:0)]\n",
       "  )\n",
       "  (grad): ParameterDict(\n",
       "      (TernBinLayer0): Parameter containing: [torch.cuda.IntTensor of size 7x256 (cuda:0)]\n",
       "      (TernBinLayer1): Parameter containing: [torch.cuda.IntTensor of size 256x256 (cuda:0)]\n",
       "      (TernBinLayer2): Parameter containing: [torch.cuda.IntTensor of size 256x7 (cuda:0)]\n",
       "  )\n",
       ")"
      ]
     },
     "execution_count": 20,
     "metadata": {},
     "output_type": "execute_result"
    }
   ],
   "source": [
    "dims = [INPUT_DIM, 256, 256, OUTPUT_DIM]\n",
    "TBNN = bnn.network.TernBinNetwork(\n",
    "    dims,\n",
    "    forward_func=forward_func,\n",
    "    backward_func=backward_func,\n",
    ")\n",
    "TBNN._initialise(W_mean=0, W_zero_prob=0.5)\n",
    "TBNN.to(device)\n",
    "TBNN"
   ]
  },
  {
   "cell_type": "code",
   "execution_count": 21,
   "metadata": {},
   "outputs": [
    {
     "data": {
      "text/plain": [
       "TernBinNetwork(\n",
       "  (layers): ModuleDict(\n",
       "    (TernBinLayer0): W: Parameter containing:\n",
       "    tensor([[-1,  0,  0,  0,  0,  0,  0,  1,  0,  0],\n",
       "            [ 0,  0,  0,  0, -1,  0, -1,  0,  0,  0],\n",
       "            [ 0,  0,  0,  0,  0,  0,  0,  0,  0,  0],\n",
       "            [ 0,  1,  0,  0,  0,  0,  0,  0,  0,  0],\n",
       "            [ 1,  0,  0,  0,  0,  0, -1,  0, -1,  0],\n",
       "            [ 0,  0,  1,  0,  0,  0,  0,  0,  0,  0],\n",
       "            [ 0,  0,  0,  0,  0,  0,  0, -1,  0,  0]], device='cuda:0',\n",
       "           dtype=torch.int32)\n",
       "    (TernBinLayer1): W: Parameter containing:\n",
       "    tensor([[ 0,  0,  0,  0,  0,  0,  0],\n",
       "            [ 0,  0,  0,  0, -1,  0,  0],\n",
       "            [ 0,  0,  1,  0,  0,  0,  0],\n",
       "            [ 0, -1,  0,  0, -1,  0,  0],\n",
       "            [ 0,  0,  0,  0, -1,  0,  1],\n",
       "            [ 0,  0,  0,  0,  0,  0,  0],\n",
       "            [ 0,  0,  0,  1,  0,  0,  0],\n",
       "            [ 0,  0, -1,  0,  0,  0, -1],\n",
       "            [ 0,  0,  0,  0,  0,  0,  0],\n",
       "            [ 0, -1,  0, -1,  0,  0,  0]], device='cuda:0', dtype=torch.int32)\n",
       "  )\n",
       "  (input): ParameterDict(\n",
       "      (TernBinLayer0): Parameter containing: [torch.cuda.IntTensor of size 7x10 (cuda:0)]\n",
       "      (TernBinLayer1): Parameter containing: [torch.cuda.IntTensor of size 10x7 (cuda:0)]\n",
       "  )\n",
       "  (grad): ParameterDict(\n",
       "      (TernBinLayer0): Parameter containing: [torch.cuda.IntTensor of size 7x10 (cuda:0)]\n",
       "      (TernBinLayer1): Parameter containing: [torch.cuda.IntTensor of size 10x7 (cuda:0)]\n",
       "  )\n",
       ")"
      ]
     },
     "execution_count": 21,
     "metadata": {},
     "output_type": "execute_result"
    }
   ],
   "source": [
    "target_dims = [INPUT_DIM, 10, OUTPUT_DIM]\n",
    "Target_TBNN = bnn.network.TernBinNetwork(\n",
    "    target_dims,\n",
    "    forward_func=forward_func,\n",
    "    backward_func=None,\n",
    ")\n",
    "Target_TBNN._initialise(W_mean=0, W_zero_prob=0.8)\n",
    "Target_TBNN.to(device)\n",
    "Target_TBNN"
   ]
  },
  {
   "cell_type": "code",
   "execution_count": 22,
   "metadata": {},
   "outputs": [],
   "source": [
    "TN_DL = bnn.data.TargetNetworkDataLoader(\n",
    "    target_network=Target_TBNN,\n",
    "    datapoints=10000,\n",
    "    batch_size=10000,\n",
    "    include_last_if_uneven=True,\n",
    ")\n",
    "\n",
    "UnaryDL = bnn.data.AllUnaryFunctionsDataLoader(\n",
    "    input_dim=1,\n",
    "    datapoints=100,\n",
    "    batch_size=100,\n",
    "    include_last_if_uneven=True\n",
    ")\n",
    "\n",
    "DL = TN_DL"
   ]
  },
  {
   "cell_type": "code",
   "execution_count": 23,
   "metadata": {},
   "outputs": [],
   "source": [
    "loss_func: bnn.loss.LossFunction = bnn.loss.l1"
   ]
  },
  {
   "cell_type": "code",
   "execution_count": 24,
   "metadata": {},
   "outputs": [],
   "source": [
    "BernOpt = bnn.optimizer.ExpectationSGD(TBNN.parameters(), lr=0.0005)"
   ]
  },
  {
   "cell_type": "code",
   "execution_count": 25,
   "metadata": {},
   "outputs": [],
   "source": [
    "losses = []"
   ]
  },
  {
   "cell_type": "code",
   "execution_count": 26,
   "metadata": {},
   "outputs": [],
   "source": [
    "train_epochs = 500\n",
    "num_logs = 10\n",
    "epoch_log_rate = train_epochs // num_logs"
   ]
  },
  {
   "cell_type": "code",
   "execution_count": 27,
   "metadata": {},
   "outputs": [],
   "source": [
    "scheduler = torch.optim.lr_scheduler.ExponentialLR(optimizer=BernOpt, gamma=1.)"
   ]
  },
  {
   "cell_type": "code",
   "execution_count": 28,
   "metadata": {},
   "outputs": [
    {
     "name": "stderr",
     "output_type": "stream",
     "text": [
      "  0%|          | 0/500 [00:00<?, ?it/s]"
     ]
    },
    {
     "name": "stdout",
     "output_type": "stream",
     "text": [
      "GRRR\n"
     ]
    },
    {
     "name": "stderr",
     "output_type": "stream",
     "text": [
      "  0%|          | 1/500 [00:01<10:55,  1.31s/it]"
     ]
    },
    {
     "name": "stdout",
     "output_type": "stream",
     "text": [
      "epoch: 0\tloss: 76920\n"
     ]
    },
    {
     "name": "stderr",
     "output_type": "stream",
     "text": [
      " 10%|█         | 51/500 [01:01<08:59,  1.20s/it]"
     ]
    },
    {
     "name": "stdout",
     "output_type": "stream",
     "text": [
      "epoch: 50\tloss: 40116\n"
     ]
    },
    {
     "name": "stderr",
     "output_type": "stream",
     "text": [
      " 20%|██        | 101/500 [02:02<08:32,  1.28s/it]"
     ]
    },
    {
     "name": "stdout",
     "output_type": "stream",
     "text": [
      "epoch: 100\tloss: 60448\n"
     ]
    },
    {
     "name": "stderr",
     "output_type": "stream",
     "text": [
      " 30%|███       | 151/500 [03:07<07:17,  1.25s/it]"
     ]
    },
    {
     "name": "stdout",
     "output_type": "stream",
     "text": [
      "epoch: 150\tloss: 61852\n"
     ]
    },
    {
     "name": "stderr",
     "output_type": "stream",
     "text": [
      " 33%|███▎      | 164/500 [03:23<06:56,  1.24s/it]\n"
     ]
    },
    {
     "ename": "KeyboardInterrupt",
     "evalue": "",
     "output_type": "error",
     "traceback": [
      "\u001b[0;31m---------------------------------------------------------------------------\u001b[0m",
      "\u001b[0;31mKeyboardInterrupt\u001b[0m                         Traceback (most recent call last)",
      "Cell \u001b[0;32mIn[28], line 15\u001b[0m\n\u001b[1;32m     13\u001b[0m \u001b[38;5;66;03m# backward pass\u001b[39;00m\n\u001b[1;32m     14\u001b[0m grad \u001b[38;5;241m=\u001b[39m loss_func\u001b[38;5;241m.\u001b[39mbackward(output\u001b[38;5;241m=\u001b[39moutput, target\u001b[38;5;241m=\u001b[39mgpu_target)\n\u001b[0;32m---> 15\u001b[0m out_grad \u001b[38;5;241m=\u001b[39m \u001b[43mTBNN\u001b[49m\u001b[38;5;241;43m.\u001b[39;49m\u001b[43mbackward\u001b[49m\u001b[43m(\u001b[49m\u001b[43mgrad\u001b[49m\u001b[43m)\u001b[49m\n\u001b[1;32m     17\u001b[0m \u001b[38;5;66;03m# optimizer step\u001b[39;00m\n\u001b[1;32m     18\u001b[0m BernOpt\u001b[38;5;241m.\u001b[39mstep()\n",
      "File \u001b[0;32m~/research/bnn/src/bnn/network.py:125\u001b[0m, in \u001b[0;36mTernBinNetwork.backward\u001b[0;34m(self, grad)\u001b[0m\n\u001b[1;32m    122\u001b[0m \u001b[38;5;28;01mfor\u001b[39;00m layer_name, layer \u001b[38;5;129;01min\u001b[39;00m \u001b[38;5;28mreversed\u001b[39m(\u001b[38;5;28mself\u001b[39m\u001b[38;5;241m.\u001b[39mlayers\u001b[38;5;241m.\u001b[39mitems()):\n\u001b[1;32m    123\u001b[0m     layer: bnn\u001b[38;5;241m.\u001b[39mlayer\u001b[38;5;241m.\u001b[39mTernBinLayer\n\u001b[0;32m--> 125\u001b[0m     grad \u001b[38;5;241m=\u001b[39m \u001b[43mlayer\u001b[49m\u001b[38;5;241;43m.\u001b[39;49m\u001b[43mbackward\u001b[49m\u001b[43m(\u001b[49m\u001b[43mgrad\u001b[49m\u001b[43m,\u001b[49m\u001b[43m \u001b[49m\u001b[38;5;28;43mself\u001b[39;49m\u001b[38;5;241;43m.\u001b[39;49m\u001b[43minput\u001b[49m\u001b[43m[\u001b[49m\u001b[43mlayer_name\u001b[49m\u001b[43m]\u001b[49m\u001b[43m)\u001b[49m\n\u001b[1;32m    126\u001b[0m     \u001b[38;5;28mself\u001b[39m\u001b[38;5;241m.\u001b[39mgrad[layer_name]\u001b[38;5;241m.\u001b[39mdata \u001b[38;5;241m=\u001b[39m grad\n\u001b[1;32m    128\u001b[0m \u001b[38;5;28;01mreturn\u001b[39;00m grad\n",
      "File \u001b[0;32m~/research/bnn/src/bnn/layer.py:85\u001b[0m, in \u001b[0;36mTernBinLayer.backward\u001b[0;34m(self, grad, activation)\u001b[0m\n\u001b[1;32m     83\u001b[0m \u001b[38;5;28;01mdef\u001b[39;00m \u001b[38;5;21mbackward\u001b[39m(\u001b[38;5;28mself\u001b[39m, grad: torch\u001b[38;5;241m.\u001b[39mTensor, activation: torch\u001b[38;5;241m.\u001b[39mTensor) \u001b[38;5;241m-\u001b[39m\u001b[38;5;241m>\u001b[39m torch\u001b[38;5;241m.\u001b[39mTensor:\n\u001b[1;32m     84\u001b[0m \u001b[38;5;250m    \u001b[39m\u001b[38;5;124;03m\"\"\"Backproject gradient signal and update W_grad.\"\"\"\u001b[39;00m\n\u001b[0;32m---> 85\u001b[0m     W_grad, out_grad \u001b[38;5;241m=\u001b[39m \u001b[38;5;28;43mself\u001b[39;49m\u001b[38;5;241;43m.\u001b[39;49m\u001b[43mbackward_func\u001b[49m\u001b[43m(\u001b[49m\u001b[43mgrad\u001b[49m\u001b[38;5;241;43m=\u001b[39;49m\u001b[43mgrad\u001b[49m\u001b[43m,\u001b[49m\u001b[43m \u001b[49m\u001b[38;5;28;43minput\u001b[39;49m\u001b[38;5;241;43m=\u001b[39;49m\u001b[43mactivation\u001b[49m\u001b[43m,\u001b[49m\u001b[43m \u001b[49m\u001b[43mW\u001b[49m\u001b[38;5;241;43m=\u001b[39;49m\u001b[38;5;28;43mself\u001b[39;49m\u001b[38;5;241;43m.\u001b[39;49m\u001b[43mW\u001b[49m\u001b[43m)\u001b[49m\n\u001b[1;32m     87\u001b[0m     \u001b[38;5;28mself\u001b[39m\u001b[38;5;241m.\u001b[39mW\u001b[38;5;241m.\u001b[39mgrad \u001b[38;5;241m=\u001b[39m W_grad\n\u001b[1;32m     89\u001b[0m     \u001b[38;5;28;01mreturn\u001b[39;00m out_grad\n",
      "File \u001b[0;32m~/research/bnn/src/bnn/functions/backward.py:46\u001b[0m, in \u001b[0;36mBackprojectTernarise.__call__\u001b[0;34m(self, grad, input, W)\u001b[0m\n\u001b[1;32m     44\u001b[0m \u001b[38;5;66;03m# TODO - make this configurable?\u001b[39;00m\n\u001b[1;32m     45\u001b[0m grad \u001b[38;5;241m=\u001b[39m functions\u001b[38;5;241m.\u001b[39mint_matmul(grad, W\u001b[38;5;241m.\u001b[39mT)\n\u001b[0;32m---> 46\u001b[0m tern_grad \u001b[38;5;241m=\u001b[39m \u001b[38;5;28;43mself\u001b[39;49m\u001b[38;5;241;43m.\u001b[39;49m\u001b[43mternarise\u001b[49m\u001b[43m(\u001b[49m\u001b[43mgrad\u001b[49m\u001b[43m)\u001b[49m\n\u001b[1;32m     47\u001b[0m tern_grad_int \u001b[38;5;241m=\u001b[39m tern_grad\u001b[38;5;241m.\u001b[39mto(torch\u001b[38;5;241m.\u001b[39mint)\n\u001b[1;32m     49\u001b[0m \u001b[38;5;28;01mreturn\u001b[39;00m W_grad_int, tern_grad_int\n",
      "File \u001b[0;32m~/research/bnn/src/bnn/functions/backward.py:119\u001b[0m, in \u001b[0;36mLayerQuantileTernarise.ternarise\u001b[0;34m(self, grad)\u001b[0m\n\u001b[1;32m    116\u001b[0m out \u001b[38;5;241m=\u001b[39m torch\u001b[38;5;241m.\u001b[39mempty_like(grad)\n\u001b[1;32m    118\u001b[0m \u001b[38;5;28;01mfor\u001b[39;00m i, (grad_, lo_q, hi_q) \u001b[38;5;129;01min\u001b[39;00m \u001b[38;5;28menumerate\u001b[39m(\u001b[38;5;28mzip\u001b[39m(grad, lo_quants, hi_quants)):\n\u001b[0;32m--> 119\u001b[0m     out[i] \u001b[38;5;241m=\u001b[39m functions\u001b[38;5;241m.\u001b[39mternarise(\n\u001b[1;32m    120\u001b[0m         x\u001b[38;5;241m=\u001b[39mgrad_,\n\u001b[1;32m    121\u001b[0m         threshold_lo\u001b[38;5;241m=\u001b[39mlo_q,\n\u001b[1;32m    122\u001b[0m         \u001b[38;5;66;03m# NOTE threshold_hi is inclusive, ie ternarise(thresh_hi) = 1\u001b[39;00m\n\u001b[1;32m    123\u001b[0m         \u001b[38;5;66;03m# therefore, adding EPS ensures grad=zeros is stable under ternarisation\u001b[39;00m\n\u001b[1;32m    124\u001b[0m         threshold_hi\u001b[38;5;241m=\u001b[39mhi_q \u001b[38;5;241m+\u001b[39m EPS,\n\u001b[1;32m    125\u001b[0m     )\n\u001b[1;32m    127\u001b[0m \u001b[38;5;28;01mreturn\u001b[39;00m out\n",
      "\u001b[0;31mKeyboardInterrupt\u001b[0m: "
     ]
    }
   ],
   "source": [
    "zero_loss_count = 0\n",
    "zero_loss_count_for_early_stop = 10\n",
    "for epoch in tqdm.trange(train_epochs):\n",
    "    epoch_loss = 0\n",
    "    for batch in DL:\n",
    "        gpu_input = batch.input.to(device)\n",
    "        gpu_target = batch.target.to(device)\n",
    "\n",
    "        # forward pass and loss\n",
    "        output = TBNN.forward(gpu_input)\n",
    "        loss = loss_func.forward(output=output, target=gpu_target)\n",
    "\n",
    "        # backward pass\n",
    "        grad = loss_func.backward(output=output, target=gpu_target)\n",
    "        out_grad = TBNN.backward(grad)\n",
    "\n",
    "        # optimizer step\n",
    "        BernOpt.step()\n",
    "\n",
    "        # sum loss\n",
    "        epoch_loss += loss\n",
    "\n",
    "    # save loss\n",
    "    losses.append(epoch_loss)\n",
    "\n",
    "    if epoch_loss == 0:\n",
    "        zero_loss_count += 1\n",
    "    else:\n",
    "        zero_loss_count = 0\n",
    "\n",
    "    early_exit = zero_loss_count >= zero_loss_count_for_early_stop\n",
    "\n",
    "    if early_exit or (epoch % epoch_log_rate) == 0:\n",
    "        print(f'epoch: {epoch}\\tloss: {loss}')\n",
    "\n",
    "    if early_exit:\n",
    "        break\n",
    "\n",
    "    scheduler.step()"
   ]
  },
  {
   "cell_type": "code",
   "execution_count": null,
   "metadata": {},
   "outputs": [],
   "source": [
    "import bnn.metrics\n",
    "\n",
    "ds: list[bnn.random.DISCRETE_DIST | None] = []\n",
    "for n, p in TBNN.named_parameters():\n",
    "    if \"W\" in n:\n",
    "        d = bnn.metrics.distribution(p)\n",
    "        ds.append(d)"
   ]
  },
  {
   "cell_type": "code",
   "execution_count": null,
   "metadata": {},
   "outputs": [],
   "source": [
    "plot = bnn.metrics.distribution_plot(ds)"
   ]
  },
  {
   "cell_type": "code",
   "execution_count": null,
   "metadata": {},
   "outputs": [],
   "source": [
    "FIG_NAME = \"dist\"\n",
    "plt.close(FIG_NAME)\n",
    "\n",
    "num_plots = len(ds)\n",
    "ceil_sqrt_num_plots = np.ceil(np.sqrt(num_plots)).astype(int)\n",
    "\n",
    "fig, axs = plt.subplots(ceil_sqrt_num_plots, ceil_sqrt_num_plots, num=FIG_NAME)\n",
    "axs = np.array(axs).flatten()\n",
    "\n",
    "min_x, max_x = -1, 1\n",
    "width=0.1\n",
    "for i, (ax, d) in enumerate(zip(axs, ds + [None]*len(axs))):\n",
    "    if d is None:\n",
    "        ax.plot(np.linspace(min_x, max_x), np.linspace(0, 1), '-', color=\"red\")\n",
    "        ax.plot(np.linspace(max_x, min_x), np.linspace(0, 1), '-', color=\"red\")\n",
    "        ax.axis(\"off\")\n",
    "\n",
    "    else:\n",
    "        ax.set_title(i)\n",
    "        vals = [pair.value for pair in d]\n",
    "        probs = [pair.probability for pair in d]\n",
    "\n",
    "        if len(vals) > 3:\n",
    "            ax.plot(vals, probs, 'o-')\n",
    "        else:\n",
    "            ax.bar(vals, probs, width=width)\n",
    "\n",
    "        min_x = min(min_x, min(vals))\n",
    "        max_x = max(max_x, max(vals))\n",
    "\n",
    "for ax in axs:\n",
    "    ax.set_xlim(min_x-width, max_x+width)\n",
    "    ax.grid()\n",
    "\n",
    "fig.tight_layout(pad=0.1)\n",
    "plt.show()"
   ]
  },
  {
   "cell_type": "code",
   "execution_count": null,
   "metadata": {},
   "outputs": [],
   "source": [
    "NAME = 'loss_curve_partial'\n",
    "plt.close(NAME)\n",
    "plt.figure(NAME)\n",
    "\n",
    "plt.plot(losses[:train_epochs])\n",
    "plt.xlabel('epoch')\n",
    "plt.ylabel('loss')\n",
    "plt.grid()\n",
    "\n",
    "plt.show()"
   ]
  },
  {
   "cell_type": "code",
   "execution_count": null,
   "metadata": {},
   "outputs": [],
   "source": [
    "for name, p in TBNN.named_parameters():\n",
    "    if name.lower().endswith('.w'):\n",
    "        print(name, '\\n', p, '\\n', p.grad)"
   ]
  },
  {
   "cell_type": "code",
   "execution_count": null,
   "metadata": {},
   "outputs": [],
   "source": [
    "assert bnn.network.network_params_al_ternary(TBNN)"
   ]
  },
  {
   "cell_type": "code",
   "execution_count": null,
   "metadata": {},
   "outputs": [],
   "source": []
  }
 ],
 "metadata": {
  "kernelspec": {
   "display_name": "Python 3 (ipykernel)",
   "language": "python",
   "name": "python3"
  },
  "language_info": {
   "codemirror_mode": {
    "name": "ipython",
    "version": 3
   },
   "file_extension": ".py",
   "mimetype": "text/x-python",
   "name": "python",
   "nbconvert_exporter": "python",
   "pygments_lexer": "ipython3",
   "version": "3.11.9"
  }
 },
 "nbformat": 4,
 "nbformat_minor": 4
}
