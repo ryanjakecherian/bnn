{
 "cells": [
  {
   "cell_type": "code",
   "execution_count": 52,
   "metadata": {},
   "outputs": [],
   "source": [
    "%reload_ext autoreload\n",
    "%autoreload 2\n",
    "%matplotlib widget"
   ]
  },
  {
   "cell_type": "code",
   "execution_count": 53,
   "metadata": {},
   "outputs": [],
   "source": [
    "import matplotlib.pyplot as plt\n",
    "import numpy as np\n",
    "import torch\n",
    "import tqdm"
   ]
  },
  {
   "cell_type": "code",
   "execution_count": 54,
   "metadata": {},
   "outputs": [],
   "source": [
    "import bnn.data\n",
    "import bnn.functions\n",
    "import bnn.layer\n",
    "import bnn.loss\n",
    "import bnn.network\n",
    "import bnn.optimizer"
   ]
  },
  {
   "cell_type": "code",
   "execution_count": 55,
   "metadata": {},
   "outputs": [],
   "source": [
    "forward_func = bnn.functions.forward.SignBinarise()\n",
    "#forward_func=bnn.functions.forward.LayerMeanBinarise()\n",
    "#forward_func=bnn.functions.forward.LayerMedianBinarise()"
   ]
  },
  {
   "cell_type": "code",
   "execution_count": 56,
   "metadata": {},
   "outputs": [],
   "source": [
    "#backward_func = bnn.functions.backward.SignTernarise()\n",
    "#backward_func = bnn.functions.backward.LayerMeanStdTernarise(half_range_stds=0.5)\n",
    "backward_func = bnn.functions.backward.LayerQuantileTernarise(lo=0.25, hi=0.75)"
   ]
  },
  {
   "cell_type": "code",
   "execution_count": 57,
   "metadata": {},
   "outputs": [],
   "source": [
    "INPUT_DIM = 7\n",
    "OUTPUT_DIM = 7"
   ]
  },
  {
   "cell_type": "code",
   "execution_count": 58,
   "metadata": {},
   "outputs": [],
   "source": [
    "dims = [INPUT_DIM, 256, 256, OUTPUT_DIM]\n",
    "TBNN = bnn.network.TernBinNetwork(\n",
    "    *dims,\n",
    "    forward_func=forward_func,\n",
    "    backward_func=backward_func,\n",
    ")\n",
    "TBNN._initialise(W_mean=0, W_zero_prob=0.5)"
   ]
  },
  {
   "cell_type": "code",
   "execution_count": 59,
   "metadata": {},
   "outputs": [],
   "source": [
    "target_dims = [INPUT_DIM, 10, OUTPUT_DIM]\n",
    "Target_TBNN = bnn.network.TernBinNetwork(\n",
    "    *target_dims,\n",
    "    forward_func=forward_func,\n",
    "    backward_func=None,\n",
    ")\n",
    "Target_TBNN._initialise(W_mean=0, W_zero_prob=0.8)"
   ]
  },
  {
   "cell_type": "code",
   "execution_count": 60,
   "metadata": {},
   "outputs": [],
   "source": [
    "TN_DL = bnn.data.TargetNetworkDataLoader(\n",
    "    target_network=Target_TBNN,\n",
    "    datapoints=1000,\n",
    "    batch_size=1000,\n",
    "    include_last_if_uneven=True,\n",
    ")\n",
    "\n",
    "UnaryDL = bnn.data.AllUnaryFunctionsDataLoader(\n",
    "    input_dim=1,\n",
    "    datapoints=100,\n",
    "    batch_size=100,\n",
    "    include_last_if_uneven=True\n",
    ")\n",
    "\n",
    "DL = TN_DL"
   ]
  },
  {
   "cell_type": "code",
   "execution_count": 61,
   "metadata": {},
   "outputs": [],
   "source": [
    "loss_func: bnn.loss.LossFunction = bnn.loss.l1"
   ]
  },
  {
   "cell_type": "code",
   "execution_count": 62,
   "metadata": {},
   "outputs": [],
   "source": [
    "BernOpt = bnn.optimizer.ExpectationSGD(TBNN.parameters(), lr=0.0005)"
   ]
  },
  {
   "cell_type": "code",
   "execution_count": 63,
   "metadata": {},
   "outputs": [],
   "source": [
    "losses = []"
   ]
  },
  {
   "cell_type": "code",
   "execution_count": 64,
   "metadata": {},
   "outputs": [],
   "source": [
    "train_epochs = 500\n",
    "num_logs = 10\n",
    "epoch_log_rate = train_epochs // num_logs"
   ]
  },
  {
   "cell_type": "code",
   "execution_count": 65,
   "metadata": {},
   "outputs": [],
   "source": [
    "scheduler = torch.optim.lr_scheduler.ExponentialLR(optimizer=BernOpt, gamma=1.)"
   ]
  },
  {
   "cell_type": "code",
   "execution_count": 66,
   "metadata": {},
   "outputs": [
    {
     "name": "stderr",
     "output_type": "stream",
     "text": [
      "  0%|          | 1/500 [00:00<02:19,  3.57it/s]"
     ]
    },
    {
     "name": "stdout",
     "output_type": "stream",
     "text": [
      "epoch: 0\tloss: 7144\n"
     ]
    },
    {
     "name": "stderr",
     "output_type": "stream",
     "text": [
      " 10%|█         | 52/500 [00:14<01:52,  3.97it/s]"
     ]
    },
    {
     "name": "stdout",
     "output_type": "stream",
     "text": [
      "epoch: 50\tloss: 526\n"
     ]
    },
    {
     "name": "stderr",
     "output_type": "stream",
     "text": [
      " 20%|██        | 101/500 [00:27<01:37,  4.09it/s]"
     ]
    },
    {
     "name": "stdout",
     "output_type": "stream",
     "text": [
      "epoch: 100\tloss: 396\n"
     ]
    },
    {
     "name": "stderr",
     "output_type": "stream",
     "text": [
      " 30%|███       | 151/500 [00:40<01:14,  4.68it/s]"
     ]
    },
    {
     "name": "stdout",
     "output_type": "stream",
     "text": [
      "epoch: 150\tloss: 158\n"
     ]
    },
    {
     "name": "stderr",
     "output_type": "stream",
     "text": [
      " 40%|████      | 201/500 [00:54<01:54,  2.61it/s]"
     ]
    },
    {
     "name": "stdout",
     "output_type": "stream",
     "text": [
      "epoch: 200\tloss: 98\n"
     ]
    },
    {
     "name": "stderr",
     "output_type": "stream",
     "text": [
      " 48%|████▊     | 242/500 [01:06<01:10,  3.65it/s]"
     ]
    },
    {
     "name": "stdout",
     "output_type": "stream",
     "text": [
      "epoch: 242\tloss: 0\n"
     ]
    },
    {
     "name": "stderr",
     "output_type": "stream",
     "text": [
      "\n"
     ]
    }
   ],
   "source": [
    "zero_loss_count = 0\n",
    "zero_loss_count_for_early_stop = 10\n",
    "for epoch in tqdm.trange(train_epochs):\n",
    "    epoch_loss = 0\n",
    "    for batch in DL:\n",
    "        # forward pass and loss\n",
    "        output = TBNN.forward(batch.input)\n",
    "        loss = loss_func.forward(output=output, target=batch.target)\n",
    "\n",
    "        # backward pass\n",
    "        grad = loss_func.backward(output=output, target=batch.target)\n",
    "        out_grad = TBNN.backward(grad)\n",
    "\n",
    "        # optimizer step\n",
    "        BernOpt.step()\n",
    "\n",
    "        # sum loss\n",
    "        epoch_loss += loss\n",
    "\n",
    "    # save loss\n",
    "    losses.append(epoch_loss)\n",
    "\n",
    "    if epoch_loss == 0:\n",
    "        zero_loss_count += 1\n",
    "    else:\n",
    "        zero_loss_count = 0\n",
    "\n",
    "    early_exit = zero_loss_count >= zero_loss_count_for_early_stop\n",
    "\n",
    "    if early_exit or (epoch % epoch_log_rate) == 0:\n",
    "        print(f'epoch: {epoch}\\tloss: {loss}')\n",
    "\n",
    "    if early_exit:\n",
    "        break\n",
    "\n",
    "    scheduler.step()"
   ]
  },
  {
   "cell_type": "code",
   "execution_count": 67,
   "metadata": {},
   "outputs": [
    {
     "data": {
      "application/vnd.jupyter.widget-view+json": {
       "model_id": "28cef638e7204c519d911137f4e37f77",
       "version_major": 2,
       "version_minor": 0
      },
      "image/png": "[encoded data removed]",
      "text/html": [
       "\n",
       "            <div style=\"display: inline-block;\">\n",
       "                <div class=\"jupyter-widgets widget-label\" style=\"text-align: center;\">\n",
       "                    loss_curve_partial\n",
       "                </div>\n",
       "                <img src='data:image/png;base64,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' width=640.0/>\n",
       "            </div>\n",
       "        "
      ],
      "text/plain": [
       "Canvas(toolbar=Toolbar(toolitems=[('Home', 'Reset original view', 'home', 'home'), ('Back', 'Back to previous …"
      ]
     },
     "metadata": {},
     "output_type": "display_data"
    }
   ],
   "source": [
    "NAME = 'loss_curve_partial'\n",
    "plt.close(NAME)\n",
    "plt.figure(NAME)\n",
    "\n",
    "plt.plot(losses[:train_epochs])\n",
    "plt.xlabel('epoch')\n",
    "plt.ylabel('loss')\n",
    "plt.grid()\n",
    "\n",
    "plt.show()"
   ]
  },
  {
   "cell_type": "code",
   "execution_count": 68,
   "metadata": {},
   "outputs": [
    {
     "name": "stdout",
     "output_type": "stream",
     "text": [
      "layers.TernBinLayer0.W \n",
      " Parameter containing:\n",
      "tensor([[ 0,  1,  0,  ..., -1,  0,  0],\n",
      "        [ 0,  1, -1,  ...,  1,  0,  0],\n",
      "        [ 0,  1, -1,  ..., -1,  0,  1],\n",
      "        ...,\n",
      "        [ 1,  1,  1,  ...,  0, -1, -1],\n",
      "        [ 1,  1,  0,  ...,  0,  0, -1],\n",
      "        [ 1, -1,  1,  ...,  0, -1,  0]], dtype=torch.int32) \n",
      " tensor([[0, 0, 0,  ..., 0, 0, 0],\n",
      "        [0, 0, 0,  ..., 0, 0, 0],\n",
      "        [0, 0, 0,  ..., 0, 0, 0],\n",
      "        ...,\n",
      "        [0, 0, 0,  ..., 0, 0, 0],\n",
      "        [0, 0, 0,  ..., 0, 0, 0],\n",
      "        [0, 0, 0,  ..., 0, 0, 0]], dtype=torch.int32)\n",
      "layers.TernBinLayer1.W \n",
      " Parameter containing:\n",
      "tensor([[ 0,  0, -1,  ...,  0, -1,  1],\n",
      "        [ 0,  0,  1,  ...,  0,  1,  0],\n",
      "        [-1,  1, -1,  ...,  0,  1,  0],\n",
      "        ...,\n",
      "        [ 0, -1,  0,  ..., -1, -1, -1],\n",
      "        [ 0,  0,  1,  ..., -1,  0, -1],\n",
      "        [ 0, -1,  1,  ...,  1,  0,  0]], dtype=torch.int32) \n",
      " tensor([[0, 0, 0,  ..., 0, 0, 0],\n",
      "        [0, 0, 0,  ..., 0, 0, 0],\n",
      "        [0, 0, 0,  ..., 0, 0, 0],\n",
      "        ...,\n",
      "        [0, 0, 0,  ..., 0, 0, 0],\n",
      "        [0, 0, 0,  ..., 0, 0, 0],\n",
      "        [0, 0, 0,  ..., 0, 0, 0]], dtype=torch.int32)\n",
      "layers.TernBinLayer2.W \n",
      " Parameter containing:\n",
      "tensor([[-1,  1,  1,  ...,  0,  0, -1],\n",
      "        [-1,  0,  0,  ...,  0,  0,  0],\n",
      "        [ 1,  0,  0,  ...,  0,  0, -1],\n",
      "        ...,\n",
      "        [-1,  0,  1,  ...,  1,  1,  0],\n",
      "        [-1,  0,  0,  ..., -1,  0,  0],\n",
      "        [ 1,  0, -1,  ...,  0,  0,  0]], dtype=torch.int32) \n",
      " tensor([[0, 0, 0,  ..., 0, 0, 0],\n",
      "        [0, 0, 0,  ..., 0, 0, 0],\n",
      "        [0, 0, 0,  ..., 0, 0, 0],\n",
      "        ...,\n",
      "        [0, 0, 0,  ..., 0, 0, 0],\n",
      "        [0, 0, 0,  ..., 0, 0, 0],\n",
      "        [0, 0, 0,  ..., 0, 0, 0]], dtype=torch.int32)\n"
     ]
    }
   ],
   "source": [
    "for name, p in TBNN.named_parameters():\n",
    "    if name.lower().endswith('.w'):\n",
    "        print(name, '\\n', p, '\\n', p.grad)"
   ]
  },
  {
   "cell_type": "code",
   "execution_count": 69,
   "metadata": {},
   "outputs": [],
   "source": [
    "assert bnn.network.network_params_al_ternary(TBNN)"
   ]
  },
  {
   "cell_type": "code",
   "execution_count": null,
   "metadata": {},
   "outputs": [],
   "source": []
  }
 ],
 "metadata": {
  "kernelspec": {
   "display_name": "Python 3 (ipykernel)",
   "language": "python",
   "name": "python3"
  },
  "language_info": {
   "codemirror_mode": {
    "name": "ipython",
    "version": 3
   },
   "file_extension": ".py",
   "mimetype": "text/x-python",
   "name": "python",
   "nbconvert_exporter": "python",
   "pygments_lexer": "ipython3",
   "version": "3.11.9"
  }
 },
 "nbformat": 4,
 "nbformat_minor": 4
}
