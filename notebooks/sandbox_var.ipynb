{
 "cells": [
  {
   "cell_type": "markdown",
   "metadata": {},
   "source": [
    "# Magic and Imports"
   ]
  },
  {
   "cell_type": "code",
   "execution_count": null,
   "metadata": {},
   "outputs": [],
   "source": [
    "%matplotlib widget"
   ]
  },
  {
   "cell_type": "code",
   "execution_count": null,
   "metadata": {},
   "outputs": [],
   "source": [
    "import numpy as np\n",
    "import matplotlib.pyplot as plt"
   ]
  },
  {
   "cell_type": "markdown",
   "metadata": {},
   "source": [
    "# Generate Random Ternary Matrix"
   ]
  },
  {
   "cell_type": "code",
   "execution_count": null,
   "metadata": {},
   "outputs": [],
   "source": [
    "def generate_random_matrix(var, n, m=None):\n",
    "    if var > 1:\n",
    "        raise ValueError(\"Var must be <1\")\n",
    "    if m is None:\n",
    "        m = n\n",
    "\n",
    "    X = (np.random.rand(n, m) < var).astype(int)\n",
    "    half = (np.random.rand(n, m) > 0.5)\n",
    "    X[half] = -X[half]\n",
    "\n",
    "    return X.astype(int)"
   ]
  },
  {
   "cell_type": "code",
   "execution_count": null,
   "metadata": {},
   "outputs": [],
   "source": [
    "X = generate_random_matrix(var=1, n=10)"
   ]
  },
  {
   "cell_type": "code",
   "execution_count": null,
   "metadata": {},
   "outputs": [],
   "source": [
    "X.mean(), X.var()"
   ]
  },
  {
   "cell_type": "markdown",
   "metadata": {},
   "source": [
    "# Investigating Product of Independent Random Matrices"
   ]
  },
  {
   "cell_type": "code",
   "execution_count": null,
   "metadata": {},
   "outputs": [],
   "source": [
    "n = 128\n",
    "ns = np.random.randint(low=512, high=513, size=10)\n",
    "\n",
    "Xs = [generate_random_matrix(var=1/2, n=n) for _ in range(3)]\n",
    "\n",
    "last_n = n\n",
    "for n_i in ns:\n",
    "    X = generate_random_matrix(var=1/last_n, n=last_n, m=n_i)\n",
    "    Xs.append(X)\n",
    "    last_n = n_i\n"
   ]
  },
  {
   "cell_type": "code",
   "execution_count": null,
   "metadata": {},
   "outputs": [],
   "source": [
    "for i, X in enumerate(Xs):\n",
    "    print(f\"{i} : dim {X.shape} m {np.abs(X.mean()):.2f} s {X.std():.2g}\")"
   ]
  },
  {
   "cell_type": "code",
   "execution_count": null,
   "metadata": {},
   "outputs": [],
   "source": [
    "Ys = []\n",
    "Y = np.eye(n).astype(int)\n",
    "for i, X in enumerate(Xs):\n",
    "    Y = Y @ X\n",
    "    Ys.append(Y)"
   ]
  },
  {
   "cell_type": "code",
   "execution_count": null,
   "metadata": {},
   "outputs": [],
   "source": [
    "for i, Y in enumerate(Ys):\n",
    "    print(f\"{i} : m {np.abs(Y.mean()):.2f} s {Y.std():.0f}\")"
   ]
  },
  {
   "cell_type": "code",
   "execution_count": null,
   "metadata": {},
   "outputs": [],
   "source": [
    "len(Ys)"
   ]
  },
  {
   "cell_type": "code",
   "execution_count": null,
   "metadata": {},
   "outputs": [],
   "source": [
    "FIG_NAME = \"distribution\"\n",
    "plt.close(FIG_NAME)\n",
    "\n",
    "num_ys = len(Ys)\n",
    "ceil_sqrt_num_ys = np.ceil(np.sqrt(num_ys)).astype(int)\n",
    "\n",
    "fig, axs = plt.subplots(ceil_sqrt_num_ys, ceil_sqrt_num_ys, num=FIG_NAME)\n",
    "axs = np.array(axs).flatten()\n",
    "\n",
    "for i, (ax, Y) in enumerate(zip(axs, Ys + [None]*100)):\n",
    "    if Y is None:\n",
    "        ax.plot(np.linspace(-1, 1), np.linspace(-1, 1), '-', color=\"red\")\n",
    "        ax.plot(np.linspace(1, -1), np.linspace(-1, 1), '-', color=\"red\")\n",
    "        ax.axis(\"off\")\n",
    "    else:\n",
    "        ax.set_title(i)\n",
    "\n",
    "        mean = Y.mean()\n",
    "        std = Y.std()\n",
    "\n",
    "        ax.hist(Y.flatten(), range=(mean-3*std, mean+3*std), density=True)\n",
    "        #ax.hist(Y.flatten(), density=True, color=\"cyan\")\n",
    "\n",
    "        ax.axvline(mean, color=\"red\", ls=\"-\")\n",
    "        ax.axvline(mean+2*std, color=\"red\", ls=\"--\")\n",
    "        ax.axvline(mean-2*std, color=\"red\", ls=\"--\")\n",
    "        \n",
    "\n",
    "fig.tight_layout(pad=0.1)\n",
    "\n",
    "plt.show()"
   ]
  },
  {
   "cell_type": "markdown",
   "metadata": {},
   "source": [
    "# Fraction of Empty Rows"
   ]
  },
  {
   "cell_type": "code",
   "execution_count": null,
   "metadata": {},
   "outputs": [],
   "source": [
    "x = np.arange(13) \n",
    "x = 2 ** x\n",
    "y = ((x-1)/x) ** x"
   ]
  },
  {
   "cell_type": "code",
   "execution_count": null,
   "metadata": {},
   "outputs": [],
   "source": [
    "FIG_NAME = \"1/e\"\n",
    "plt.close(FIG_NAME)\n",
    "\n",
    "fig, ax = plt.subplots(1, 1, num=FIG_NAME)\n",
    "ax.plot(x, y, 'o--')\n",
    "ax.axhline(1/np.e, ls='-', color=\"red\")\n",
    "ax.set_xscale(\"log\")\n",
    "ax.grid()\n",
    "\n",
    "ax.set_ylim([0, 1])\n",
    "\n",
    "ax.set_xlabel('N')\n",
    "ax.set_ylabel(\"prob row being all 0\")\n",
    "\n",
    "plt.show()"
   ]
  },
  {
   "cell_type": "code",
   "execution_count": null,
   "metadata": {},
   "outputs": [],
   "source": [
    "for X in Xs[-len(ns):]:\n",
    "    ts = []\n",
    "    for X_ in X:\n",
    "        t = (X_ == 0).all()\n",
    "        ts.append(t)\n",
    "\n",
    "print(np.mean(ts))\n",
    "print(1/np.e)\n"
   ]
  },
  {
   "cell_type": "markdown",
   "metadata": {},
   "source": [
    "# Bit Shifting"
   ]
  },
  {
   "cell_type": "code",
   "execution_count": null,
   "metadata": {},
   "outputs": [],
   "source": [
    "print(f\"\"\"\n",
    " -1 >> 1 = {(-1) >> 1}\n",
    "  1 >> 1 = {(1) >> 1}\n",
    "  0 >> 1 = {(0) >> 1}\n",
    "\"\"\")"
   ]
  },
  {
   "cell_type": "code",
   "execution_count": null,
   "metadata": {},
   "outputs": [],
   "source": [
    "ints = np.arange(-200, 200).astype(int)\n",
    "shifted = np.right_shift(ints, 1)\n"
   ]
  },
  {
   "cell_type": "code",
   "execution_count": null,
   "metadata": {},
   "outputs": [],
   "source": [
    "FIG_NAME = \"bitshift\"\n",
    "plt.close(FIG_NAME)\n",
    "\n",
    "fig, axs = plt.subplots(1, 2, num=FIG_NAME)\n",
    "\n",
    "axs[0].plot(ints, shifted)\n",
    "num = 20\n",
    "half = len(ints) // 2\n",
    "my_range = range(half - num//2, half + num//2)\n",
    "axs[1].plot(ints[my_range], shifted[my_range])\n",
    "\n",
    "for ax in axs:\n",
    "    ax.grid()\n",
    "    ax.set_xlabel(\"x\")\n",
    "    ax.set_ylabel(\"x >> 1\")\n",
    "\n",
    "fig.tight_layout()\n",
    "plt.show()"
   ]
  },
  {
   "cell_type": "markdown",
   "metadata": {},
   "source": [
    "# Normalisation by Bit-Shifting"
   ]
  },
  {
   "cell_type": "code",
   "execution_count": null,
   "metadata": {},
   "outputs": [],
   "source": [
    "BIT_SHIT = 1\n",
    "BIT_SHIFT_VAR = 2 ** (BIT_SHIT*2)\n",
    "\n",
    "BIT_SHIFT_VAR, BIT_SHIT"
   ]
  },
  {
   "cell_type": "code",
   "execution_count": null,
   "metadata": {},
   "outputs": [],
   "source": [
    "n = 128\n",
    "ns = np.random.randint(low=512, high=513, size=10)\n",
    "\n",
    "Xs = [generate_random_matrix(var=1, n=n) for _ in range(3)]\n",
    "\n",
    "last_n = n\n",
    "for n_i in ns:\n",
    "    X = generate_random_matrix(var=BIT_SHIFT_VAR/last_n, n=last_n, m=n_i)\n",
    "    Xs.append(X)\n",
    "    last_n = n_i\n"
   ]
  },
  {
   "cell_type": "code",
   "execution_count": null,
   "metadata": {},
   "outputs": [],
   "source": [
    "for i, X in enumerate(Xs):\n",
    "    print(f\"{i} : dim {X.shape} m {np.abs(X.mean()):.2f} s {X.std():.2g}\")"
   ]
  },
  {
   "cell_type": "code",
   "execution_count": null,
   "metadata": {},
   "outputs": [],
   "source": [
    "Ys = []\n",
    "Y = np.eye(n).astype(int)\n",
    "for i, X in enumerate(Xs):\n",
    "    Y = Y @ X\n",
    "    Y = np.right_shift(Y, BIT_SHIT)\n",
    "    Ys.append(Y)"
   ]
  },
  {
   "cell_type": "code",
   "execution_count": null,
   "metadata": {},
   "outputs": [],
   "source": [
    "for i, Y in enumerate(Ys):\n",
    "    print(f\"{i} : m {np.abs(Y.mean()):.2f} s {Y.std():.0f}\")"
   ]
  },
  {
   "cell_type": "code",
   "execution_count": null,
   "metadata": {},
   "outputs": [],
   "source": [
    "len(Ys)"
   ]
  },
  {
   "cell_type": "code",
   "execution_count": null,
   "metadata": {},
   "outputs": [],
   "source": [
    "FIG_NAME = \"distribution\"\n",
    "plt.close(FIG_NAME)\n",
    "\n",
    "num_ys = len(Ys)\n",
    "ceil_sqrt_num_ys = np.ceil(np.sqrt(num_ys)).astype(int)\n",
    "\n",
    "fig, axs = plt.subplots(ceil_sqrt_num_ys, ceil_sqrt_num_ys, num=FIG_NAME)\n",
    "axs = np.array(axs).flatten()\n",
    "\n",
    "for i, (ax, Y) in enumerate(zip(axs, Ys + [None]*100)):\n",
    "    if Y is None:\n",
    "        ax.plot(np.linspace(-1, 1), np.linspace(-1, 1), '-', color=\"red\")\n",
    "        ax.plot(np.linspace(1, -1), np.linspace(-1, 1), '-', color=\"red\")\n",
    "        ax.axis(\"off\")\n",
    "    else:\n",
    "        ax.set_title(i)\n",
    "\n",
    "        mean = Y.mean()\n",
    "        std = Y.std()\n",
    "\n",
    "        ax.hist(Y.flatten(), range=(mean-3*std, mean+3*std), density=True)\n",
    "        #ax.hist(Y.flatten(), density=True, color=\"cyan\")\n",
    "\n",
    "        ax.axvline(mean, color=\"red\", ls=\"-\")\n",
    "        ax.axvline(mean+2*std, color=\"red\", ls=\"--\")\n",
    "        ax.axvline(mean-2*std, color=\"red\", ls=\"--\")\n",
    "        \n",
    "\n",
    "fig.tight_layout(pad=0.1)\n",
    "\n",
    "plt.show()"
   ]
  },
  {
   "cell_type": "markdown",
   "metadata": {},
   "source": [
    "# Fraction of Empty Rows - Again"
   ]
  },
  {
   "cell_type": "code",
   "execution_count": null,
   "metadata": {},
   "outputs": [],
   "source": [
    "x = np.arange(13)  + 1\n",
    "x = 2 ** x\n",
    "x = x[x > 4]\n",
    "\n",
    "y = ((x-4)/x) ** x"
   ]
  },
  {
   "cell_type": "code",
   "execution_count": null,
   "metadata": {},
   "outputs": [],
   "source": [
    "FIG_NAME = \"e^-4\"\n",
    "plt.close(FIG_NAME)\n",
    "\n",
    "fig, ax = plt.subplots(1, 1, num=FIG_NAME)\n",
    "ax.plot(x, y, 'o--')\n",
    "ax.axhline(np.exp(-4), ls='-', color=\"red\")\n",
    "ax.set_xscale(\"log\")\n",
    "ax.grid()\n",
    "\n",
    "ax.set_ylim([0, 1])\n",
    "\n",
    "ax.set_xlabel('N')\n",
    "ax.set_ylabel(\"prob row being all 0\")\n",
    "\n",
    "plt.show()"
   ]
  },
  {
   "cell_type": "code",
   "execution_count": null,
   "metadata": {},
   "outputs": [],
   "source": [
    "np.exp(-4)"
   ]
  },
  {
   "cell_type": "code",
   "execution_count": null,
   "metadata": {},
   "outputs": [],
   "source": [
    "bitshifts = np.arange(0, 5)\n",
    "bitshift_vars = 2 ** (bitshifts*2)\n",
    "\n",
    "probs = np.exp(-bitshift_vars)"
   ]
  },
  {
   "cell_type": "code",
   "execution_count": null,
   "metadata": {},
   "outputs": [],
   "source": [
    "FIG_NAME = \"bitshift zero rows\"\n",
    "plt.close(FIG_NAME)\n",
    "\n",
    "fig, ax = plt.subplots(1, 1, num=FIG_NAME)\n",
    "\n",
    "ax.plot(bitshifts, probs)\n",
    "ax.set_xlabel(\"bitshift n\")\n",
    "ax.set_ylabel(\"probability row being all 0\")\n",
    "\n",
    "ax.grid()\n",
    "ax.set_xticks(bitshifts)\n",
    "plt.show()"
   ]
  },
  {
   "cell_type": "code",
   "execution_count": null,
   "metadata": {},
   "outputs": [],
   "source": []
  },
  {
   "cell_type": "code",
   "execution_count": null,
   "metadata": {},
   "outputs": [],
   "source": [
    "import numpy as np\n",
    "import matplotlib.pyplot as plt"
   ]
  },
  {
   "cell_type": "code",
   "execution_count": null,
   "metadata": {},
   "outputs": [],
   "source": [
    "n = 2 ** (np.arange(20) + 1)\n",
    "bits_int = np.ceil(2*np.log(n)/np.log(2))\n",
    "sparsity_for_equality = (2 / (1 + bits_int))"
   ]
  },
  {
   "cell_type": "code",
   "execution_count": null,
   "metadata": {},
   "outputs": [],
   "source": [
    "FIG_NAME = \"sparsity\"\n",
    "plt.close(FIG_NAME)\n",
    "\n",
    "fig, axs = plt.subplots(1, 2, num=FIG_NAME)\n",
    "\n",
    "axs[0].plot(n, sparsity_for_equality, 'x')\n",
    "axs[0].set_ylabel(\"density for equality\")\n",
    "axs[0].set_yticks(np.arange(21)/20)\n",
    "\n",
    "axs[1].plot(n, sparsity_for_equality * n, 'x', label = \"1.0 memory\")\n",
    "axs[1].plot(n, sparsity_for_equality * n / 2, 'x', label = \"0.5 memory\")\n",
    "axs[1].plot(n, sparsity_for_equality * n / 10, 'x', label = \"0.1 memory\")\n",
    "axs[1].plot(n, sparsity_for_equality * n / 100, 'x', label = \"0.01 memory\")\n",
    "axs[1].set_ylabel(\"density for equality * n\")\n",
    "axs[1].set_yscale(\"log\")\n",
    "axs[1].legend()\n",
    "\n",
    "for ax in axs:\n",
    "    ax.set_xscale(\"log\")\n",
    "    ax.set_xlabel(\"n\")\n",
    "    ax.grid()\n",
    "\n",
    "plt.show()"
   ]
  },
  {
   "cell_type": "code",
   "execution_count": null,
   "metadata": {},
   "outputs": [],
   "source": [
    "xx, yy = np.meshgrid(np.linspace(0, 7), np.linspace(0, 5))"
   ]
  },
  {
   "cell_type": "code",
   "execution_count": null,
   "metadata": {},
   "outputs": [],
   "source": [
    "xx_e = xx / np.log10(np.e)\n",
    "yy_e = yy / np.log10(np.e)\n",
    "\n",
    "bits_per_int = np.ceil(2*(xx_e)/(np.log(2)))\n",
    "ln_memory_save = yy_e - np.log(2 / (1+bits_per_int)) - xx_e\n",
    "log10_memory_save = ln_memory_save / np.log(10)"
   ]
  },
  {
   "cell_type": "code",
   "execution_count": null,
   "metadata": {},
   "outputs": [],
   "source": [
    "ln_memory_save.min()"
   ]
  },
  {
   "cell_type": "code",
   "execution_count": null,
   "metadata": {},
   "outputs": [],
   "source": [
    "from matplotlib.colors import TwoSlopeNorm"
   ]
  },
  {
   "cell_type": "code",
   "execution_count": null,
   "metadata": {},
   "outputs": [],
   "source": [
    "FIG_NAME = \"image\"\n",
    "plt.close(FIG_NAME)\n",
    "\n",
    "plt.subplots(1, 1, num=FIG_NAME)\n",
    "\n",
    "plt.imshow(\n",
    "    log10_memory_save, \n",
    "    cmap=\"seismic\",\n",
    "    norm=TwoSlopeNorm(vcenter=0),\n",
    "    extent=(xx.min(), xx.max(), yy.max(), yy.min()),\n",
    "    aspect=\"auto\",\n",
    ")\n",
    "\n",
    "ax = plt.gca()\n",
    "ax.invert_yaxis()\n",
    "\n",
    "xticks = np.arange(xx.min(), xx.max()+1)\n",
    "yticks = np.arange(yy.min(), yy.max()+1)\n",
    "\n",
    "ax.set_xticks(xticks)\n",
    "ax.set_xticklabels([f\"$10^{int(p)}$\" for p in xticks])\n",
    "ax.set_yticks(yticks)\n",
    "ax.set_yticklabels([f\"$10^{int(p)}$\" for p in yticks])\n",
    "\n",
    "ax.set_xlabel(\"n\")\n",
    "ax.set_ylabel(\"density * n\")\n",
    "\n",
    "cticks = np.arange(np.floor(log10_memory_save.min()), np.ceil(log10_memory_save.max()), 1)\n",
    "cbar = plt.colorbar(ticks=cticks)\n",
    "cbar.ax.set_yticklabels(labels=[f\"$10^{{{int(p)}}}$\" for p in cticks])\n",
    "cbar.ax.set_ylabel(\"Ratio of memory\")\n",
    "\n",
    "ax.grid()\n",
    "\n",
    "plt.title(\"Ratio of sparse to non-sparse memory\")\n",
    "\n",
    "plt.show()"
   ]
  },
  {
   "cell_type": "code",
   "execution_count": null,
   "metadata": {},
   "outputs": [],
   "source": [
    "\n",
    "n = 2 ** (np.arange(20) + 1)\n",
    "bits_int = np.ceil(2*np.log(n)/np.log(2))\n",
    "sparsity_for_equality = (2 / (1 + bits_int))"
   ]
  },
  {
   "cell_type": "code",
   "execution_count": null,
   "metadata": {},
   "outputs": [],
   "source": []
  }
 ],
 "metadata": {
  "kernelspec": {
   "display_name": "bnn",
   "language": "python",
   "name": "python3"
  },
  "language_info": {
   "codemirror_mode": {
    "name": "ipython",
    "version": 3
   },
   "file_extension": ".py",
   "mimetype": "text/x-python",
   "name": "python",
   "nbconvert_exporter": "python",
   "pygments_lexer": "ipython3",
   "version": "3.11.9"
  }
 },
 "nbformat": 4,
 "nbformat_minor": 2
}
