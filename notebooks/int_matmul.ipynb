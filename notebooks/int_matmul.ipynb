{
 "cells": [
  {
   "cell_type": "code",
   "execution_count": 24,
   "metadata": {},
   "outputs": [],
   "source": [
    "import torch"
   ]
  },
  {
   "cell_type": "code",
   "execution_count": 25,
   "metadata": {},
   "outputs": [
    {
     "data": {
      "text/plain": [
       "device(type='cuda', index=0)"
      ]
     },
     "execution_count": 25,
     "metadata": {},
     "output_type": "execute_result"
    }
   ],
   "source": [
    "device = torch.device(\"cuda:0\" if torch.cuda.is_available() else \"cpu\")\n",
    "device"
   ]
  },
  {
   "cell_type": "code",
   "execution_count": 27,
   "metadata": {},
   "outputs": [
    {
     "data": {
      "text/plain": [
       "tensor([[ -75,   21,    3,   14,  -43, -198,   19,  -42,  167,   96],\n",
       "        [  21,  151,   -2,  -39, -161,   -5,  -52,  143, -187,  -42],\n",
       "        [ -15,   -4,  -68,   39,  128,   31,  -19,  -90,  184,  -93],\n",
       "        [-166,  -62, -103,  204,  -50,  -43,  -34,    2,   51,   65],\n",
       "        [ 124,   59,   90,  -77,   62,  -54,   93, -236,   46, -141],\n",
       "        [ 195,  103,   32, -114,   95,  -61,  173, -109,  -98, -242],\n",
       "        [  40,  -17,  -78,  -54,   35,   96,  -51,  -85,  173,  -79],\n",
       "        [ 178,  181,  176,  164,  107,   68,   13,   70,  152,   65],\n",
       "        [  40,   55,  -20,  221,   92,  240,    6,   80,   10,  -11],\n",
       "        [ -85, -101, -136,   56, -122,  -35,   34,  -89, -181,  -82]],\n",
       "       dtype=torch.int32)"
      ]
     },
     "execution_count": 27,
     "metadata": {},
     "output_type": "execute_result"
    }
   ],
   "source": [
    "a = torch.randint(-10, 10, (10, 10)).to(torch.int)\n",
    "torch.matmul(a, a)"
   ]
  },
  {
   "cell_type": "code",
   "execution_count": 28,
   "metadata": {},
   "outputs": [
    {
     "ename": "RuntimeError",
     "evalue": "\"addmm_cuda\" not implemented for 'Int'",
     "output_type": "error",
     "traceback": [
      "\u001b[0;31m---------------------------------------------------------------------------\u001b[0m",
      "\u001b[0;31mRuntimeError\u001b[0m                              Traceback (most recent call last)",
      "Cell \u001b[0;32mIn[28], line 2\u001b[0m\n\u001b[1;32m      1\u001b[0m a_gpu \u001b[38;5;241m=\u001b[39m a\u001b[38;5;241m.\u001b[39mto(device)\n\u001b[0;32m----> 2\u001b[0m \u001b[43mtorch\u001b[49m\u001b[38;5;241;43m.\u001b[39;49m\u001b[43mmatmul\u001b[49m\u001b[43m(\u001b[49m\u001b[43ma_gpu\u001b[49m\u001b[43m,\u001b[49m\u001b[43m \u001b[49m\u001b[43ma_gpu\u001b[49m\u001b[43m)\u001b[49m\n",
      "\u001b[0;31mRuntimeError\u001b[0m: \"addmm_cuda\" not implemented for 'Int'"
     ]
    }
   ],
   "source": [
    "a_gpu = a.to(device)\n",
    "torch.matmul(a_gpu, a_gpu)"
   ]
  },
  {
   "cell_type": "code",
   "execution_count": 29,
   "metadata": {},
   "outputs": [],
   "source": [
    "import bnn.functions"
   ]
  },
  {
   "cell_type": "code",
   "execution_count": 30,
   "metadata": {},
   "outputs": [
    {
     "data": {
      "text/plain": [
       "tensor([[ -75,   21,    3,   14,  -43, -198,   19,  -42,  167,   96],\n",
       "        [  21,  151,   -2,  -39, -161,   -5,  -52,  143, -187,  -42],\n",
       "        [ -15,   -4,  -68,   39,  128,   31,  -19,  -90,  184,  -93],\n",
       "        [-166,  -62, -103,  204,  -50,  -43,  -34,    2,   51,   65],\n",
       "        [ 124,   59,   90,  -77,   62,  -54,   93, -236,   46, -141],\n",
       "        [ 195,  103,   32, -114,   95,  -61,  173, -109,  -98, -242],\n",
       "        [  40,  -17,  -78,  -54,   35,   96,  -51,  -85,  173,  -79],\n",
       "        [ 178,  181,  176,  164,  107,   68,   13,   70,  152,   65],\n",
       "        [  40,   55,  -20,  221,   92,  240,    6,   80,   10,  -11],\n",
       "        [ -85, -101, -136,   56, -122,  -35,   34,  -89, -181,  -82]],\n",
       "       device='cuda:0', dtype=torch.int32)"
      ]
     },
     "execution_count": 30,
     "metadata": {},
     "output_type": "execute_result"
    }
   ],
   "source": [
    "bnn.functions.int_matmul(a_gpu, a_gpu)"
   ]
  },
  {
   "cell_type": "code",
   "execution_count": null,
   "metadata": {},
   "outputs": [],
   "source": []
  }
 ],
 "metadata": {
  "kernelspec": {
   "display_name": "Python 3 (ipykernel)",
   "language": "python",
   "name": "python3"
  },
  "language_info": {
   "codemirror_mode": {
    "name": "ipython",
    "version": 3
   },
   "file_extension": ".py",
   "mimetype": "text/x-python",
   "name": "python",
   "nbconvert_exporter": "python",
   "pygments_lexer": "ipython3",
   "version": "3.11.9"
  }
 },
 "nbformat": 4,
 "nbformat_minor": 4
}
